{
 "cells": [
  {
   "cell_type": "code",
   "execution_count": null,
   "metadata": {},
   "outputs": [],
   "source": [
    "# Helper Functions\n",
    "def test_function(fn):\n",
    "    def inner(test_cases):\n",
    "        for i, test_case in test_cases:\n",
    "            print(f\"Test {i}\")\n",
    "            try:\n",
    "                result = fn(**test_case[\"input\"])\n",
    "                if result == test_case[\"output\"]:\n",
    "                    print(\"\\033[92m Success!!\")\n",
    "                else:\n",
    "                    print(\"\\033[93m Wrong Answer!!\")\n",
    "                    print(f\"{result} is different from {test_case['output']}\")\n",
    "            except Exception as e:\n",
    "                print(f\"\\033[91m Error\")\n",
    "                print(f\"There was an error with the test: {e}\")\n",
    "    return inner"
   ]
  }
 ],
 "metadata": {
  "kernelspec": {
   "display_name": ".venv",
   "language": "python",
   "name": "python3"
  },
  "language_info": {
   "codemirror_mode": {
    "name": "ipython",
    "version": 3
   },
   "file_extension": ".py",
   "mimetype": "text/x-python",
   "name": "python",
   "nbconvert_exporter": "python",
   "pygments_lexer": "ipython3",
   "version": "3.13.1"
  }
 },
 "nbformat": 4,
 "nbformat_minor": 2
}
