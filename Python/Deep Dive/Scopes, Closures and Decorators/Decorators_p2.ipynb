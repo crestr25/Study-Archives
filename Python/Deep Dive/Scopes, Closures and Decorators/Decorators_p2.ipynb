{
 "cells": [
  {
   "cell_type": "code",
   "execution_count": 22,
   "metadata": {},
   "outputs": [],
   "source": [
    "# Basic decorator to time function\n",
    "\n",
    "def timed(fn):\n",
    "    from time import perf_counter\n",
    "\n",
    "    def inner(*args, **kwargs):\n",
    "        start = perf_counter()\n",
    "        result = fn(*args, **kwargs)\n",
    "        end = perf_counter()\n",
    "        elapsed = end - start\n",
    "        print(f'Run time: {elapsed : .6f}s')\n",
    "        return result\n",
    "    return inner\n",
    "\n",
    "def calc_fib_recurse(n):\n",
    "    return 1 if n < 3 else calc_fib_recurse(n-2) + calc_fib_recurse(n-1)\n",
    "\n",
    "def fib(n):\n",
    "    return calc_fib_recurse(n)"
   ]
  },
  {
   "cell_type": "code",
   "execution_count": 10,
   "metadata": {},
   "outputs": [
    {
     "name": "stdout",
     "output_type": "stream",
     "text": [
      "Run time:  0.096804s\n",
      "Run time:  0.097154s\n",
      "Run time:  0.097175s\n",
      "Run time:  0.097188s\n",
      "Run time:  0.097201s\n",
      "Run time:  0.097216s\n",
      "Run time:  0.097229s\n",
      "Run time:  0.097242s\n"
     ]
    },
    {
     "data": {
      "text/plain": [
       "832040"
      ]
     },
     "execution_count": 10,
     "metadata": {},
     "output_type": "execute_result"
    }
   ],
   "source": [
    "fib = timed(fib)\n",
    "fib(30)"
   ]
  },
  {
   "cell_type": "code",
   "execution_count": 26,
   "metadata": {},
   "outputs": [],
   "source": [
    "# we would have to add decorators that take parameters to be able to make an average of the \n",
    "# run time\n",
    "\n",
    "def timed(fn):\n",
    "    from time import perf_counter\n",
    "\n",
    "    def inner(*args, **kwargs):\n",
    "        total_elapsed = 0\n",
    "        for i in range(10):\n",
    "            start = perf_counter()\n",
    "            result = fn(*args, **kwargs)\n",
    "            end = perf_counter()\n",
    "            total_elapsed += (end - start)\n",
    "        avg_run_time = total_elapsed / 10\n",
    "        print(f'Avg run time: {total_elapsed : .6f}s')\n",
    "        return result\n",
    "    return inner\n",
    "\n",
    "def fib(n):\n",
    "    return calc_fib_recurse(n)\n",
    "\n",
    "fib = timed(fib)"
   ]
  },
  {
   "cell_type": "code",
   "execution_count": 27,
   "metadata": {},
   "outputs": [
    {
     "name": "stdout",
     "output_type": "stream",
     "text": [
      "Avg run time:  0.384610s\n"
     ]
    },
    {
     "data": {
      "text/plain": [
       "317811"
      ]
     },
     "execution_count": 27,
     "metadata": {},
     "output_type": "execute_result"
    }
   ],
   "source": [
    "fib(28)"
   ]
  },
  {
   "cell_type": "code",
   "execution_count": 30,
   "metadata": {},
   "outputs": [],
   "source": [
    "# Now the problem is that in the previous version we had hardcoded our\n",
    "# value, for us to use it we would have to pass it\n",
    "\n",
    "def timed(fn, reps):\n",
    "    from time import perf_counter\n",
    "\n",
    "    def inner(*args, **kwargs):\n",
    "        total_elapsed = 0\n",
    "        for i in range(reps):\n",
    "            start = perf_counter()\n",
    "            result = fn(*args, **kwargs)\n",
    "            end = perf_counter()\n",
    "            total_elapsed += (end - start)\n",
    "        avg_run_time = total_elapsed / reps\n",
    "        print(f'Avg run time: {total_elapsed : .6f}s (ran {reps} times)')\n",
    "        return result\n",
    "    return inner\n",
    "\n",
    "def fib(n):\n",
    "    return calc_fib_recurse(n)\n",
    "\n",
    "fib = timed(fib, 10) # this works for this method of decorating not the @ approach\n",
    "# That means that by using this approach we have lost the ability to use the\n",
    "# @decorator since doing @decorator() means we are passing a function call."
   ]
  },
  {
   "cell_type": "code",
   "execution_count": 31,
   "metadata": {},
   "outputs": [
    {
     "name": "stdout",
     "output_type": "stream",
     "text": [
      "Avg run time:  0.409068s (ran 10 times)\n"
     ]
    },
    {
     "data": {
      "text/plain": [
       "317811"
      ]
     },
     "execution_count": 31,
     "metadata": {},
     "output_type": "execute_result"
    }
   ],
   "source": [
    "fib(28)"
   ]
  },
  {
   "cell_type": "code",
   "execution_count": 33,
   "metadata": {},
   "outputs": [
    {
     "name": "stdout",
     "output_type": "stream",
     "text": [
      "running dec\n"
     ]
    }
   ],
   "source": [
    "# to be able to use the @ we would have to create a decorator factory\n",
    "def dec(fn):\n",
    "    print(\"running dec\")\n",
    "\n",
    "    def inner(*args, **kwargs):\n",
    "        print(\"running inner\")\n",
    "        return fn(*args, **kwargs)\n",
    "    return inner\n",
    "\n",
    "@dec\n",
    "def add(a, b):\n",
    "    return a + b\n",
    "\n",
    "# it runs dec, remember it is actually doing add = dec(add)\n"
   ]
  },
  {
   "cell_type": "code",
   "execution_count": 35,
   "metadata": {},
   "outputs": [
    {
     "name": "stdout",
     "output_type": "stream",
     "text": [
      "running inner\n"
     ]
    },
    {
     "data": {
      "text/plain": [
       "12"
      ]
     },
     "execution_count": 35,
     "metadata": {},
     "output_type": "execute_result"
    }
   ],
   "source": [
    "add(10, 2)"
   ]
  },
  {
   "cell_type": "code",
   "execution_count": 39,
   "metadata": {},
   "outputs": [
    {
     "name": "stdout",
     "output_type": "stream",
     "text": [
      "Running dec_factory\n",
      "running dec\n",
      "running inner\n",
      "running fun\n"
     ]
    }
   ],
   "source": [
    "def dec_factory():\n",
    "    print(\"Running dec_factory\")\n",
    "\n",
    "    def dec(fn):\n",
    "        print(\"running dec\")\n",
    "\n",
    "        def inner(*args, **kwargs):\n",
    "            print(\"running inner\")\n",
    "            return fn(*args, **kwargs)\n",
    "        return inner\n",
    "    return dec\n",
    "\n",
    "# @dec_factory()\n",
    "def fun():\n",
    "    print(\"running fun\")\n",
    "\n",
    "fun = dec_factory()(fun)\n",
    "\n",
    "fun() # dec_factory returns the decorator, the decorator returns the closure."
   ]
  },
  {
   "cell_type": "code",
   "execution_count": 41,
   "metadata": {},
   "outputs": [
    {
     "name": "stdout",
     "output_type": "stream",
     "text": [
      "Running dec_factory\n",
      "running dec\n",
      "running inner\n",
      "1, 2\n",
      "running my_func\n"
     ]
    }
   ],
   "source": [
    "def dec_factory(a, b):\n",
    "    print(\"Running dec_factory\")\n",
    "\n",
    "    def dec(fn):\n",
    "        print(\"running dec\")\n",
    "\n",
    "        def inner(*args, **kwargs):\n",
    "            print(\"running inner\")\n",
    "            print(f\"{a}, {b}\")\n",
    "            return fn(*args, **kwargs)\n",
    "        return inner\n",
    "    return dec\n",
    "\n",
    "dec = dec_factory(1,2)\n",
    "\n",
    "@dec\n",
    "def myfun():\n",
    "    print(\"running my_func\")\n",
    "\n",
    "myfun()"
   ]
  },
  {
   "cell_type": "code",
   "execution_count": 43,
   "metadata": {},
   "outputs": [
    {
     "name": "stdout",
     "output_type": "stream",
     "text": [
      "Running dec_factory\n",
      "running dec\n",
      "running inner\n",
      "100, 200\n"
     ]
    },
    {
     "data": {
      "text/plain": [
       "'running my_func from the factory'"
      ]
     },
     "execution_count": 43,
     "metadata": {},
     "output_type": "execute_result"
    }
   ],
   "source": [
    "@dec_factory(100, 200)\n",
    "def myfun2():\n",
    "    return(\"running my_func from the factory\")\n",
    "\n",
    "myfun2()"
   ]
  },
  {
   "cell_type": "code",
   "execution_count": 47,
   "metadata": {},
   "outputs": [
    {
     "name": "stdout",
     "output_type": "stream",
     "text": [
      "Avg run time:  1.628283s (ran 15 times)\n"
     ]
    },
    {
     "data": {
      "text/plain": [
       "832040"
      ]
     },
     "execution_count": 47,
     "metadata": {},
     "output_type": "execute_result"
    }
   ],
   "source": [
    "# now to apply it again to timed.\n",
    "def timed(n):\n",
    "    def dec(fn):\n",
    "        from time import perf_counter\n",
    "\n",
    "        def inner(*args, **kwargs):\n",
    "            total_elapsed = 0\n",
    "            for i in range(n):\n",
    "                start = perf_counter()\n",
    "                result = fn(*args, **kwargs)\n",
    "                end = perf_counter()\n",
    "                total_elapsed += (end - start)\n",
    "            avg_run_time = total_elapsed / n\n",
    "            print(f'Avg run time: {total_elapsed : .6f}s (ran {n} times)')\n",
    "            return result\n",
    "        return inner\n",
    "    return dec\n",
    "\n",
    "@timed(15)\n",
    "def fib(n):\n",
    "    return calc_fib_recurse(n)\n",
    "\n",
    "fib(30)"
   ]
  }
 ],
 "metadata": {
  "interpreter": {
   "hash": "916dbcbb3f70747c44a77c7bcd40155683ae19c65e1c03b4aa3499c5328201f1"
  },
  "kernelspec": {
   "display_name": "Python 3.8.10 64-bit",
   "language": "python",
   "name": "python3"
  },
  "language_info": {
   "codemirror_mode": {
    "name": "ipython",
    "version": 3
   },
   "file_extension": ".py",
   "mimetype": "text/x-python",
   "name": "python",
   "nbconvert_exporter": "python",
   "pygments_lexer": "ipython3",
   "version": "3.8.10"
  },
  "orig_nbformat": 4
 },
 "nbformat": 4,
 "nbformat_minor": 2
}
