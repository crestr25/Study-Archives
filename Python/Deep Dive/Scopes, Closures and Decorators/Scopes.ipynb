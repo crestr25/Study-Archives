{
 "cells": [
  {
   "cell_type": "code",
   "execution_count": 1,
   "metadata": {},
   "outputs": [],
   "source": [
    "# Python has scopes defined like:\n",
    "# BUILT-INS -> GLOBAL -> LOCAL\n",
    "# Here the scope of the notebook is the same as a module so a is the global scope.\n",
    "# Also keep in mind that in python a for loop variable defined inside remains \n",
    "# in the global scope while in other languages it won't leave the code block.\n",
    "a = 10"
   ]
  },
  {
   "cell_type": "code",
   "execution_count": 3,
   "metadata": {},
   "outputs": [],
   "source": [
    "# Here in my_func we see that n and c are both local to the function scope.\n",
    "def my_func(n):\n",
    "    c = n ** 2\n",
    "    return c\n",
    "# Here in my_func_2 we have a statement that looks for the var a in the local scope\n",
    "# and when it doesn't find it it goes to search the global scope.\n",
    "def my_func_2(n):\n",
    "    print(\"global a:\", a)\n",
    "    c = n ** 2\n",
    "    return c\n",
    "\n",
    "my_func_2(2)"
   ]
  },
  {
   "cell_type": "code",
   "execution_count": 11,
   "metadata": {},
   "outputs": [
    {
     "name": "stdout",
     "output_type": "stream",
     "text": [
      "global a: local\n",
      "20\n"
     ]
    }
   ],
   "source": [
    "# inside a function one can declare a new variable that overwrites the global in that scope.\n",
    "def my_func_3():\n",
    "    a = 'local'\n",
    "    print(\"global a:\", a)\n",
    "\n",
    "my_func_3()\n",
    "\n",
    "# if we want to explicitly call a variable from inside a local scope and it be on the global\n",
    "# We use the global keyword (The global could be created or exist already)\n",
    "\n",
    "def my_func_4():\n",
    "    global a\n",
    "    a = 20\n",
    "my_func_4()\n",
    "print(a)"
   ]
  },
  {
   "cell_type": "code",
   "execution_count": null,
   "metadata": {},
   "outputs": [],
   "source": [
    "# One point to have in mind is that python defines the variables at compile time.\n",
    "# Meaning that if it is defined inside the scope it is going to assume that for the whole\n",
    "# scope of the function meaning one can't expect to call a global and then assign a local.\n",
    "def bad_func():\n",
    "    print(\"global a:\", a)\n",
    "    a = 20 # Here at compile python defines a as a local to the scope so \n",
    "    # at runtime we get an UnboundLocalError (referenced before assignment)\n",
    "    print(a)\n",
    "\n",
    "bad_func()"
   ]
  },
  {
   "cell_type": "code",
   "execution_count": 13,
   "metadata": {},
   "outputs": [
    {
     "name": "stdout",
     "output_type": "stream",
     "text": [
      "400\n"
     ]
    }
   ],
   "source": [
    "# lambdas also can access the global scope.\n",
    "f = lambda n: print(a**n)\n",
    "f(2)"
   ]
  },
  {
   "cell_type": "code",
   "execution_count": 5,
   "metadata": {},
   "outputs": [
    {
     "name": "stdout",
     "output_type": "stream",
     "text": [
      "Hello\n",
      "Hello\n",
      "inner x Python\n",
      "Outer x Monty\n"
     ]
    }
   ],
   "source": [
    "# Non-local scopes refer to those nested inside a local one.\n",
    "def outer_func():\n",
    "    x = 'Hello' # Local x\n",
    "    def inner_func():\n",
    "        # The scope for inner func is considered nonlocal\n",
    "        print(x)\n",
    "    inner_func()\n",
    "\n",
    "outer_func()\n",
    "\n",
    "# onw can nest and have as many non-local scopes.\n",
    "def outer_func():\n",
    "    x = 'Hello' # Local x\n",
    "    def inner1():\n",
    "        def inner2():\n",
    "            print(x)\n",
    "        inner2()\n",
    "    inner1()\n",
    "\n",
    "outer_func()\n",
    "\n",
    "# one has to be cautious of local, non-local variables\n",
    "def outer():\n",
    "    x = \"Monty\"\n",
    "    def inner():\n",
    "        x = 'Python'\n",
    "        print(\"inner x\", x)\n",
    "    inner()\n",
    "    print('Outer x', x)\n",
    "\n",
    "outer() "
   ]
  },
  {
   "cell_type": "code",
   "execution_count": 7,
   "metadata": {},
   "outputs": [
    {
     "name": "stdout",
     "output_type": "stream",
     "text": [
      "Outer x, Before Monty\n",
      "inner x Python\n",
      "Outer x After Python\n"
     ]
    }
   ],
   "source": [
    "# To tell python that a variable is available from an enclosing scope\n",
    "# this means, it will look for a variable defined in one of the enclosing scopes\n",
    "# until it finds it and re assing it.\n",
    "def outer():\n",
    "    x = \"Monty\"\n",
    "    def inner():\n",
    "        nonlocal x # Looks for x in the enclosing scope.\n",
    "        x = 'Python'\n",
    "        print(\"inner x\", x)\n",
    "    print('Outer x, Before', x)\n",
    "    inner()\n",
    "    print('Outer x After', x)\n",
    "\n",
    "outer() "
   ]
  },
  {
   "cell_type": "code",
   "execution_count": 11,
   "metadata": {},
   "outputs": [
    {
     "name": "stdout",
     "output_type": "stream",
     "text": [
      "Outer x Before Hello\n",
      "Inner1 x Before World\n",
      "Im so deep!\n",
      "Inner x After: Im so deep!\n",
      "Outer1 x Before Hello\n"
     ]
    }
   ],
   "source": [
    "# to verify that nonlocal does get the enclosing variable and not the local.\n",
    "def outer_func():\n",
    "    x = 'Hello' # Local x\n",
    "    def inner1():\n",
    "        x = 'World'\n",
    "        def inner2():\n",
    "            nonlocal x\n",
    "            x = 'Im so deep!'\n",
    "            print(x)\n",
    "        print('Inner1 x Before', x)\n",
    "        inner2()\n",
    "        print('Inner x After:', x)\n",
    "    print('Outer x Before', x)\n",
    "    inner1()\n",
    "    print('Outer1 x Before', x)\n",
    "\n",
    "outer_func()"
   ]
  },
  {
   "cell_type": "code",
   "execution_count": 14,
   "metadata": {},
   "outputs": [
    {
     "name": "stdout",
     "output_type": "stream",
     "text": [
      "Outer x Before Hello\n",
      "Inner1 x Before World\n",
      "Im so deep!\n",
      "Inner x After: Im so deep!\n",
      "Outer1 x Before Im so deep!\n",
      "Im so deep!\n"
     ]
    }
   ],
   "source": [
    "# This would throw an error since x being global will not let a nonlocal mask it\n",
    "# meaning it will never find a local x to bind. to change a global it would have to be \n",
    "# defined global throughout the scopes.\n",
    "x = 'Global'\n",
    "def outer_func():\n",
    "    global x\n",
    "    x = 'Hello' # Local x\n",
    "    def inner1():\n",
    "        global x\n",
    "        x = 'World'\n",
    "        def inner2():\n",
    "            global x\n",
    "            x = 'Im so deep!'\n",
    "            print(x)\n",
    "        print('Inner1 x Before', x)\n",
    "        inner2()\n",
    "        print('Inner x After:', x)\n",
    "    print('Outer x Before', x)\n",
    "    inner1()\n",
    "    print('Outer1 x Before', x)\n",
    "\n",
    "outer_func()\n",
    "print(x)"
   ]
  }
 ],
 "metadata": {
  "interpreter": {
   "hash": "916dbcbb3f70747c44a77c7bcd40155683ae19c65e1c03b4aa3499c5328201f1"
  },
  "kernelspec": {
   "display_name": "Python 3.8.10 64-bit",
   "language": "python",
   "name": "python3"
  },
  "language_info": {
   "codemirror_mode": {
    "name": "ipython",
    "version": 3
   },
   "file_extension": ".py",
   "mimetype": "text/x-python",
   "name": "python",
   "nbconvert_exporter": "python",
   "pygments_lexer": "ipython3",
   "version": "3.8.10"
  },
  "orig_nbformat": 4
 },
 "nbformat": 4,
 "nbformat_minor": 2
}
