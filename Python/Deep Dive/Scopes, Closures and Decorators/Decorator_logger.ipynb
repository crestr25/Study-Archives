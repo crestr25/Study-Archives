{
 "cells": [
  {
   "cell_type": "code",
   "execution_count": 4,
   "metadata": {},
   "outputs": [
    {
     "name": "stdout",
     "output_type": "stream",
     "text": [
      "2022-02-01 22:28:38.258886+00:00: called func_1\n"
     ]
    }
   ],
   "source": [
    "# we will see how to stack decorators.\n",
    "\n",
    "def logged(fn):\n",
    "    from functools import wraps\n",
    "    from datetime import datetime, timezone\n",
    "\n",
    "    @wraps(fn)\n",
    "    def inner(*args, **kwargs):\n",
    "        run_dt = datetime.now(timezone.utc)\n",
    "        result = fn(*args, **kwargs)\n",
    "        print(f'{run_dt}: called {fn.__name__}')\n",
    "        return result\n",
    "\n",
    "    return inner\n",
    "\n",
    "\n",
    "def timed(fn):\n",
    "    from time import perf_counter # so we can reuse the decorator somewhere else\n",
    "    from functools import wraps\n",
    "\n",
    "    @wraps(fn)\n",
    "    def inner(*args, **kwargs):\n",
    "        start = perf_counter()\n",
    "        result = fn(*args, **kwargs) # this makes the closure since fn is local to timed and nonlocal to inner.\n",
    "        end = perf_counter()\n",
    "        elapsed = end - start\n",
    "\n",
    "        args_ = [str(i) for i in args]\n",
    "        kwargs_ = [f'{k}={v}' for k,v in kwargs.items()]\n",
    "        all_args = args_ + kwargs_\n",
    "        args_str = ','.join(all_args)\n",
    "\n",
    "        print(f\"{fn.__name__}({args_str}) took {elapsed: .6f}s to run\")\n",
    "        return result\n",
    "    return inner # return our closure.\n",
    "\n",
    "\n",
    "@logged\n",
    "def func_1():\n",
    "    pass\n",
    "\n",
    "func_1()"
   ]
  },
  {
   "cell_type": "code",
   "execution_count": 9,
   "metadata": {},
   "outputs": [],
   "source": [
    "@logged\n",
    "@timed\n",
    "def fact(n):\n",
    "    from operator import mul\n",
    "    from functools import reduce\n",
    "\n",
    "    return reduce(mul, range(1, n+1))\n",
    "\n",
    "# The same as having\n",
    "def fact_2(n):\n",
    "    from operator import mul\n",
    "    from functools import reduce\n",
    "\n",
    "    return reduce(mul, range(1, n+1))\n",
    "\n",
    "fact_2 = logged(timed(fact_2))\n",
    "\n",
    "'''\n",
    "It is important to note that the first function that runs is logged that gets passed timed as a parameter, the fact that we \n",
    "first run the function inside logged and after we print the output means that we see first what happens in timed, however,\n",
    "it was logged called with timed as a parameter which in turn called fact_2 as a parameter.\n",
    "'''"
   ]
  },
  {
   "cell_type": "code",
   "execution_count": 11,
   "metadata": {},
   "outputs": [
    {
     "name": "stdout",
     "output_type": "stream",
     "text": [
      "fact(3) took  0.000010s to run\n",
      "2022-02-01 22:29:58.538602+00:00: called fact\n"
     ]
    },
    {
     "data": {
      "text/plain": [
       "6"
      ]
     },
     "execution_count": 11,
     "metadata": {},
     "output_type": "execute_result"
    }
   ],
   "source": [
    "fact(3)"
   ]
  },
  {
   "cell_type": "code",
   "execution_count": 10,
   "metadata": {},
   "outputs": [
    {
     "name": "stdout",
     "output_type": "stream",
     "text": [
      "fact_2(3) took  0.000009s to run\n",
      "2022-02-01 22:29:56.733922+00:00: called fact_2\n"
     ]
    },
    {
     "data": {
      "text/plain": [
       "6"
      ]
     },
     "execution_count": 10,
     "metadata": {},
     "output_type": "execute_result"
    }
   ],
   "source": [
    "fact_2(3)"
   ]
  },
  {
   "cell_type": "code",
   "execution_count": 16,
   "metadata": {},
   "outputs": [
    {
     "name": "stdout",
     "output_type": "stream",
     "text": [
      "Running Dec_1\n",
      "Running Dec_2\n",
      "I am running\n"
     ]
    }
   ],
   "source": [
    "# it first runs print and THEN runs and returns the function.\n",
    "def dec_1(fn):\n",
    "    def inner():\n",
    "        print('Running Dec_1')\n",
    "        return fn()\n",
    "    return inner\n",
    "\n",
    "def dec_2(fn):\n",
    "    def inner():\n",
    "        print('Running Dec_2')\n",
    "        return fn()\n",
    "    return inner\n",
    "\n",
    "@dec_1\n",
    "@dec_2\n",
    "def my_func():\n",
    "    print(\"I am running\")\n",
    "\n",
    "# my_func = dec_1(dec_2(my_func))\n",
    "\n",
    "my_func()"
   ]
  },
  {
   "cell_type": "code",
   "execution_count": 15,
   "metadata": {},
   "outputs": [
    {
     "name": "stdout",
     "output_type": "stream",
     "text": [
      "I am running\n",
      "Running Dec_2\n",
      "Running Dec_1\n"
     ]
    }
   ],
   "source": [
    "# it first runs the function THEN prints and returns\n",
    "def dec_1(fn):\n",
    "    def inner():\n",
    "        result = fn()\n",
    "        print('Running Dec_1')\n",
    "        return result\n",
    "    return inner\n",
    "\n",
    "def dec_2(fn):\n",
    "    def inner():\n",
    "        result = fn()\n",
    "        print('Running Dec_2')\n",
    "        return result\n",
    "    return inner\n",
    "\n",
    "@dec_1\n",
    "@dec_2\n",
    "def my_func():\n",
    "    print(\"I am running\")\n",
    "\n",
    "# my_func = dec_1(dec_2(my_func))\n",
    "\n",
    "my_func()"
   ]
  }
 ],
 "metadata": {
  "interpreter": {
   "hash": "916dbcbb3f70747c44a77c7bcd40155683ae19c65e1c03b4aa3499c5328201f1"
  },
  "kernelspec": {
   "display_name": "Python 3.8.10 64-bit",
   "language": "python",
   "name": "python3"
  },
  "language_info": {
   "codemirror_mode": {
    "name": "ipython",
    "version": 3
   },
   "file_extension": ".py",
   "mimetype": "text/x-python",
   "name": "python",
   "nbconvert_exporter": "python",
   "pygments_lexer": "ipython3",
   "version": "3.8.10"
  },
  "orig_nbformat": 4
 },
 "nbformat": 4,
 "nbformat_minor": 2
}
