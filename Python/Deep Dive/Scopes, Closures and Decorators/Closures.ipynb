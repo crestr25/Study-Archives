{
 "cells": [
  {
   "cell_type": "code",
   "execution_count": null,
   "metadata": {},
   "outputs": [],
   "source": [
    "# One can think of closures as a function plus an extended scope that contains\n",
    "# free variables.\n"
   ]
  },
  {
   "cell_type": "code",
   "execution_count": 1,
   "metadata": {},
   "outputs": [
    {
     "name": "stdout",
     "output_type": "stream",
     "text": [
      "python\n"
     ]
    }
   ],
   "source": [
    "# here inner plus the free variables is a closure.\n",
    "def outer():\n",
    "    x = 'python'\n",
    "    def inner():\n",
    "        print(x)\n",
    "    return inner\n",
    "\n",
    "fn = outer()\n",
    "fn()"
   ]
  },
  {
   "cell_type": "code",
   "execution_count": 4,
   "metadata": {},
   "outputs": [
    {
     "name": "stdout",
     "output_type": "stream",
     "text": [
      "(<cell at 0x7f8ad411a190: str object at 0x7f8adc733db0>,)\n",
      "('x',)\n"
     ]
    }
   ],
   "source": [
    "# We can use this dunder methods to check what the closure is \n",
    "# along with the freevars.\n",
    "print(fn.__closure__)\n",
    "print(fn.__code__.co_freevars)"
   ]
  },
  {
   "cell_type": "code",
   "execution_count": 7,
   "metadata": {},
   "outputs": [
    {
     "name": "stdout",
     "output_type": "stream",
     "text": [
      "0x7f8adc733db0\n",
      "0x7f8adc733db0\n",
      "0x7f8abdf21ac0\n",
      "0x7f8abdf21a00\n"
     ]
    }
   ],
   "source": [
    "# We have to be careful now since singleton objects in python will\n",
    "# point to a single object while mutable objects will have different memory\n",
    "# addresses.\n",
    "def outer():\n",
    "    x = 'python'\n",
    "    print(hex(id(x)))\n",
    "    def inner():\n",
    "        x = 'python'\n",
    "        print(hex(id(x)))\n",
    "    return inner\n",
    "\n",
    "fn = outer()\n",
    "fn()\n",
    "\n",
    "# Example with mutable\n",
    "def outer():\n",
    "    x = [1,2,3]\n",
    "    print(hex(id(x)))\n",
    "    def inner():\n",
    "        x = [1,2,3]\n",
    "        print(hex(id(x)))\n",
    "    return inner\n",
    "\n",
    "fn = outer()\n",
    "fn()"
   ]
  },
  {
   "cell_type": "code",
   "execution_count": 9,
   "metadata": {},
   "outputs": [
    {
     "name": "stdout",
     "output_type": "stream",
     "text": [
      "(<cell at 0x7f8ad411aa90: int object at 0x955e20>,)\n",
      "(<cell at 0x7f8ad411aa90: int object at 0x955e80>,)\n"
     ]
    }
   ],
   "source": [
    "# we can then use closures to have a shared label between two scopes\n",
    "def outer():\n",
    "    count=0\n",
    "    def inc():\n",
    "        nonlocal count\n",
    "        count += 1\n",
    "        return count\n",
    "    return inc\n",
    "\n",
    "fn = outer()\n",
    "print(fn.__closure__)\n",
    "# we will have a cache.\n",
    "fn()\n",
    "fn()\n",
    "fn()\n",
    "print(fn.__closure__)\n",
    "# above the free variable address changes since we modified it by calling the inc function."
   ]
  },
  {
   "cell_type": "code",
   "execution_count": 12,
   "metadata": {},
   "outputs": [
    {
     "data": {
      "text/plain": [
       "3"
      ]
     },
     "execution_count": 12,
     "metadata": {},
     "output_type": "execute_result"
    }
   ],
   "source": [
    "# here we have to functions that accesss the same free variable and so\n",
    "# they both can modify it.\n",
    "def outer():\n",
    "    count=0\n",
    "    def inc1():\n",
    "        nonlocal count\n",
    "        count += 1\n",
    "        return count\n",
    "\n",
    "    def inc2():\n",
    "        nonlocal count\n",
    "        count += 1\n",
    "        return count\n",
    "    return inc1, inc2\n",
    "\n",
    "fn1, fn2 = outer()\n",
    "fn1()\n",
    "fn2()\n",
    "fn1()\n"
   ]
  },
  {
   "cell_type": "code",
   "execution_count": null,
   "metadata": {},
   "outputs": [],
   "source": [
    "# be careful with loops\n",
    "adders = []\n",
    "for n in range(1, 4):\n",
    "    adders.append(lambda x: x + n) \n",
    "    # this n is shared and so all three lambdas will have the same n value at the end.\n",
    "\n",
    "# When python creates the function it leaves the n as placeholder, so when it evaluates\n",
    "# it looks at what the value actually is."
   ]
  },
  {
   "cell_type": "code",
   "execution_count": null,
   "metadata": {},
   "outputs": [],
   "source": [
    "adders = []\n",
    "for n in range(1, 4):\n",
    "    adders.append(lambda x, y=n: x + y) \n",
    "\n",
    "# following the thread from above, we capture the value of n since it gets hardcoded\n",
    "# on a function creation."
   ]
  }
 ],
 "metadata": {
  "interpreter": {
   "hash": "916dbcbb3f70747c44a77c7bcd40155683ae19c65e1c03b4aa3499c5328201f1"
  },
  "kernelspec": {
   "display_name": "Python 3.8.10 64-bit",
   "language": "python",
   "name": "python3"
  },
  "language_info": {
   "codemirror_mode": {
    "name": "ipython",
    "version": 3
   },
   "file_extension": ".py",
   "mimetype": "text/x-python",
   "name": "python",
   "nbconvert_exporter": "python",
   "pygments_lexer": "ipython3",
   "version": "3.8.10"
  },
  "orig_nbformat": 4
 },
 "nbformat": 4,
 "nbformat_minor": 2
}
