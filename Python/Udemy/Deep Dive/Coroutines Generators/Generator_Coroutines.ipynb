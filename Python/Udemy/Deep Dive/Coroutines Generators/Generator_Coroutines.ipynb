{
 "cells": [
  {
   "cell_type": "markdown",
   "metadata": {},
   "source": [
    "# Generators as Coroutines"
   ]
  },
  {
   "cell_type": "markdown",
   "metadata": {},
   "source": [
    "We will be using some Abstract Data Structures:\n",
    "- queue is a data structure that supports (FIFO) First-in first out.\n",
    "    - We add elements to back of queue\n",
    "    - We remove elements from front of queue\n",
    "- stack is a data structure that supports (LIFO) Last-in First out.\n",
    "    - We add elements to top of stack\n",
    "    - We remove elements from top of stack"
   ]
  },
  {
   "cell_type": "code",
   "execution_count": 11,
   "metadata": {},
   "outputs": [
    {
     "name": "stdout",
     "output_type": "stream",
     "text": [
      "---- DEQUE ----\n",
      "deque object: deque([1, 2, 3, 4, 5])\n",
      "append to the right of the deque -> deque([1, 2, 3, 4, 5, 6])\n",
      "append to the left of the deque -> deque([0, 1, 2, 3, 4, 5, 6])\n",
      "pop from the right of the deque -> deque([0, 1, 2, 3, 4, 5]), value 6\n",
      "pop from the left of the deque -> deque([1, 2, 3, 4, 5]), value 0\n",
      "---- DEQUE MAX LEN ----\n",
      "deque object: deque([1, 2, 3, 4, 5], maxlen=5), with max length: 5\n",
      "append to the right of the deque -> deque([2, 3, 4, 5, 6], maxlen=5)\n"
     ]
    }
   ],
   "source": [
    "# deque is very efficient at adding/removing items from both front and end of a collection\n",
    "from collections import deque # double-ended queue\n",
    "\n",
    "print(\"---- DEQUE ----\")\n",
    "dq = deque([1, 2, 3, 4, 5])\n",
    "print(f\"deque object: {dq}\")\n",
    "dq.append(6)\n",
    "print(f\"append to the right of the deque -> {dq}\")\n",
    "dq.appendleft(0)\n",
    "print(f\"append to the left of the deque -> {dq}\")\n",
    "rv = dq.pop()\n",
    "print(f\"pop from the right of the deque -> {dq}, value {rv}\")\n",
    "lf = dq.popleft()\n",
    "print(f\"pop from the left of the deque -> {dq}, value {lf}\")\n",
    "\n",
    "print(\"---- DEQUE MAX LEN ----\")\n",
    "dq_ml = deque([1, 2, 3, 4, 5], maxlen=5)\n",
    "print(f\"deque object: {dq_ml}, with max length: {dq_ml.maxlen}\")\n",
    "dq_ml.append(6)\n",
    "print(f\"append to the right of the deque -> {dq_ml}\")\n",
    "\n",
    "# as we can see when a max len is set when we append elements they push the existing ones."
   ]
  },
  {
   "cell_type": "markdown",
   "metadata": {},
   "source": [
    "## What is a coroutine?"
   ]
  },
  {
   "cell_type": "markdown",
   "metadata": {},
   "source": [
    "they are cooperative routines/functions, we have functions that yield control so other functions can run in time.\n",
    "- They always yield voluntarily, Threading on the other hand does not require that the function finishes or yields.\n",
    "- the are cooperative multitasking.\n"
   ]
  },
  {
   "cell_type": "code",
   "execution_count": 17,
   "metadata": {},
   "outputs": [
    {
     "name": "stdout",
     "output_type": "stream",
     "text": [
      "---- COROUTINE BASE ----\n",
      "procesing item 1\n",
      "procesing item 2\n",
      "procesing item 3\n",
      "procesing item 4\n",
      "procesing item 5\n",
      "procesing item 6\n",
      "procesing item 7\n",
      "procesing item 8\n",
      "procesing item 9\n",
      "---- COROUTINE GENERATOR ----\n",
      "producing\n",
      "queue full - yielding control\n",
      "consuming\n",
      "processing 1\n",
      "processing 2\n",
      "processing 3\n",
      "processing 4\n",
      "processing 5\n",
      "processing 6\n",
      "processing 7\n",
      "processing 8\n",
      "processing 9\n",
      "processing 10\n",
      "queue empty - yielding control\n",
      "producing\n",
      "queue full - yielding control\n",
      "consuming\n",
      "processing 11\n",
      "processing 12\n",
      "processing 13\n",
      "processing 14\n",
      "processing 15\n",
      "processing 16\n",
      "processing 17\n",
      "processing 18\n",
      "processing 19\n",
      "processing 20\n",
      "queue empty - yielding control\n",
      "producing\n",
      "consuming\n",
      "processing 21\n",
      "processing 22\n",
      "processing 23\n",
      "queue empty - yielding control\n"
     ]
    }
   ],
   "source": [
    "from collections import deque\n",
    "from math import prod\n",
    "\n",
    "print(\"---- COROUTINE BASE ----\")\n",
    "\n",
    "def produce_elements(dq):\n",
    "    for i in range(1, 10):\n",
    "        dq.appendleft(i)\n",
    "\n",
    "def consume_elements(dq):\n",
    "    while len(dq) > 0:\n",
    "        item = dq.pop()\n",
    "        print(\"procesing item\", item)\n",
    "\n",
    "def coordinator():\n",
    "    dq = deque()\n",
    "    produce_elements(dq)\n",
    "    consume_elements(dq)\n",
    "\n",
    "coordinator()\n",
    "\n",
    "print(\"---- COROUTINE GENERATOR ----\")\n",
    "\n",
    "def produce_elements(dq, n):\n",
    "    for i in range(1, n):\n",
    "        dq.appendleft(i)\n",
    "        if len(dq) == dq.maxlen:\n",
    "            print('queue full - yielding control')\n",
    "            yield\n",
    "\n",
    "def consume_elements(dq):\n",
    "    while True:\n",
    "        while len(dq) > 0:\n",
    "            print('processing', dq.pop())\n",
    "        print(\"queue empty - yielding control\")\n",
    "        yield\n",
    "\n",
    "def coordinator():\n",
    "    dq = deque(maxlen=10)\n",
    "    producer = produce_elements(dq, 24)\n",
    "    consumer = consume_elements(dq)\n",
    "    while True:\n",
    "        try:\n",
    "            print('producing')\n",
    "            next(producer)\n",
    "        except StopIteration:\n",
    "            break\n",
    "        finally:\n",
    "            print(\"consuming\")\n",
    "            next(consumer)\n",
    "\n",
    "\n",
    "coordinator()"
   ]
  },
  {
   "cell_type": "markdown",
   "metadata": {},
   "source": [
    "## Generator States"
   ]
  },
  {
   "cell_type": "markdown",
   "metadata": {},
   "source": [
    "A generetator can be in any of the following states:\n",
    "- CREATED, when the generator is instantiated\n",
    "- RUNNING, when the generator is called\n",
    "- SUSPENDED, when the generator yields\n",
    "- CLOSED, when the generator finishes execution.\n",
    "\n",
    "we can use the `inspect.getgeneratorstate` to see the current state of a generator."
   ]
  },
  {
   "cell_type": "code",
   "execution_count": 30,
   "metadata": {},
   "outputs": [
    {
     "name": "stdout",
     "output_type": "stream",
     "text": [
      "---- GENERATOR STATES ----\n",
      "the state of the generator g: <generator object gen at 0x10a8540b0> is -> GEN_CREATED\n",
      "GEN_RUNNING\n",
      "the state of the generator g: <generator object gen at 0x10a8540b0> is -> GEN_SUSPENDED\n",
      "the state of the generator g: <generator object gen at 0x10a8540b0> is -> GEN_CLOSED\n"
     ]
    }
   ],
   "source": [
    "from inspect import getgeneratorstate\n",
    "\n",
    "print(f\"---- GENERATOR STATES ----\")\n",
    "\n",
    "def gen(s):\n",
    "    print(getgeneratorstate(g))\n",
    "    for c in s: \n",
    "        yield c\n",
    "\n",
    "g = gen('Python')\n",
    "\n",
    "print(f\"the state of the generator g: {g} is -> {getgeneratorstate(g)}\")\n",
    "next(g)\n",
    "print(f\"the state of the generator g: {g} is -> {getgeneratorstate(g)}\")\n",
    "list(g)\n",
    "print(f\"the state of the generator g: {g} is -> {getgeneratorstate(g)}\")"
   ]
  },
  {
   "cell_type": "markdown",
   "metadata": {},
   "source": [
    "## Sending Data to Generators"
   ]
  },
  {
   "cell_type": "markdown",
   "metadata": {},
   "source": [
    "The `yield` statement is actually an expression, that means that it can.\n",
    "- yield a value (like the normal usage we see)\n",
    "- it can also receive values, it is used like an expression would\n",
    "    - To receive we can assign yield as an expression -> `var = yield`\n",
    "    - For us to send data to the generator it must be in a SUSPENDED state since that means it is waiting at a yield.\n",
    "    - That means we must PRIME (call next()) on the generator and then we can send data.\n",
    "    - to send we use `generator.send(data)`.\n",
    "- We can also mix both but it gets, REALLY confusing\n",
    "\n",
    "Note: It is important to note that when python encounters a yield statement, it pauses right at the left of the yield.   \n",
    "That means, when python finds:\n",
    "- `my_var = yield 'hello'`, it pauses(yields 'hello') and it resumes by assigning the state to my_var."
   ]
  },
  {
   "cell_type": "code",
   "execution_count": 13,
   "metadata": {},
   "outputs": [
    {
     "name": "stdout",
     "output_type": "stream",
     "text": [
      "---- YIELD AS EXPRESSION ----\n",
      "first we instantiate the generator: <generator object echo at 0x1098cbc30> -> GEN_CREATED\n",
      "Then we prime it by calling next(ec)\n",
      "The state should now be -> GEN_SUSPENDED\n",
      "you said: hello\n",
      "Now we can send the string hello to the generator: None\n",
      "---- PRIMING GENERATOR WITH NONE ----\n",
      "first we instantiate the generator: <generator object echo at 0x1098cbca0> -> GEN_CREATED\n",
      "Then we prime it by calling ec.send(None)\n",
      "The state should now be -> GEN_SUSPENDED\n",
      "you said: hello\n",
      "Now we can send the string hello to the generator: None\n",
      "---- RECEIVE/YIELD GENERATOR ----\n",
      "1.0\n",
      "1.5\n",
      "2.0\n",
      "2.5\n"
     ]
    }
   ],
   "source": [
    "from inspect import getgeneratorstate\n",
    "\n",
    "print(\"---- YIELD AS EXPRESSION ----\")\n",
    "\n",
    "def echo():\n",
    "    while True:\n",
    "        received = yield\n",
    "        print(f'you said: {received}')\n",
    "\n",
    "ec = echo()\n",
    "print(f\"first we instantiate the generator: {ec} -> {getgeneratorstate(ec)}\")\n",
    "print(\"Then we prime it by calling next(ec)\")\n",
    "next(ec)\n",
    "print(f\"The state should now be -> {getgeneratorstate(ec)}\")\n",
    "print(f\"Now we can send the string hello to the generator: {ec.send('hello')}\")\n",
    "\n",
    "print(\"---- PRIMING GENERATOR WITH NONE ----\")\n",
    "ec = echo()\n",
    "print(f\"first we instantiate the generator: {ec} -> {getgeneratorstate(ec)}\")\n",
    "print(\"Then we prime it by calling ec.send(None)\")\n",
    "ec.send(None)\n",
    "print(f\"The state should now be -> {getgeneratorstate(ec)}\")\n",
    "print(f\"Now we can send the string hello to the generator: {ec.send('hello')}\")\n",
    "\n",
    "print(\"---- RECEIVE/YIELD GENERATOR ----\")\n",
    "\n",
    "def running_averager():\n",
    "    total = 0\n",
    "    count = 0\n",
    "    running_average = None\n",
    "    while True:\n",
    "        value = yield running_average\n",
    "        total += value\n",
    "        count += 1\n",
    "        running_average = total / count\n",
    "\n",
    "def running_averages(iterable):\n",
    "    averager = running_averager()\n",
    "    next(averager)\n",
    "    for value in iterable:\n",
    "        running_average = averager.send(value)\n",
    "        print(running_average)\n",
    "\n",
    "running_averages([1, 2, 3, 4])\n",
    "        "
   ]
  },
  {
   "cell_type": "markdown",
   "metadata": {},
   "source": [
    "## Closing a Generator"
   ]
  },
  {
   "cell_type": "markdown",
   "metadata": {},
   "source": [
    "We as the caller can explicitly close a generator in suspended state by calling it's `close` method.\n",
    "- The `close` method triggers an exception called `GeneratorExit`.\n",
    "    - it is ok not to catch the exception, python handles it.\n",
    "    - it is advised against to try to catch and ignore the exception.\n",
    "    - `GeneratorExit` does not inherit from `Exception`."
   ]
  },
  {
   "cell_type": "code",
   "execution_count": 19,
   "metadata": {},
   "outputs": [
    {
     "name": "stdout",
     "output_type": "stream",
     "text": [
      "---- GENERATOR DOES NOT CLOSE FILE ----\n",
      "opening file....\n",
      "['Car', 'MPG', 'Cylinders', 'Displacement', 'Horsepower', 'Weight', 'Acceleration', 'Model', 'Origin']\n",
      "['Chevrolet Chevelle Malibu', '18.0', '8', '307.0', '130.0', '3504.', '12.0', '70', 'US']\n",
      "['Buick Skylark 320', '15.0', '8', '350.0', '165.0', '3693.', '11.5', '70', 'US']\n",
      "['Plymouth Satellite', '18.0', '8', '318.0', '150.0', '3436.', '11.0', '70', 'US']\n",
      "['AMC Rebel SST', '16.0', '8', '304.0', '150.0', '3433.', '12.0', '70', 'US']\n",
      "['Ford Torino', '17.0', '8', '302.0', '140.0', '3449.', '10.5', '70', 'US']\n",
      "['Ford Galaxie 500', '15.0', '8', '429.0', '198.0', '4341.', '10.0', '70', 'US']\n",
      "['Chevrolet Impala', '14.0', '8', '454.0', '220.0', '4354.', '9.0', '70', 'US']\n",
      "['Plymouth Fury iii', '14.0', '8', '440.0', '215.0', '4312.', '8.5', '70', 'US']\n",
      "['Pontiac Catalina', '14.0', '8', '455.0', '225.0', '4425.', '10.0', '70', 'US']\n",
      "Closing file....\n",
      "---- GENERATOR CLOSE EXCEPTION ----\n",
      "opening file....\n",
      "['Car', 'MPG', 'Cylinders', 'Displacement', 'Horsepower', 'Weight', 'Acceleration', 'Model', 'Origin']\n",
      "['Chevrolet Chevelle Malibu', '18.0', '8', '307.0', '130.0', '3504.', '12.0', '70', 'US']\n",
      "['Buick Skylark 320', '15.0', '8', '350.0', '165.0', '3693.', '11.5', '70', 'US']\n",
      "['Plymouth Satellite', '18.0', '8', '318.0', '150.0', '3436.', '11.0', '70', 'US']\n",
      "['AMC Rebel SST', '16.0', '8', '304.0', '150.0', '3433.', '12.0', '70', 'US']\n",
      "['Ford Torino', '17.0', '8', '302.0', '140.0', '3449.', '10.5', '70', 'US']\n",
      "['Ford Galaxie 500', '15.0', '8', '429.0', '198.0', '4341.', '10.0', '70', 'US']\n",
      "['Chevrolet Impala', '14.0', '8', '454.0', '220.0', '4354.', '9.0', '70', 'US']\n",
      "['Plymouth Fury iii', '14.0', '8', '440.0', '215.0', '4312.', '8.5', '70', 'US']\n",
      "['Pontiac Catalina', '14.0', '8', '455.0', '225.0', '4425.', '10.0', '70', 'US']\n",
      "The Generator Exit exception got raised!\n",
      "Closing file....\n",
      "---- GENERATOR RAISING CUSTOM EXCEPTION ----\n",
      "opening file....\n",
      "['Car', 'MPG', 'Cylinders', 'Displacement', 'Horsepower', 'Weight', 'Acceleration', 'Model', 'Origin']\n",
      "['Chevrolet Chevelle Malibu', '18.0', '8', '307.0', '130.0', '3504.', '12.0', '70', 'US']\n",
      "['Buick Skylark 320', '15.0', '8', '350.0', '165.0', '3693.', '11.5', '70', 'US']\n",
      "['Plymouth Satellite', '18.0', '8', '318.0', '150.0', '3436.', '11.0', '70', 'US']\n",
      "['AMC Rebel SST', '16.0', '8', '304.0', '150.0', '3433.', '12.0', '70', 'US']\n",
      "['Ford Torino', '17.0', '8', '302.0', '140.0', '3449.', '10.5', '70', 'US']\n",
      "['Ford Galaxie 500', '15.0', '8', '429.0', '198.0', '4341.', '10.0', '70', 'US']\n",
      "['Chevrolet Impala', '14.0', '8', '454.0', '220.0', '4354.', '9.0', '70', 'US']\n",
      "['Plymouth Fury iii', '14.0', '8', '440.0', '215.0', '4312.', '8.5', '70', 'US']\n",
      "['Pontiac Catalina', '14.0', '8', '455.0', '225.0', '4425.', '10.0', '70', 'US']\n",
      "The Generator Exit exception got raised!\n",
      "Closing file....\n"
     ]
    },
    {
     "ename": "Exception",
     "evalue": "this is my own exception",
     "output_type": "error",
     "traceback": [
      "\u001b[0;31m---------------------------------------------------------------------------\u001b[0m",
      "\u001b[0;31mException\u001b[0m                                 Traceback (most recent call last)",
      "Cell \u001b[0;32mIn [19], line 78\u001b[0m\n\u001b[1;32m     75\u001b[0m     \u001b[39mprint\u001b[39m(row)\n\u001b[1;32m     76\u001b[0m     \u001b[39m# The file never closes!!!\u001b[39;00m\n\u001b[1;32m     77\u001b[0m \u001b[39m# We have to explicitly tell it to close\u001b[39;00m\n\u001b[0;32m---> 78\u001b[0m parser\u001b[39m.\u001b[39mclose()\n",
      "Cell \u001b[0;32mIn [19], line 68\u001b[0m, in \u001b[0;36mparse_file\u001b[0;34m(f_name)\u001b[0m\n\u001b[1;32m     66\u001b[0m         \u001b[39mexcept\u001b[39;00m \u001b[39mGeneratorExit\u001b[39;00m:\n\u001b[1;32m     67\u001b[0m             \u001b[39mprint\u001b[39m(\u001b[39m\"\u001b[39m\u001b[39mThe Generator Exit exception got raised!\u001b[39m\u001b[39m\"\u001b[39m)\n\u001b[0;32m---> 68\u001b[0m             \u001b[39mraise\u001b[39;00m \u001b[39mException\u001b[39;00m(\u001b[39m\"\u001b[39m\u001b[39mthis is my own exception\u001b[39m\u001b[39m\"\u001b[39m) \u001b[39mfrom\u001b[39;00m \u001b[39mNone\u001b[39m\n\u001b[1;32m     69\u001b[0m \u001b[39mfinally\u001b[39;00m:\n\u001b[1;32m     70\u001b[0m     \u001b[39mprint\u001b[39m(\u001b[39m\"\u001b[39m\u001b[39mClosing file....\u001b[39m\u001b[39m\"\u001b[39m)\n",
      "\u001b[0;31mException\u001b[0m: this is my own exception"
     ]
    }
   ],
   "source": [
    "import csv\n",
    "import itertools\n",
    "\n",
    "from inspect import getgeneratorstate\n",
    "\n",
    "print(\"---- GENERATOR DOES NOT CLOSE FILE ----\")\n",
    "\n",
    "def parse_file(f_name):\n",
    "    print(\"opening file....\")\n",
    "    f = open(f_name, 'r')\n",
    "    try:\n",
    "        dialect = csv.Sniffer().sniff(f.read(2000))\n",
    "        f.seek(0)\n",
    "        reader = csv.reader(f, dialect=dialect)\n",
    "        for row in reader:\n",
    "            yield row\n",
    "    finally:\n",
    "        print(\"Closing file....\")\n",
    "        f.close()\n",
    "\n",
    "parser = parse_file(\"cars.csv\")\n",
    "for row in itertools.islice(parser, 10):\n",
    "    print(row)\n",
    "    # The file never closes!!!\n",
    "# We have to explicitly tell it to close\n",
    "parser.close()\n",
    "\n",
    "print(\"---- GENERATOR CLOSE EXCEPTION ----\")\n",
    "\n",
    "def parse_file(f_name):\n",
    "    print(\"opening file....\")\n",
    "    f = open(f_name, 'r')\n",
    "    try:\n",
    "        dialect = csv.Sniffer().sniff(f.read(2000))\n",
    "        f.seek(0)\n",
    "        reader = csv.reader(f, dialect=dialect)\n",
    "        for row in reader:\n",
    "            yield row\n",
    "    except Exception as ex:\n",
    "        print(\"some exception occurred\", ex)\n",
    "    except GeneratorExit:\n",
    "        print(\"The Generator Exit exception got raised!\")\n",
    "    finally:\n",
    "        print(\"Closing file....\")\n",
    "        f.close()\n",
    "\n",
    "parser = parse_file(\"cars.csv\")\n",
    "for row in itertools.islice(parser, 10):\n",
    "    print(row)\n",
    "    # The file never closes!!!\n",
    "# We have to explicitly tell it to close\n",
    "parser.close()\n",
    "\n",
    "print(\"---- GENERATOR RAISING CUSTOM EXCEPTION ----\")\n",
    "\n",
    "def parse_file(f_name):\n",
    "    print(\"opening file....\")\n",
    "    f = open(f_name, 'r')\n",
    "    try:\n",
    "        dialect = csv.Sniffer().sniff(f.read(2000))\n",
    "        f.seek(0)\n",
    "        reader = csv.reader(f, dialect=dialect)\n",
    "        for row in reader:\n",
    "            try:\n",
    "                yield row\n",
    "            except GeneratorExit:\n",
    "                print(\"The Generator Exit exception got raised!\")\n",
    "                raise Exception(\"this is my own exception\") from None\n",
    "    finally:\n",
    "        print(\"Closing file....\")\n",
    "        f.close()\n",
    "\n",
    "parser = parse_file(\"cars.csv\")\n",
    "for row in itertools.islice(parser, 10):\n",
    "    print(row)\n",
    "    # The file never closes!!!\n",
    "# We have to explicitly tell it to close\n",
    "parser.close()"
   ]
  },
  {
   "cell_type": "code",
   "execution_count": 33,
   "metadata": {},
   "outputs": [
    {
     "name": "stdout",
     "output_type": "stream",
     "text": [
      "---- GENERATOR AS COROUTINE EXAMPLE ----\n",
      "starting new transaction\n",
      "sending data to database 1\n",
      "commit transaction\n"
     ]
    }
   ],
   "source": [
    "print(\"---- GENERATOR AS COROUTINE EXAMPLE ----\")\n",
    "class TransactionAborted(Exception):\n",
    "    ...\n",
    "\n",
    "def save_to_db():\n",
    "    print(\"starting new transaction\")\n",
    "    is_abort = False # in case we abort we need to close the generator\n",
    "    try:\n",
    "        while True:\n",
    "            data = yield\n",
    "            print('sending data to database', eval(data))\n",
    "    except Exception as ex:\n",
    "        is_abort = True\n",
    "        raise TransactionAborted(str(ex))\n",
    "    finally:\n",
    "        if is_abort:\n",
    "            print('abort transaction')\n",
    "        else:\n",
    "            print('commit transaction')\n",
    "trans = save_to_db()\n",
    "next(trans)\n",
    "\n",
    "# Add transactions\n",
    "trans.send(\"1\")\n",
    "#trans.send(\"1 + 'a'\")\n",
    "\n",
    "trans.close()"
   ]
  },
  {
   "cell_type": "markdown",
   "metadata": {},
   "source": [
    "## Send Exceptions to Generators"
   ]
  },
  {
   "cell_type": "markdown",
   "metadata": {},
   "source": [
    "We can also send any exception to a coroutine, which means that it will throw the exception.\n",
    "- We can use the method `throw(exception)`.\n",
    "- The exception is raised at the point where the coroutine is suspended.\n",
    "- `throw` can be thought of as a `send` but for exceptions.\n",
    "\n",
    "> Note: When we use `close()` to stop the generator the stopiteration is silenced by python since it expected it"
   ]
  },
  {
   "cell_type": "code",
   "execution_count": 42,
   "metadata": {},
   "outputs": [
    {
     "name": "stdout",
     "output_type": "stream",
     "text": [
      "---- CLOSE/THROW DIFFERENCE ----\n",
      "---- CLOSE ----\n",
      "hello\n",
      "now i think i can leave\n",
      "exception must have happened\n",
      "no exception raised\n",
      "---- THROW ----\n",
      "hello\n",
      "---- THROW GENERATOREXIT ----\n",
      "now i think i can leave\n",
      "exception must have happened\n",
      "hello\n",
      "now i think i can leave\n",
      "exception must have happened\n"
     ]
    },
    {
     "ename": "StopIteration",
     "evalue": "",
     "output_type": "error",
     "traceback": [
      "\u001b[0;31m---------------------------------------------------------------------------\u001b[0m",
      "\u001b[0;31mStopIteration\u001b[0m                             Traceback (most recent call last)",
      "Cell \u001b[0;32mIn [42], line 33\u001b[0m\n\u001b[1;32m     31\u001b[0m \u001b[39mnext\u001b[39m(g)\n\u001b[1;32m     32\u001b[0m g\u001b[39m.\u001b[39msend(\u001b[39m\"\u001b[39m\u001b[39mhello\u001b[39m\u001b[39m\"\u001b[39m)\n\u001b[0;32m---> 33\u001b[0m g\u001b[39m.\u001b[39mthrow(\u001b[39mGeneratorExit\u001b[39;00m, \u001b[39m\"\u001b[39m\u001b[39mMy custom Message\u001b[39m\u001b[39m\"\u001b[39m)\n",
      "\u001b[0;31mStopIteration\u001b[0m: "
     ]
    }
   ],
   "source": [
    "print(\"---- CLOSE/THROW DIFFERENCE ----\")\n",
    "\n",
    "# Only way to stop the while is to get an exception\n",
    "def gen():\n",
    "    try:\n",
    "        while True:\n",
    "            received = yield\n",
    "            print(received)\n",
    "    except ValueError:\n",
    "        print('received a value error....')\n",
    "    except GeneratorExit:\n",
    "        print('now i think i can leave')\n",
    "    finally:\n",
    "        print('exception must have happened')\n",
    "        \n",
    "print(\"---- CLOSE ----\")\n",
    "g = gen()\n",
    "next(g)\n",
    "g.send(\"hello\")\n",
    "g.close() # throws a GeneratorExit exception\n",
    "print(\"no exception raised\")\n",
    "\n",
    "print(\"---- THROW ----\")\n",
    "g = gen()\n",
    "next(g)\n",
    "g.send(\"hello\")\n",
    "#g.throw(ValueError, \"My custom Message\")\n",
    "\n",
    "print(\"---- THROW GENERATOREXIT ----\")\n",
    "g = gen()\n",
    "next(g)\n",
    "g.send(\"hello\")\n",
    "g.throw(GeneratorExit, \"My custom Message\")\n",
    "# It is important to note that we got a stopIteration and tha's normal since we actually stoped the generator"
   ]
  },
  {
   "cell_type": "code",
   "execution_count": 37,
   "metadata": {},
   "outputs": [
    {
     "name": "stdout",
     "output_type": "stream",
     "text": [
      "hello\n",
      "value error received: My custom Message\n",
      "We did not get a StopIteration error since our generator is in state -> GEN_SUSPENDED\n"
     ]
    }
   ],
   "source": [
    "from inspect import getgeneratorstate\n",
    "\n",
    "def gen():\n",
    "    while True:\n",
    "        try:\n",
    "            received = yield\n",
    "            print(received)\n",
    "        except ValueError as ex:\n",
    "            print('value error received:', str(ex))\n",
    "\n",
    "g = gen()\n",
    "next(g)\n",
    "g.send(\"hello\")\n",
    "g.throw(ValueError, \"My custom Message\")\n",
    "\n",
    "print(f\"We did not get a StopIteration error since our generator is in state -> {getgeneratorstate(g)}\") "
   ]
  },
  {
   "cell_type": "code",
   "execution_count": 38,
   "metadata": {},
   "outputs": [
    {
     "name": "stdout",
     "output_type": "stream",
     "text": [
      "opening database connection\n",
      "start transaction\n",
      "writing data to database... pokemon.csv\n",
      "comitting transaction\n",
      "opening next transaction....\n",
      "aborting transaction...\n",
      "opening next transaction\n",
      "writing data to database... pokemon2.csv\n",
      "generator closing....\n",
      "abort transaction...\n",
      "closing database connection\n"
     ]
    },
    {
     "ename": "ValueError",
     "evalue": "oh crap",
     "output_type": "error",
     "traceback": [
      "\u001b[0;31m---------------------------------------------------------------------------\u001b[0m",
      "\u001b[0;31mValueError\u001b[0m                                Traceback (most recent call last)",
      "Cell \u001b[0;32mIn [38], line 32\u001b[0m\n\u001b[1;32m     30\u001b[0m sql\u001b[39m.\u001b[39mthrow(RollBackException, \u001b[39m\"\u001b[39m\u001b[39moh no no\u001b[39m\u001b[39m\"\u001b[39m)\n\u001b[1;32m     31\u001b[0m sql\u001b[39m.\u001b[39msend(\u001b[39m\"\u001b[39m\u001b[39mpokemon2.csv\u001b[39m\u001b[39m\"\u001b[39m)\n\u001b[0;32m---> 32\u001b[0m sql\u001b[39m.\u001b[39mthrow(\u001b[39mValueError\u001b[39;00m, \u001b[39m\"\u001b[39m\u001b[39moh crap\u001b[39m\u001b[39m\"\u001b[39m)\n",
      "Cell \u001b[0;32mIn [38], line 13\u001b[0m, in \u001b[0;36mwrite_to_db\u001b[0;34m()\u001b[0m\n\u001b[1;32m     11\u001b[0m \u001b[39mwhile\u001b[39;00m \u001b[39mTrue\u001b[39;00m:\n\u001b[1;32m     12\u001b[0m     \u001b[39mtry\u001b[39;00m:\n\u001b[0;32m---> 13\u001b[0m         data \u001b[39m=\u001b[39m \u001b[39myield\u001b[39;00m\n\u001b[1;32m     14\u001b[0m         \u001b[39mprint\u001b[39m(\u001b[39m\"\u001b[39m\u001b[39mwriting data to database...\u001b[39m\u001b[39m\"\u001b[39m, data)\n\u001b[1;32m     15\u001b[0m     \u001b[39mexcept\u001b[39;00m CommitException:\n",
      "\u001b[0;31mValueError\u001b[0m: oh crap"
     ]
    }
   ],
   "source": [
    "class CommitException(Exception):\n",
    "    pass\n",
    "\n",
    "class RollBackException(Exception):\n",
    "    pass\n",
    "\n",
    "def write_to_db():\n",
    "    print('opening database connection')\n",
    "    print('start transaction')\n",
    "    try:\n",
    "        while True:\n",
    "            try:\n",
    "                data = yield\n",
    "                print(\"writing data to database...\", data)\n",
    "            except CommitException:\n",
    "                print(\"comitting transaction\")\n",
    "                print('opening next transaction....')\n",
    "            except RollBackException:\n",
    "                print('aborting transaction...')\n",
    "                print('opening next transaction')\n",
    "    finally:\n",
    "        print('generator closing....')\n",
    "        print('abort transaction...')\n",
    "        print('closing database connection')\n",
    "\n",
    "sql = write_to_db()\n",
    "next(sql)\n",
    "sql.send(\"pokemon.csv\")\n",
    "sql.throw(CommitException, \"oh no\")\n",
    "sql.throw(RollBackException, \"oh no no\")\n",
    "sql.send(\"pokemon2.csv\")\n",
    "sql.throw(ValueError, \"oh crap\")"
   ]
  },
  {
   "cell_type": "markdown",
   "metadata": {},
   "source": [
    "## Prime Coroutines"
   ]
  },
  {
   "cell_type": "markdown",
   "metadata": {},
   "source": [
    "The pattern to prime a coroutine gets repeatitive so we can design a decorator to do it, we would need to:\n",
    "- Create Coroutine instance\n",
    "- Call next/send(None) -> Prime it\n",
    "- Return it"
   ]
  },
  {
   "cell_type": "code",
   "execution_count": 48,
   "metadata": {},
   "outputs": [
    {
     "name": "stdout",
     "output_type": "stream",
     "text": [
      "hello\n"
     ]
    }
   ],
   "source": [
    "import math\n",
    "from typing import Type\n",
    "\n",
    "\n",
    "def coroutine(gen_fn):\n",
    "    def inner(*args, **kwargs):\n",
    "        gen = gen_fn(*args, **kwargs)\n",
    "        next(gen)\n",
    "        return gen\n",
    "    return inner\n",
    "\n",
    "@coroutine\n",
    "def echo():\n",
    "    while True:\n",
    "        received = yield\n",
    "        print(received)\n",
    "\n",
    "e = echo()\n",
    "e.send(\"hello\")\n",
    "\n",
    "@coroutine\n",
    "def power_up(p):\n",
    "    result = None\n",
    "    while True:\n",
    "        received = yield result\n",
    "        try:\n",
    "            result = math.pow(received, p)\n",
    "        except TypeError:\n",
    "            result = None\n",
    "\n",
    "g = power_up(2)\n",
    "g.send(2)\n",
    "g.send('3')\n",
    "g.send(3)\n",
    "g.close()"
   ]
  },
  {
   "cell_type": "markdown",
   "metadata": {},
   "source": [
    "## Async Await"
   ]
  },
  {
   "cell_type": "markdown",
   "metadata": {},
   "source": [
    "In Python < 3.8, we used generator based coroutines, to achieve this we used the `yield from` operator. With the `yield from` we basically establish\n",
    "a 2-way communication channel betweeen the base generator and a generator delegator(The one that has the yield from).\n",
    "\n",
    "Remember that `yield from` works in a way that delegates to the base generator.\n",
    "- when we call `next` it passes that next to the generator object.\n",
    "- when we call `send`, `throw`, `close` it passes those to the generator object.\n",
    "- When using `throw` the exception is sent to the base generator, and so the handling should be done there and not on the delegator\n",
    "- when it receives the returned state from the generator it continues running, (moves from the `yield from` in the code)\n",
    "\n",
    "`yield from` automatically primes the base generator once it is primed.\n"
   ]
  },
  {
   "cell_type": "code",
   "execution_count": 55,
   "metadata": {},
   "outputs": [
    {
     "name": "stdout",
     "output_type": "stream",
     "text": [
      "subgen status: GEN_SUSPENDED, delegator status: GEN_SUSPENDED\n",
      "hello world!\n",
      "message returned from echo through the delegator -> Thank you\n",
      "subgen: closing ....\n",
      "subgen: return value\n",
      "delegator: closing ....\n"
     ]
    },
    {
     "ename": "StopIteration",
     "evalue": "",
     "output_type": "error",
     "traceback": [
      "\u001b[0;31m---------------------------------------------------------------------------\u001b[0m",
      "\u001b[0;31mStopIteration\u001b[0m                             Traceback (most recent call last)",
      "Cell \u001b[0;32mIn [55], line 33\u001b[0m\n\u001b[1;32m     31\u001b[0m \u001b[39mexcept\u001b[39;00m \u001b[39mStopIteration\u001b[39;00m \u001b[39mas\u001b[39;00m ex:\n\u001b[1;32m     32\u001b[0m     \u001b[39mprint\u001b[39m(ex\u001b[39m.\u001b[39mvalue)\n\u001b[0;32m---> 33\u001b[0m \u001b[39mprint\u001b[39m(\u001b[39mnext\u001b[39m(g))\n",
      "\u001b[0;31mStopIteration\u001b[0m: "
     ]
    }
   ],
   "source": [
    "from inspect import getgeneratorlocals, getgeneratorstate\n",
    "\n",
    "def echo():\n",
    "    try:\n",
    "        while True:\n",
    "            value = yield \"Thank you\"\n",
    "            print(value)\n",
    "    finally:\n",
    "        print(\"subgen: closing ....\")\n",
    "        return 'subgen: return value' # raises no stopiteration exception is a return is used\n",
    "\n",
    "def delegator():\n",
    "    s = echo()\n",
    "    rv = yield from s\n",
    "    print(rv)\n",
    "    yield 'delegator: subgenclosed'\n",
    "    print('delegator: closing ....')\n",
    "\n",
    "g = delegator()\n",
    "next(g)\n",
    "s = getgeneratorlocals(g)['s']\n",
    "\n",
    "print(f\"subgen status: {getgeneratorstate(s)}, delegator status: {getgeneratorstate(g)}\")\n",
    "\n",
    "message = g.send(\"hello world!\")\n",
    "print(f\"message returned from echo through the delegator -> {message}\")\n",
    "\n",
    "\n",
    "try:\n",
    "    g.throw(ValueError)\n",
    "except StopIteration as ex:\n",
    "    print(ex.value)\n",
    "print(next(g)) "
   ]
  },
  {
   "cell_type": "code",
   "execution_count": 24,
   "metadata": {},
   "outputs": [
    {
     "name": "stdout",
     "output_type": "stream",
     "text": [
      "<generator object flatten_gen at 0x10d178510>\n",
      "[1, 2, 3, 4, 5, 6, 7, 8, 9, 10]\n",
      "<generator object flatten_gen at 0x10d178660>\n",
      "[1, 2, 3, 4, 5, 6, 7, 8, 'a', 'b', 'c']\n"
     ]
    }
   ],
   "source": [
    "l = [1, 2, [3, 4, [5, 6]], [7, [8, 9, 10]]]\n",
    "i = [1, 2, (3, 4, {5, 6}), [7, [8, 'abc']]]\n",
    "\n",
    "def is_iterable(item, *, str_is_iterable=True):\n",
    "    try:\n",
    "        iter(item)\n",
    "    except:\n",
    "        return False\n",
    "    else:\n",
    "        if isinstance(item, str):\n",
    "            if str_is_iterable and len(item) > 1:\n",
    "                return True\n",
    "            else:\n",
    "                return False\n",
    "        else:\n",
    "            return True\n",
    "\n",
    "def flatten_gen(curr_item):\n",
    "    if is_iterable(curr_item):\n",
    "        for item in curr_item:\n",
    "            yield from flatten_gen(item)\n",
    "    else:\n",
    "        yield curr_item\n",
    "\n",
    "flattened_list = flatten_gen(l)\n",
    "\n",
    "print(flattened_list)\n",
    "print(list(flattened_list))\n",
    "\n",
    "flattened_iter = flatten_gen(l)\n",
    "print(flattened_iter)\n",
    "print(list(flattened_iter))"
   ]
  },
  {
   "cell_type": "code",
   "execution_count": 9,
   "metadata": {},
   "outputs": [
    {
     "name": "stdout",
     "output_type": "stream",
     "text": [
      "hello\n",
      "sub gen got the exception\n"
     ]
    },
    {
     "ename": "StopIteration",
     "evalue": "",
     "output_type": "error",
     "traceback": [
      "\u001b[0;31m---------------------------------------------------------------------------\u001b[0m",
      "\u001b[0;31mStopIteration\u001b[0m                             Traceback (most recent call last)",
      "\u001b[1;32m/Users/crestr25/Dev/Study-Archives/Python/Udemy/Deep Dive/Coroutines Generators/Generator_Coroutines.ipynb Cell 29\u001b[0m in \u001b[0;36m<cell line: 19>\u001b[0;34m()\u001b[0m\n\u001b[1;32m     <a href='vscode-notebook-cell:/Users/crestr25/Dev/Study-Archives/Python/Udemy/Deep%20Dive/Coroutines%20Generators/Generator_Coroutines.ipynb#X41sZmlsZQ%3D%3D?line=16'>17</a>\u001b[0m \u001b[39mnext\u001b[39m(d)\n\u001b[1;32m     <a href='vscode-notebook-cell:/Users/crestr25/Dev/Study-Archives/Python/Udemy/Deep%20Dive/Coroutines%20Generators/Generator_Coroutines.ipynb#X41sZmlsZQ%3D%3D?line=17'>18</a>\u001b[0m d\u001b[39m.\u001b[39msend(\u001b[39m\"\u001b[39m\u001b[39mhello\u001b[39m\u001b[39m\"\u001b[39m)\n\u001b[0;32m---> <a href='vscode-notebook-cell:/Users/crestr25/Dev/Study-Archives/Python/Udemy/Deep%20Dive/Coroutines%20Generators/Generator_Coroutines.ipynb#X41sZmlsZQ%3D%3D?line=18'>19</a>\u001b[0m d\u001b[39m.\u001b[39;49mthrow(\u001b[39mZeroDivisionError\u001b[39;49;00m)\n",
      "\u001b[0;31mStopIteration\u001b[0m: "
     ]
    }
   ],
   "source": [
    "def echo():\n",
    "    try:\n",
    "        while True:\n",
    "            result = yield\n",
    "            print(result)\n",
    "    except ZeroDivisionError:\n",
    "        print(\"sub gen got the exception\")\n",
    "\n",
    "def delegator():\n",
    "    try:\n",
    "        yield from echo()\n",
    "    except ValueError: # exceptions first get sent to the delegator and if it does not handle it\n",
    "        # They get propagated to the subgenerator\n",
    "        print(\"delegator got the value error\")\n",
    "\n",
    "d = delegator()\n",
    "next(d)\n",
    "d.send(\"hello\")\n",
    "d.throw(ZeroDivisionError)"
   ]
  },
  {
   "cell_type": "code",
   "execution_count": 10,
   "metadata": {},
   "outputs": [
    {
     "name": "stdout",
     "output_type": "stream",
     "text": [
      "hello\n",
      "delegator got the value error\n"
     ]
    },
    {
     "ename": "StopIteration",
     "evalue": "",
     "output_type": "error",
     "traceback": [
      "\u001b[0;31m---------------------------------------------------------------------------\u001b[0m",
      "\u001b[0;31mStopIteration\u001b[0m                             Traceback (most recent call last)",
      "\u001b[1;32m/Users/crestr25/Dev/Study-Archives/Python/Udemy/Deep Dive/Coroutines Generators/Generator_Coroutines.ipynb Cell 30\u001b[0m in \u001b[0;36m<cell line: 19>\u001b[0;34m()\u001b[0m\n\u001b[1;32m     <a href='vscode-notebook-cell:/Users/crestr25/Dev/Study-Archives/Python/Udemy/Deep%20Dive/Coroutines%20Generators/Generator_Coroutines.ipynb#X42sZmlsZQ%3D%3D?line=16'>17</a>\u001b[0m \u001b[39mnext\u001b[39m(d)\n\u001b[1;32m     <a href='vscode-notebook-cell:/Users/crestr25/Dev/Study-Archives/Python/Udemy/Deep%20Dive/Coroutines%20Generators/Generator_Coroutines.ipynb#X42sZmlsZQ%3D%3D?line=17'>18</a>\u001b[0m d\u001b[39m.\u001b[39msend(\u001b[39m\"\u001b[39m\u001b[39mhello\u001b[39m\u001b[39m\"\u001b[39m)\n\u001b[0;32m---> <a href='vscode-notebook-cell:/Users/crestr25/Dev/Study-Archives/Python/Udemy/Deep%20Dive/Coroutines%20Generators/Generator_Coroutines.ipynb#X42sZmlsZQ%3D%3D?line=18'>19</a>\u001b[0m d\u001b[39m.\u001b[39;49mthrow(\u001b[39mValueError\u001b[39;49;00m)\n",
      "\u001b[0;31mStopIteration\u001b[0m: "
     ]
    }
   ],
   "source": [
    "def echo():\n",
    "    try:\n",
    "        while True:\n",
    "            result = yield\n",
    "            print(result)\n",
    "    except ZeroDivisionError:\n",
    "        print(\"sub gen got the exception\")\n",
    "\n",
    "def delegator():\n",
    "    try:\n",
    "        yield from echo()\n",
    "    except ValueError: # exceptions first get sent to the delegator and if it does not handle it\n",
    "        # They get propagated to the subgenerator\n",
    "        print(\"delegator got the value error\")\n",
    "\n",
    "d = delegator()\n",
    "next(d)\n",
    "d.send(\"hello\")\n",
    "d.throw(ValueError)"
   ]
  },
  {
   "cell_type": "code",
   "execution_count": 6,
   "metadata": {},
   "outputs": [
    {
     "name": "stdout",
     "output_type": "stream",
     "text": [
      "hello world\n",
      "I'm ignoring you!!!\n",
      "hello world again\n"
     ]
    },
    {
     "data": {
      "text/plain": [
       "('subgen closed and returned', 'coroutine was closed')"
      ]
     },
     "execution_count": 6,
     "metadata": {},
     "output_type": "execute_result"
    }
   ],
   "source": [
    "class CloseCoroutine(Exception):\n",
    "    pass\n",
    "\n",
    "class IgnoreMe(Exception):\n",
    "    pass\n",
    "\n",
    "def echo():\n",
    "    try:\n",
    "        while True:\n",
    "            try:\n",
    "                received = yield\n",
    "                print(received)\n",
    "            except IgnoreMe:\n",
    "                yield \"I'm ignoring you!!!\"\n",
    "    except CloseCoroutine:\n",
    "        return 'coroutine was closed'\n",
    "    except GeneratorExit:\n",
    "        # if we call close then no exception is thrown, however if we throw the GeneratorExit\n",
    "        # then a StopIteration get's raised and not silenced by python\n",
    "        print('closed method was called/or GeneratorExit thrown')\n",
    "\n",
    "def delegator():\n",
    "    result = yield from echo()\n",
    "    yield 'subgen closed and returned', result\n",
    "    print('delegator closing...')\n",
    "\n",
    "# create the delegator\n",
    "d = delegator()\n",
    "# Prime the delegator\n",
    "next(d)\n",
    "# test it\n",
    "d.send(\"hello world\")\n",
    "# if we throw the IgnoreMe exception\n",
    "result = d.throw(IgnoreMe)\n",
    "print(result)\n",
    "next(d) # we need to send next because it is waiting at the yield in the IgnoreMe Exception\n",
    "d.send(\"hello world again\")\n",
    "# if we throw the CloseCoroutine we get the message\n",
    "d.throw(CloseCoroutine)\n"
   ]
  },
  {
   "cell_type": "markdown",
   "metadata": {},
   "source": [
    "## Application Pipelines"
   ]
  },
  {
   "cell_type": "code",
   "execution_count": 18,
   "metadata": {},
   "outputs": [
    {
     "name": "stdout",
     "output_type": "stream",
     "text": [
      "['Chevrolet Impala', '14.0', '8', '454.0', '220.0', '4354.', '9.0', '70', 'US']\n",
      "['Chevrolet Impala', '14.0', '8', '350.0', '165.0', '4209.', '12.0', '71', 'US']\n",
      "['Chevrolet Impala', '13.0', '8', '350.0', '165.0', '4274.', '12.0', '72', 'US']\n",
      "['Chevrolet Impala', '11.0', '8', '400.0', '150.0', '4997.', '14.0', '73', 'US']\n"
     ]
    }
   ],
   "source": [
    "import csv\n",
    "\n",
    "def parse_data(f_name):\n",
    "    with open(f_name) as f:\n",
    "        dialect = csv.Sniffer().sniff(f.read(2000))\n",
    "        f.seek(0)\n",
    "        next(f)\n",
    "        yield from csv.reader(f, dialect=dialect)\n",
    "\n",
    "def filter_data(rows, contains):\n",
    "    for row in rows:\n",
    "        if contains in row[0]:\n",
    "            yield row\n",
    "\n",
    "def output(f_name, *filter_words):\n",
    "    data = parse_data(f_name)\n",
    "    for filter_word in filter_words:\n",
    "        data = filter_data(data, filter_word)\n",
    "    yield from data\n",
    "\n",
    "pipeline = output(\"cars.csv\", \"Chevrolet\", \"Impala\")\n",
    "\n",
    "for row in pipeline:\n",
    "    print(row)"
   ]
  },
  {
   "cell_type": "code",
   "execution_count": 21,
   "metadata": {},
   "outputs": [
    {
     "name": "stdout",
     "output_type": "stream",
     "text": [
      "0.0\n",
      "4.0\n",
      "16.0\n",
      "36.0\n",
      "64.0\n"
     ]
    }
   ],
   "source": [
    "import math\n",
    "\n",
    "def coroutine(coro):\n",
    "    def inner(*args, **kwargs):\n",
    "        gen = coro(*args, **kwargs)\n",
    "        next(gen)\n",
    "        return gen\n",
    "    return inner\n",
    "\n",
    "@coroutine\n",
    "def handle_data():\n",
    "    while True:\n",
    "        received = yield\n",
    "        print(received)\n",
    "\n",
    "@coroutine\n",
    "def power_up(n, next_gen):\n",
    "    while True:\n",
    "        received = yield\n",
    "        output = math.pow(received, n)\n",
    "        next_gen.send(output)\n",
    "\n",
    "@coroutine\n",
    "def filter_even(next_gen):\n",
    "    while True:\n",
    "        received = yield\n",
    "        if received % 2 == 0:\n",
    "            next_gen.send(received)\n",
    "\n",
    "print_data = handle_data()\n",
    "filtered_data = filter_even(print_data)\n",
    "gen = power_up(2, filtered_data)\n",
    "\n",
    "for i in range(10):\n",
    "    gen.send(i)"
   ]
  },
  {
   "cell_type": "code",
   "execution_count": 31,
   "metadata": {},
   "outputs": [],
   "source": [
    "import csv\n",
    "\n",
    "def data_reader(f_name):\n",
    "    with open(f_name) as f:\n",
    "        dialect = csv.Sniffer().sniff(f.read(2000))\n",
    "        f.seek(0)\n",
    "        yield from csv.reader(f, dialect=dialect)\n",
    "\n",
    "def coroutine(coro):\n",
    "    def inner(*args, **kwargs):\n",
    "        gen = coro(*args, **kwargs)\n",
    "        next(gen)\n",
    "        return gen\n",
    "    return inner\n",
    "\n",
    "input_file = 'car_data.csv'\n",
    "idx_make = 0\n",
    "idx_model = 1\n",
    "idx_year = 2\n",
    "idx_vin = 3\n",
    "idx_color = 4\n",
    "\n",
    "headers = ('make', 'model', 'year', 'vin', 'color')\n",
    "converters = (str, str, int, str, str)\n",
    "\n",
    "def data_parser():\n",
    "    data = data_reader(input_file)\n",
    "    next(data)\n",
    "    for row in data:\n",
    "        parsed_row = [converter(item) for converter, item in zip(converters, row)]\n",
    "        yield parsed_row\n",
    "\n",
    "@coroutine\n",
    "def save_data(f_name, headers):\n",
    "    with open(f_name, newline=\"\", mode=\"w\") as f:\n",
    "        writer = csv.writer(f)\n",
    "        writer.writerow(headers)\n",
    "        while True:\n",
    "            data_row = yield\n",
    "            writer.writerow(data_row)\n",
    "\n",
    "@coroutine\n",
    "def filter_data(filter_predicate, target):\n",
    "    while True:\n",
    "        data_row = yield\n",
    "        if filter_predicate(data_row):\n",
    "            target.send(data_row)\n",
    "\n",
    "@coroutine\n",
    "def broadcast(targets):\n",
    "    while True:\n",
    "        data_row = yield\n",
    "        for target in targets:\n",
    "            target.send(data_row)\n",
    "\n",
    "@coroutine\n",
    "def pipeline_coro():\n",
    "    out_pink = save_data(\"pink_cars.csv\", headers)\n",
    "    out_green_ford = save_data('ford_green.csv', headers)\n",
    "    out_older = save_data('older.csv', headers)\n",
    "\n",
    "    filter_pink_cars = filter_data(lambda d: d[idx_color].lower() == 'pink', out_pink)\n",
    "\n",
    "    def pred_ford_green(d):\n",
    "        return (d[idx_make].lower() == 'ford' and d[idx_color].lower() == 'green')\n",
    "    filter_green_ford = filter_data(pred_ford_green, out_green_ford)\n",
    "\n",
    "    filter_old = filter_data(lambda d: d[idx_year] <= 2010, out_older)\n",
    "\n",
    "    filters = (filter_pink_cars, filter_green_ford, filter_old)\n",
    "\n",
    "    broadcaster = broadcast(filters)\n",
    "\n",
    "    while True:\n",
    "        row = yield\n",
    "        broadcaster.send(row)\n",
    "\n",
    "from contextlib import contextmanager\n",
    "\n",
    "@contextmanager\n",
    "def pipeline():\n",
    "    pipe = pipeline_coro()\n",
    "    try:\n",
    "        yield pipe\n",
    "    finally:\n",
    "        pipe.close()\n",
    "\n",
    "with pipeline() as pipe:\n",
    "    data = data_parser()\n",
    "    for row in data:\n",
    "        pipe.send(row)"
   ]
  },
  {
   "cell_type": "markdown",
   "metadata": {},
   "source": [
    "# Exercise"
   ]
  },
  {
   "cell_type": "markdown",
   "metadata": {},
   "source": [
    "## Goal 1"
   ]
  },
  {
   "cell_type": "markdown",
   "metadata": {},
   "source": [
    "The goal of this project is to rewrite the pull pipeline we created in the **Application - Pipelines - Pulling** video in the **Generators as Coroutines** section.\n",
    "\n",
    "You should look at the techniques we used in the **Application - Pipelines - Broadcasting** video and apply them here.\n",
    "\n",
    "The goal is to write a pipeline that will push data from the source file, `cars.csv`, and push it through some filters and a save coroutine to ultimately save the results as a csv file.\n",
    "\n",
    "Try to make your code as generic as possible, and don't worry about column headers in the output file (unless you really want to!).\n",
    "\n",
    "When you are done with your solution you should be able to specify an arbitrary number of filters on the name field.\n",
    "\n",
    "If you specify `Chevrolet`, `Carlo` and `Landau` for three filters, your output file should contain two lines of data only:\n",
    "\n",
    "```\n",
    "Chevrolet Monte Carlo Landau,15.5,8,350.0,170.0,4165.,11.4,77,US\n",
    "Chevrolet Monte Carlo Landau,19.2,8,305.0,145.0,3425.,13.2,78,US\n",
    "```"
   ]
  },
  {
   "cell_type": "code",
   "execution_count": 28,
   "metadata": {},
   "outputs": [],
   "source": [
    "import csv\n",
    "\n",
    "def parse_data(f_name):\n",
    "    f = open(f_name)\n",
    "    try:\n",
    "        dialect = csv.Sniffer().sniff(f.read(2000))\n",
    "        f.seek(0)\n",
    "        next(f)  # skip header row\n",
    "        yield from csv.reader(f, dialect=dialect)\n",
    "    finally:\n",
    "        f.close()\n",
    "\n",
    "def coroutine(fn):\n",
    "    def inner(*args, **kwargs):\n",
    "        coro = fn(*args, **kwargs)\n",
    "        next(coro)\n",
    "        return coro\n",
    "    return inner\n",
    "\n",
    "@coroutine\n",
    "def save_csv(f_name):\n",
    "    with open(f_name, 'w', newline='') as f:\n",
    "        writer = csv.writer(f)\n",
    "        while True:\n",
    "            row = yield\n",
    "            writer.writerow(row)\n",
    "\n",
    "@coroutine\n",
    "def filter_data(filter_pred, target):\n",
    "    while True:\n",
    "        row = yield\n",
    "        if filter_pred(row):\n",
    "            target.send(row)\n",
    "\n",
    "@coroutine\n",
    "def pipeline_coro(out_file, name_filters):\n",
    "    save = save_csv(out_file)\n",
    "    \n",
    "    target = save\n",
    "    for name_filter in name_filters:\n",
    "        target = filter_data(lambda d, v=name_filter: v in d[0], target)\n",
    "        # warning: we have to use the trick above because\n",
    "        # lambdas are actually closures and the free variable name_filter\n",
    "        # is a shared free variable - we have seen this problem before!\n",
    "    while True:\n",
    "        received = yield\n",
    "        target.send(received)\n",
    "\n",
    "\n",
    "from contextlib import contextmanager\n",
    "\n",
    "@contextmanager\n",
    "def pipeline(out_file, name_filters):\n",
    "    p = pipeline_coro(out_file, name_filters)\n",
    "    try:\n",
    "        yield p\n",
    "    finally:\n",
    "        p.close()\n",
    "\n",
    "with pipeline('out.csv', ('Chevrolet', 'Landau', 'Carlo')) as p:\n",
    "    for row in parse_data('cars.csv'):\n",
    "        p.send(row)"
   ]
  }
 ],
 "metadata": {
  "kernelspec": {
   "display_name": "Python 3.10.4 64-bit ('3.10.4')",
   "language": "python",
   "name": "python3"
  },
  "language_info": {
   "codemirror_mode": {
    "name": "ipython",
    "version": 3
   },
   "file_extension": ".py",
   "mimetype": "text/x-python",
   "name": "python",
   "nbconvert_exporter": "python",
   "pygments_lexer": "ipython3",
   "version": "3.10.4"
  },
  "orig_nbformat": 4,
  "vscode": {
   "interpreter": {
    "hash": "2fdca24a4758abedd58d89beec3a8b64b5a66383ee0e2246c58baa128030a261"
   }
  }
 },
 "nbformat": 4,
 "nbformat_minor": 2
}
