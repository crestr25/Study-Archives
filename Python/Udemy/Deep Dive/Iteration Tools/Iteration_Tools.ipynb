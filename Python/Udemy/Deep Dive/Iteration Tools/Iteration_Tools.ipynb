{
 "cells": [
  {
   "cell_type": "markdown",
   "metadata": {},
   "source": [
    "# Iteration Tools"
   ]
  },
  {
   "cell_type": "markdown",
   "metadata": {},
   "source": [
    "## Aggregators"
   ]
  },
  {
   "cell_type": "markdown",
   "metadata": {},
   "source": [
    "They are functions that iterate through an iterable object and return a single value that usually takes into account every element of the iterable   \n",
    "\n",
    "We have some aggregators built-in in Python.\n",
    "- Min, minimun of the iterator.\n",
    "- Max, maximum of the iterator.\n",
    "- Sum, sum of all elements in the iterator."
   ]
  },
  {
   "cell_type": "code",
   "execution_count": 5,
   "metadata": {},
   "outputs": [
    {
     "name": "stdout",
     "output_type": "stream",
     "text": [
      "we have a generator function squares: <function squares at 0x10e961870>\n",
      "Min of squares(5): 0\n",
      "Max of squares(5): 16\n",
      "Sum of squares(5): 30\n"
     ]
    }
   ],
   "source": [
    "def squares(n):\n",
    "    for i in range(n):\n",
    "        yield i**2\n",
    "\n",
    "# Remember that the functions iterate through the iterator that means that if we instantiate it once\n",
    "# it will get exhausted (generator / iterator)\n",
    "\n",
    "print(f'we have a generator function squares: {squares}')\n",
    "print(f\"Min of squares(5): {min(squares(5))}\")\n",
    "print(f\"Max of squares(5): {max(squares(5))}\")\n",
    "print(f\"Sum of squares(5): {sum(squares(5))}\")"
   ]
  },
  {
   "cell_type": "code",
   "execution_count": 8,
   "metadata": {},
   "outputs": [
    {
     "name": "stdout",
     "output_type": "stream",
     "text": [
      "---- BOOL ----\n",
      "bool(0) - > False\n",
      "bool(10) - > True\n",
      "bool(0.0) - > False\n",
      "bool(10.0) - > True\n",
      "bool('') - > False\n",
      "bool('holi') - > True\n",
      "bool([]) - > False\n",
      "bool([False]) - > True\n",
      "squares generator sq -> <generator object squares at 0x10e9c0900>\n",
      "min value for sq, 0\n",
      "bool(sq) it is exhausted now, True\n"
     ]
    }
   ],
   "source": [
    "# We can also review the bool function and the __bool__ method for objects.\n",
    "print(\"---- BOOL ----\")\n",
    "print(f\"bool(0) - > {bool(0)}\")\n",
    "print(f\"bool(10) - > {bool(10)}\")\n",
    "print(f\"bool(0.0) - > {bool(0.0)}\")\n",
    "print(f\"bool(10.0) - > {bool(10.0)}\")\n",
    "print(f\"bool('') - > {bool('')}\")\n",
    "print(f\"bool('holi') - > {bool('holi')}\")\n",
    "print(f\"bool([]) - > {bool([])}\")\n",
    "print(f\"bool([False]) - > {bool([False])}\")\n",
    "\n",
    "# Let's now verify what happens to a generator.\n",
    "def squares(n):\n",
    "    for i in range(n):\n",
    "        yield i**2\n",
    "\n",
    "sq = squares(3)\n",
    "print(f'squares generator sq -> {sq}')\n",
    "print(f'min value for sq, {min(sq)}')\n",
    "print(f\"bool(sq) it is exhausted now, {bool(sq)}\") # it is true."
   ]
  },
  {
   "cell_type": "markdown",
   "metadata": {},
   "source": [
    "python for evaluating the `bool` function searches for two things.\n",
    "- `__bool__` is defined.\n",
    "- `__len__` is defined, for True if len > 0\n",
    "- if nothing is defined the True"
   ]
  },
  {
   "cell_type": "code",
   "execution_count": 11,
   "metadata": {},
   "outputs": [
    {
     "name": "stdout",
     "output_type": "stream",
     "text": [
      "bool(PersonAlone) -> True\n",
      "bool(PersonBool) -> False\n",
      "bool(PersonLen) -> False\n",
      "bool(PersonBoth) -> True\n"
     ]
    }
   ],
   "source": [
    "class PersonAlone:\n",
    "    pass\n",
    "\n",
    "class PersonBool:\n",
    "    def __bool__(self):\n",
    "        return False\n",
    "\n",
    "class PersonLen:\n",
    "    def __len__(self):\n",
    "        return 0\n",
    "\n",
    "class PersonBoth:\n",
    "    def __bool__(self):\n",
    "        return True\n",
    "\n",
    "    def __len__(self):\n",
    "        return 0\n",
    "\n",
    "print(f\"bool(PersonAlone) -> {bool(PersonAlone())}\")\n",
    "print(f\"bool(PersonBool) -> {bool(PersonBool())}\")\n",
    "print(f\"bool(PersonLen) -> {bool(PersonLen())}\")\n",
    "print(f\"bool(PersonBoth) -> {bool(PersonBoth())}\")\n",
    "\n",
    "# This is why is important to define the __len__ method for our custom sequences/iterators since this will\n",
    "# help with the truth value"
   ]
  },
  {
   "cell_type": "markdown",
   "metadata": {},
   "source": [
    "We have two functions `any` and `all` that help us verify the truthynes(*?) of all values in an iterable.\n",
    "- `any` tests for a truthy value in our iterable and returns `True` if found. (similar to or)\n",
    "- `all` tests for all values in our iterable to be Truthy and return `True`. (similar to and)"
   ]
  },
  {
   "cell_type": "code",
   "execution_count": 47,
   "metadata": {},
   "outputs": [
    {
     "name": "stdout",
     "output_type": "stream",
     "text": [
      "---- ANY ----\n",
      "any for l1: [1, 0, 1] -> True\n",
      "any for gen1: <generator object <genexpr> at 0x10eab1e70> -> False\n",
      "---- ALL ----\n",
      "all for l1: [1, 0, 1] -> False\n",
      "all for gen1: <generator object <genexpr> at 0x10eab1e70> -> True\n",
      "---- USAGE ----\n",
      "is every element of l1: [1, 3, 7.5, 8.9] a number -> True\n",
      "is every element of l2: [1, 3, 7.5, 8.9] a number -> False\n",
      "---- USAGE WITH FILE ----\n",
      "all car manufacturers are at least 3 char long -> True\n",
      "any car manufacturers longer than 10 chars -> True\n"
     ]
    }
   ],
   "source": [
    "l1 = [1, 0, (1)]\n",
    "# generator\n",
    "gen1 = (i for i in range(5))\n",
    "# Exhaust generator\n",
    "max(gen1)\n",
    "\n",
    "\n",
    "print(\"---- ANY ----\")\n",
    "print(f'any for l1: {l1} -> {any(l1)}')\n",
    "print(f'any for gen1: {gen1} -> {any(gen1)}')\n",
    "\n",
    "print(\"---- ALL ----\")\n",
    "print(f'all for l1: {l1} -> {all(l1)}')\n",
    "print(f'all for gen1: {gen1} -> {all(gen1)}')\n",
    "\n",
    "print(\"---- USAGE ----\")\n",
    "# We can use all and any to verify a condition that is expected in \n",
    "# all values for our iterable.\n",
    "\n",
    "# we can use what are called predicates (functions that receive a value and evaluate to a bool)\n",
    "from numbers import Number\n",
    "\n",
    "l1 = [1, 3, 7.5, 8.9]\n",
    "l2 = [1, 3, '7.4', 8]\n",
    "print(f\"is every element of l1: {l1} a number -> {all(map(lambda x: isinstance(x, Number), l1))}\")\n",
    "print(f\"is every element of l2: {l1} a number -> {all(map(lambda x: isinstance(x, Number), l2))}\")\n",
    "\n",
    "print(\"---- USAGE WITH FILE ----\")\n",
    "\n",
    "# validate every manufacturer is at least 3 characters long\n",
    "with open('car-brands.txt') as file:\n",
    "    print(f\"all car manufacturers are at least 3 char long -> {all(map(lambda x: len(x) >= 4, file))}\")\n",
    "\n",
    "with open('car-brands.txt') as file:\n",
    "    print(f\"any car manufacturers longer than 10 chars -> {any(len(row) > 10 for row in file)}\")\n"
   ]
  },
  {
   "cell_type": "markdown",
   "metadata": {},
   "source": []
  }
 ],
 "metadata": {
  "kernelspec": {
   "display_name": "Python 3.10.4 64-bit ('3.10.4')",
   "language": "python",
   "name": "python3"
  },
  "language_info": {
   "codemirror_mode": {
    "name": "ipython",
    "version": 3
   },
   "file_extension": ".py",
   "mimetype": "text/x-python",
   "name": "python",
   "nbconvert_exporter": "python",
   "pygments_lexer": "ipython3",
   "version": "3.10.4"
  },
  "orig_nbformat": 4,
  "vscode": {
   "interpreter": {
    "hash": "2fdca24a4758abedd58d89beec3a8b64b5a66383ee0e2246c58baa128030a261"
   }
  }
 },
 "nbformat": 4,
 "nbformat_minor": 2
}
