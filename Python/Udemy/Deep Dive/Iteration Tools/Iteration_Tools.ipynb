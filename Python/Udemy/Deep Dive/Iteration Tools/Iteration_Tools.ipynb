{
 "cells": [
  {
   "cell_type": "markdown",
   "metadata": {},
   "source": [
    "# Iteration Tools"
   ]
  },
  {
   "cell_type": "markdown",
   "metadata": {},
   "source": [
    "## Aggregators"
   ]
  },
  {
   "cell_type": "markdown",
   "metadata": {},
   "source": [
    "They are functions that iterate through an iterable object and return a single value that usually takes into account every element of the iterable   \n",
    "\n",
    "We have some aggregators built-in in Python.\n",
    "- Min, minimun of the iterator.\n",
    "- Max, maximum of the iterator.\n",
    "- Sum, sum of all elements in the iterator."
   ]
  },
  {
   "cell_type": "code",
   "execution_count": 5,
   "metadata": {},
   "outputs": [
    {
     "name": "stdout",
     "output_type": "stream",
     "text": [
      "we have a generator function squares: <function squares at 0x10e961870>\n",
      "Min of squares(5): 0\n",
      "Max of squares(5): 16\n",
      "Sum of squares(5): 30\n"
     ]
    }
   ],
   "source": [
    "def squares(n):\n",
    "    for i in range(n):\n",
    "        yield i**2\n",
    "\n",
    "# Remember that the functions iterate through the iterator that means that if we instantiate it once\n",
    "# it will get exhausted (generator / iterator)\n",
    "\n",
    "print(f'we have a generator function squares: {squares}')\n",
    "print(f\"Min of squares(5): {min(squares(5))}\")\n",
    "print(f\"Max of squares(5): {max(squares(5))}\")\n",
    "print(f\"Sum of squares(5): {sum(squares(5))}\")"
   ]
  },
  {
   "cell_type": "code",
   "execution_count": 8,
   "metadata": {},
   "outputs": [
    {
     "name": "stdout",
     "output_type": "stream",
     "text": [
      "---- BOOL ----\n",
      "bool(0) - > False\n",
      "bool(10) - > True\n",
      "bool(0.0) - > False\n",
      "bool(10.0) - > True\n",
      "bool('') - > False\n",
      "bool('holi') - > True\n",
      "bool([]) - > False\n",
      "bool([False]) - > True\n",
      "squares generator sq -> <generator object squares at 0x10e9c0900>\n",
      "min value for sq, 0\n",
      "bool(sq) it is exhausted now, True\n"
     ]
    }
   ],
   "source": [
    "# We can also review the bool function and the __bool__ method for objects.\n",
    "print(\"---- BOOL ----\")\n",
    "print(f\"bool(0) - > {bool(0)}\")\n",
    "print(f\"bool(10) - > {bool(10)}\")\n",
    "print(f\"bool(0.0) - > {bool(0.0)}\")\n",
    "print(f\"bool(10.0) - > {bool(10.0)}\")\n",
    "print(f\"bool('') - > {bool('')}\")\n",
    "print(f\"bool('holi') - > {bool('holi')}\")\n",
    "print(f\"bool([]) - > {bool([])}\")\n",
    "print(f\"bool([False]) - > {bool([False])}\")\n",
    "\n",
    "# Let's now verify what happens to a generator.\n",
    "def squares(n):\n",
    "    for i in range(n):\n",
    "        yield i**2\n",
    "\n",
    "sq = squares(3)\n",
    "print(f'squares generator sq -> {sq}')\n",
    "print(f'min value for sq, {min(sq)}')\n",
    "print(f\"bool(sq) it is exhausted now, {bool(sq)}\") # it is true."
   ]
  },
  {
   "cell_type": "markdown",
   "metadata": {},
   "source": [
    "python for evaluating the `bool` function searches for two things.\n",
    "- `__bool__` is defined.\n",
    "- `__len__` is defined, for True if len > 0\n",
    "- if nothing is defined the True"
   ]
  },
  {
   "cell_type": "code",
   "execution_count": 11,
   "metadata": {},
   "outputs": [
    {
     "name": "stdout",
     "output_type": "stream",
     "text": [
      "bool(PersonAlone) -> True\n",
      "bool(PersonBool) -> False\n",
      "bool(PersonLen) -> False\n",
      "bool(PersonBoth) -> True\n"
     ]
    }
   ],
   "source": [
    "class PersonAlone:\n",
    "    pass\n",
    "\n",
    "class PersonBool:\n",
    "    def __bool__(self):\n",
    "        return False\n",
    "\n",
    "class PersonLen:\n",
    "    def __len__(self):\n",
    "        return 0\n",
    "\n",
    "class PersonBoth:\n",
    "    def __bool__(self):\n",
    "        return True\n",
    "\n",
    "    def __len__(self):\n",
    "        return 0\n",
    "\n",
    "print(f\"bool(PersonAlone) -> {bool(PersonAlone())}\")\n",
    "print(f\"bool(PersonBool) -> {bool(PersonBool())}\")\n",
    "print(f\"bool(PersonLen) -> {bool(PersonLen())}\")\n",
    "print(f\"bool(PersonBoth) -> {bool(PersonBoth())}\")\n",
    "\n",
    "# This is why is important to define the __len__ method for our custom sequences/iterators since this will\n",
    "# help with the truth value"
   ]
  },
  {
   "cell_type": "markdown",
   "metadata": {},
   "source": [
    "We have two functions `any` and `all` that help us verify the truthynes(*?) of all values in an iterable.\n",
    "- `any` tests for a truthy value in our iterable and returns `True` if found. (similar to or)\n",
    "- `all` tests for all values in our iterable to be Truthy and return `True`. (similar to and)"
   ]
  },
  {
   "cell_type": "code",
   "execution_count": 47,
   "metadata": {},
   "outputs": [
    {
     "name": "stdout",
     "output_type": "stream",
     "text": [
      "---- ANY ----\n",
      "any for l1: [1, 0, 1] -> True\n",
      "any for gen1: <generator object <genexpr> at 0x10eab1e70> -> False\n",
      "---- ALL ----\n",
      "all for l1: [1, 0, 1] -> False\n",
      "all for gen1: <generator object <genexpr> at 0x10eab1e70> -> True\n",
      "---- USAGE ----\n",
      "is every element of l1: [1, 3, 7.5, 8.9] a number -> True\n",
      "is every element of l2: [1, 3, 7.5, 8.9] a number -> False\n",
      "---- USAGE WITH FILE ----\n",
      "all car manufacturers are at least 3 char long -> True\n",
      "any car manufacturers longer than 10 chars -> True\n"
     ]
    }
   ],
   "source": [
    "l1 = [1, 0, (1)]\n",
    "# generator\n",
    "gen1 = (i for i in range(5))\n",
    "# Exhaust generator\n",
    "max(gen1)\n",
    "\n",
    "\n",
    "print(\"---- ANY ----\")\n",
    "print(f'any for l1: {l1} -> {any(l1)}')\n",
    "print(f'any for gen1: {gen1} -> {any(gen1)}')\n",
    "\n",
    "print(\"---- ALL ----\")\n",
    "print(f'all for l1: {l1} -> {all(l1)}')\n",
    "print(f'all for gen1: {gen1} -> {all(gen1)}')\n",
    "\n",
    "print(\"---- USAGE ----\")\n",
    "# We can use all and any to verify a condition that is expected in \n",
    "# all values for our iterable.\n",
    "\n",
    "# we can use what are called predicates (functions that receive a value and evaluate to a bool)\n",
    "from numbers import Number\n",
    "\n",
    "l1 = [1, 3, 7.5, 8.9]\n",
    "l2 = [1, 3, '7.4', 8]\n",
    "print(f\"is every element of l1: {l1} a number -> {all(map(lambda x: isinstance(x, Number), l1))}\")\n",
    "print(f\"is every element of l2: {l1} a number -> {all(map(lambda x: isinstance(x, Number), l2))}\")\n",
    "\n",
    "print(\"---- USAGE WITH FILE ----\")\n",
    "\n",
    "# validate every manufacturer is at least 3 characters long\n",
    "with open('car-brands.txt') as file:\n",
    "    print(f\"all car manufacturers are at least 3 char long -> {all(map(lambda x: len(x) >= 4, file))}\")\n",
    "\n",
    "with open('car-brands.txt') as file:\n",
    "    print(f\"any car manufacturers longer than 10 chars -> {any(len(row) > 10 for row in file)}\")\n"
   ]
  },
  {
   "cell_type": "markdown",
   "metadata": {},
   "source": [
    "## Slicing Iterables"
   ]
  },
  {
   "cell_type": "markdown",
   "metadata": {},
   "source": [
    "we can also slice iterables (not just sequences) by using the `itertools.islice`\n",
    "- it takes the following parameters `islice(iterable, start, stop, step)`.\n",
    "- Just like regular slice the stop parameter is non inclusive.\n",
    "- It returns a lazy iterator.\n",
    "- When slicing iterators remember that the object get exhausted with every call to next(), that\n",
    "could lead to potential issues if not handled correctly."
   ]
  },
  {
   "cell_type": "code",
   "execution_count": 15,
   "metadata": {},
   "outputs": [
    {
     "name": "stdout",
     "output_type": "stream",
     "text": [
      "---- MY SLICE FUN ----\n",
      "factorial generator expression: <generator object factorials at 0x11a348510> sliced: factorials[0:10] -> [1, 1, 2, 6, 24, 120, 720, 5040, 40320, 362880]\n",
      "factorial generator expression: <generator object factorials at 0x11a348580> sliced: factorials[6:8] -> [720, 5040]\n",
      "slice_(factorial(10), 0, 10) is of type -> <generator object slice_ at 0x11a348580>\n",
      "---- ITERTOOLS ----\n",
      "factorial generator expression: <generator object factorials at 0x11a348580> sliced: factorials[0:10] -> [1, 1, 2, 6, 24, 120, 720, 5040, 40320, 362880]\n",
      "factorial generator expression: <generator object factorials at 0x11a348580> sliced: factorials[6:8] -> [720, 5040]\n",
      "factorial generator expression: <generator object factorials at 0x11a348580> sliced: factorials[0:10:2] -> [1, 2, 24, 720, 40320]\n",
      "itertools.islice(factorial(10), 0, 10) is of type -> <itertools.islice object at 0x1135529d0>\n",
      "---- CAVEATS ----\n",
      "f1_slice(f1, 0, 20) after exhausting some values from generator -> [3628800, 39916800, 479001600, 6227020800, 87178291200, 1307674368000, 20922789888000, 355687428096000, 6402373705728000, 121645100408832000]\n"
     ]
    }
   ],
   "source": [
    "import itertools\n",
    "import math\n",
    "\n",
    "def factorials(n):\n",
    "    for i in range(n):\n",
    "        yield math.factorial(i)\n",
    "\n",
    "def slice_(iterable, start, stop):\n",
    "    for _ in range(0, start):\n",
    "        next(iterable) # we remove the non wanted values from the iter.\n",
    "    for _ in range(start, stop):\n",
    "        yield next(iterable)\n",
    "\n",
    "print(\"---- MY SLICE FUN ----\")\n",
    "\n",
    "print(f\"factorial generator expression: {factorials(10)} sliced: factorials[0:10] -> {list(slice_(factorials(10), 0, 10))}\")\n",
    "print(f\"factorial generator expression: {factorials(10)} sliced: factorials[6:8] -> {list(slice_(factorials(10), 6, 8))}\")\n",
    "print(f\"slice_(factorial(10), 0, 10) is of type -> {slice_(factorials(10), 0, 10)}\")\n",
    "\n",
    "print(\"---- ITERTOOLS ----\")\n",
    "\n",
    "print(f\"factorial generator expression: {factorials(10)} sliced: factorials[0:10] -> {list(itertools.islice(factorials(10), 0, 10))}\")\n",
    "print(f\"factorial generator expression: {factorials(10)} sliced: factorials[6:8] -> {list(itertools.islice(factorials(10), 6, 8))}\")\n",
    "print(f\"factorial generator expression: {factorials(10)} sliced: factorials[0:10:2] -> {list(itertools.islice(factorials(10), 0, 10, 2))}\")\n",
    "print(f\"itertools.islice(factorial(10), 0, 10) is of type -> {itertools.islice(factorials(10), 0, 10)}\")\n",
    "\n",
    "# Notice how to print the values we need to iterate through it (calling list) that means it is a lazy iterator.\n",
    "\n",
    "print(\"---- CAVEATS ----\")\n",
    "\n",
    "# We get a 20 len generator\n",
    "f1 = factorials(20)\n",
    "# we get a 20 len slice from the generator\n",
    "f1_slice = itertools.islice(f1, 0, 20)\n",
    "# Exhaust\n",
    "for _ in range(10):\n",
    "    next(f1)\n",
    "\n",
    "print(f\"f1_slice(f1, 0, 20) after exhausting some values from generator -> {list(f1_slice)}\")\n",
    "# We exhaust the f1 iterator(generator) so the slice now only had 10 values left since the generator f1 had 10 values left."
   ]
  },
  {
   "cell_type": "markdown",
   "metadata": {},
   "source": [
    "## Selecting and Filtering"
   ]
  },
  {
   "cell_type": "markdown",
   "metadata": {},
   "source": [
    "We have different functions to select/filter iterators.\n",
    "- `filter(predicate, iterable)`, return all elements of the iterable where the predicate evaluates to True.\n",
    "    - if predicate is `None` just evaluates Truthyness of value.\n",
    "- `itertools.filterfalse(predicate, iterable)`, return all elements of the iterable where the predicate evaluates to False.\n",
    "    - if predicate is `None` just evaluates Falsyness of value.\n",
    "- `itertools.compress(data, selectors)`, return all elements of the data where the selector evaluates to True.\n",
    "    - the evaluation consists on the truthy value of the selector in the same position.\n",
    "    - after the selector is exhausted then `None` is returned (`None` is falsy).\n",
    "- `itertools.takewhile(predicate, iterable)`, return all elements of the iterable until a value evaluates to False.\n",
    "- `itertools.dropwhile(predicate, iterable)`, return all elements of the iterable after a value evaluates to False.\n",
    "\n",
    "---\n",
    "\n",
    "**NOTE**: all functions return a lazy iterator."
   ]
  },
  {
   "cell_type": "code",
   "execution_count": 32,
   "metadata": {},
   "outputs": [
    {
     "name": "stdout",
     "output_type": "stream",
     "text": [
      "generator expression gen_cubes: <generator object gen_cubes at 0x11a182650>\n",
      "---- FILTER ----\n",
      "yielding 0\n",
      "yielding 1\n",
      "yielding 2\n",
      "yielding 3\n",
      "filtering gen_cubes with predicate is_odd (filter func) -> [1, 27]\n",
      "---- FILTERFALSE ----\n",
      "yielding 0\n",
      "yielding 1\n",
      "yielding 2\n",
      "yielding 3\n",
      "filtering gen_cubes with predicate is_odd (filterfalse func) -> [0, 8]\n",
      "---- TAKEWHILE ----\n",
      "filtering sine_wave with predicate lambda (takewhile func) -> [0.0, 0.43, 0.78]\n",
      "---- DROPWHILE ----\n",
      "filtering sine_wave with predicate lambda (takewhile func) -> [0.97, 0.97, 0.78, 0.43, 0.0, -0.43, -0.78, -0.97, -0.97, -0.78, -0.43, -0.0]\n",
      "---- COMPRESS ----\n",
      "filtering data: ['a', 'b', 'c', 'd', 'e'] with selectors: [True, False, 1, 0] -> ['a', 'c']\n",
      "filtering data: ['a', 'b', 'c', 'd', 'e'] with selectors: [True, False, 1, 0] -> ['a', 'c']\n"
     ]
    }
   ],
   "source": [
    "from itertools import filterfalse, dropwhile, takewhile, compress\n",
    "from math import sin, pi\n",
    "\n",
    "# Generators\n",
    "def gen_cubes(n):\n",
    "    for i in range(n):\n",
    "        print(f\"yielding {i}\")\n",
    "        yield i**3\n",
    "\n",
    "def sine_wave(n):\n",
    "    start = 0\n",
    "    max_ = 2 * pi\n",
    "    step = (max_ - start) / (n - 1)\n",
    "    for _ in range(n):\n",
    "        yield round(sin(start), 2)\n",
    "        start += step\n",
    "\n",
    "# Predicates\n",
    "def is_odd(n):\n",
    "    return n % 2 == 1\n",
    "\n",
    "print(f\"generator expression gen_cubes: {gen_cubes(10)}\")\n",
    "\n",
    "print(\"---- FILTER ----\")\n",
    "\n",
    "print(f\"filtering gen_cubes with predicate is_odd (filter func) -> {list(filter(is_odd, gen_cubes(4)))}\") \n",
    "\n",
    "print(\"---- FILTERFALSE ----\")\n",
    "\n",
    "print(f\"filtering gen_cubes with predicate is_odd (filterfalse func) -> {list(filterfalse(is_odd, gen_cubes(4)))}\") \n",
    "# We did not need to write a new predicate to get even numbers.\n",
    "\n",
    "print(\"---- TAKEWHILE ----\")\n",
    "print(f\"filtering sine_wave with predicate lambda (takewhile func) -> {list(takewhile(lambda x: 0 <= x <= 0.9 , sine_wave(15)))}\") \n",
    "# only takes up until the condition yields false, after everything is dropped.\n",
    "\n",
    "print(\"---- DROPWHILE ----\")\n",
    "print(f\"filtering sine_wave with predicate lambda (takewhile func) -> {list(dropwhile(lambda x: 0 <= x <= 0.9 , sine_wave(15)))}\") \n",
    "# only takes up after the condition yields false, before everything is dropped, notice how the output + the output of takewhile get a len of 15(generator len)\n",
    "\n",
    "print(\"---- COMPRESS ----\")\n",
    "data = ['a', 'b', 'c', 'd', 'e']\n",
    "selectors = [True, False, 1, 0] # None(this value for everything after the last element)\n",
    "print(f\"filtering data: {data} with selectors: {selectors} -> {list(compress(data, selectors))}\")\n",
    "# Notice 'e' never got picked up since None evaluates to False.\n",
    "print(f\"filtering data: {data} with selectors: {selectors} -> {[i for i, val in zip(data, selectors) if val]}\")"
   ]
  },
  {
   "cell_type": "markdown",
   "metadata": {},
   "source": [
    "## Infinite Iterators"
   ]
  },
  {
   "cell_type": "markdown",
   "metadata": {},
   "source": [
    "We have some functions from itertools that return an infinite iterator.\n",
    "- `itertools.count(start, step)`, it will yield the next value starting from the start parameter\n",
    "and moving through the defined step (defaults to 1).\n",
    "    - Takes any numeric type, not just ints like `Range`.\n",
    "- `itertools.cycle(iterable)`, yields an iterator that will repeat indefinitely.\n",
    "- `itertools.repeat(value, n)`, yields the value indifinitely or until n is defined.\n",
    "    - Yields the same object in memory every time, this could be a caveat for immutable value types.\n",
    "\n",
    "---\n",
    "\n",
    "**Note** -> All return a lazy iterator."
   ]
  },
  {
   "cell_type": "code",
   "execution_count": 1,
   "metadata": {},
   "outputs": [
    {
     "name": "stdout",
     "output_type": "stream",
     "text": [
      "---- COUNT ----\n",
      "The first 5 elements of count object: count(10) are -> [10, 11, 12, 13, 14]\n",
      "The first 5 elements of count object: count(10.0, 0.1) are -> [10.0, 10.1, 10.2, 10.299999999999999, 10.399999999999999]\n",
      "The first 5 elements of count object: count((1+1j), (1+2j)) are -> [(1+1j), (2+3j), (3+5j), (4+7j), (5+9j)]\n",
      "The first 5 elements of count object: count(Decimal('0'), Decimal('0.1')) are -> [Decimal('0'), Decimal('0.1'), Decimal('0.2'), Decimal('0.3'), Decimal('0.4')]\n",
      "---- CYCLE ----\n",
      "The first 5 elements of cycle object: <itertools.cycle object at 0x1063a45c0> are -> ['red', 'green', 'blue', 'red', 'green']\n",
      "The first 5 elements of cycle object: <itertools.cycle object at 0x1063a4a40> are -> ['red', 'green', 'blue', 'red', 'green'], the cols gen is exhausted -> []\n",
      "---- REPEAT ----\n",
      "The first 5 elements of repeat object: repeat('Python') are -> ['Python', 'Python', 'Python', 'Python', 'Python']\n",
      "The first elements of repeat finite object: repeat('Python', 3) are -> ['Python', 'Python', 'Python']\n"
     ]
    }
   ],
   "source": [
    "from itertools import count, cycle, repeat, islice\n",
    "from decimal import Decimal\n",
    "\n",
    "print(\"---- COUNT ----\")\n",
    "count_gen_int = count(10)\n",
    "count_gen_float = count(10.0, 0.1)\n",
    "count_gen_ima = count(1+1j, 1+2j)\n",
    "count_gen_dec = count(Decimal('0'), Decimal('0.1'))\n",
    "print(f\"The first 5 elements of count object: {count_gen_int} are -> {list(islice(count_gen_int, 5))}\")\n",
    "print(f\"The first 5 elements of count object: {count_gen_float} are -> {list(islice(count_gen_float, 5))}\")\n",
    "print(f\"The first 5 elements of count object: {count_gen_ima} are -> {list(islice(count_gen_ima, 5))}\")\n",
    "print(f\"The first 5 elements of count object: {count_gen_dec} are -> {list(islice(count_gen_dec, 5))}\")\n",
    "\n",
    "print(\"---- CYCLE ----\")\n",
    "\n",
    "def colors():\n",
    "    yield 'red'\n",
    "    yield 'green'\n",
    "    yield 'blue'\n",
    "\n",
    "t1 = ('red', 'green', 'blue')\n",
    "\n",
    "cycle_tup = cycle(t1)\n",
    "cols = colors()\n",
    "cycle_gen = cycle(cols)\n",
    "print(f\"The first 5 elements of cycle object: {cycle_tup} are -> {list(islice(cycle_tup, 5))}\")\n",
    "print(f\"The first 5 elements of cycle object: {cycle_gen} are -> {list(islice(cycle_gen, 5))}, the cols gen is exhausted -> {list(cols)}\")\n",
    "# As we can see the colors generator function did repeat after yielding the last value.\n",
    "\n",
    "print(\"---- REPEAT ----\")\n",
    "\n",
    "s1 = 'Python'\n",
    "\n",
    "repeat_str = repeat(s1)\n",
    "repeat_finite_str = repeat(s1, 3)\n",
    "print(f\"The first 5 elements of repeat object: {repeat_str} are -> {list(islice(repeat_str, 5))}\")\n",
    "print(f\"The first elements of repeat finite object: {repeat_finite_str} are -> {list(repeat_finite_str)}\")"
   ]
  },
  {
   "cell_type": "code",
   "execution_count": 46,
   "metadata": {},
   "outputs": [
    {
     "name": "stdout",
     "output_type": "stream",
     "text": [
      "---- DEALING ----\n",
      "[[Card(rank='2', suit='Spades'), Card(rank='6', suit='Spades'), Card(rank='10', suit='Spades'), Card(rank='A', suit='Spades'), Card(rank='5', suit='Hearts'), Card(rank='9', suit='Hearts'), Card(rank='K', suit='Hearts'), Card(rank='4', suit='Diamonds'), Card(rank='8', suit='Diamonds'), Card(rank='Q', suit='Diamonds'), Card(rank='3', suit='Clubs'), Card(rank='7', suit='Clubs'), Card(rank='J', suit='Clubs')], [Card(rank='3', suit='Spades'), Card(rank='7', suit='Spades'), Card(rank='J', suit='Spades'), Card(rank='2', suit='Hearts'), Card(rank='6', suit='Hearts'), Card(rank='10', suit='Hearts'), Card(rank='A', suit='Hearts'), Card(rank='5', suit='Diamonds'), Card(rank='9', suit='Diamonds'), Card(rank='K', suit='Diamonds'), Card(rank='4', suit='Clubs'), Card(rank='8', suit='Clubs'), Card(rank='Q', suit='Clubs')], [Card(rank='4', suit='Spades'), Card(rank='8', suit='Spades'), Card(rank='Q', suit='Spades'), Card(rank='3', suit='Hearts'), Card(rank='7', suit='Hearts'), Card(rank='J', suit='Hearts'), Card(rank='2', suit='Diamonds'), Card(rank='6', suit='Diamonds'), Card(rank='10', suit='Diamonds'), Card(rank='A', suit='Diamonds'), Card(rank='5', suit='Clubs'), Card(rank='9', suit='Clubs'), Card(rank='K', suit='Clubs')], [Card(rank='5', suit='Spades'), Card(rank='9', suit='Spades'), Card(rank='K', suit='Spades'), Card(rank='4', suit='Hearts'), Card(rank='8', suit='Hearts'), Card(rank='Q', suit='Hearts'), Card(rank='3', suit='Diamonds'), Card(rank='7', suit='Diamonds'), Card(rank='J', suit='Diamonds'), Card(rank='2', suit='Clubs'), Card(rank='6', suit='Clubs'), Card(rank='10', suit='Clubs'), Card(rank='A', suit='Clubs')]]\n"
     ]
    }
   ],
   "source": [
    "# Example\n",
    "import itertools\n",
    "from collections import namedtuple\n",
    "\n",
    "\n",
    "Card = namedtuple('Card', 'rank suit')\n",
    "\n",
    "def card_deck():\n",
    "    ranks = tuple((str(num) for num in range(2, 11))) + tuple('JQKA')\n",
    "    suits = ('Spades', 'Hearts', 'Diamonds', 'Clubs')\n",
    "    for suit in suits:\n",
    "        for rank in ranks:\n",
    "            yield Card(rank, suit)\n",
    "\n",
    "# hands i want to deal out\n",
    "hands = [list() for _ in range(4)]\n",
    "\n",
    "print(\"---- DEALING ----\")\n",
    "hands_cycle = itertools.cycle(hands)\n",
    "for card in card_deck():\n",
    "    next(hands_cycle).append(card)\n",
    "\n",
    "print(hands)"
   ]
  },
  {
   "cell_type": "markdown",
   "metadata": {},
   "source": [
    "## Chaining and Teeing"
   ]
  },
  {
   "cell_type": "markdown",
   "metadata": {},
   "source": [
    "From `itertools` we have some functions to chain and tee iterables/iterator. Again keep in mind they return Lazy iterators.\n",
    "- `itertools.chain(*args)`, this is analogous to sequence concatenation.\n",
    "    - every `arg` in `args` should be an iterator\n",
    "    - we could unpack them from an iterable, however, unpacking is **Eager** so it evaluates all of the iterators at once.\n",
    "- `itertools.chain_from_iterable(it)`, receives an iterable and chains the iterators.\n",
    "    - Returns an iterator so we could still have a lazy evaluation for our values.\n",
    "- `itertools.tee(iterable, n)`, receives an iterable and returns a tuple of the iterators n number of times.\n",
    "    - all are different objects in memory.\n",
    "    - returns iterators so they get exhausted."
   ]
  },
  {
   "cell_type": "code",
   "execution_count": 10,
   "metadata": {},
   "outputs": [
    {
     "name": "stdout",
     "output_type": "stream",
     "text": [
      "---- CHAIN ----\n",
      "generator expression l1, l2 and l3 chained with my function -> [0, 1, 4, 9, 16, 25, 36, 49, 64, 81, 100, 121]\n",
      "generator expression l1, l2 and l3 chained itertools.chain -> []\n",
      "a list of my generator expression list1: [<generator object <genexpr> at 0x10d28f840>, <generator object <genexpr> at 0x10d28f530>, <generator object <genexpr> at 0x10d28fdf0>] chained together will return the generator expression-> [<generator object <genexpr> at 0x10d28f840>, <generator object <genexpr> at 0x10d28f530>, <generator object <genexpr> at 0x10d28fdf0>].\n",
      "to get the values from my iterables inside an iterable we need to unpack what we get from chained -> [0, 1, 4, 9, 16, 25, 36, 49, 64, 81, 100, 121]\n",
      "---- CHAIN.FROM_ITERABLE ----\n",
      "generator function squares: <generator object squares at 0x10d28fa00> chained with chain_from_iterable -> [0, 1, 4, 9, 16, 25, 36, 49, 64, 81, 100, 121]\n",
      "generator function squares: <generator object squares at 0x10d28fa00> chained itertools.chain.chain_iterables -> [0, 1, 4, 9, 16, 25, 36, 49, 64, 81, 100, 121]\n",
      "---- TEE ----\n",
      "Teeing generator function squares: <generator object squares at 0x10d28fd80> results in a tuple with three different iterators (<itertools._tee object at 0x10605bdc0>, <itertools._tee object at 0x10d29f1c0>, <itertools._tee object at 0x10d29fa00>)\n"
     ]
    }
   ],
   "source": [
    "from itertools import chain, tee\n",
    "\n",
    "l1 = (i**2 for i in range(4))\n",
    "l2 = (i**2 for i in range(4, 8))\n",
    "l3 = (i**2 for i in range(8, 12))\n",
    "\n",
    "def squares():\n",
    "    yield (i**2 for i in range(4))\n",
    "    yield (i**2 for i in range(4, 8))\n",
    "    yield (i**2 for i in range(8, 12))\n",
    "\n",
    "print(\"---- CHAIN ----\")\n",
    "\n",
    "def chain_iterables(*iterables):\n",
    "    for iterable in iterables:\n",
    "        yield from iterable\n",
    "\n",
    "print(f\"generator expression l1, l2 and l3 chained with my function -> {list(chain_iterables(l1, l2, l3))}\")\n",
    "print(f\"generator expression l1, l2 and l3 chained itertools.chain -> {list(chain(l1, l2, l3))}\")\n",
    "list1 = [l1, l2, l3]\n",
    "print(f\"a list of my generator expression list1: {list1} chained together will return the generator expression-> {list(chain(list1))}.\")\n",
    "print(f\"to get the values from my iterables inside an iterable we need to unpack what we get from chained -> {[el for el in chain(*squares())]}\")\n",
    "\n",
    "print(\"---- CHAIN.FROM_ITERABLE ----\")\n",
    "\n",
    "def chain_from_iterable(iterable):\n",
    "    for item in iterable:\n",
    "        yield from item\n",
    "\n",
    "print(f\"generator function squares: {squares()} chained with chain_from_iterable -> {list(chain.from_iterable(squares()))}\")\n",
    "print(f\"generator function squares: {squares()} chained itertools.chain.chain_iterables -> {list(chain.from_iterable(squares()))}\")\n",
    "\n",
    "print(\"---- TEE ----\")\n",
    "\n",
    "def squares(n):\n",
    "    for i in n:\n",
    "        yield i ** 2\n",
    "\n",
    "print(f\"Teeing generator function squares: {squares(10)} results in a tuple with three different iterators {tee(squares(10), 3)}\")\n",
    "# they are 3 copys of the iterators which are independent.\n",
    "# they will get exhausted and are lazy iterators."
   ]
  },
  {
   "cell_type": "markdown",
   "metadata": {},
   "source": [
    "## Mapping and Reducing"
   ]
  },
  {
   "cell_type": "markdown",
   "metadata": {},
   "source": [
    "map and reduce work by first mapping a function to each of the elements of an iterable and reducing said iterable to a value by accumulating a result from a given function (i.e sum, max, min)\n",
    "\n",
    "`map(fn, iterable)`, applies a function to every item in an iterable.\n",
    "    - it yields each value so it evaluates lazyly\n",
    "    - it just loops through the iterable so any iterable with nested iterables just get returned complete.\n",
    "`functools.reduce(fn, iterable, start)`, applies a function on each of the elements by accumulating the result.\n",
    "    - returns just the final value.\n",
    "\n",
    "From `itertools` we have some functions to extend the functionality of `map` and `reduce`. again keep in mind they return Lazy iterators.\n",
    "- `itertools.starmap(fn, iter)`, this map function works with an iterable of iterables, which applies the fn to each value of each of the iterables.\n",
    "- `itertools.accumulate(it, fn)`, receives an iterable and a function that reduces the output to a single value, however, each step is yielded.\n",
    "    - yields each step."
   ]
  },
  {
   "cell_type": "code",
   "execution_count": 29,
   "metadata": {},
   "outputs": [
    {
     "name": "stdout",
     "output_type": "stream",
     "text": [
      "---- MAP ----\n",
      "map returns an iterator, True\n",
      "maps iterator returns values -> [0, 1, 4, 9, 16]\n",
      "a map can work with a function that requires unpacking but it is cumbersome -> [1, 5]\n",
      "---- STARMAP ----\n",
      "startmap works with nested iterables making it easy to apply a function to each -> [1, 5]\n",
      "---- REDUCE ----\n",
      "multiplying a list values by using reduce -> 120\n",
      "multiplying but this time we start with 10 -> 1200\n",
      "creating our own reduce/sum_ that yields intermediate results -> [3, 6, 10, 15]\n",
      "Creating our own running_reduce function -> [1, 2, 6, 24, 120]\n",
      "Creating our own running_reduce function with a start -> [10, 10, 20, 60, 240, 1200]\n",
      "operator.mul to get the same result -> [1, 2, 6, 24, 120]\n",
      "---- ACCUMULATE ----\n",
      "accumulate function words as our running_reduce with the default to sum -> [1, 3, 6, 10, 15]\n",
      "accumulate with the multiplication -> [1, 2, 6, 24, 120]\n",
      "to get the same behaviour as with the parameter start -> [10, 10, 20, 60, 240, 1200]\n"
     ]
    }
   ],
   "source": [
    "print(\"---- MAP ----\")\n",
    "\n",
    "maps = map(lambda x: x**2, range(5))\n",
    "print(f\"map returns an iterator, {iter(maps) is maps}\")\n",
    "print(f\"maps iterator returns values -> {list(maps)}\")\n",
    "\n",
    "# There is a limitation on map when it comes to an iterable of iterables, since it just returns each value in the outer iterable\n",
    "def add(x, y):\n",
    "    return x + y\n",
    "\n",
    "print(f\"a map can work with a function that requires unpacking but it is cumbersome -> {list(add(*t) for t in [(0, 1), range(2, 4)])}\")\n",
    "\n",
    "print(\"---- STARMAP ----\")\n",
    "\n",
    "from itertools import starmap\n",
    "print(f\"startmap works with nested iterables making it easy to apply a function to each -> {list(starmap(add, [(0,1), range(2, 4)]))}\")\n",
    "\n",
    "\n",
    "print(\"---- REDUCE ----\")\n",
    "from functools import reduce\n",
    "print(f\"multiplying a list values by using reduce -> {reduce(lambda x, y: x*y, [1, 2, 3, 4, 5])}\")\n",
    "print(f\"multiplying but this time we start with 10 -> {reduce(lambda x, y: x*y, [1, 2, 3, 4, 5], 10)}\")\n",
    "\n",
    "# with the reduce function we don't get the intermediate results\n",
    "def sum_(iterable):\n",
    "    it = iter(iterable)\n",
    "    acc = next(it)\n",
    "    for element in it:\n",
    "        acc += element\n",
    "        yield acc\n",
    "\n",
    "def running_reduce(fn, iterable, start=None):\n",
    "    it = iter(iterable)\n",
    "    if start is None:\n",
    "        acc = next(it)\n",
    "    else:\n",
    "        acc = start\n",
    "    yield acc\n",
    "    for item in it:\n",
    "        acc = fn(acc, item)\n",
    "        yield acc\n",
    "\n",
    "print(f\"creating our own reduce/sum_ that yields intermediate results -> {list(sum_([1,2,3,4,5]))}\")\n",
    "print(f\"Creating our own running_reduce function -> {list(running_reduce(lambda x, y: x*y, [1, 2, 3, 4, 5]))}\")\n",
    "print(f\"Creating our own running_reduce function with a start -> {list(running_reduce(lambda x, y: x*y, [1, 2, 3, 4, 5], 10))}\")\n",
    "\n",
    "# there are already built-ins that do this.\n",
    "import operator\n",
    "print(f\"operator.mul to get the same result -> {list(running_reduce(operator.mul,[1, 2, 3, 4, 5]))}\")\n",
    "\n",
    "print(\"---- ACCUMULATE ----\")\n",
    "from itertools import accumulate, chain\n",
    "\n",
    "print(f\"accumulate function words as our running_reduce with the default to sum -> {list(accumulate([1, 2, 3, 4, 5]))}\")\n",
    "print(f\"accumulate with the multiplication -> {list(accumulate([1, 2, 3, 4, 5], operator.mul))}\")\n",
    "print(f\"to get the same behaviour as with the parameter start -> {list(accumulate(chain((10,), [1, 2, 3, 4, 5]), operator.mul))}\")"
   ]
  },
  {
   "cell_type": "markdown",
   "metadata": {},
   "source": [
    "## Zipping"
   ]
  },
  {
   "cell_type": "markdown",
   "metadata": {},
   "source": [
    "Zipping in python is done by the built-in `zip` function, however, to extend the functionality we also have the `zip_longest`\n",
    "- `zip(*args)`, receives an arbitrary number of arguments (iterables) and returns each element of each iterable iterated by one.\n",
    "    - it's length is determined by the shortest iterable.\n",
    "    - We can use an infinite iterator as long as we provide a finite iterable.\n",
    "- `itertools.zip_longest(*args)`, like the zip but instead of stopping on the shortest iterable it does on the longest.\n",
    "    - Be mindful of infinite iterators, since it will always be the longest."
   ]
  },
  {
   "cell_type": "code",
   "execution_count": 4,
   "metadata": {},
   "outputs": [
    {
     "name": "stdout",
     "output_type": "stream",
     "text": [
      "---- ZIP ----\n",
      "we can see that zip function call: <zip object at 0x10799b200> is an iterable -> True\n",
      "we can also zip lazy iterators together -> [(0, 0, 0), (1, 1, 1), (2, 4, 8), (3, 9, 27)]\n",
      "---- ZIP_LONGEST ----\n",
      "we can see that zip_longest function call: <itertools.zip_longest object at 0x1075f6fc0> is an iterable -> True\n",
      "result zip_longest returns all lists zipped with the length of the longest l1: [1, 2, 3, 4, 5] -> [(1, 1, 1), (2, 2, 2), (3, 3, 3), (4, 4, None), (5, None, None)]\n",
      "we can also zip_longest lazy iterators together -> [(0, 0, 0), (1, 1, 1), (2, 4, 8), (3, 9, 27), (4, 16, None), (5, None, None)]\n"
     ]
    }
   ],
   "source": [
    "l1 = [1, 2, 3, 4, 5]\n",
    "l2 = [1, 2, 3, 4]\n",
    "l3 = [1, 2, 3]\n",
    "\n",
    "print(\"---- ZIP ----\")\n",
    "\n",
    "result = zip(l1, l2, l3)\n",
    "print(f\"we can see that zip function call: {result} is an iterable -> {iter(result) is result and '__next__' in dir(result)}\")\n",
    "\n",
    "\n",
    "def integer(n):\n",
    "    for i in range(n):\n",
    "        yield i\n",
    "\n",
    "def squares(n):\n",
    "    for i in range(n):\n",
    "        yield i ** 2\n",
    "\n",
    "def cubes(n):\n",
    "    for i in range(n):\n",
    "        yield i ** 3\n",
    "\n",
    "print(f\"we can also zip lazy iterators together -> {list(zip(integer(6), squares(5), cubes(4)))}\")\n",
    "\n",
    "print(\"---- ZIP_LONGEST ----\")\n",
    "from itertools import zip_longest\n",
    "\n",
    "result = zip_longest(l1, l2, l3)\n",
    "\n",
    "print(f\"we can see that zip_longest function call: {result} is an iterable -> {iter(result) is result and '__next__' in dir(result)}\")\n",
    "print(f\"result zip_longest returns all lists zipped with the length of the longest l1: {l1} -> {list(result)}\")\n",
    "\n",
    "print(f\"we can also zip_longest lazy iterators together -> {list(zip_longest(integer(6), squares(5), cubes(4)))}\")\n"
   ]
  },
  {
   "cell_type": "markdown",
   "metadata": {},
   "source": [
    "## Grouping"
   ]
  },
  {
   "cell_type": "markdown",
   "metadata": {},
   "source": [
    "`itertools.groupby(data, [keyfunc])`, groups data(iterable) based off of the keyfunc provided as a parameter.\n",
    "- Does not sort the values based on the key, only groups. Make sure to sort the data\n",
    "- works by calling `next()` on the underlying iterator and not on the `groupby` object.\n",
    "- consumes the whole group once a `next(groupby())` is called if there are items in the group left."
   ]
  },
  {
   "cell_type": "code",
   "execution_count": 23,
   "metadata": {},
   "outputs": [
    {
     "name": "stdout",
     "output_type": "stream",
     "text": [
      "we get 3 iterator from the group by on l1: [1, 2, 3, 3, 3] if sorted\n",
      "we get 5 iterator from the group by on l2: [1, 2, 3, 3, 2, 1] if unsorted\n",
      "---- PRINTING A GROUPBY ----\n",
      "1 [1]\n",
      "2 [2]\n",
      "3 [3, 3, 3]\n",
      "---- GROUPING WITH A KEY ----\n",
      "1 [(1, 0), (1, 1), (1, 2)]\n",
      "2 [(2, 0), (2, 1), (2, 2)]\n",
      "3 [(3, 0), (3, 1), (3, 2)]\n"
     ]
    }
   ],
   "source": [
    "from itertools import groupby\n",
    "l1 = [1,2,3,3,3]\n",
    "gb1 = groupby(l1)\n",
    "l2 = [1,2,3,3,2,1]\n",
    "gb2 = groupby(l2)\n",
    "print(f\"we get {len(list(gb1))} iterator from the group by on l1: {l1} if sorted\")\n",
    "print(f\"we get {len(list(gb2))} iterator from the group by on l2: {l2} if unsorted\")\n",
    "\n",
    "print(\"---- PRINTING A GROUPBY ----\")\n",
    "gb1 = groupby(l1)\n",
    "for group_key, group in gb1:\n",
    "    print(group_key, list(group))\n",
    "\n",
    "print(\"---- GROUPING WITH A KEY ----\")\n",
    "\n",
    "def gen_groups():\n",
    "    for key in range(1, 4):\n",
    "        for i in range(3):\n",
    "            yield (key, i)\n",
    "\n",
    "g = gen_groups()\n",
    "gb3 = groupby(g, key=lambda x: x[0])\n",
    "\n",
    "for group_key, group in gb3:\n",
    "    print(group_key, list(group))\n",
    "\n",
    "# the original g iterator is exhausted and the groups of the group by are now iterators."
   ]
  },
  {
   "cell_type": "code",
   "execution_count": 35,
   "metadata": {},
   "outputs": [
    {
     "name": "stdout",
     "output_type": "stream",
     "text": [
      "---- CHECKING DATA ----\n",
      "opened file f: <_io.TextIOWrapper name='cars_2014.csv' mode='r' encoding='UTF-8'> is an iterator -> True\n",
      "make,model\n",
      "ACURA,ILX\n",
      "ACURA,MDX\n",
      "ACURA,RDX\n",
      "ACURA,RLX\n",
      "ACURA,TL\n",
      "ACURA,TSX\n",
      "ALFA ROMEO,4C\n",
      "---- DEFAULTDICT ----\n",
      "we can use the defaultdict in python to count all occurences of each model on the file\n",
      "---- GROUP BY ----\n",
      "[('ACURA', 6), ('ALFA ROMEO', 2), ('APRILIA', 4), ('ARCTIC CAT', 96), ('ARGO', 4), ('ASTON MARTIN', 5), ('AUDI', 27), ('BENTLEY', 2), ('BLUE BIRD', 1), ('BMW', 86), ('BUGATTI', 1), ('BUICK', 5), ('CADILLAC', 7), ('CAN-AM', 61), ('CHEVROLET', 33), ('CHRYSLER', 2), ('DODGE', 7), ('DUCATI', 4), ('FERRARI', 6), ('FIAT', 2), ('FORD', 34), ('FREIGHTLINER', 7), ('GMC', 12), ('HARLEY DAVIDSON', 29), ('HINO', 7), ('HONDA', 91), ('HUSABERG', 4), ('HUSQVARNA', 9), ('HYUNDAI', 13), ('INDIAN', 3), ('INFINITI', 8), ('JAGUAR', 9), ('JEEP', 5), ('JOHN DEERE', 19), ('KAWASAKI', 59), ('KENWORTH', 11), ('KIA', 10), ('KTM', 13), ('KUBOTA', 4), ('KYMCO', 28), ('LAMBORGHINI', 2), ('LAND ROVER', 6), ('LEXUS', 14), ('LINCOLN', 6), ('LOTUS', 1), ('MACK', 9), ('MASERATI', 3), ('MAZDA', 5), ('MCLAREN', 2), ('MERCEDES-BENZ', 60), ('MINI', 3), ('MITSUBISHI', 8), ('NISSAN', 24), ('PEUGEOT', 3), ('POLARIS', 101), ('PORSCHE', 4), ('RAM', 6), ('RENAULT', 4), ('ROLLS ROYCE', 3), ('SCION', 5), ('SEAT', 3), ('SKI-DOO', 67), ('SMART', 1), ('SRT', 1), ('SUBARU', 10), ('SUZUKI', 48), ('TESLA', 2), ('TOYOTA', 19), ('TRIUMPH', 10), ('VESPA', 4), ('VICTORY', 14), ('VOLKSWAGEN', 16), ('VOLVO', 8), ('YAMAHA', 110)]\n"
     ]
    }
   ],
   "source": [
    "from itertools import groupby\n",
    "from collections import defaultdict\n",
    "\n",
    "print(\"---- CHECKING DATA ----\")\n",
    "with open('cars_2014.csv') as f:\n",
    "    print(f\"opened file f: {f} is an iterator -> {iter(f) is f and '__next__' in dir(f)}\")\n",
    "    for row in itertools.islice(f, 0, 8): # slice iterator.\n",
    "        print(row, end='')\n",
    "\n",
    "\n",
    "print(\"---- DEFAULTDICT ----\")\n",
    "print(\"we can use the defaultdict in python to count all occurences of each model on the file\")\n",
    "makes = defaultdict(int)\n",
    "with open('cars_2014.csv') as f:\n",
    "    # skip the header\n",
    "    next(f)\n",
    "    for row in f:\n",
    "        make, _ = row.strip('\\n').split(',')\n",
    "        makes[make] += 1\n",
    "\n",
    "print(\"---- GROUP BY ----\")\n",
    "\n",
    "with open('cars_2014.csv') as f:\n",
    "    next(f)\n",
    "    # as f is an iterator and groupby just returns an iterator if we leave the context manager we will be working on a closed file.\n",
    "    make_groups = itertools.groupby(f, lambda x: x.split(',')[0])\n",
    "    make_counts = ((key, sum(1 for i in models)) for key, models in make_groups)\n",
    "    print(list(make_counts))\n",
    "\n"
   ]
  },
  {
   "cell_type": "markdown",
   "metadata": {},
   "source": [
    "## Combinatorics"
   ]
  },
  {
   "cell_type": "markdown",
   "metadata": {},
   "source": [
    "`itertools.product(*args)`, Cartessian product of the iterables passed in the args.\n"
   ]
  },
  {
   "cell_type": "code",
   "execution_count": 13,
   "metadata": {},
   "outputs": [
    {
     "name": "stdout",
     "output_type": "stream",
     "text": [
      "---- CARTESSIAN PRODUCT - NESTED LOOP ----\n",
      "Cartessian product result for <generator object matrix at 0x10d5cc4a0> sliced to get from 10 to 20 -> ['2 x 1 = 2', '2 x 2 = 4', '2 x 3 = 6', '2 x 4 = 8', '2 x 5 = 10', '2 x 6 = 12', '2 x 7 = 14', '2 x 8 = 16', '2 x 9 = 18', '2 x 10 = 20']\n",
      "---- CARTESSIAN PRODUCT - ITERTOOLS ----\n",
      "Cartessian product of ('x1', 'x2', 'x3', 'x4') and ('y1', 'y2', 'y3') -> [('x1', 'y1'), ('x1', 'y2'), ('x1', 'y3'), ('x2', 'y1'), ('x2', 'y2'), ('x2', 'y3'), ('x3', 'y1'), ('x3', 'y2'), ('x3', 'y3'), ('x4', 'y1'), ('x4', 'y2'), ('x4', 'y3')]\n",
      "the same cartessian product for the matrix n using itertools -> ['2 x 1 = 2', '2 x 2 = 4', '2 x 3 = 6', '2 x 4 = 8', '2 x 5 = 10', '2 x 6 = 12', '2 x 7 = 14', '2 x 8 = 16', '2 x 9 = 18', '2 x 10 = 20']\n"
     ]
    }
   ],
   "source": [
    "import itertools\n",
    "\n",
    "print(\"---- CARTESSIAN PRODUCT - NESTED LOOP ----\")\n",
    "\n",
    "def matrix(n):\n",
    "    for i in range(1, n+1):\n",
    "        for j in range(1, n+1):\n",
    "            yield f\"{i} x {j} = {i*j}\"\n",
    "\n",
    "print(f\"Cartessian product result for {matrix(10)} sliced to get from 10 to 20 -> {list(itertools.islice(matrix(10), 10, 20))}\")\n",
    "\n",
    "print(\"---- CARTESSIAN PRODUCT - ITERTOOLS ----\")\n",
    "\n",
    "l1 = ('x1', 'x2', 'x3', 'x4')\n",
    "l2 = ('y1', 'y2', 'y3')\n",
    "cp1 = itertools.product(l1, l2)\n",
    "\n",
    "print(f\"Cartessian product of {l1} and {l2} -> {list(cp1)}\")\n",
    "\n",
    "def matrix(n):\n",
    "    for pr in itertools.product(*itertools.tee(range(1, n+1), 2)): # Tee unpacked gets two of the same and unpacking evaluates (unpacking is Eager)\n",
    "        yield  f\"{pr[0]} x {pr[1]} = {pr[0] * pr[1]}\"\n",
    "\n",
    "print(f\"the same cartessian product for the matrix n using itertools -> {list(itertools.islice(matrix(10), 10, 20))}\")"
   ]
  },
  {
   "cell_type": "code",
   "execution_count": 24,
   "metadata": {},
   "outputs": [
    {
     "name": "stdout",
     "output_type": "stream",
     "text": [
      "---- ALL TOGETHER ----\n",
      "---- GRID GENERATOR ----\n",
      "grid from -1 to 1 in steps of 0.5, in 3D -> [(-1, -1, -1), (-1, -1, -0.5), (-1, -1, 0.0), (-1, -1, 0.5), (-1, -1, 1.0), (-1, -0.5, -1), (-1, -0.5, -0.5), (-1, -0.5, 0.0), (-1, -0.5, 0.5), (-1, -0.5, 1.0), (-1, 0.0, -1), (-1, 0.0, -0.5), (-1, 0.0, 0.0), (-1, 0.0, 0.5), (-1, 0.0, 1.0), (-1, 0.5, -1), (-1, 0.5, -0.5), (-1, 0.5, 0.0), (-1, 0.5, 0.5), (-1, 0.5, 1.0), (-1, 1.0, -1), (-1, 1.0, -0.5), (-1, 1.0, 0.0), (-1, 1.0, 0.5), (-1, 1.0, 1.0), (-0.5, -1, -1), (-0.5, -1, -0.5), (-0.5, -1, 0.0), (-0.5, -1, 0.5), (-0.5, -1, 1.0), (-0.5, -0.5, -1), (-0.5, -0.5, -0.5), (-0.5, -0.5, 0.0), (-0.5, -0.5, 0.5), (-0.5, -0.5, 1.0), (-0.5, 0.0, -1), (-0.5, 0.0, -0.5), (-0.5, 0.0, 0.0), (-0.5, 0.0, 0.5), (-0.5, 0.0, 1.0), (-0.5, 0.5, -1), (-0.5, 0.5, -0.5), (-0.5, 0.5, 0.0), (-0.5, 0.5, 0.5), (-0.5, 0.5, 1.0), (-0.5, 1.0, -1), (-0.5, 1.0, -0.5), (-0.5, 1.0, 0.0), (-0.5, 1.0, 0.5), (-0.5, 1.0, 1.0), (0.0, -1, -1), (0.0, -1, -0.5), (0.0, -1, 0.0), (0.0, -1, 0.5), (0.0, -1, 1.0), (0.0, -0.5, -1), (0.0, -0.5, -0.5), (0.0, -0.5, 0.0), (0.0, -0.5, 0.5), (0.0, -0.5, 1.0), (0.0, 0.0, -1), (0.0, 0.0, -0.5), (0.0, 0.0, 0.0), (0.0, 0.0, 0.5), (0.0, 0.0, 1.0), (0.0, 0.5, -1), (0.0, 0.5, -0.5), (0.0, 0.5, 0.0), (0.0, 0.5, 0.5), (0.0, 0.5, 1.0), (0.0, 1.0, -1), (0.0, 1.0, -0.5), (0.0, 1.0, 0.0), (0.0, 1.0, 0.5), (0.0, 1.0, 1.0), (0.5, -1, -1), (0.5, -1, -0.5), (0.5, -1, 0.0), (0.5, -1, 0.5), (0.5, -1, 1.0), (0.5, -0.5, -1), (0.5, -0.5, -0.5), (0.5, -0.5, 0.0), (0.5, -0.5, 0.5), (0.5, -0.5, 1.0), (0.5, 0.0, -1), (0.5, 0.0, -0.5), (0.5, 0.0, 0.0), (0.5, 0.0, 0.5), (0.5, 0.0, 1.0), (0.5, 0.5, -1), (0.5, 0.5, -0.5), (0.5, 0.5, 0.0), (0.5, 0.5, 0.5), (0.5, 0.5, 1.0), (0.5, 1.0, -1), (0.5, 1.0, -0.5), (0.5, 1.0, 0.0), (0.5, 1.0, 0.5), (0.5, 1.0, 1.0), (1.0, -1, -1), (1.0, -1, -0.5), (1.0, -1, 0.0), (1.0, -1, 0.5), (1.0, -1, 1.0), (1.0, -0.5, -1), (1.0, -0.5, -0.5), (1.0, -0.5, 0.0), (1.0, -0.5, 0.5), (1.0, -0.5, 1.0), (1.0, 0.0, -1), (1.0, 0.0, -0.5), (1.0, 0.0, 0.0), (1.0, 0.0, 0.5), (1.0, 0.0, 1.0), (1.0, 0.5, -1), (1.0, 0.5, -0.5), (1.0, 0.5, 0.0), (1.0, 0.5, 0.5), (1.0, 0.5, 1.0), (1.0, 1.0, -1), (1.0, 1.0, -0.5), (1.0, 1.0, 0.0), (1.0, 1.0, 0.5), (1.0, 1.0, 1.0)]\n",
      "---- ROLLING A DICE BRUTEFORCE ----\n",
      "5/36\n"
     ]
    }
   ],
   "source": [
    "from fractions import Fraction\n",
    "\n",
    "print(\"---- ALL TOGETHER ----\")\n",
    "\n",
    "print(\"---- GRID GENERATOR ----\")\n",
    "def grid(min_val, max_val, step, *, num_dimensions=2):\n",
    "    axis = itertools.takewhile(lambda x: x <= max_val,\n",
    "    itertools.count(min_val, step))\n",
    "    axes = itertools.tee(axis, num_dimensions)\n",
    "    return itertools.product(*axes)\n",
    "\n",
    "print(f\"grid from -1 to 1 in steps of 0.5, in 3D -> {list(grid(-1, 1, 0.5, num_dimensions=3))}\")\n",
    "\n",
    "print(\"---- ROLLING A DICE BRUTEFORCE ----\")\n",
    "\n",
    "sample_space = list(itertools.product(range(1, 7), range(1, 7)))\n",
    "outcomes = list(filter(lambda x: sum(x) == 8, sample_space))\n",
    "\n",
    "print(Fraction(len(outcomes), len(sample_space)))\n",
    "\n"
   ]
  },
  {
   "cell_type": "markdown",
   "metadata": {},
   "source": [
    "`itertools.permutations(iterable, r)`, r is the size of the permutation based on the iterable passed as an arg.\n",
    "- Remember in permutations order is important.\n",
    "- Remember if an element is repeated then two outputs may look the same but point to different objects.\n",
    "\n",
    "`itertools.combinations(iterable, r)`, r is the size of the combination based on the iterable passed as an arg.\n",
    "- Remember in combinations order is not important.\n",
    "- We can have `itertools.combinations_with_replacement(iterable, r)` where the values can be repeated, order is still not important."
   ]
  },
  {
   "cell_type": "code",
   "execution_count": 40,
   "metadata": {},
   "outputs": [
    {
     "name": "stdout",
     "output_type": "stream",
     "text": [
      "---- PERMUTATIONS ----\n",
      "The permutations for list l1: abc size 3 are -> [('a', 'b', 'c'), ('a', 'c', 'b'), ('b', 'a', 'c'), ('b', 'c', 'a'), ('c', 'a', 'b'), ('c', 'b', 'a')]\n",
      "The permutations for list l2: abca size 4 are -> [('a', 'b', 'c', 'a'), ('a', 'b', 'a', 'c'), ('a', 'c', 'b', 'a'), ('a', 'c', 'a', 'b'), ('a', 'a', 'b', 'c'), ('a', 'a', 'c', 'b'), ('b', 'a', 'c', 'a'), ('b', 'a', 'a', 'c'), ('b', 'c', 'a', 'a'), ('b', 'c', 'a', 'a'), ('b', 'a', 'a', 'c'), ('b', 'a', 'c', 'a'), ('c', 'a', 'b', 'a'), ('c', 'a', 'a', 'b'), ('c', 'b', 'a', 'a'), ('c', 'b', 'a', 'a'), ('c', 'a', 'a', 'b'), ('c', 'a', 'b', 'a'), ('a', 'a', 'b', 'c'), ('a', 'a', 'c', 'b'), ('a', 'b', 'a', 'c'), ('a', 'b', 'c', 'a'), ('a', 'c', 'a', 'b'), ('a', 'c', 'b', 'a')]\n",
      "---- COMBINATIONS ----\n",
      "The combinations for list l1: abc size 3 are -> [('a', 'b', 'c')]\n",
      "The combinations for list l2: abca size 4 are -> [('a', 'b', 'c', 'a')]\n",
      "The combinations with replacement for list l3: 1234 size 2 are -> [('1', '1', '1', '1'), ('1', '1', '1', '2'), ('1', '1', '1', '3'), ('1', '1', '1', '4'), ('1', '1', '2', '2'), ('1', '1', '2', '3'), ('1', '1', '2', '4'), ('1', '1', '3', '3'), ('1', '1', '3', '4'), ('1', '1', '4', '4'), ('1', '2', '2', '2'), ('1', '2', '2', '3'), ('1', '2', '2', '4'), ('1', '2', '3', '3'), ('1', '2', '3', '4'), ('1', '2', '4', '4'), ('1', '3', '3', '3'), ('1', '3', '3', '4'), ('1', '3', '4', '4'), ('1', '4', '4', '4'), ('2', '2', '2', '2'), ('2', '2', '2', '3'), ('2', '2', '2', '4'), ('2', '2', '3', '3'), ('2', '2', '3', '4'), ('2', '2', '4', '4'), ('2', '3', '3', '3'), ('2', '3', '3', '4'), ('2', '3', '4', '4'), ('2', '4', '4', '4'), ('3', '3', '3', '3'), ('3', '3', '3', '4'), ('3', '3', '4', '4'), ('3', '4', '4', '4'), ('4', '4', '4', '4')]\n"
     ]
    }
   ],
   "source": [
    "l1 = 'abc'\n",
    "l2 = 'abca'\n",
    "l3 = '1234'\n",
    "\n",
    "print(\"---- PERMUTATIONS ----\")\n",
    "print(f\"The permutations for list l1: {l1} size 3 are -> {list(itertools.permutations(l1))}\")\n",
    "print(f\"The permutations for list l2: {l2} size 4 are -> {list(itertools.permutations(l2))}\")\n",
    "\n",
    "print(\"---- COMBINATIONS ----\")\n",
    "print(f\"The combinations for list l1: {l1} size 3 are -> {list(itertools.combinations(l1, r=3))}\")\n",
    "print(f\"The combinations for list l2: {l2} size 4 are -> {list(itertools.combinations(l2, r=4))}\")\n",
    "print(f\"The combinations with replacement for list l3: {l3} size 2 are -> {list(itertools.combinations_with_replacement(l3, r=4))}\")"
   ]
  },
  {
   "cell_type": "code",
   "execution_count": 56,
   "metadata": {},
   "outputs": [
    {
     "name": "stdout",
     "output_type": "stream",
     "text": [
      "---- ALL TOGETHER ----\n",
      "total=270725, acceptable=1\n",
      "odds = 1/270725\n",
      "odds = 0.0000036938\n"
     ]
    }
   ],
   "source": [
    "from collections import namedtuple\n",
    "from random import sample\n",
    "\n",
    "print(\"---- ALL TOGETHER ----\")\n",
    "SUITS = 'SHDC'\n",
    "RANKS = tuple(map(str, range(2, 11))) + tuple('JQKA')\n",
    "Card = namedtuple(\"Card\", \"rank suit\")\n",
    "\n",
    "\n",
    "deck = (Card(rank, suit) for suit, rank in itertools.product(SUITS, RANKS))\n",
    "sample_space = itertools.combinations(deck, 4)\n",
    "\n",
    "total = 0\n",
    "acceptable = 0\n",
    "\n",
    "for outcome in sample_space:\n",
    "    total += 1\n",
    "    if all(map(lambda x: x.rank == 'A', outcome)):\n",
    "        acceptable += 1\n",
    "\n",
    "print(f\"total={total}, acceptable={acceptable}\")\n",
    "print(f'odds = {Fraction(acceptable, total)}')\n",
    "print(f\"odds = {acceptable/total:.10f}\")"
   ]
  },
  {
   "cell_type": "markdown",
   "metadata": {},
   "source": [
    "## Exercise"
   ]
  },
  {
   "cell_type": "markdown",
   "metadata": {},
   "source": [
    "### Goal 1"
   ]
  },
  {
   "cell_type": "markdown",
   "metadata": {},
   "source": [
    "Create lazy iterators for each of the four files.\n",
    "- Return Namedtuples\n",
    "- DataTypes are appropiate to the column.\n",
    "- The 4 iterators are independent of each other."
   ]
  },
  {
   "cell_type": "code",
   "execution_count": 167,
   "metadata": {},
   "outputs": [],
   "source": [
    "import csv\n",
    "import datetime\n",
    "from collections import namedtuple\n",
    "\n",
    "def parse_int(value, *, default=None):\n",
    "    try:\n",
    "        return int(value)\n",
    "    except ValueError:\n",
    "        return default\n",
    "\n",
    "def parse_date(value, *, default=None):\n",
    "    try:\n",
    "        return datetime.datetime.strptime(value, \"%Y-%m-%dT%H:%M:%SZ\").date()\n",
    "    except ValueError:\n",
    "        return default\n",
    "\n",
    "def parse_string(value, *, default=None):\n",
    "    try:\n",
    "        cleaned = value.strip()\n",
    "        if not cleaned:\n",
    "            return default\n",
    "        else:\n",
    "            return cleaned\n",
    "    except ValueError:\n",
    "        return default\n",
    "\n",
    "def parse_row(Row, row, column_parsers, *, default=None):\n",
    "    parsed_row = [func(field) for func, field in zip(column_parsers, row)]\n",
    "    if all(item is not None for item in parsed_row):\n",
    "        return Row(*parsed_row)\n",
    "    else:\n",
    "        return default\n",
    "\n",
    "def row_reader(file_name):\n",
    "    with open(file_name) as f:\n",
    "        reader = csv.reader(f, delimiter=\",\", quotechar='\"')\n",
    "        yield from reader\n",
    "\n",
    "\n",
    "def file_reader(file_name, column_parser):\n",
    "    file = row_reader(file_name)\n",
    "    file_object = namedtuple(file_name.split('.')[0].capitalize(), next(file))\n",
    "    for row in file:\n",
    "        yield parse_row(file_object, row,column_parser)"
   ]
  },
  {
   "cell_type": "code",
   "execution_count": 168,
   "metadata": {},
   "outputs": [
    {
     "name": "stdout",
     "output_type": "stream",
     "text": [
      "[Vehicles(ssn='100-53-9824', vehicle_make='Oldsmobile', vehicle_model='Bravada', model_year=1993), Vehicles(ssn='101-71-4702', vehicle_make='Ford', vehicle_model='Mustang', model_year=1997)]\n",
      "[Employment(employer='Stiedemann-Bailey', department='Research and Development', employee_id='29-0890771', ssn='100-53-9824'), Employment(employer='Nicolas and Sons', department='Sales', employee_id='41-6841359', ssn='101-71-4702')]\n",
      "[Personal_info(ssn='100-53-9824', first_name='Sebastiano', last_name='Tester', gender='Male', language='Icelandic'), Personal_info(ssn='101-71-4702', first_name='Cayla', last_name='MacDonagh', gender='Female', language='Lao')]\n",
      "[Update_status(ssn='100-53-9824', last_updated=datetime.date(2017, 10, 7), created=datetime.date(2016, 1, 24)), Update_status(ssn='101-71-4702', last_updated=datetime.date(2017, 1, 23), created=datetime.date(2016, 1, 27))]\n"
     ]
    }
   ],
   "source": [
    "car_column_parser = (parse_string, parse_string, parse_string, parse_int)\n",
    "emp_column_parser = (parse_string, parse_string, parse_string, parse_string,)\n",
    "pi_column_parser = (parse_string, parse_string, parse_string, parse_string, parse_string,)\n",
    "us_column_parser = (parse_string,parse_date,parse_date,)\n",
    "\n",
    "column_row_parsers = (car_column_parser, emp_column_parser, pi_column_parser, us_column_parser)\n",
    "file_names = (\"vehicles.csv\", \"employment.csv\", \"personal_info.csv\", \"update_status.csv\",)\n",
    "\n",
    "# Verify\n",
    "for file, parser in zip(file_names, column_row_parsers):\n",
    "    print(list(itertools.islice(file_reader(file, parser),2)))"
   ]
  },
  {
   "cell_type": "markdown",
   "metadata": {},
   "source": [
    "### Goal 2"
   ]
  },
  {
   "cell_type": "markdown",
   "metadata": {},
   "source": [
    "Create a single iterable that combines all the data from all four files.\n",
    "- Re-use iterators from goal 1\n",
    "- Return one row per SSN containing data from all four files in a single named tuple."
   ]
  },
  {
   "cell_type": "code",
   "execution_count": 190,
   "metadata": {},
   "outputs": [
    {
     "data": {
      "text/plain": [
       "[Row(ssn='100-53-9824', vehicle_make='Oldsmobile', vehicle_model='Bravada', model_year=1993, employer='Stiedemann-Bailey', department='Research and Development', employee_id='29-0890771', first_name='Sebastiano', last_name='Tester', gender='Male', language='Icelandic', last_updated=datetime.date(2017, 10, 7), created=datetime.date(2016, 1, 24))]"
      ]
     },
     "execution_count": 190,
     "metadata": {},
     "output_type": "execute_result"
    }
   ],
   "source": [
    "def get_headers():\n",
    "    files_header_1, files_header_2, files_header_3, files_header_4 = [next(row_reader(file)) for file in file_names]\n",
    "    return list(dict.fromkeys([*files_header_1, *files_header_2, *files_header_3, *files_header_4]))\n",
    "\n",
    "def whole_file():\n",
    "    list_gen = [file_reader(file, parser) for file, parser in zip(file_names, column_row_parsers)]\n",
    "    union_list = zip(*list_gen)\n",
    "    headers = get_headers()\n",
    "    Row = namedtuple(\"Row\", headers)\n",
    "    result = (itertools.chain.from_iterable(zipped_tuple) for zipped_tuple in union_list)\n",
    "\n",
    "    for row in result:\n",
    "        row = list(dict.fromkeys(row))\n",
    "        yield Row(*row)\n",
    "\n",
    "list(itertools.islice(whole_file(), 1))\n"
   ]
  },
  {
   "cell_type": "markdown",
   "metadata": {},
   "source": [
    "### Goal 3"
   ]
  },
  {
   "cell_type": "markdown",
   "metadata": {},
   "source": [
    "create a function that filters on the iterator from goal 2 and returns an iterator without stale records.\n",
    "- stale, records with last update date < 3/1/2017"
   ]
  },
  {
   "cell_type": "code",
   "execution_count": 201,
   "metadata": {},
   "outputs": [
    {
     "data": {
      "text/plain": [
       "[Row(ssn='100-53-9824', vehicle_make='Oldsmobile', vehicle_model='Bravada', model_year=1993, employer='Stiedemann-Bailey', department='Research and Development', employee_id='29-0890771', first_name='Sebastiano', last_name='Tester', gender='Male', language='Icelandic', last_updated=datetime.date(2017, 10, 7), created=datetime.date(2016, 1, 24))]"
      ]
     },
     "execution_count": 201,
     "metadata": {},
     "output_type": "execute_result"
    }
   ],
   "source": [
    "def filter_stale():\n",
    "    filtered_data = filter(lambda x: x.last_updated >= datetime.datetime(2017, 3, 1).date(), whole_file())\n",
    "    yield from filtered_data\n",
    "\n",
    "list(itertools.islice(filter_stale(), 1))"
   ]
  },
  {
   "cell_type": "markdown",
   "metadata": {},
   "source": [
    "### Goal 4"
   ]
  },
  {
   "cell_type": "markdown",
   "metadata": {},
   "source": [
    "For all non-stale records from goal 3 generate a list of number of car makes by gender.\n",
    "- to verify the largest are:\n",
    "    - Female -> Ford and Chevrolet (both 42 persons in those groups)\n",
    "    - Male -> Ford (40 persons in the group)"
   ]
  },
  {
   "cell_type": "code",
   "execution_count": 232,
   "metadata": {},
   "outputs": [
    {
     "name": "stdout",
     "output_type": "stream",
     "text": [
      "---- FEMALE ----\n",
      "Chevrolet 42\n",
      "Ford 42\n",
      "GMC 22\n",
      "Mitsubishi 22\n",
      "Toyota 20\n",
      "Dodge 17\n",
      "Mercedes-Benz 17\n",
      "Lexus 15\n",
      "Pontiac 14\n",
      "Audi 13\n",
      "Mazda 13\n",
      "Volvo 13\n",
      "BMW 12\n",
      "Nissan 12\n",
      "Suzuki 12\n",
      "Buick 11\n",
      "Volkswagen 10\n",
      "Acura 9\n",
      "Infiniti 9\n",
      "Kia 9\n",
      "Honda 8\n",
      "Land Rover 8\n",
      "Oldsmobile 8\n",
      "Cadillac 6\n",
      "Chrysler 6\n",
      "Subaru 6\n",
      "Jeep 5\n",
      "Lotus 5\n",
      "Mercury 5\n",
      "Bentley 4\n",
      "Hyundai 4\n",
      "Lincoln 4\n",
      "Isuzu 3\n",
      "Jaguar 3\n",
      "Plymouth 3\n",
      "Porsche 3\n",
      "Saab 3\n",
      "Saturn 3\n",
      "Aston Martin 2\n",
      "Lamborghini 2\n",
      "Scion 2\n",
      "Austin 1\n",
      "Bugatti 1\n",
      "Eagle 1\n",
      "Geo 1\n",
      "Morgan 1\n",
      "Panoz 1\n",
      "Rolls-Royce 1\n",
      "---- MALE ----\n",
      "Ford 40\n",
      "Chevrolet 30\n",
      "GMC 28\n",
      "Mitsubishi 28\n",
      "Dodge 22\n",
      "Toyota 21\n",
      "Mercedes-Benz 19\n",
      "Volkswagen 16\n",
      "Audi 14\n",
      "Buick 13\n",
      "Mazda 13\n",
      "BMW 12\n",
      "Mercury 11\n",
      "Pontiac 11\n",
      "Volvo 10\n",
      "Cadillac 9\n",
      "Honda 9\n",
      "Hyundai 8\n",
      "Saab 8\n",
      "Subaru 8\n",
      "Acura 7\n",
      "Infiniti 7\n",
      "Jeep 7\n",
      "Lexus 6\n",
      "Nissan 6\n",
      "Kia 5\n",
      "Lincoln 5\n",
      "Lotus 5\n",
      "Oldsmobile 5\n",
      "Jaguar 4\n",
      "Lamborghini 4\n",
      "Plymouth 4\n",
      "Porsche 4\n",
      "Aston Martin 3\n",
      "Bentley 3\n",
      "Chrysler 3\n",
      "Isuzu 3\n",
      "Land Rover 3\n",
      "Maserati 3\n",
      "Saturn 3\n",
      "Geo 2\n",
      "Maybach 2\n",
      "Panoz 2\n",
      "Suzuki 2\n",
      "Aptera 1\n",
      "Austin 1\n",
      "Corbin 1\n",
      "Daewoo 1\n",
      "Eagle 1\n",
      "Jensen 1\n",
      "Rolls-Royce 1\n",
      "Scion 1\n",
      "Smart 1\n"
     ]
    }
   ],
   "source": [
    "def group_data(gender):\n",
    "    data = filter_stale()\n",
    "    data_g = (row for row in data if row.gender == gender)\n",
    "    sorted_g = sorted(data_g, key=lambda x: x.vehicle_make)\n",
    "    group_g = itertools.groupby(sorted_g, key=lambda x: x.vehicle_make)\n",
    "    group_g_counts = ((g, len(list(v))) for g, v in group_g)\n",
    "    return sorted(group_g_counts, key=lambda x: x[1], reverse=True)\n",
    "\n",
    "print(\"---- FEMALE ----\")\n",
    "for group, value in group_data('Female'):\n",
    "    print(group, value)\n",
    "print(\"---- MALE ----\")\n",
    "for group, value in group_data('Male'):\n",
    "    print(group, value)"
   ]
  },
  {
   "cell_type": "code",
   "execution_count": null,
   "metadata": {},
   "outputs": [],
   "source": []
  }
 ],
 "metadata": {
  "kernelspec": {
   "display_name": "Python 3.10.4 64-bit ('3.10.4')",
   "language": "python",
   "name": "python3"
  },
  "language_info": {
   "codemirror_mode": {
    "name": "ipython",
    "version": 3
   },
   "file_extension": ".py",
   "mimetype": "text/x-python",
   "name": "python",
   "nbconvert_exporter": "python",
   "pygments_lexer": "ipython3",
   "version": "3.10.4"
  },
  "orig_nbformat": 4,
  "vscode": {
   "interpreter": {
    "hash": "2fdca24a4758abedd58d89beec3a8b64b5a66383ee0e2246c58baa128030a261"
   }
  }
 },
 "nbformat": 4,
 "nbformat_minor": 2
}
