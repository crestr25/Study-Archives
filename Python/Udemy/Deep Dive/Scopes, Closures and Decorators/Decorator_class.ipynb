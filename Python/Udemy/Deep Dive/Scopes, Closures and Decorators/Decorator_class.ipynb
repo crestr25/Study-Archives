{
 "cells": [
  {
   "cell_type": "code",
   "execution_count": 3,
   "metadata": {},
   "outputs": [
    {
     "name": "stdout",
     "output_type": "stream",
     "text": [
      "1, 2, 3\n"
     ]
    }
   ],
   "source": [
    "# how to use classes to decorate functions.\n",
    "# Classes have this special dunder method called __call__)\n",
    "\n",
    "class Myclass:\n",
    "    def __init__(self, a, b):\n",
    "        self.a = a\n",
    "        self.b = b\n",
    "\n",
    "    def __call__(self, c):\n",
    "        print(f\"{self.a}, {self.b}, {c}\")\n",
    "\n",
    "obj = Myclass(1, 2)\n",
    "obj(3) # the __call__ method lets us call the object."
   ]
  },
  {
   "cell_type": "code",
   "execution_count": 10,
   "metadata": {},
   "outputs": [
    {
     "name": "stdout",
     "output_type": "stream",
     "text": [
      "printing instance vars 1, 2\n",
      "running my_func\n",
      "printing instance vars 3, 2\n",
      "running my_func2\n"
     ]
    }
   ],
   "source": [
    "# that means the decorator could be this function.\n",
    "class Myclass: # now the factory is the class\n",
    "    def __init__(self, a, b):\n",
    "        self.a = a\n",
    "        self.b = b\n",
    "\n",
    "    def __call__(self, fn):\n",
    "        def inner(*args, **kwargs):\n",
    "            print(f\"printing instance vars {self.a}, {self.b}\")\n",
    "            return fn(*args, **kwargs)\n",
    "        return inner\n",
    "\n",
    "obj = Myclass(1, 2)\n",
    "\n",
    "@obj\n",
    "def my_func():\n",
    "    print(\"running my_func\")\n",
    "\n",
    "my_func()\n",
    "\n",
    "# or\n",
    "\n",
    "@Myclass(3,2)\n",
    "def my_func2():\n",
    "    print(\"running my_func2\")\n",
    "my_func2()"
   ]
  }
 ],
 "metadata": {
  "interpreter": {
   "hash": "916dbcbb3f70747c44a77c7bcd40155683ae19c65e1c03b4aa3499c5328201f1"
  },
  "kernelspec": {
   "display_name": "Python 3.8.10 64-bit",
   "language": "python",
   "name": "python3"
  },
  "language_info": {
   "codemirror_mode": {
    "name": "ipython",
    "version": 3
   },
   "file_extension": ".py",
   "mimetype": "text/x-python",
   "name": "python",
   "nbconvert_exporter": "python",
   "pygments_lexer": "ipython3",
   "version": "3.8.10"
  },
  "orig_nbformat": 4
 },
 "nbformat": 4,
 "nbformat_minor": 2
}
