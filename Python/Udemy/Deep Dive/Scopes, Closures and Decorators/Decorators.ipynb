{
 "cells": [
  {
   "cell_type": "code",
   "execution_count": null,
   "metadata": {},
   "outputs": [],
   "source": [
    "# In general a decorator function:\n",
    "# - Takes a function as an argument.\n",
    "# - Returns a closure. (it is always going to be a closure since fn is a parameter of the outer function, that means it has a function with free variables)\n",
    "# - the closure usually accepts any combination of parameters. (*args, **kwargs)\n",
    "# - Runs some code in the inner function (closure).\n",
    "# - the closure function calls the original function using the args passed to the closure\n",
    "# - returns whatever is returned by that function call.\n"
   ]
  },
  {
   "cell_type": "code",
   "execution_count": 14,
   "metadata": {},
   "outputs": [],
   "source": [
    "# Here we define a decorator that keeps count of the times a function has been called.\n",
    "def counter(fn):\n",
    "    count = 0\n",
    "    def inner(*args, **kwargs):\n",
    "        nonlocal count # has to reference to something because we are adding 1 to its current value.\n",
    "        count += 1\n",
    "        print(f\"function {fn.__name__} with id {id(fn)} has been called {count} times.\")\n",
    "        return fn(*args, **kwargs)\n",
    "    return inner\n",
    "\n",
    "# here is our function to be decorated, it has a signature and a docstring.\n",
    "def add(a: int, b: int = 0):\n",
    "    \"\"\"\n",
    "    adds to values\n",
    "    \"\"\"\n",
    "    return a + b"
   ]
  },
  {
   "cell_type": "code",
   "execution_count": 15,
   "metadata": {},
   "outputs": [
    {
     "name": "stdout",
     "output_type": "stream",
     "text": [
      "Help on function add in module __main__:\n",
      "\n",
      "add(a: int, b: int = 0)\n",
      "    adds to values\n",
      "\n"
     ]
    }
   ],
   "source": [
    "# checking signatures for the function.\n",
    "help(add)"
   ]
  },
  {
   "cell_type": "code",
   "execution_count": 16,
   "metadata": {},
   "outputs": [
    {
     "name": "stdout",
     "output_type": "stream",
     "text": [
      "id for the add before decoration 140200352737168\n",
      "id for the add after decoration 140200352735296\n",
      "Help on function inner in module __main__:\n",
      "\n",
      "inner(*args, **kwargs)\n",
      "\n"
     ]
    }
   ],
   "source": [
    "# now we can decorate add with our counter decorator\n",
    "print(f\"id for the add before decoration {id(add)}\")\n",
    "add = counter(add) # here we use add as the new name for the decorated function also named add.\n",
    "print(f\"id for the add after decoration {id(add)}\")\n",
    "\n",
    "# so now help has changed for us. it now points to the inner function signature.\n",
    "help(add)"
   ]
  },
  {
   "cell_type": "code",
   "execution_count": 17,
   "metadata": {},
   "outputs": [
    {
     "name": "stdout",
     "output_type": "stream",
     "text": [
      "function add with id 140200352737168 has been called 1 times.\n"
     ]
    },
    {
     "data": {
      "text/plain": [
       "8"
      ]
     },
     "execution_count": 17,
     "metadata": {},
     "output_type": "execute_result"
    }
   ],
   "source": [
    "# id in the free variable in the decorator is the same as add.\n",
    "add(3, 5)"
   ]
  },
  {
   "cell_type": "code",
   "execution_count": 25,
   "metadata": {},
   "outputs": [
    {
     "name": "stdout",
     "output_type": "stream",
     "text": [
      "Help on function inner in module __main__:\n",
      "\n",
      "inner(*args, **kwargs)\n",
      "\n"
     ]
    }
   ],
   "source": [
    "# function number 2\n",
    "def mult(a: int, b:int, c:int=1, *, d):\n",
    "    \"\"\"\n",
    "    Multiply 4 numbers\n",
    "    \"\"\"\n",
    "    return a * b * c * d\n",
    "\n",
    "# we decorate our function with this syntax\n",
    "mult = counter(mult)\n",
    "# or we can use the @ operator\n",
    "@counter\n",
    "def mult(a: int, b:int, c:int=1, *, d):\n",
    "    \"\"\"\n",
    "    Multiply 4 numbers\n",
    "    \"\"\"\n",
    "    return a * b * c * d\n",
    "\n",
    "help(mult) # not the help for the mult func."
   ]
  },
  {
   "cell_type": "code",
   "execution_count": 24,
   "metadata": {},
   "outputs": [
    {
     "name": "stdout",
     "output_type": "stream",
     "text": [
      "function mult with id 140200352737744 has been called 2 times.\n"
     ]
    },
    {
     "data": {
      "text/plain": [
       "24"
      ]
     },
     "execution_count": 24,
     "metadata": {},
     "output_type": "execute_result"
    }
   ],
   "source": [
    "mult(2,3,d=4)\n"
   ]
  },
  {
   "cell_type": "code",
   "execution_count": 27,
   "metadata": {},
   "outputs": [
    {
     "name": "stdout",
     "output_type": "stream",
     "text": [
      "Help on function my_func in module __main__:\n",
      "\n",
      "my_func(*args, **kwargs)\n",
      "    Multiply strings\n",
      "\n"
     ]
    }
   ],
   "source": [
    "# we can fix the signature for a decorated function with wraps.\n",
    "\n",
    "# to fix the name and docstring we can\n",
    "def counter(fn):\n",
    "    count = 0\n",
    "    def inner(*args, **kwargs):\n",
    "        nonlocal count # has to reference to something because we are adding 1 to its current value.\n",
    "        count += 1\n",
    "        print(f\"function {fn.__name__} with id {id(fn)} has been called {count} times.\")\n",
    "        return fn(*args, **kwargs)\n",
    "    inner.__name__ = fn.__name__\n",
    "    inner.__doc__ = fn.__doc__\n",
    "    return inner\n",
    "\n",
    "@counter\n",
    "def my_func(s: str, i: int):\n",
    "    \"\"\"\n",
    "    Multiply strings\n",
    "    \"\"\"\n",
    "    return s * i\n",
    "\n",
    "help(my_func) # we now have name and docstring ok. but signature is missing."
   ]
  },
  {
   "cell_type": "code",
   "execution_count": 28,
   "metadata": {},
   "outputs": [
    {
     "name": "stdout",
     "output_type": "stream",
     "text": [
      "Help on function my_func in module __main__:\n",
      "\n",
      "my_func(s: str, i: int)\n",
      "    Multiply strings\n",
      "\n"
     ]
    }
   ],
   "source": [
    "# to fix the signature we can\n",
    "from functools import wraps # it is a decorator that understands the doc comming from the free variable function of the closure.\n",
    "\n",
    "def counter(fn):\n",
    "    count = 0\n",
    "    @wraps(fn) # we have to pass the string.\n",
    "    def inner(*args, **kwargs):\n",
    "        nonlocal count # has to reference to something because we are adding 1 to its current value.\n",
    "        count += 1\n",
    "        print(f\"function {fn.__name__} with id {id(fn)} has been called {count} times.\")\n",
    "        return fn(*args, **kwargs)\n",
    "\n",
    "    # inner = wraps(fn)(inner) - instead of using the @ operator.\n",
    "    return inner\n",
    "\n",
    "@counter\n",
    "def my_func(s: str, i: int):\n",
    "    \"\"\"\n",
    "    Multiply strings\n",
    "    \"\"\"\n",
    "    return s * i\n",
    "\n",
    "help(my_func) # we now have everything ok."
   ]
  },
  {
   "cell_type": "code",
   "execution_count": 29,
   "metadata": {},
   "outputs": [
    {
     "name": "stdout",
     "output_type": "stream",
     "text": [
      "function my_func with id 140200352737888 has been called 1 times.\n"
     ]
    },
    {
     "data": {
      "text/plain": [
       "'sss'"
      ]
     },
     "execution_count": 29,
     "metadata": {},
     "output_type": "execute_result"
    }
   ],
   "source": [
    "my_func('s', 3)"
   ]
  }
 ],
 "metadata": {
  "interpreter": {
   "hash": "916dbcbb3f70747c44a77c7bcd40155683ae19c65e1c03b4aa3499c5328201f1"
  },
  "kernelspec": {
   "display_name": "Python 3.8.10 64-bit",
   "language": "python",
   "name": "python3"
  },
  "language_info": {
   "codemirror_mode": {
    "name": "ipython",
    "version": 3
   },
   "file_extension": ".py",
   "mimetype": "text/x-python",
   "name": "python",
   "nbconvert_exporter": "python",
   "pygments_lexer": "ipython3",
   "version": "3.8.10"
  },
  "orig_nbformat": 4
 },
 "nbformat": 4,
 "nbformat_minor": 2
}
