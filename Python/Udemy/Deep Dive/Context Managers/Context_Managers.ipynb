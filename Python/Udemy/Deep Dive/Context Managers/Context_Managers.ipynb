{
 "cells": [
  {
   "cell_type": "markdown",
   "metadata": {},
   "source": [
    "# Context Managers"
   ]
  },
  {
   "cell_type": "markdown",
   "metadata": {},
   "source": [
    "We can say that in python context managers, manage the state surrounding a section of code, i.e open/close a connection.   \n",
    "This is so we can verify that there is a code that will always run before and after our code inspite of a raising exception or an error.   \n",
    "\n",
    "Context managers are basically doing two things:\n",
    "1. enter - Enter the context. (`__enter__`)\n",
    "2. exit - Exit the context. (`__exit__`)\n",
    "\n",
    "```\n",
    "with open(\"file.txt\") as file:\n",
    "    ...\n",
    "```\n",
    "- `with` is the keyword\n",
    "- Here the `open` implements the context manager protocol.\n",
    "- `as` stores what is returned from the `open` `__enter__` method, not the object `open()`\n",
    "\n",
    "The context manager `exit` method works much like the `finally` on a `try/except`, it will always run even if an exception is raised."
   ]
  },
  {
   "cell_type": "markdown",
   "metadata": {},
   "source": [
    "Instead of a manager `Try/Except/Finally` is a good way to manage our resources since, it will run no matter what happens in the code block.\n",
    "even if the exception is not handled if there is a finally it will run.\n",
    "\n",
    "However it is cumbersome to write and a code full of catching errors is not clean, so enter context managers."
   ]
  },
  {
   "cell_type": "code",
   "execution_count": 82,
   "metadata": {},
   "outputs": [
    {
     "name": "stdout",
     "output_type": "stream",
     "text": [
      "---- FINALLY ----\n",
      "i will always run\n",
      "---- FINALLY IN FUNCTION ----\n",
      "i will always run even if a return is on the except\n"
     ]
    }
   ],
   "source": [
    "# we should keep in mind the finally clause of the try/except\n",
    "import random\n",
    "\n",
    "print(\"---- FINALLY ----\")\n",
    "try:\n",
    "    i = random.randint(0, 1)\n",
    "    10 / i\n",
    "except ZeroDivisionError:\n",
    "    print(\"i will sometimes run\")\n",
    "finally:\n",
    "    print(\"i will always run\")\n",
    "\n",
    "\n",
    "print(\"---- FINALLY IN FUNCTION ----\")\n",
    "# The finally should always run even if a return statement is located in the exception\n",
    "def my_func():\n",
    "    try:\n",
    "        i = random.randint(0, 1)\n",
    "        10 / i\n",
    "    except ZeroDivisionError:\n",
    "        print(\"i will sometimes run\")\n",
    "        return\n",
    "    finally:\n",
    "        print(\"i will always run even if a return is on the except\")\n",
    "\n",
    "my_func()"
   ]
  },
  {
   "cell_type": "markdown",
   "metadata": {},
   "source": [
    "We can see how the context manager, manages the connection to the file and how it closes after it finishes."
   ]
  },
  {
   "cell_type": "code",
   "execution_count": 83,
   "metadata": {},
   "outputs": [
    {
     "name": "stdout",
     "output_type": "stream",
     "text": [
      "---- CONTEXT MANAGER ----\n",
      "Inside context: file is closed -> False\n",
      "Outside context: file is closed -> True\n",
      "---- CONTEXT MANAGER FUNCTION----\n",
      "Inside the context: file is closed -> False\n",
      "Outside the context: file is closed -> True\n"
     ]
    }
   ],
   "source": [
    "print(\"---- CONTEXT MANAGER ----\")\n",
    "\n",
    "with open('test.txt', 'w') as file:\n",
    "    print(f\"Inside context: file is closed -> {file.closed}\")\n",
    "\n",
    "print(f\"Outside context: file is closed -> {file.closed}\")\n",
    "\n",
    "print(\"---- CONTEXT MANAGER FUNCTION----\")\n",
    "\n",
    "def test():\n",
    "    with open(\"test.txt\", \"w\") as file:\n",
    "        print(f\"Inside the context: file is closed -> {file.closed}\")\n",
    "        return file\n",
    "\n",
    "file = test()\n",
    "print(f\"Outside the context: file is closed -> {file.closed}\")"
   ]
  },
  {
   "cell_type": "markdown",
   "metadata": {},
   "source": [
    "## WITH"
   ]
  },
  {
   "cell_type": "markdown",
   "metadata": {},
   "source": [
    "The keyword to instantiate/call the method for the context manager protocol.\n",
    "\n",
    "- `with` has no local scope, it gets the scope of the one where it gets created."
   ]
  },
  {
   "cell_type": "code",
   "execution_count": 56,
   "metadata": {},
   "outputs": [
    {
     "name": "stdout",
     "output_type": "stream",
     "text": [
      "---- SCOPE OF WITH ----\n",
      "we can access the value row: Hello world! from the last local manager.\n"
     ]
    }
   ],
   "source": [
    "print(\"---- SCOPE OF WITH ----\")\n",
    "\n",
    "with open('test.txt', 'w') as f:\n",
    "    f.writelines('Hello world!')\n",
    "\n",
    "with open('test.txt') as f:\n",
    "    row = next(f)\n",
    "\n",
    "print(f\"we can access the value row: {row} from the last local manager.\")"
   ]
  },
  {
   "cell_type": "markdown",
   "metadata": {},
   "source": [
    "## CONTEXT MANAGER PROTOCOL"
   ]
  },
  {
   "cell_type": "markdown",
   "metadata": {},
   "source": [
    "The `__enter__` and `__exit__` methods are required to be implemented for a context manager to work.\n",
    "- `__enter__(self)` runs when the context manager is called and it just returns any value, this is the one that gets assigned\n",
    "on the `as` part of the `with` statement.\n",
    "- `__exit__(self, exc_type, exc_value, exc_tb)` runs when the context manager finishes, it will always run, it must return either:\n",
    "    - `True` if we handle the exception and don't want to raise it.\n",
    "    - `False` if we want to raise the exception."
   ]
  },
  {
   "cell_type": "code",
   "execution_count": 61,
   "metadata": {},
   "outputs": [
    {
     "name": "stdout",
     "output_type": "stream",
     "text": [
      "Entering context ...\n",
      "Inside with block...\n",
      "The Return Object\n",
      "exiting context ....\n",
      "*** Error Occurred: <class 'ValueError'>, custom message....\n"
     ]
    }
   ],
   "source": [
    "class MyContextManager:\n",
    "    def __init__(self):\n",
    "        self.obj = None\n",
    "\n",
    "    def __enter__(self):\n",
    "        print(\"Entering context ...\")\n",
    "        self.obj = 'The Return Object'\n",
    "        return self.obj\n",
    "\n",
    "    def __exit__(self, exc_type, exc_value, exec_tb):\n",
    "        print('exiting context ....')\n",
    "        if exc_type:\n",
    "            print(f'*** Error Occurred: {exc_type}, {exc_value}')\n",
    "        return True # False will raise the exception\n",
    "\n",
    "ctx = MyContextManager()\n",
    "with ctx as obj:\n",
    "    print(\"Inside with block...\")\n",
    "    print(obj)\n",
    "    raise ValueError('custom message....')"
   ]
  },
  {
   "cell_type": "code",
   "execution_count": 65,
   "metadata": {},
   "outputs": [
    {
     "name": "stdout",
     "output_type": "stream",
     "text": [
      "---- INSIDE WITH ----\n",
      "Entering context\n",
      "holi = created\n",
      "Exiting Contest\n",
      "---- OUTSIDE WITH ----\n",
      "holi = destroyed\n",
      "object res is still in our globals -> True\n"
     ]
    }
   ],
   "source": [
    "class Resource:\n",
    "    def __init__(self, name):\n",
    "        self.name = name\n",
    "        self.state = None\n",
    "\n",
    "class ResourceManager:\n",
    "    def __init__(self, name):\n",
    "        self.name = name\n",
    "        self.resource = None\n",
    "\n",
    "    def __enter__(self):\n",
    "        print('Entering context')\n",
    "        self.resource = Resource(self.name)\n",
    "        self.resource.state = 'created'\n",
    "\n",
    "        return self.resource\n",
    "\n",
    "    def __exit__(self, exc_type, exc_value, exc_tb):\n",
    "        print('Exiting Contest')\n",
    "        self.resource.state = 'destroyed'\n",
    "        if exc_type:\n",
    "            print('error occured')\n",
    "        return False\n",
    "\n",
    "\n",
    "print(\"---- INSIDE WITH ----\")\n",
    "with ResourceManager('holi') as res:\n",
    "    print(f\"{res.name} = {res.state}\")\n",
    "\n",
    "print(\"---- OUTSIDE WITH ----\")\n",
    "print(f\"{res.name} = {res.state}\")\n",
    "print(f'object res is still in our globals -> {\"res\" in globals()}')"
   ]
  },
  {
   "cell_type": "code",
   "execution_count": 71,
   "metadata": {},
   "outputs": [
    {
     "name": "stdout",
     "output_type": "stream",
     "text": [
      "---- ENTER RETURNS SELF ----\n",
      "opening file... \n",
      "Hello world!\n",
      "close file\n"
     ]
    }
   ],
   "source": [
    "print(\"---- ENTER RETURNS SELF ----\")\n",
    "class File:\n",
    "    def __init__(self, name, mode):\n",
    "        self.name = name\n",
    "        self.mode = mode\n",
    "\n",
    "    def __enter__(self):\n",
    "        print(\"opening file... \")\n",
    "        self.file = open(self.name, self.mode)\n",
    "        return self\n",
    "\n",
    "    def __exit__(self, exc_type, exc_value, exc_tb):\n",
    "        print(\"close file\")\n",
    "        self.file.close()\n",
    "        return False\n",
    "\n",
    "with File(\"test.txt\", \"r\") as f_ctx:\n",
    "    print(next(f_ctx.file))\n"
   ]
  },
  {
   "cell_type": "markdown",
   "metadata": {},
   "source": [
    "## Multiple Protocols"
   ]
  },
  {
   "cell_type": "markdown",
   "metadata": {},
   "source": [
    "We can of course implement multiple protocols to our classes and not just the context manager one."
   ]
  },
  {
   "cell_type": "code",
   "execution_count": 87,
   "metadata": {},
   "outputs": [
    {
     "name": "stdout",
     "output_type": "stream",
     "text": [
      "First 3 lines of our class -> [['Summons Number', 'Plate ID', 'Registration State', 'Plate Type', 'Issue Date', 'Violation Code', 'Vehicle Body Type', 'Vehicle Make', 'Violation Description'], ['4006478550', 'VAD7274', 'VA', 'PAS', '10/5/2016', '5', '4D', 'BMW', 'BUS LANE VIOLATION']]\n"
     ]
    }
   ],
   "source": [
    "from itertools import islice\n",
    "\n",
    "class DataIterator:\n",
    "    def __init__(self, fname):\n",
    "        self._fname = fname\n",
    "        self._f = None\n",
    "\n",
    "    def __enter__(self):\n",
    "        self._f = open(self._fname)\n",
    "        return self\n",
    "        \n",
    "    def __exit__(self, exc_type, exc_value, exc_tb):\n",
    "        if not self._f.closed is True:\n",
    "            self._f.close()\n",
    "        return False\n",
    "\n",
    "    def __iter__(self):\n",
    "        return self\n",
    "\n",
    "    def __next__(self):\n",
    "        row = next(self._f)\n",
    "        return row.strip('\\n').split(',')\n",
    "\n",
    "\n",
    "di_ctx = DataIterator(\"nyc_parking_tickets_extract.csv\")\n",
    "\n",
    "with di_ctx as file:\n",
    "    print(f\"First 3 lines of our class -> {list(islice(file, 2))}\")"
   ]
  },
  {
   "cell_type": "markdown",
   "metadata": {},
   "source": [
    "## Uses"
   ]
  },
  {
   "cell_type": "markdown",
   "metadata": {},
   "source": [
    "OPEN / CLOSE\n",
    "- a file\n",
    "- a socket"
   ]
  },
  {
   "cell_type": "markdown",
   "metadata": {},
   "source": [
    "START / STOP\n",
    "- db transaction\n",
    "- timer"
   ]
  },
  {
   "cell_type": "code",
   "execution_count": 116,
   "metadata": {},
   "outputs": [
    {
     "name": "stdout",
     "output_type": "stream",
     "text": [
      "---- CONTEXT MANAGER IMPLEMENTATION ----\n",
      "The with block took 1.0016097170009743 seconds to run\n",
      "---- CONTEXT MANAGER DECORATOR ----\n",
      "yielding .....\n",
      "The with block took 2.0025690619950183 seconds to run\n"
     ]
    }
   ],
   "source": [
    "print(\"---- CONTEXT MANAGER IMPLEMENTATION ----\")\n",
    "\n",
    "from time import perf_counter, sleep\n",
    "\n",
    "class Timer:\n",
    "    def __init__(self):\n",
    "        self.elapsed = 0\n",
    "\n",
    "    def __enter__(self):\n",
    "        self.start = perf_counter()\n",
    "        return self\n",
    "\n",
    "    def __exit__(self, exc_type, exc_value, exc_tb):\n",
    "        self.stop = perf_counter()\n",
    "        self.elapsed = self.stop - self.start\n",
    "\n",
    "with Timer() as timer:\n",
    "    sleep(1)\n",
    "\n",
    "print(f\"The with block took {timer.elapsed} seconds to run\")\n",
    "\n",
    "print(\"---- CONTEXT MANAGER DECORATOR ----\")\n",
    "from contextlib import contextmanager\n",
    "\n",
    "@contextmanager\n",
    "def timer():\n",
    "    stats = dict()\n",
    "    start = perf_counter()\n",
    "    stats['start'] = start\n",
    "    try:\n",
    "        print(\"yielding .....\")\n",
    "        yield stats\n",
    "    finally:\n",
    "        end = perf_counter()\n",
    "        stats['end'] = end\n",
    "        stats['elapsed'] = end - start\n",
    "\n",
    "with timer() as t:\n",
    "    sleep(2)\n",
    "\n",
    "print(f\"The with block took {t['elapsed']} seconds to run\")"
   ]
  },
  {
   "cell_type": "markdown",
   "metadata": {},
   "source": [
    "LOCK / RELEASE\n",
    "- thread lock"
   ]
  },
  {
   "cell_type": "code",
   "execution_count": null,
   "metadata": {},
   "outputs": [],
   "source": []
  },
  {
   "cell_type": "markdown",
   "metadata": {},
   "source": [
    "CHANGE / RESET\n",
    "- decimal context precision\n",
    "- stdout to a file"
   ]
  },
  {
   "cell_type": "code",
   "execution_count": 93,
   "metadata": {},
   "outputs": [
    {
     "name": "stdout",
     "output_type": "stream",
     "text": [
      "---- DECIMAL CONTEXT ----\n",
      "the context for the default decimal is -> Context(prec=4, rounding=ROUND_HALF_EVEN, Emin=-999999, Emax=999999, capitals=1, clamp=0, flags=[], traps=[InvalidOperation, DivisionByZero, Overflow])\n",
      "We can modify it globaly, prec before -> 4\n",
      "We can modify it globaly, prec after -> 4\n",
      "---- DECIMAL CONTEXT CLASS ----\n",
      "decimal precision context manager, prec before context -> 4\n",
      "decimal precision context manager, prec inside context -> 10\n",
      "decimal precision context manager, prec after context -> 4\n",
      "---- DECIMAL CONTEXT BUILT IN ----\n",
      "decimal precision context manager, prec before context -> 4\n",
      "decimal precision context manager, prec inside context -> 3\n",
      "decimal precision context manager, prec after context -> 4\n"
     ]
    }
   ],
   "source": [
    "import decimal\n",
    "\n",
    "print(\"---- DECIMAL CONTEXT ----\")\n",
    "print(f\"the context for the default decimal is -> {decimal.getcontext()}\")\n",
    "\n",
    "print(f\"We can modify it globaly, prec before -> {decimal.getcontext().prec}\")\n",
    "decimal.getcontext().prec = 4\n",
    "print(f\"We can modify it globaly, prec after -> {decimal.getcontext().prec}\")\n",
    "\n",
    "print(\"---- DECIMAL CONTEXT CLASS ----\")\n",
    "# so instead of creating a variable to store the old value we can manage a context with the context manager\n",
    "class precision:\n",
    "    def __init__(self, prec):\n",
    "        self._prec = prec\n",
    "        self._current_prec = decimal.getcontext().prec\n",
    "\n",
    "    def __enter__(self):\n",
    "        decimal.getcontext().prec = self._prec\n",
    "\n",
    "    def __exit__(self, exc_type, exc_value, exc_tb):\n",
    "        decimal.getcontext().prec = self._current_prec\n",
    "        return False\n",
    "\n",
    "print(f\"decimal precision context manager, prec before context -> {decimal.getcontext().prec}\")\n",
    "with precision(10):\n",
    "    print(f\"decimal precision context manager, prec inside context -> {decimal.getcontext().prec}\")\n",
    "print(f\"decimal precision context manager, prec after context -> {decimal.getcontext().prec}\")\n",
    "\n",
    "print(\"---- DECIMAL CONTEXT BUILT IN ----\")\n",
    "print(f\"decimal precision context manager, prec before context -> {decimal.getcontext().prec}\")\n",
    "with decimal.localcontext() as ctx:\n",
    "    ctx.prec = 3\n",
    "    print(f\"decimal precision context manager, prec inside context -> {decimal.getcontext().prec}\")\n",
    "print(f\"decimal precision context manager, prec after context -> {decimal.getcontext().prec}\")"
   ]
  },
  {
   "cell_type": "code",
   "execution_count": 120,
   "metadata": {},
   "outputs": [
    {
     "name": "stdout",
     "output_type": "stream",
     "text": [
      "---- CONTEXT MANAGER IMPLEMENTATION ----\n",
      "---- CONTEXT MANAGER DECORATOR ----\n",
      "---- CONTEXT MANAGER BUILTIN ----\n"
     ]
    }
   ],
   "source": [
    "print(\"---- CONTEXT MANAGER IMPLEMENTATION ----\")\n",
    "import sys\n",
    "\n",
    "class OutToFile:\n",
    "    def __init__(self, fname):\n",
    "        self._fname = fname\n",
    "        self._current_stdout = sys.stdout\n",
    "\n",
    "    def __enter__(self):\n",
    "        self._file = open(self._fname, \"w\")\n",
    "        sys.stdout = self._file\n",
    "\n",
    "    def __exit__(self, exc_type, exc_value, exc_tb):\n",
    "        sys.stdout = self._current_stdout\n",
    "        self._file.close()\n",
    "        return False\n",
    "\n",
    "with OutToFile(\"stdout.txt\"):\n",
    "    print(\"oh my god!\")\n",
    "\n",
    "print(\"---- CONTEXT MANAGER DECORATOR ----\")\n",
    "from contextlib import contextmanager\n",
    "\n",
    "@contextmanager\n",
    "def out_to_file(fname):\n",
    "    current_stdout = sys.stdout\n",
    "    file = open(fname, \"w\")\n",
    "    sys.stdout = file\n",
    "    try:\n",
    "        yield\n",
    "    finally:\n",
    "        file.close()\n",
    "        sys.stdout = current_stdout\n",
    "\n",
    "with out_to_file(\"stdout_dec.txt\"):\n",
    "    print(\"oh my god!\")\n",
    "\n",
    "print(\"---- CONTEXT MANAGER BUILTIN ----\")\n",
    "from contextlib import redirect_stdout\n",
    "\n",
    "with open(\"stdout_builtin.txt\", \"w\") as f:\n",
    "    with redirect_stdout(f):\n",
    "        print(\"oh mi Dios!!\")"
   ]
  },
  {
   "cell_type": "markdown",
   "metadata": {},
   "source": [
    "WACKY STUFF\n",
    "- html tags\n",
    "- list maker"
   ]
  },
  {
   "cell_type": "code",
   "execution_count": 101,
   "metadata": {},
   "outputs": [
    {
     "name": "stdout",
     "output_type": "stream",
     "text": [
      "<p>hello <b>hello from inside</b> world!!</p>"
     ]
    }
   ],
   "source": [
    "class Tag:\n",
    "    def __init__(self, tag):\n",
    "        self._tag = tag\n",
    "\n",
    "    def __enter__(self):\n",
    "        print(f\"<{self._tag}>\", end=\"\")\n",
    "\n",
    "    def __exit__(self, exc_type, exc_value, exc_tb):\n",
    "        print(f\"</{self._tag}>\", end=\"\")\n",
    "        return False\n",
    "\n",
    "with Tag('p'):\n",
    "    print(\"hello \", end=\"\")\n",
    "    with Tag('b'):\n",
    "        print(\"hello from inside\", end=\"\")\n",
    "    print(\" world!!\", end=\"\")"
   ]
  },
  {
   "cell_type": "code",
   "execution_count": 104,
   "metadata": {},
   "outputs": [
    {
     "name": "stdout",
     "output_type": "stream",
     "text": [
      "my awesome list\n",
      "     >  today\n",
      "         >  write code\n",
      "     >  tomorrow\n",
      "         >  debug code\n"
     ]
    }
   ],
   "source": [
    "class ListMaker:\n",
    "    def __init__(self, title, prefix='- ', indent=3):\n",
    "        self._title = title\n",
    "        self._prefix = prefix\n",
    "        self._indent = indent\n",
    "        self._current_indent = 0\n",
    "        print(title)\n",
    "\n",
    "    def __enter__(self):\n",
    "        self._current_indent += self._indent\n",
    "        return self\n",
    "\n",
    "    def __exit__(self, exc_type, exc_value, exc_tb):\n",
    "        self._current_indent -= self._indent\n",
    "\n",
    "    def print(self, arg):\n",
    "        print(f\"{' ' * self._current_indent} {self._prefix} {arg}\")\n",
    "\n",
    "with ListMaker(\"my awesome list\", \"> \", indent=4) as list_ctx:\n",
    "    list_ctx.print(\"today\")\n",
    "    with list_ctx:\n",
    "        list_ctx.print(\"write code\")\n",
    "    list_ctx.print(\"tomorrow\")\n",
    "    with list_ctx:\n",
    "        list_ctx.print(\"debug code\")\n",
    "    "
   ]
  },
  {
   "cell_type": "markdown",
   "metadata": {},
   "source": [
    "## Generators and Context Managers"
   ]
  },
  {
   "cell_type": "markdown",
   "metadata": {},
   "source": [
    "When creating the context managers, one thing Python wanted to do was to generate this generator functions like context managers.   \n",
    "\n",
    "This way we can pass a generator fucntion that generates a context and we create the generic protocol inside a class."
   ]
  },
  {
   "cell_type": "code",
   "execution_count": 108,
   "metadata": {},
   "outputs": [
    {
     "name": "stdout",
     "output_type": "stream",
     "text": [
      "creating context and yielding object\n",
      "<_io.TextIOWrapper name='nyc_parking_tickets_extract.csv' mode='r' encoding='UTF-8'>\n",
      "exiting context and cleaning up\n"
     ]
    }
   ],
   "source": [
    "# Pattern for generator function\n",
    "def my_gen(f_name, mode):\n",
    "    f = open(f_name, mode)\n",
    "    try:\n",
    "        print('creating context and yielding object')\n",
    "        yield f\n",
    "    finally:\n",
    "        print('exiting context and cleaning up') \n",
    "\n",
    "class GenContextManager:\n",
    "    def __init__(self, gen_func, *args, **kwargs):\n",
    "        self._gen_func = gen_func(*args, **kwargs)\n",
    "\n",
    "    def __enter__(self):\n",
    "        return next(self._gen_func)\n",
    "\n",
    "    def __exit__(self, exc_type, exc_value, exc_tb):\n",
    "        try:\n",
    "            next(self._gen_func)\n",
    "        except StopIteration:\n",
    "            pass\n",
    "        return False\n",
    "\n",
    "\n",
    "with GenContextManager(my_gen, 'nyc_parking_tickets_extract.csv', mode=\"r\") as obj:\n",
    "    print(obj)\n",
    "        "
   ]
  },
  {
   "cell_type": "markdown",
   "metadata": {},
   "source": [
    "There is however a lot of cleaning up to do here, since we may receive or get a lot of error handling when implementing a solution.   \n",
    "That is why there is a built in solution for these cases.   \n",
    "To work with the built - in case we need the generator function to be of a certain design.\n",
    "\n",
    "```\n",
    "def gen(args):\n",
    "    # set up happens here, or inside try\n",
    "    try:\n",
    "        yield obj # Whatever normally gets returned by __enter__\n",
    "    finally:\n",
    "        # perform clean up code here\n",
    "```"
   ]
  },
  {
   "cell_type": "code",
   "execution_count": 114,
   "metadata": {},
   "outputs": [
    {
     "name": "stdout",
     "output_type": "stream",
     "text": [
      "---- DECORATOR IMPLEMENTATION ----\n",
      "calling next to get the yielded value from the generator\n",
      "opening file...\n",
      "['holi\\n', 'holi\\n', 'holiii\\n', 'holiiiiiiiii']\n",
      "calling next to perform cleanup in generator\n",
      "closing file...\n",
      "---- DECORATOR BUILT IN ----\n",
      "opening file...\n",
      "['holi\\n', 'holi\\n', 'holiii\\n', 'holiiiiiiiii']\n",
      "closing file...\n"
     ]
    }
   ],
   "source": [
    "print(\"---- DECORATOR IMPLEMENTATION ----\")\n",
    "\n",
    "class GenContextManager:\n",
    "    def __init__(self, gen):\n",
    "        self.gen = gen\n",
    "\n",
    "    def __enter__(self):\n",
    "        print(\"calling next to get the yielded value from the generator\")\n",
    "        return next(self.gen)\n",
    "\n",
    "    def __exit__(self, exc_type, exc_value, exc_tb):\n",
    "        print(\"calling next to perform cleanup in generator\")\n",
    "        try:\n",
    "            next(self.gen)\n",
    "        except StopIteration:\n",
    "            pass\n",
    "        return False\n",
    "\n",
    "def context_manager_dec(gen_fn):\n",
    "    def helper(*args, **kwargs):\n",
    "        gen = gen_fn(*args, **kwargs)\n",
    "        ctx = GenContextManager(gen)\n",
    "        return ctx\n",
    "    return helper\n",
    "\n",
    "@context_manager_dec\n",
    "def open_file(fname, mode='r'):\n",
    "    print('opening file...')\n",
    "    f = open(fname, mode)\n",
    "    try:\n",
    "        yield f\n",
    "    finally:\n",
    "        print(\"closing file...\")\n",
    "        f.close()\n",
    "\n",
    "with open_file('test.txt') as f:\n",
    "    print(f.readlines())\n",
    " \n",
    "\n",
    "print(\"---- DECORATOR BUILT IN ----\")\n",
    "\n",
    "from contextlib import contextmanager\n",
    "\n",
    "@contextmanager\n",
    "def open_file(fname, mode='r'):\n",
    "    print('opening file...')\n",
    "    f = open(fname, mode)\n",
    "    try:\n",
    "        yield f\n",
    "    finally:\n",
    "        print(\"closing file...\")\n",
    "        f.close()\n",
    "\n",
    "with open_file('test.txt') as f:\n",
    "    print(f.readlines())\n"
   ]
  },
  {
   "cell_type": "markdown",
   "metadata": {},
   "source": [
    "## Nested Context Managers"
   ]
  },
  {
   "cell_type": "code",
   "execution_count": 132,
   "metadata": {},
   "outputs": [
    {
     "name": "stdout",
     "output_type": "stream",
     "text": [
      "closing file file1.txt\n",
      "closing file file3.txt\n",
      "closing file file2.txt\n",
      "---- CONTEXT MANAGER NESTED ----\n",
      "opening file file1.txt\n",
      "opening file file2.txt\n",
      "opening file file3.txt\n",
      "['file1_line1\\n', 'file1_line2\\n', 'file1_line3']\n",
      "['file2_line1\\n', 'file2_line2\\n', 'file2_line3']\n",
      "['file3_line1\\n', 'file3_line2\\n', 'file3_line3']\n",
      "closing file file3.txt\n",
      "closing file file2.txt\n",
      "closing file file1.txt\n",
      "---- CONTEXT MANAGER STACK ----\n",
      "opening file file1.txt\n",
      "opening file file2.txt\n",
      "opening file file3.txt\n",
      "closing file file3.txt\n",
      "closing file file2.txt\n",
      "closing file file1.txt\n",
      "---- CONTEXT MANAGER EXIT STACK BUILTIN ----\n",
      "opening file file1.txt\n",
      "opening file file2.txt\n",
      "opening file file3.txt\n",
      "closing file file3.txt\n",
      "closing file file2.txt\n",
      "closing file file1.txt\n"
     ]
    }
   ],
   "source": [
    "from contextlib import contextmanager\n",
    "from tkinter import E\n",
    "\n",
    "print(\"---- CONTEXT MANAGER NESTED ----\")\n",
    "\n",
    "@contextmanager\n",
    "def open_file(f_name):\n",
    "    print(f\"opening file {f_name}\")\n",
    "    f = open(f_name)\n",
    "    try:\n",
    "        yield f\n",
    "    finally:\n",
    "        print(f\"closing file {f_name}\")\n",
    "        f.close()\n",
    "\n",
    "f_names = 'file1.txt', 'file2.txt', 'file3.txt'\n",
    "\n",
    "class NestedContexts:\n",
    "    def __init__(self, *contexts):\n",
    "        self._enters = []\n",
    "        self._exits = []\n",
    "        self._values = []\n",
    "\n",
    "        for ctx in contexts:\n",
    "            self._enters.append(ctx.__enter__)\n",
    "            self._exits.append(ctx.__exit__)\n",
    "\n",
    "    def __enter__(self):\n",
    "        for enter in self._enters:\n",
    "            self._values.append(enter())\n",
    "        return self._values\n",
    "        \n",
    "        \n",
    "    def __exit__(self, exc_type, exc_value, exc_tb):\n",
    "        for exit in self._exits[::-1]:\n",
    "            exit(exc_type, exc_value, exc_tb)\n",
    "\n",
    "with NestedContexts(open_file(f_names[0]), open_file(f_names[1]), open_file(f_names[2])) as f:\n",
    "    for file in f:\n",
    "        print(list(file))\n",
    "\n",
    "print(\"---- CONTEXT MANAGER STACK ----\")\n",
    "\n",
    "class NestedContexts:\n",
    "    def __init__(self):\n",
    "        self._exits = []\n",
    "\n",
    "    def __enter__(self):\n",
    "        return self\n",
    "       \n",
    "    def enter_context(self, ctx):\n",
    "        self._exits.append(ctx.__exit__)\n",
    "        value = ctx.__enter__()\n",
    "        return value\n",
    "\n",
    "    def __exit__(self, exc_type, exc_value, exc_tb):\n",
    "        for exit in self._exits[::-1]:\n",
    "            exit(exc_type, exc_value, exc_tb)\n",
    "        return False\n",
    "\n",
    "with NestedContexts() as stack:\n",
    "    files = [stack.enter_context(open_file(f)) for f in f_names]\n",
    "\n",
    "print(\"---- CONTEXT MANAGER EXIT STACK BUILTIN ----\")\n",
    "from contextlib import ExitStack\n",
    "\n",
    "with ExitStack() as stack:\n",
    "    files = [stack.enter_context(open_file(f)) for f in f_names]"
   ]
  },
  {
   "cell_type": "markdown",
   "metadata": {},
   "source": [
    "## Caveats with Lazy Iterators"
   ]
  },
  {
   "cell_type": "markdown",
   "metadata": {},
   "source": [
    "When returning a lazy iterator from within a context manager the resource will be closed by the time it is started iteration."
   ]
  },
  {
   "cell_type": "code",
   "execution_count": 81,
   "metadata": {},
   "outputs": [
    {
     "name": "stdout",
     "output_type": "stream",
     "text": [
      "---- CAVEAT ----\n",
      "not working, the operation is on a closed file -> I/O operation on closed file.\n",
      "---- SOLUTION: YIELD FROM ----\n",
      "we can iterate now -> ['Summons Number', 'Plate ID', 'Registration State', 'Plate Type', 'Issue Date', 'Violation Code', 'Vehicle Body Type', 'Vehicle Make', 'Violation Description']\n"
     ]
    }
   ],
   "source": [
    "import csv\n",
    "\n",
    "print(\"---- CAVEAT ----\")\n",
    "\n",
    "def read_data():\n",
    "    with open(\"nyc_parking_tickets_extract.csv\") as f:\n",
    "        return csv.reader(f, delimiter=',', quotechar='\"') # we return a lazy iterator\n",
    "reader = read_data()\n",
    "\n",
    "try:\n",
    "    next(reader)\n",
    "except ValueError as e:\n",
    "    print(\"not working, the operation is on a closed file ->\", e)\n",
    "\n",
    "print(\"---- SOLUTION: YIELD FROM ----\")\n",
    "\n",
    "def read_data_from():\n",
    "    with open(\"nyc_parking_tickets_extract.csv\") as f:\n",
    "        yield from csv.reader(f, delimiter=',', quotechar='\"') # yield from will yield from within the with block and will still be lazy.\n",
    "\n",
    "reader = read_data_from()\n",
    "print(f\"we can iterate now -> {next(reader)}\")"
   ]
  },
  {
   "cell_type": "markdown",
   "metadata": {},
   "source": [
    "# Exercise"
   ]
  },
  {
   "cell_type": "markdown",
   "metadata": {},
   "source": [
    "## Goal 1\n",
    "\n",
    "Create a context manager that only requires file name and provides us an iterator we can use to iterate over the\n",
    "data in those files.\n",
    "\n",
    "- Create a class that implements the context manager protocol (single class)\n",
    "- yields a named tuple, all fields can be thought of as strings"
   ]
  },
  {
   "cell_type": "code",
   "execution_count": 181,
   "metadata": {},
   "outputs": [
    {
     "name": "stdout",
     "output_type": "stream",
     "text": [
      "Row(car='Chevrolet Chevelle Malibu', mpg='18.0', cylinders='8', displacement='307.0', horsepower='130.0', weight='3504.', acceleration='12.0', model='70', origin='US')\n",
      "Row(car='Buick Skylark 320', mpg='15.0', cylinders='8', displacement='350.0', horsepower='165.0', weight='3693.', acceleration='11.5', model='70', origin='US')\n",
      "Row(car='Plymouth Satellite', mpg='18.0', cylinders='8', displacement='318.0', horsepower='150.0', weight='3436.', acceleration='11.0', model='70', origin='US')\n",
      "Row(car='AMC Rebel SST', mpg='16.0', cylinders='8', displacement='304.0', horsepower='150.0', weight='3433.', acceleration='12.0', model='70', origin='US')\n",
      "Row(car='Ford Torino', mpg='17.0', cylinders='8', displacement='302.0', horsepower='140.0', weight='3449.', acceleration='10.5', model='70', origin='US')\n",
      "Row(car='Ford Galaxie 500', mpg='15.0', cylinders='8', displacement='429.0', horsepower='198.0', weight='4341.', acceleration='10.0', model='70', origin='US')\n",
      "Row(car='Chevrolet Impala', mpg='14.0', cylinders='8', displacement='454.0', horsepower='220.0', weight='4354.', acceleration='9.0', model='70', origin='US')\n",
      "Row(car='Plymouth Fury iii', mpg='14.0', cylinders='8', displacement='440.0', horsepower='215.0', weight='4312.', acceleration='8.5', model='70', origin='US')\n",
      "Row(car='Pontiac Catalina', mpg='14.0', cylinders='8', displacement='455.0', horsepower='225.0', weight='4425.', acceleration='10.0', model='70', origin='US')\n",
      "Row(car='AMC Ambassador DPL', mpg='15.0', cylinders='8', displacement='390.0', horsepower='190.0', weight='3850.', acceleration='8.5', model='70', origin='US')\n",
      "Row(ssn='100-53-9824', first_name='Sebastiano', last_name='Tester', gender='Male', language='Icelandic')\n",
      "Row(ssn='101-71-4702', first_name='Cayla', last_name='MacDonagh', gender='Female', language='Lao')\n",
      "Row(ssn='101-84-0356', first_name='Nomi', last_name='Lipprose', gender='Female', language='Yiddish')\n",
      "Row(ssn='104-22-0928', first_name='Justinian', last_name='Kunzelmann', gender='Male', language='Dhivehi')\n",
      "Row(ssn='104-84-7144', first_name='Claudianus', last_name='Brixey', gender='Male', language='Afrikaans')\n",
      "Row(ssn='105-27-5541', first_name='Federico', last_name='Aggett', gender='Male', language='Chinese')\n",
      "Row(ssn='105-85-7486', first_name='Angelina', last_name='McAvey', gender='Female', language='Punjabi')\n",
      "Row(ssn='105-91-5022', first_name='Moselle', last_name='Apfel', gender='Female', language='Latvian')\n",
      "Row(ssn='105-91-7777', first_name='Audi', last_name='Roach', gender='Female', language='Estonian')\n",
      "Row(ssn='106-35-1938', first_name='Mackenzie', last_name='Nussey', gender='Male', language='Swedish')\n"
     ]
    }
   ],
   "source": [
    "import csv\n",
    "from collections import namedtuple\n",
    "from itertools import islice\n",
    "\n",
    "def get_dialect(f_name):\n",
    "    with open(f_name) as f:\n",
    "        return csv.Sniffer().sniff(f.read(1000))\n",
    "\n",
    "class FileReader:\n",
    "    def __init__(self, fname):\n",
    "        self.fname = fname\n",
    "        self.file = None\n",
    "   \n",
    "    def __enter__(self):\n",
    "        self.file = open(self.fname)\n",
    "        self.rows = csv.reader(self.file, dialect=get_dialect(self.fname))\n",
    "        headers = map(lambda x: x.lower(), next(self.rows))\n",
    "        self._row = namedtuple(\"Row\",  headers) \n",
    "        return self\n",
    "\n",
    "    def __exit__(self, exc_type, exc_value, exc_tb):\n",
    "        if not self.file.closed:\n",
    "            self.file.close()\n",
    "        return False\n",
    "\n",
    "    def __next__(self):\n",
    "        if self.file.closed:\n",
    "            raise StopIteration\n",
    "        return self._row(*next(self.rows))\n",
    "                    \n",
    "    def __iter__(self):\n",
    "        return self\n",
    "        \n",
    "\n",
    "\n",
    "with FileReader('cars.csv') as data:\n",
    "    for row in islice(data, 10):\n",
    "        print(row)\n",
    "\n",
    "with FileReader('personal_info.csv') as data:\n",
    "    for row in islice(data, 10):\n",
    "        print(row)"
   ]
  },
  {
   "cell_type": "markdown",
   "metadata": {},
   "source": [
    "## Goal 2\n",
    "\n",
    "Re-implement goal 1 using a generator function instead\n",
    "\n",
    "- use the `@contextmanager` from `contextlib`"
   ]
  },
  {
   "cell_type": "code",
   "execution_count": 186,
   "metadata": {},
   "outputs": [
    {
     "name": "stdout",
     "output_type": "stream",
     "text": [
      "Row(car='Chevrolet Chevelle Malibu', mpg='18.0', cylinders='8', displacement='307.0', horsepower='130.0', weight='3504.', acceleration='12.0', model='70', origin='US')\n",
      "Row(car='Buick Skylark 320', mpg='15.0', cylinders='8', displacement='350.0', horsepower='165.0', weight='3693.', acceleration='11.5', model='70', origin='US')\n",
      "Row(car='Plymouth Satellite', mpg='18.0', cylinders='8', displacement='318.0', horsepower='150.0', weight='3436.', acceleration='11.0', model='70', origin='US')\n",
      "Row(car='AMC Rebel SST', mpg='16.0', cylinders='8', displacement='304.0', horsepower='150.0', weight='3433.', acceleration='12.0', model='70', origin='US')\n",
      "Row(car='Ford Torino', mpg='17.0', cylinders='8', displacement='302.0', horsepower='140.0', weight='3449.', acceleration='10.5', model='70', origin='US')\n",
      "Row(car='Ford Galaxie 500', mpg='15.0', cylinders='8', displacement='429.0', horsepower='198.0', weight='4341.', acceleration='10.0', model='70', origin='US')\n",
      "Row(car='Chevrolet Impala', mpg='14.0', cylinders='8', displacement='454.0', horsepower='220.0', weight='4354.', acceleration='9.0', model='70', origin='US')\n",
      "Row(car='Plymouth Fury iii', mpg='14.0', cylinders='8', displacement='440.0', horsepower='215.0', weight='4312.', acceleration='8.5', model='70', origin='US')\n",
      "Row(car='Pontiac Catalina', mpg='14.0', cylinders='8', displacement='455.0', horsepower='225.0', weight='4425.', acceleration='10.0', model='70', origin='US')\n",
      "Row(car='AMC Ambassador DPL', mpg='15.0', cylinders='8', displacement='390.0', horsepower='190.0', weight='3850.', acceleration='8.5', model='70', origin='US')\n",
      "Row(ssn='100-53-9824', first_name='Sebastiano', last_name='Tester', gender='Male', language='Icelandic')\n",
      "Row(ssn='101-71-4702', first_name='Cayla', last_name='MacDonagh', gender='Female', language='Lao')\n",
      "Row(ssn='101-84-0356', first_name='Nomi', last_name='Lipprose', gender='Female', language='Yiddish')\n",
      "Row(ssn='104-22-0928', first_name='Justinian', last_name='Kunzelmann', gender='Male', language='Dhivehi')\n",
      "Row(ssn='104-84-7144', first_name='Claudianus', last_name='Brixey', gender='Male', language='Afrikaans')\n",
      "Row(ssn='105-27-5541', first_name='Federico', last_name='Aggett', gender='Male', language='Chinese')\n",
      "Row(ssn='105-85-7486', first_name='Angelina', last_name='McAvey', gender='Female', language='Punjabi')\n",
      "Row(ssn='105-91-5022', first_name='Moselle', last_name='Apfel', gender='Female', language='Latvian')\n",
      "Row(ssn='105-91-7777', first_name='Audi', last_name='Roach', gender='Female', language='Estonian')\n",
      "Row(ssn='106-35-1938', first_name='Mackenzie', last_name='Nussey', gender='Male', language='Swedish')\n"
     ]
    }
   ],
   "source": [
    "from contextlib import contextmanager\n",
    "\n",
    "\n",
    "\n",
    "@contextmanager\n",
    "def file_reader(f_name):\n",
    "    \n",
    "    f = open(f_name)\n",
    "    try:\n",
    "        sniff = csv.Sniffer().sniff(f.read(1000))\n",
    "        f.seek(0)\n",
    "        reader = csv.reader(f, sniff)\n",
    "        headers = map(lambda x: x.lower(), next(reader))\n",
    "        Row = namedtuple(\"Row\",  headers)\n",
    "    \n",
    "        yield (Row(*row) for row in reader)\n",
    "    finally:\n",
    "        f.close()\n",
    "\n",
    "with file_reader('cars.csv') as data:\n",
    "    for row in islice(data, 10):\n",
    "        print(row)\n",
    "\n",
    "with file_reader('personal_info.csv') as data:\n",
    "    for row in islice(data, 10):\n",
    "        print(row)"
   ]
  }
 ],
 "metadata": {
  "kernelspec": {
   "display_name": "Python 3.10.4 64-bit ('3.10.4')",
   "language": "python",
   "name": "python3"
  },
  "language_info": {
   "codemirror_mode": {
    "name": "ipython",
    "version": 3
   },
   "file_extension": ".py",
   "mimetype": "text/x-python",
   "name": "python",
   "nbconvert_exporter": "python",
   "pygments_lexer": "ipython3",
   "version": "3.10.4"
  },
  "orig_nbformat": 4,
  "vscode": {
   "interpreter": {
    "hash": "2fdca24a4758abedd58d89beec3a8b64b5a66383ee0e2246c58baa128030a261"
   }
  }
 },
 "nbformat": 4,
 "nbformat_minor": 2
}
