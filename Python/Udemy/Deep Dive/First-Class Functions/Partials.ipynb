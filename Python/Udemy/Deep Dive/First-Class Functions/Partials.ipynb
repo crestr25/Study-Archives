{
 "cells": [
  {
   "cell_type": "markdown",
   "id": "d15e814a",
   "metadata": {},
   "source": [
    "# Partial"
   ]
  },
  {
   "cell_type": "code",
   "execution_count": 3,
   "id": "8e2d9c05",
   "metadata": {},
   "outputs": [],
   "source": [
    "from functools import partial # Higher order function."
   ]
  },
  {
   "cell_type": "code",
   "execution_count": 2,
   "id": "454ecb7d",
   "metadata": {},
   "outputs": [],
   "source": [
    "def my_func(a, b, c):\n",
    "    print(a, b, c)"
   ]
  },
  {
   "cell_type": "code",
   "execution_count": 3,
   "id": "ec6a759c",
   "metadata": {},
   "outputs": [
    {
     "name": "stdout",
     "output_type": "stream",
     "text": [
      "10 20 30\n"
     ]
    }
   ],
   "source": [
    "# To call it we would need the three arguments.\n",
    "my_func(10, 20, 30) "
   ]
  },
  {
   "cell_type": "code",
   "execution_count": 19,
   "id": "d8ccd649",
   "metadata": {},
   "outputs": [],
   "source": [
    "def f(x, y):\n",
    "    \"\"\"We could create this higher order function to \n",
    "       to proccess this function with a default.\"\"\"\n",
    "    my_func(10, x, y)\n",
    "    \n",
    "f_2 = lambda x, y: my_func(10, x, y)"
   ]
  },
  {
   "cell_type": "code",
   "execution_count": 20,
   "id": "73f224d3",
   "metadata": {},
   "outputs": [
    {
     "name": "stdout",
     "output_type": "stream",
     "text": [
      "10 20 30\n",
      "from partial f => None\n",
      "10 20 30\n",
      "from partial f_2 => None\n"
     ]
    }
   ],
   "source": [
    "print(f\"from partial f => {f(20,30)}\")\n",
    "print(f\"from partial f_2 => {f_2(20,30)}\")"
   ]
  },
  {
   "cell_type": "code",
   "execution_count": 27,
   "id": "26494e2d",
   "metadata": {},
   "outputs": [
    {
     "name": "stdout",
     "output_type": "stream",
     "text": [
      "10 20 30\n"
     ]
    }
   ],
   "source": [
    "# Now we can use the same method appliying partial\n",
    "f_partial = partial(my_func, 10)\n",
    "f_partial(20, 30)"
   ]
  },
  {
   "cell_type": "code",
   "execution_count": 29,
   "id": "8b8909d5",
   "metadata": {},
   "outputs": [
    {
     "name": "stdout",
     "output_type": "stream",
     "text": [
      "10 20 30\n"
     ]
    }
   ],
   "source": [
    "f_partial_2 = partial(my_func, 10, 20)\n",
    "f_partial_2(30)"
   ]
  },
  {
   "cell_type": "code",
   "execution_count": 2,
   "id": "a17046c3",
   "metadata": {},
   "outputs": [
    {
     "name": "stdout",
     "output_type": "stream",
     "text": [
      "1 2 (3, 4) a b {'k3': 'c'}\n"
     ]
    }
   ],
   "source": [
    "# Now we can work with more esoteric arguments to try\n",
    "def my_func_2(a, b, *args, k1, k2, **kwargs):\n",
    "    print(a, b, args, k1, k2, kwargs)\n",
    "    \n",
    "my_func_2(1,2,3,4, k1='a', k2='b', k3='c')"
   ]
  },
  {
   "cell_type": "code",
   "execution_count": 5,
   "id": "0b37e7e1",
   "metadata": {},
   "outputs": [
    {
     "name": "stdout",
     "output_type": "stream",
     "text": [
      "1 2 (3, 4) a b {'k3': 'c'}\n",
      "1 2 (3, 4) a b {'k3': 'c'}\n"
     ]
    }
   ],
   "source": [
    "# To reduce the number of arguments we would have to respect\n",
    "# the order in which they are being called\n",
    "f_3 = lambda b, *args, kw, **kwargs: my_func_2(1, b, *args, k1 = 'a', k2=kw, **kwargs)\n",
    "f_3(2,3,4, kw='b', k3='c')\n",
    "\n",
    "# However if we reduce using the partial we can declare the keyword in the parameters\n",
    "f_4 = partial(my_func_2, 1, k1='a')\n",
    "f_4(2,3,4, k2='b', k3='c')"
   ]
  },
  {
   "cell_type": "code",
   "execution_count": 9,
   "id": "c05eda7d",
   "metadata": {},
   "outputs": [
    {
     "data": {
      "text/plain": [
       "9"
      ]
     },
     "execution_count": 9,
     "metadata": {},
     "output_type": "execute_result"
    }
   ],
   "source": [
    "# some examples, also remember that we can pass a keyword arg independent of the position\n",
    "# it is expected.\n",
    "def pow(base, exponent):\n",
    "    return base ** exponent\n",
    "\n",
    "sq = partial(pow, exponent=2)\n",
    "sq(5)\n",
    "cu = partial(pow, exponent=3)\n",
    "cu(3)\n",
    "\n",
    "# However we can also modify what partial is defining.\n",
    "cu(3, exponent=2)"
   ]
  },
  {
   "cell_type": "code",
   "execution_count": 12,
   "id": "2dfe8903",
   "metadata": {},
   "outputs": [
    {
     "name": "stdout",
     "output_type": "stream",
     "text": [
      "cube before reassignment 8\n",
      "cube after reassignment 8\n"
     ]
    }
   ],
   "source": [
    "# now for mutable and immutable args we can see that.\n",
    "# For immutable\n",
    "exp = 3\n",
    "cube = partial(pow, exponent=exp)\n",
    "print(f\"cube before reassignment {cube(2)}\")\n",
    "exp = 2\n",
    "print(f\"cube after reassignment {cube(2)}\")"
   ]
  },
  {
   "cell_type": "code",
   "execution_count": 23,
   "id": "e9e41b7e",
   "metadata": {},
   "outputs": [
    {
     "name": "stdout",
     "output_type": "stream",
     "text": [
      "a [1, 2]\n",
      "fun before reassignment None\n",
      "a [1, 2, 3]\n",
      "fun after reassignment None\n"
     ]
    }
   ],
   "source": [
    "# now for mutable\n",
    "def my_func(a, b):\n",
    "    print(a, b)\n",
    "    \n",
    "l = [1,2]\n",
    "fun = partial(my_func, b=l)\n",
    "print(f\"fun before reassignment {fun('a')}\")\n",
    "l.append(3)\n",
    "print(f\"fun after reassignment {fun('a')}\")"
   ]
  },
  {
   "cell_type": "code",
   "execution_count": 24,
   "id": "3644250a",
   "metadata": {},
   "outputs": [
    {
     "data": {
      "text/plain": [
       "2"
      ]
     },
     "execution_count": 24,
     "metadata": {},
     "output_type": "execute_result"
    }
   ],
   "source": [
    "# Examples of partial/ reduced functions.\n",
    "origin = (0, 0)\n",
    "l = [(1,1), (0,2),(-3,2),(0,0)]\n",
    "# Get the distance between two cartesian points.\n",
    "dist_2 = lambda a,b: (a[0] - b[0])**2 + (a[1] - b[1]) ** 2\n",
    "dist_2((1,1), origin)"
   ]
  },
  {
   "cell_type": "code",
   "execution_count": 29,
   "id": "0c48cda6",
   "metadata": {},
   "outputs": [
    {
     "data": {
      "text/plain": [
       "[(0, 0), (1, 1), (0, 2), (-3, 2)]"
      ]
     },
     "execution_count": 29,
     "metadata": {},
     "output_type": "execute_result"
    }
   ],
   "source": [
    "# Sort by distance to the origin.\n",
    "dist_from_origin = partial(dist_2, origin)\n",
    "sorted(l, key=dist_from_origin)"
   ]
  }
 ],
 "metadata": {
  "kernelspec": {
   "display_name": "Python 3 (ipykernel)",
   "language": "python",
   "name": "python3"
  },
  "language_info": {
   "codemirror_mode": {
    "name": "ipython",
    "version": 3
   },
   "file_extension": ".py",
   "mimetype": "text/x-python",
   "name": "python",
   "nbconvert_exporter": "python",
   "pygments_lexer": "ipython3",
   "version": "3.8.10"
  }
 },
 "nbformat": 4,
 "nbformat_minor": 5
}
