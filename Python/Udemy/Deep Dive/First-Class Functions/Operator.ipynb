{
 "cells": [
  {
   "cell_type": "code",
   "execution_count": 6,
   "metadata": {},
   "outputs": [],
   "source": [
    "# Import the correct modules\n",
    "import operator\n",
    "from functools import reduce"
   ]
  },
  {
   "cell_type": "code",
   "execution_count": null,
   "id": "1a953926",
   "metadata": {},
   "outputs": [],
   "source": [
    "# check all methods.\n",
    "dir(operator)"
   ]
  },
  {
   "cell_type": "code",
   "execution_count": 4,
   "id": "85be4235",
   "metadata": {},
   "outputs": [
    {
     "data": {
      "text/plain": [
       "1"
      ]
     },
     "execution_count": 4,
     "metadata": {},
     "output_type": "execute_result"
    }
   ],
   "source": [
    "# We can use multiple functions designed to operate on objects.\n",
    "operator.add(1,2)\n",
    "operator.mul(2,3)\n",
    "operator.truediv(3,2)\n",
    "operator.floordiv(3,2)"
   ]
  },
  {
   "cell_type": "code",
   "execution_count": 8,
   "id": "bb329956",
   "metadata": {},
   "outputs": [
    {
     "data": {
      "text/plain": [
       "24"
      ]
     },
     "execution_count": 8,
     "metadata": {},
     "output_type": "execute_result"
    }
   ],
   "source": [
    "# How to make this useful with reduce.\n",
    "reduce(lambda x, y: x*y, [1,2,3,4])\n",
    "# so instead of having to use a lambda we can use the operator\n",
    "reduce(operator.mul, [1,2,3,4])"
   ]
  },
  {
   "cell_type": "code",
   "execution_count": 11,
   "id": "b1d6eadf",
   "metadata": {},
   "outputs": [
    {
     "data": {
      "text/plain": [
       "False"
      ]
     },
     "execution_count": 11,
     "metadata": {},
     "output_type": "execute_result"
    }
   ],
   "source": [
    "# We can also use comparison operators.\n",
    "operator.lt(3,2)\n",
    "operator.gt('a', 'a')\n",
    "operator.is_(2,3)\n",
    "\n",
    "# Thruthiness operator\n",
    "operator.truth([])"
   ]
  },
  {
   "cell_type": "code",
   "execution_count": 15,
   "id": "5c09569f",
   "metadata": {},
   "outputs": [
    {
     "name": "stdout",
     "output_type": "stream",
     "text": [
      "my list is now ['a', 2, 3, 4]\n"
     ]
    }
   ],
   "source": [
    "# Getter and Setter.\n",
    "my_list = [1,2,3,4]\n",
    "operator.getitem(my_list, 1)\n",
    "operator.setitem(my_list, 0, 'a')\n",
    "print(f'my list is now {my_list}')"
   ]
  },
  {
   "cell_type": "code",
   "execution_count": 17,
   "id": "1b182b20",
   "metadata": {},
   "outputs": [
    {
     "data": {
      "text/plain": [
       "(1, 3)"
      ]
     },
     "execution_count": 17,
     "metadata": {},
     "output_type": "execute_result"
    }
   ],
   "source": [
    "# itemgetter\n",
    "f = operator.itemgetter(0) # Returns a callable.\n",
    "f([1,2,3])\n",
    "f2 = operator.itemgetter(0,2) # We can pass more than one index.\n",
    "f2([1,2,3,4])"
   ]
  },
  {
   "cell_type": "code",
   "execution_count": 30,
   "id": "ee6bdc4f",
   "metadata": {},
   "outputs": [],
   "source": [
    "# attrgetter\n",
    "class MyClass:\n",
    "    def __init__(self):\n",
    "        self.a = '1'\n",
    "        self.b = '2'\n",
    "        self.c = '3'\n",
    "\n",
    "    def test(self):\n",
    "        print('testing stuff....')"
   ]
  },
  {
   "cell_type": "code",
   "execution_count": 26,
   "id": "7feddb5b",
   "metadata": {},
   "outputs": [
    {
     "name": "stdout",
     "output_type": "stream",
     "text": [
      "testing stuff....\n",
      "testing stuff....\n",
      "a b c None\n"
     ]
    }
   ],
   "source": [
    "# here we see how we can get attrs from objects and even a method to call.\n",
    "obj = MyClass()\n",
    "operator.attrgetter('a')(obj)\n",
    "operator.attrgetter('test')(obj)()\n",
    "\n",
    "a, b, c, test = operator.attrgetter('a', 'b', 'c', 'test')(obj)\n",
    "\n",
    "print(a, b, c, test())"
   ]
  },
  {
   "cell_type": "code",
   "execution_count": 33,
   "id": "3ac9e522",
   "metadata": {},
   "outputs": [
    {
     "name": "stdout",
     "output_type": "stream",
     "text": [
      "1, 2, 3, 4, 5\n",
      "1, 2, 3, 4, 5\n"
     ]
    }
   ],
   "source": [
    "# We even have one methodcaller to pass args.\n",
    "class MySecondClass(MyClass):\n",
    "    def test(self, ar, *, e):\n",
    "        print(f'{self.a}, {self.b}, {self.c}, {ar}, {e}')\n",
    "obj = MySecondClass()\n",
    "operator.attrgetter('test')(obj)(4, e=5)\n",
    "# The same as\n",
    "operator.methodcaller('test', 4, e=5)(obj)"
   ]
  },
  {
   "cell_type": "code",
   "execution_count": 27,
   "id": "1ea6bdf4",
   "metadata": {},
   "outputs": [
    {
     "data": {
      "text/plain": [
       "[(3+3j), (5-10j), (7+100j)]"
      ]
     },
     "execution_count": 27,
     "metadata": {},
     "output_type": "execute_result"
    }
   ],
   "source": [
    "# Real life example\n",
    "l = [5-10j, 3+3j, 7+100j]\n",
    "sorted(l, key=operator.attrgetter('real')) # attrgetter returns a callable, which is what sorted expects.\n"
   ]
  }
 ],
 "metadata": {
  "interpreter": {
   "hash": "916dbcbb3f70747c44a77c7bcd40155683ae19c65e1c03b4aa3499c5328201f1"
  },
  "kernelspec": {
   "display_name": "Python 3.8.10 64-bit",
   "language": "python",
   "name": "python3"
  },
  "language_info": {
   "codemirror_mode": {
    "name": "ipython",
    "version": 3
   },
   "file_extension": ".py",
   "mimetype": "text/x-python",
   "name": "python",
   "nbconvert_exporter": "python",
   "pygments_lexer": "ipython3",
   "version": "3.8.10"
  }
 },
 "nbformat": 4,
 "nbformat_minor": 5
}
