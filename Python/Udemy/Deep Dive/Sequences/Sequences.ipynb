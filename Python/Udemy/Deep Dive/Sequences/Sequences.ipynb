{
  "cells": [
    {
      "cell_type": "markdown",
      "id": "744c611e-35e9-40f9-ba3d-81c7ad59d413",
      "metadata": {
        "tags": [],
        "id": "744c611e-35e9-40f9-ba3d-81c7ad59d413"
      },
      "source": [
        "# Sequence Types"
      ]
    },
    {
      "cell_type": "code",
      "execution_count": null,
      "id": "f82bf0be-b5bd-4f12-bb7f-47cec0a46c3f",
      "metadata": {
        "id": "f82bf0be-b5bd-4f12-bb7f-47cec0a46c3f",
        "outputId": "171a5403-3629-4f53-975b-c7d0ba60319e"
      },
      "outputs": [
        {
          "name": "stdout",
          "output_type": "stream",
          "text": [
            "l is a <class 'list'> and the first element is 1\n",
            "l is a <class 'tuple'> and the first element is 1\n",
            "l is a <class 'str'> and the first element is P\n"
          ]
        }
      ],
      "source": [
        "# lists\n",
        "l = [1, 2, 3]\n",
        "# Tuples\n",
        "t = (1, 2, 3)\n",
        "# Strings\n",
        "s = 'Python'\n",
        "\n",
        "# All of the above are Sequence types since they can be indexed. (0 based indexing)\n",
        "print(f\"l is a {type(l)} and the first element is {l[0]}\")\n",
        "print(f\"l is a {type(t)} and the first element is {t[0]}\")\n",
        "print(f\"l is a {type(s)} and the first element is {s[0]}\")"
      ]
    },
    {
      "cell_type": "code",
      "execution_count": null,
      "id": "94087b90-76ae-4071-a04b-305cac0796cf",
      "metadata": {
        "id": "94087b90-76ae-4071-a04b-305cac0796cf",
        "outputId": "06074c7f-340a-402b-873e-bc9c9a7041b8"
      },
      "outputs": [
        {
          "name": "stdout",
          "output_type": "stream",
          "text": [
            "------ List ------\n",
            "value in index 0 is 1\n",
            "value in index 1 is 2\n",
            "value in index 2 is 3\n",
            "------ Tuple ------\n",
            "value in index 0 is 1\n",
            "value in index 1 is 2\n",
            "value in index 2 is 3\n",
            "------ Str ------\n",
            "value in index 0 is P\n",
            "value in index 1 is y\n",
            "value in index 2 is t\n",
            "value in index 3 is h\n",
            "value in index 4 is o\n",
            "value in index 5 is n\n"
          ]
        }
      ],
      "source": [
        "# All of the above are also ITERABLES, which means we can iterate over them\n",
        "print(\"------ List ------\")\n",
        "for i, value in enumerate(l):\n",
        "    print(f\"value in index {i} is {value}\")\n",
        "    \n",
        "print(\"------ Tuple ------\")\n",
        "for i, value in enumerate(t):\n",
        "    print(f\"value in index {i} is {value}\")\n",
        "\n",
        "print(\"------ Str ------\")\n",
        "for i, value in enumerate(s):\n",
        "    print(f\"value in index {i} is {value}\")"
      ]
    },
    {
      "cell_type": "markdown",
      "id": "52a4b367-e53b-4fd0-8a88-210e3223f9bf",
      "metadata": {
        "id": "52a4b367-e53b-4fd0-8a88-210e3223f9bf"
      },
      "source": [
        "This means that Sequences are Iterables since we can loop through all objects inside,\n",
        "however, not all Iterables are Sequences, since for example `sets` are not Sequences."
      ]
    },
    {
      "cell_type": "code",
      "execution_count": null,
      "id": "79fe9c07-4b54-4c89-84d6-92f95bab2cd1",
      "metadata": {
        "id": "79fe9c07-4b54-4c89-84d6-92f95bab2cd1",
        "outputId": "c415ae38-fe7c-4f76-a2c6-a49f1d15781d"
      },
      "outputs": [
        {
          "name": "stdout",
          "output_type": "stream",
          "text": [
            "------ Set ------\n",
            "value in index 0 is 1\n",
            "value in index 1 is 3\n",
            "value in index 2 is a\n",
            "value in index 3 is p\n"
          ]
        }
      ],
      "source": [
        "# Sets are not expected to return the elements in a particular order\n",
        "set_ = {1, 3, 'a', 'p'}\n",
        "\n",
        "# print(set_[0]) # Set object is not subscriptable\n",
        "\n",
        "print(\"------ Set ------\")\n",
        "for i, value in enumerate(set_):\n",
        "    print(f\"value in index {i} is {value}\")"
      ]
    },
    {
      "cell_type": "markdown",
      "id": "01c9bc49-3991-4d82-91bb-2c710a28b005",
      "metadata": {
        "tags": [],
        "id": "01c9bc49-3991-4d82-91bb-2c710a28b005"
      },
      "source": [
        "## Mutability"
      ]
    },
    {
      "cell_type": "markdown",
      "id": "b71a8719-e798-439a-845d-49ce0586c504",
      "metadata": {
        "id": "b71a8719-e798-439a-845d-49ce0586c504"
      },
      "source": [
        "Generally in programming, Mutability refers to the state of an object and how it can be changed, meaning, how variables can be assigned and changed."
      ]
    },
    {
      "cell_type": "markdown",
      "id": "ad7eb221-8a09-43cf-bae9-be7989f887e5",
      "metadata": {
        "jp-MarkdownHeadingCollapsed": true,
        "tags": [],
        "id": "ad7eb221-8a09-43cf-bae9-be7989f887e5"
      },
      "source": [
        "### Mutable Sequences"
      ]
    },
    {
      "cell_type": "markdown",
      "id": "6758a670-18f6-4d8c-b28f-ddaf210b70fb",
      "metadata": {
        "id": "6758a670-18f6-4d8c-b28f-ddaf210b70fb"
      },
      "source": [
        "Mutable Sequences can be modified, it's internal state changed, meaning the address in memory is the same as before (thus, Mutable).   \n",
        "When working with Mutable Sequences we must be careful since it's state can be modified and that may cause an unwanted side effect\n",
        "- Lists"
      ]
    },
    {
      "cell_type": "code",
      "execution_count": null,
      "id": "1d8d7f04-1149-494b-89b9-b719d7e142f9",
      "metadata": {
        "id": "1d8d7f04-1149-494b-89b9-b719d7e142f9",
        "outputId": "9f43d94f-dc8b-47b1-89da-1447b5b8d0df"
      },
      "outputs": [
        {
          "name": "stdout",
          "output_type": "stream",
          "text": [
            "List before mutating: [1, 3, 6], id: 140541670539520\n",
            "List after mutating: [100, 3, 6], id: 140541670539520\n",
            "List after mutating: [], id: 140541670539520\n"
          ]
        }
      ],
      "source": [
        "l = [1, 3, 6]\n",
        "print(f\"List before mutating: {l}, id: {id(l)}\")\n",
        "l[0] = 100\n",
        "print(f\"List after mutating: {l}, id: {id(l)}\")\n",
        "l.clear()\n",
        "print(f\"List after mutating: {l}, id: {id(l)}\")"
      ]
    },
    {
      "cell_type": "code",
      "execution_count": null,
      "id": "87bc2d7c-3e0d-4b10-9a22-e625e92a2374",
      "metadata": {
        "id": "87bc2d7c-3e0d-4b10-9a22-e625e92a2374",
        "outputId": "0b280dd2-98c6-450f-e42e-5a9e89c4b138"
      },
      "outputs": [
        {
          "name": "stdout",
          "output_type": "stream",
          "text": [
            "List l1: [1, 2, 3], id: 140541655651392\n",
            "List lcopy: [1, 2, 3], id: 140541655651392\n",
            "--- we clear lcopy ---\n",
            "List l1: [], id: 140541655651392\n",
            "List lcopy: [], id: 140541655651392\n"
          ]
        }
      ],
      "source": [
        "# We may have problems if we are not careful\n",
        "l1 = [1, 2, 3]\n",
        "lcopy = l1\n",
        "\n",
        "print(f\"List l1: {l1}, id: {id(l1)}\")\n",
        "print(f\"List lcopy: {lcopy}, id: {id(lcopy)}\")\n",
        "\n",
        "print(\"--- we clear lcopy ---\")\n",
        "lcopy.clear()\n",
        "print(f\"List l1: {l1}, id: {id(l1)}\")\n",
        "print(f\"List lcopy: {lcopy}, id: {id(lcopy)}\")\n",
        "\n",
        "# As we can see both lcopy and l1 got modified"
      ]
    },
    {
      "cell_type": "code",
      "execution_count": null,
      "id": "e5577ede-5d4f-467e-96e5-dd7927123f4e",
      "metadata": {
        "id": "e5577ede-5d4f-467e-96e5-dd7927123f4e",
        "outputId": "c452f216-3495-48d2-8478-c286cd216cb0"
      },
      "outputs": [
        {
          "name": "stdout",
          "output_type": "stream",
          "text": [
            "List l1: [1, 2, 3], id: 140541671029888\n",
            "--- we run the something func with l1 ---\n",
            "List l1: [], id: 140541671029888\n",
            "List l2: None, id: 4514661728\n"
          ]
        }
      ],
      "source": [
        "# We may have problems if we are not careful\n",
        "l1 = [1, 2, 3]\n",
        "\n",
        "def something(l):\n",
        "    return l.clear() # Returns None, no object created just mutated\n",
        "\n",
        "print(f\"List l1: {l1}, id: {id(l1)}\")\n",
        "\n",
        "print(\"--- we run the something func with l1 ---\")\n",
        "\n",
        "l2 = something(l1)\n",
        "\n",
        "print(f\"List l1: {l1}, id: {id(l1)}\")\n",
        "print(f\"List l2: {l2}, id: {id(l2)}\")\n",
        "\n",
        "# As we can see l1 got cleared and no new object got created."
      ]
    },
    {
      "cell_type": "code",
      "execution_count": null,
      "id": "61c8ba6e-c93f-4f23-9e97-2b84cef188f3",
      "metadata": {
        "id": "61c8ba6e-c93f-4f23-9e97-2b84cef188f3",
        "outputId": "efdc1700-11ad-4f96-ef0e-beb4a2ac6d16"
      },
      "outputs": [
        {
          "name": "stdout",
          "output_type": "stream",
          "text": [
            "list [[1, 2, 3]] has element with id 140541658411392\n",
            "list [[1, 2, 3]] multiplied by 2 is [[1, 2, 3], [1, 2, 3]]\n",
            "id for first element of new list 140541658411392\n",
            "id for second element of new list 140541658411392\n"
          ]
        }
      ],
      "source": [
        "# We may have some caveats with mutable objects and repetition\n",
        "l1 = [[1, 2, 3]]\n",
        "print(f\"list {l1} has element with id {id(l1[0])}\")\n",
        "l2 = l1 * 2\n",
        "print(f\"list {l1} multiplied by 2 is {l2}\")\n",
        "\n",
        "print(f\"id for first element of new list {id(l2[0])}\")\n",
        "print(f\"id for second element of new list {id(l2[1])}\")"
      ]
    },
    {
      "cell_type": "markdown",
      "id": "49f88010-b19c-49f7-baf5-cf59f5d5a0fe",
      "metadata": {
        "id": "49f88010-b19c-49f7-baf5-cf59f5d5a0fe"
      },
      "source": [
        "See how above repetition just copies the object but since lists are mutable any change to any of those will be reflected to all."
      ]
    },
    {
      "cell_type": "code",
      "execution_count": null,
      "id": "14b89b23-c5e2-409e-a77a-2b67e704a4f9",
      "metadata": {
        "id": "14b89b23-c5e2-409e-a77a-2b67e704a4f9",
        "outputId": "3c755e0f-40d8-4f7e-f43e-2797844dd482"
      },
      "outputs": [
        {
          "name": "stdout",
          "output_type": "stream",
          "text": [
            "append 100 to element in list [[1, 2, 3]]\n",
            "list l1 is now [[1, 2, 3, 100]]\n",
            "list l2 is now [[1, 2, 3, 100], [1, 2, 3, 100]]\n"
          ]
        }
      ],
      "source": [
        "# Let's verify\n",
        "l1 = [[1, 2, 3]]\n",
        "l2 = l1 * 2\n",
        "print(f\"append 100 to element in list {l1}\")\n",
        "l1[0].append(100)\n",
        "print(f\"list l1 is now {l1}\")\n",
        "print(f\"list l2 is now {l2}\")"
      ]
    },
    {
      "cell_type": "markdown",
      "id": "f5fc8912-5b33-4d84-8724-4b74dc92baae",
      "metadata": {
        "tags": [],
        "id": "f5fc8912-5b33-4d84-8724-4b74dc92baae"
      },
      "source": [
        "#### Mutable methods"
      ]
    },
    {
      "cell_type": "markdown",
      "id": "a52ff02b-3c13-4146-97fd-2b7284a1e8e3",
      "metadata": {
        "id": "a52ff02b-3c13-4146-97fd-2b7284a1e8e3"
      },
      "source": [
        "This methods will not return an object since they mutate the object."
      ]
    },
    {
      "cell_type": "markdown",
      "id": "35683fc7-1af5-44d5-a10c-84c63b912a83",
      "metadata": {
        "id": "35683fc7-1af5-44d5-a10c-84c63b912a83"
      },
      "source": [
        "- clear (cleans the sequence)"
      ]
    },
    {
      "cell_type": "code",
      "execution_count": null,
      "id": "f925f77e-0e35-4d0f-8d22-9136c0edc54f",
      "metadata": {
        "id": "f925f77e-0e35-4d0f-8d22-9136c0edc54f",
        "outputId": "631fc49a-a417-45e7-b75d-3a98ae2d6734"
      },
      "outputs": [
        {
          "name": "stdout",
          "output_type": "stream",
          "text": [
            "List l1: [1, 2, 3], id: 140541671153344\n",
            "List l1 after clear: [], id: 140541671153344\n"
          ]
        }
      ],
      "source": [
        "l1 = [1, 2, 3]\n",
        "print(f\"List l1: {l1}, id: {id(l1)}\")\n",
        "l1.clear()\n",
        "print(f\"List l1 after clear: {l1}, id: {id(l1)}\")"
      ]
    },
    {
      "cell_type": "markdown",
      "id": "e34d1c08-31c7-4eae-9ee1-ad8f098bd9f9",
      "metadata": {
        "id": "e34d1c08-31c7-4eae-9ee1-ad8f098bd9f9"
      },
      "source": [
        "- append (adds element to the end)"
      ]
    },
    {
      "cell_type": "code",
      "execution_count": null,
      "id": "71cd3d48-3ed1-4f89-8e2d-b638fbd4e78f",
      "metadata": {
        "id": "71cd3d48-3ed1-4f89-8e2d-b638fbd4e78f",
        "outputId": "a455ff9b-5c26-481d-d9f0-c12efe20fe44"
      },
      "outputs": [
        {
          "name": "stdout",
          "output_type": "stream",
          "text": [
            "List l1: [1, 2, 3], id: 140541671370176\n",
            "List l1 after append: [1, 2, 3, 1], id: 140541671370176\n"
          ]
        }
      ],
      "source": [
        "l1 = [1, 2, 3]\n",
        "print(f\"List l1: {l1}, id: {id(l1)}\")\n",
        "l1.append(1)\n",
        "print(f\"List l1 after append: {l1}, id: {id(l1)}\")"
      ]
    },
    {
      "cell_type": "markdown",
      "id": "d08a1194-7b24-47b0-ad93-f7344b5301d8",
      "metadata": {
        "id": "d08a1194-7b24-47b0-ad93-f7344b5301d8"
      },
      "source": [
        "- extend (extends the sequence with an iterable, when using an iterable that is not a sequence the order in which they get appended changes)"
      ]
    },
    {
      "cell_type": "code",
      "execution_count": null,
      "id": "cb83c2e2-0ece-404e-a18e-0067abc23e1b",
      "metadata": {
        "id": "cb83c2e2-0ece-404e-a18e-0067abc23e1b",
        "outputId": "56281dfb-afe7-4fdf-d9c8-52df5b652a2d"
      },
      "outputs": [
        {
          "name": "stdout",
          "output_type": "stream",
          "text": [
            "List l1: [1, 2, 3], id: 140541670959424\n",
            "List l1 after extend: [1, 2, 3, 0, 1, 2], id: 140541670959424\n"
          ]
        }
      ],
      "source": [
        "l1 = [1, 2, 3]\n",
        "print(f\"List l1: {l1}, id: {id(l1)}\")\n",
        "l1.extend(range(3))\n",
        "print(f\"List l1 after extend: {l1}, id: {id(l1)}\")"
      ]
    },
    {
      "cell_type": "markdown",
      "id": "9fdfb3d6-9ac0-4442-82db-fcfabcea7592",
      "metadata": {
        "id": "9fdfb3d6-9ac0-4442-82db-fcfabcea7592"
      },
      "source": [
        "- pop (removes element, this does however return the element that got poped)\n",
        "    - pop also receives the index to pop as a parameter"
      ]
    },
    {
      "cell_type": "code",
      "execution_count": null,
      "id": "2ac43220-05c2-4c44-9a8c-543e79074a28",
      "metadata": {
        "id": "2ac43220-05c2-4c44-9a8c-543e79074a28",
        "outputId": "dff1e12d-6965-4faf-fad7-e787d3b13c39"
      },
      "outputs": [
        {
          "name": "stdout",
          "output_type": "stream",
          "text": [
            "List l1: [1, 2, 3], id: 140541671360640\n",
            "List l1 after pop: [1, 2], id: 140541671360640\n",
            "value poped from the list l1: 3\n",
            "------ Pop with parameter -------\n",
            "List l1 after pop: [2], id: 140541671360640\n",
            "value poped from the list l1 in position 0: 1\n"
          ]
        }
      ],
      "source": [
        "l1 = [1, 2, 3]\n",
        "print(f\"List l1: {l1}, id: {id(l1)}\")\n",
        "v = l1.pop()\n",
        "print(f\"List l1 after pop: {l1}, id: {id(l1)}\")\n",
        "print(f\"value poped from the list l1: {v}\")\n",
        "print(\"------ Pop with parameter -------\")\n",
        "v0 = l1.pop(0)\n",
        "print(f\"List l1 after pop: {l1}, id: {id(l1)}\")\n",
        "print(f\"value poped from the list l1 in position 0: {v0}\")"
      ]
    },
    {
      "cell_type": "markdown",
      "id": "6b7d2ae3-3f4c-4912-8c77-5bec1939fab3",
      "metadata": {
        "id": "6b7d2ae3-3f4c-4912-8c77-5bec1939fab3"
      },
      "source": [
        "- delete (deletes element)"
      ]
    },
    {
      "cell_type": "code",
      "execution_count": null,
      "id": "0529651d-4464-4412-98c5-bcfc7fb7252d",
      "metadata": {
        "id": "0529651d-4464-4412-98c5-bcfc7fb7252d",
        "outputId": "656ded8a-e38a-4a85-9760-934096cd9e1e"
      },
      "outputs": [
        {
          "name": "stdout",
          "output_type": "stream",
          "text": [
            "List l1: [1, 2, 3], id: 140541671374272\n",
            "List l1 after delete: [1, 2], id: 140541671374272\n"
          ]
        }
      ],
      "source": [
        "l1 = [1, 2, 3]\n",
        "print(f\"List l1: {l1}, id: {id(l1)}\")\n",
        "del l1[2]\n",
        "print(f\"List l1 after delete: {l1}, id: {id(l1)}\")"
      ]
    },
    {
      "cell_type": "markdown",
      "id": "ba3a2411-e41e-48dc-89d8-5dbe97253aa2",
      "metadata": {
        "id": "ba3a2411-e41e-48dc-89d8-5dbe97253aa2"
      },
      "source": [
        "- insert (inserts element at desired index)"
      ]
    },
    {
      "cell_type": "code",
      "execution_count": null,
      "id": "46b5bb08-b571-4128-a581-1612b09dfe55",
      "metadata": {
        "id": "46b5bb08-b571-4128-a581-1612b09dfe55",
        "outputId": "b05cee77-e1b2-4ccc-87a0-ab68f6c8fb2d"
      },
      "outputs": [
        {
          "name": "stdout",
          "output_type": "stream",
          "text": [
            "List l1: [1, 2, 3], id: 140541658414656\n",
            "List l1 after insert at position 1: [1, 'holi', 2, 3], id: 140541658414656\n"
          ]
        }
      ],
      "source": [
        "l1 = [1, 2, 3]\n",
        "print(f\"List l1: {l1}, id: {id(l1)}\")\n",
        "l1.insert(1, 'holi')\n",
        "print(f\"List l1 after insert at position 1: {l1}, id: {id(l1)}\")"
      ]
    },
    {
      "cell_type": "markdown",
      "id": "8bb1a94f-0848-4c59-9399-a5979e308be7",
      "metadata": {
        "id": "8bb1a94f-0848-4c59-9399-a5979e308be7"
      },
      "source": [
        "- reverse (in place reversal)"
      ]
    },
    {
      "cell_type": "code",
      "execution_count": null,
      "id": "5d3bf054-4fb2-4c8d-b073-e48496476c07",
      "metadata": {
        "id": "5d3bf054-4fb2-4c8d-b073-e48496476c07",
        "outputId": "62d9e90f-c9d8-4e7c-dbc0-27e52a8f792d"
      },
      "outputs": [
        {
          "name": "stdout",
          "output_type": "stream",
          "text": [
            "List l1: [1, 2, 3], id: 140541671370304\n",
            "List l1 after reverse: [3, 2, 1], id: 140541671370304\n"
          ]
        }
      ],
      "source": [
        "l1 = [1, 2, 3]\n",
        "print(f\"List l1: {l1}, id: {id(l1)}\")\n",
        "l1.reverse()\n",
        "print(f\"List l1 after reverse: {l1}, id: {id(l1)}\")"
      ]
    },
    {
      "cell_type": "markdown",
      "id": "da562c3b-139e-4b92-8291-84f500c32e72",
      "metadata": {
        "id": "da562c3b-139e-4b92-8291-84f500c32e72"
      },
      "source": [
        "To copy a mutable sequence we could.\n",
        "- Slice to get an object back\n",
        "- copy method. (shallow copy, the objects inside are the same as the ones before)"
      ]
    },
    {
      "cell_type": "code",
      "execution_count": null,
      "id": "d9ee3cc9-dfec-4a43-965c-4d25f34afee0",
      "metadata": {
        "id": "d9ee3cc9-dfec-4a43-965c-4d25f34afee0",
        "outputId": "fa39c7bf-bb0b-498a-d503-eebc3fb97929"
      },
      "outputs": [
        {
          "name": "stdout",
          "output_type": "stream",
          "text": [
            "----- Slice -----\n",
            "List l1: [1, 2, 3], id: 140541671236352\n",
            "List l2 after slice copy: [1, 2, 3], id: 140541671015872\n",
            "----- Copy -----\n",
            "List l1: [1, 2, 3], id: 140541671236352\n",
            "List l2 after method copy: [1, 2, 3], id: 140541671020288\n"
          ]
        }
      ],
      "source": [
        "l1 = [1, 2, 3]\n",
        "print(\"----- Slice -----\")\n",
        "print(f\"List l1: {l1}, id: {id(l1)}\")\n",
        "l2 = l1[:]\n",
        "print(f\"List l2 after slice copy: {l2}, id: {id(l2)}\")\n",
        "print(\"----- Copy -----\")\n",
        "print(f\"List l1: {l1}, id: {id(l1)}\")\n",
        "l2 = l1.copy()\n",
        "print(f\"List l2 after method copy: {l2}, id: {id(l2)}\")"
      ]
    },
    {
      "cell_type": "markdown",
      "id": "ab84d989-4627-428d-9e2e-f3e4c4007de4",
      "metadata": {
        "tags": [],
        "id": "ab84d989-4627-428d-9e2e-f3e4c4007de4"
      },
      "source": [
        "### Immutable Sequences"
      ]
    },
    {
      "cell_type": "markdown",
      "id": "d5fed26c-da85-4417-b3f3-446a22393781",
      "metadata": {
        "id": "d5fed26c-da85-4417-b3f3-446a22393781"
      },
      "source": [
        "- Tuples (As a container it is immutable, but the elements could be mutable).\n",
        "    - they are optimized and are recommended to use over list when mutability is not needed.\n",
        "    - They implement constant folding, which is the process of recognizing and evaluating constant expressions at compile time rather than computing them at runtime.\n",
        "    - For optimization Python does not make copies of immutable objects so a copy of a tuple returns the same tuple.\n",
        "    - Tuples are slightly faster to acces elements since in cpython they have access to the pointers directly while lists have to go through an indirect method."
      ]
    },
    {
      "cell_type": "code",
      "execution_count": null,
      "id": "832f6cd3-8269-44f0-922d-c299d1fa6198",
      "metadata": {
        "id": "832f6cd3-8269-44f0-922d-c299d1fa6198",
        "outputId": "206a1aa6-0c65-43ba-a878-76358e0fdc4f"
      },
      "outputs": [
        {
          "name": "stdout",
          "output_type": "stream",
          "text": [
            "--------- Tuple --------\n",
            "  1           0 LOAD_CONST               0 ((1, 2, 3, 'a'))\n",
            "              2 RETURN_VALUE\n",
            "None\n",
            "tuple needs 0.10751744300068822 to run\n",
            "--------- List --------\n",
            "  1           0 BUILD_LIST               0\n",
            "              2 LOAD_CONST               0 ((1, 2, 3, 'a'))\n",
            "              4 LIST_EXTEND              1\n",
            "              6 RETURN_VALUE\n",
            "None\n",
            "list needs 0.5490713659964968 to run\n"
          ]
        }
      ],
      "source": [
        "# List vs Tuples\n",
        "from dis import dis\n",
        "from timeit import timeit\n",
        "\n",
        "print(\"--------- Tuple --------\")\n",
        "# What happens when we disassemble the compilation of a tuple\n",
        "print(dis(compile(\"(1, 2, 3, 'a')\", \"string\", \"eval\")))\n",
        "print(f\"tuple needs {timeit('(1,2,3,4,5,6,7,8,9)', number=10_000_000)} to run\")\n",
        "# it took just one step, LOAD_CONST.\n",
        "\n",
        "print(\"--------- List --------\")\n",
        "print(dis(compile(\"[1, 2, 3, 'a']\", \"string\", \"eval\")))\n",
        "print(f\"list needs {timeit('[1,2,3,4,5,6,7,8,9]', number=10_000_000)} to run\")\n",
        "# So a tuple that has only constants gets loaded faster and more efectively."
      ]
    },
    {
      "cell_type": "code",
      "execution_count": null,
      "id": "7e11014d-ef91-4b53-a629-650ffe738081",
      "metadata": {
        "id": "7e11014d-ef91-4b53-a629-650ffe738081",
        "outputId": "1f3804f7-62dc-4df3-b35c-332fa8026d08"
      },
      "outputs": [
        {
          "name": "stdout",
          "output_type": "stream",
          "text": [
            "tuple t1 (1, 2, 3, 4, 5) has id: 140541671440848\n",
            "tuple t2 (1, 2, 3, 4, 5) has id: 140541671440848\n",
            "list l1 [1, 2, 3, 4, 5] has id: 140541670916992\n",
            "list l2 [1, 2, 3, 4, 5] has id: 140541671256960\n"
          ]
        }
      ],
      "source": [
        "# Tuple copy return the same object(same id), so the tuple's copy is faster\n",
        "# since it does not need to create a new one like a list does.\n",
        "t1 = (1,2,3,4,5)\n",
        "t2 = tuple(t1)\n",
        "\n",
        "l1 = [1,2,3,4,5]\n",
        "l2 = list(l1)\n",
        "\n",
        "print(f\"tuple t1 {t1} has id: {id(t1)}\")\n",
        "print(f\"tuple t2 {t2} has id: {id(t2)}\")\n",
        "print(f\"list l1 {l1} has id: {id(l1)}\")\n",
        "print(f\"list l2 {l2} has id: {id(l2)}\")"
      ]
    },
    {
      "cell_type": "code",
      "execution_count": null,
      "id": "07fe685c-fefe-4be9-88df-9ba670037f9a",
      "metadata": {
        "id": "07fe685c-fefe-4be9-88df-9ba670037f9a",
        "outputId": "ec7ead32-6531-4484-bf3c-29ee765d73a6"
      },
      "outputs": [
        {
          "name": "stdout",
          "output_type": "stream",
          "text": [
            "---- Tuple efficiency ----\n",
            "1 items: 48, delta=8\n",
            "2 items: 56, delta=8\n",
            "3 items: 64, delta=8\n",
            "4 items: 72, delta=8\n",
            "5 items: 80, delta=8\n",
            "6 items: 88, delta=8\n",
            "7 items: 96, delta=8\n",
            "8 items: 104, delta=8\n",
            "9 items: 112, delta=8\n",
            "10 items: 120, delta=8\n",
            "---- List efficiency ----\n",
            "0 items: 56\n",
            "1 items: 88, delta=32\n",
            "2 items: 88, delta=0\n",
            "3 items: 88, delta=0\n",
            "4 items: 88, delta=0\n",
            "5 items: 120, delta=32\n",
            "6 items: 120, delta=0\n",
            "7 items: 120, delta=0\n",
            "8 items: 120, delta=0\n",
            "9 items: 184, delta=64\n",
            "10 items: 184, delta=0\n"
          ]
        }
      ],
      "source": [
        "# Storage Efficiency\n",
        "import sys\n",
        "\n",
        "print('---- Tuple efficiency ----')\n",
        "t = tuple()\n",
        "prev = sys.getsizeof(t)\n",
        "for i in range(10):\n",
        "    c = tuple(range(i + 1))\n",
        "    size_c = sys.getsizeof(c)\n",
        "    delta, prev = size_c - prev, size_c\n",
        "    print(f\"{i+1} items: {size_c}, delta={delta}\")\n",
        "    \n",
        "print('---- List efficiency ----')\n",
        "l = list()\n",
        "prev = sys.getsizeof(l)\n",
        "print(f\"0 items: {prev}\")\n",
        "for i in range(10):\n",
        "    l.append(i)\n",
        "    size_c = sys.getsizeof(l)\n",
        "    delta, prev = size_c - prev, size_c\n",
        "    print(f\"{i+1} items: {size_c}, delta={delta}\")\n",
        "    \n",
        "# The list gets an overhead (preallocates) and expands by 32, then 64 ..."
      ]
    },
    {
      "cell_type": "code",
      "execution_count": null,
      "id": "90a025de-851b-4eae-9782-2c2350afab18",
      "metadata": {
        "id": "90a025de-851b-4eae-9782-2c2350afab18"
      },
      "outputs": [],
      "source": []
    },
    {
      "cell_type": "markdown",
      "id": "882f9b89-0bba-441d-b2ca-1c078d92ddc7",
      "metadata": {
        "id": "882f9b89-0bba-441d-b2ca-1c078d92ddc7"
      },
      "source": [
        "- Strings\n",
        "- Range"
      ]
    },
    {
      "cell_type": "code",
      "execution_count": null,
      "id": "0d3a9793-5087-4a01-805b-ea66ae5a87ec",
      "metadata": {
        "id": "0d3a9793-5087-4a01-805b-ea66ae5a87ec"
      },
      "outputs": [],
      "source": []
    },
    {
      "cell_type": "code",
      "execution_count": null,
      "id": "88ded1cb-d354-4d54-8e88-d8a3999bd778",
      "metadata": {
        "id": "88ded1cb-d354-4d54-8e88-d8a3999bd778",
        "outputId": "c7739f24-6cf0-453e-ca12-07df00e1571e"
      },
      "outputs": [
        {
          "name": "stdout",
          "output_type": "stream",
          "text": [
            "Tuple first element before mutating: ([1, 3], 6)\n",
            "Tuple first element after mutating: ([100, 3], 6)\n"
          ]
        }
      ],
      "source": [
        "t = ([1, 3] , 6)\n",
        "print(f\"Tuple first element before mutating: {t}\")\n",
        "t[0][0] = 100\n",
        "print(f\"Tuple first element after mutating: {t}\")"
      ]
    },
    {
      "cell_type": "code",
      "execution_count": null,
      "id": "a5dffe71-64f5-47a0-82c4-5cbd04a17ddd",
      "metadata": {
        "id": "a5dffe71-64f5-47a0-82c4-5cbd04a17ddd"
      },
      "outputs": [],
      "source": []
    },
    {
      "cell_type": "markdown",
      "id": "3e6dfc34-c346-42e5-980c-d78e77ab3036",
      "metadata": {
        "tags": [],
        "id": "3e6dfc34-c346-42e5-980c-d78e77ab3036"
      },
      "source": [
        "## Operators"
      ]
    },
    {
      "cell_type": "markdown",
      "id": "5938fc9d-72a4-4f23-abd3-136742b95ab7",
      "metadata": {
        "id": "5938fc9d-72a4-4f23-abd3-136742b95ab7"
      },
      "source": [
        "- Concatenation `+` of Sequences, however, They need to be of the same type, (i.e Tuple + List -> Error, Tuple + Tuple -> Ok)"
      ]
    },
    {
      "cell_type": "code",
      "execution_count": null,
      "id": "7988c86b-c4eb-4ea9-b495-c16defafad68",
      "metadata": {
        "id": "7988c86b-c4eb-4ea9-b495-c16defafad68",
        "outputId": "311a86f7-580e-4b8f-936e-ceb561019168"
      },
      "outputs": [
        {
          "name": "stdout",
          "output_type": "stream",
          "text": [
            "The lists [1, 3, 5] and [2, 4, 6] concatenated are [1, 3, 5, 2, 4, 6]\n",
            "The tuples (1, 3, 5) and (2, 4, 6) concatenated are (1, 3, 5, 2, 4, 6)\n"
          ]
        }
      ],
      "source": [
        "l1 = [1, 3, 5]\n",
        "l2 = [2, 4, 6]\n",
        "t1 = (1, 3, 5)\n",
        "t2 = (2, 4, 6)\n",
        "print(f\"The lists {l1} and {l2} concatenated are {l1 + l2}\")\n",
        "print(f\"The tuples {t1} and {t2} concatenated are {t1 + t2}\")"
      ]
    },
    {
      "cell_type": "markdown",
      "source": [
        "- in-place concatenation, the `+=` operator.\n",
        "  - for mutable objects it keeps mutates the object thus keeping the same one in memory.\n",
        "  - It let's us concatenate different types."
      ],
      "metadata": {
        "id": "FKAEtgnZ7oW7"
      },
      "id": "FKAEtgnZ7oW7"
    },
    {
      "cell_type": "code",
      "source": [
        "l1 = [1, 2, 3, 4]\n",
        "l2 = [5, 6]\n",
        "\n",
        "print(\"---- Lists ----\")\n",
        "print(f\"The list l1:{l1} with id: {id(l1)} and l2: {l2} with id{id(l2)}\")\n",
        "l1 = l1 + l2\n",
        "print(f\"When concatenating the two: l1 = l1 + l2 -> {id(l1)}\")\n",
        "\n",
        "print(\"---- Tuple ----\")\n",
        "\n",
        "t1 = (1, 2, 3, 4)\n",
        "t2 = (5, 6)\n",
        "\n",
        "print(f\"The tuple t1:{t1} with id: {id(t1)} and t2: {t2} with id{id(t2)}\")\n",
        "t1 = t1 + t2\n",
        "print(f\"When concatenating the two: t1 = t1 + t2 -> {id(t1)}\")\n",
        "\n",
        "# The id is of a new object created, that means it is not the id of the original one. it does\n",
        "# not MUTATE"
      ],
      "metadata": {
        "colab": {
          "base_uri": "https://localhost:8080/"
        },
        "id": "eIifzaFd7ukm",
        "outputId": "f7674003-34c5-4024-eb36-3c8eac92e206"
      },
      "id": "eIifzaFd7ukm",
      "execution_count": 4,
      "outputs": [
        {
          "output_type": "stream",
          "name": "stdout",
          "text": [
            "---- Lists ----\n",
            "The list l1:[1, 2, 3, 4] with id: 140245691075152 and l2: [5, 6] with id140245691021504\n",
            "When concatenating the two: l1 = l1 + l2 -> 140245691444192\n",
            "---- Tuple ----\n",
            "The tuple t1:(1, 2, 3, 4) with id: 140245690937520 and t2: (5, 6) with id140245690881440\n",
            "When concatenating the two: t1 = t1 + t2 -> 140245778178240\n"
          ]
        }
      ]
    },
    {
      "cell_type": "code",
      "source": [
        "l1 = [1, 2, 3, 4]\n",
        "l2 = [5, 6]\n",
        "\n",
        "print(\"---- Lists ----\")\n",
        "print(f\"The list l1:{l1} with id: {id(l1)} and l2: {l2} with id{id(l2)}\")\n",
        "l1 += l2\n",
        "print(f\"When concatenating the two: l1 = l1 + l2 -> {id(l1)}\")\n",
        "\n",
        "# Here in place concatenation actualy MUTATES the list.\n",
        "\n",
        "print(\"---- Lists and Tuples ----\")\n",
        "t2 = (7, 8)\n",
        "print(f\"The list l1:{l1} with id: {id(l1)} and tuple t2: {t2} with id{id(t2)}\")\n",
        "l1 += t2\n",
        "print(f\"When concatenating the two: l1 = l1 + t2 -> {id(l1)}\")\n",
        "\n",
        "# we can concatenate DIFFERENT types, and it also extends l1, which means,\n",
        "# it MUTATES l1."
      ],
      "metadata": {
        "colab": {
          "base_uri": "https://localhost:8080/"
        },
        "id": "txgVyvex83wD",
        "outputId": "77e66f0f-cda6-4b22-caef-a89ba8bee425"
      },
      "id": "txgVyvex83wD",
      "execution_count": 6,
      "outputs": [
        {
          "output_type": "stream",
          "name": "stdout",
          "text": [
            "---- Lists ----\n",
            "The list l1:[1, 2, 3, 4] with id: 140245690984240 and l2: [5, 6] with id140245691018448\n",
            "When concatenating the two: l1 = l1 + l2 -> 140245690984240\n",
            "---- Lists and Tuples ----\n",
            "The list l1:[1, 2, 3, 4, 5, 6] with id: 140245690984240 and tuple t2: (7, 8) with id140245690923520\n",
            "When concatenating the two: l1 = l1 + t2 -> 140245690984240\n"
          ]
        }
      ]
    },
    {
      "cell_type": "markdown",
      "id": "c0339b22-0041-4836-afbf-2272280a4bac",
      "metadata": {
        "id": "c0339b22-0041-4836-afbf-2272280a4bac"
      },
      "source": [
        "- Repetition `*` of sequences."
      ]
    },
    {
      "cell_type": "code",
      "execution_count": null,
      "id": "4bbeee5e-9d98-46ce-882f-424723df14f2",
      "metadata": {
        "id": "4bbeee5e-9d98-46ce-882f-424723df14f2",
        "outputId": "6314f5d8-c0f0-4828-ad37-839d972ae034"
      },
      "outputs": [
        {
          "name": "stdout",
          "output_type": "stream",
          "text": [
            "The list [1, 3, 5] repeated 5 times is [1, 3, 5, 1, 3, 5, 1, 3, 5, 1, 3, 5, 1, 3, 5]\n",
            "The tuple (1, 3, 5) repeated 4 times (1, 3, 5, 1, 3, 5, 1, 3, 5, 1, 3, 5)\n",
            "The String Python repeated 3 times PythonPythonPython\n"
          ]
        }
      ],
      "source": [
        "l1 = [1, 3, 5]\n",
        "t1 = (1, 3, 5)\n",
        "s1 = 'Python'\n",
        "print(f\"The list {l1} repeated 5 times is {l1 * 5}\")\n",
        "print(f\"The tuple {t1} repeated 4 times {t1 * 4}\")\n",
        "print(f\"The String {s1} repeated 3 times {s1 * 3}\")"
      ]
    },
    {
      "cell_type": "markdown",
      "source": [
        "- in-place Repetition, the `*=` operator.\n",
        "  - for mutable objects it keeps mutates the object thus keeping the same one in memory.\n",
        "  - It let's us concatenate different types."
      ],
      "metadata": {
        "id": "11uyM3bb-HAe"
      },
      "id": "11uyM3bb-HAe"
    },
    {
      "cell_type": "code",
      "source": [
        "l1 = [1, 2, 3, 4]\n",
        "l2 = 3\n",
        "\n",
        "print(\"---- Lists ----\")\n",
        "print(f\"The list l1:{l1} with id: {id(l1)}\")\n",
        "l1 *= l2\n",
        "print(f\"When repeating l1: l1 *= 3 -> {id(l1)}\")\n",
        "\n",
        "# Here in place repetition actualy MUTATES the list.\n",
        "\n",
        "print(\"---- Tuples ----\")\n",
        "t1 = (7, 8)\n",
        "t2 = 3\n",
        "print(f\"The tuple t1:{t1} with id: {id(t1)}\")\n",
        "t1 *= t2\n",
        "print(f\"When repeating the two: t1 *= t2 -> {id(t1)}\")\n",
        "\n",
        "# Here in place repetition does not MUTATE the object."
      ],
      "metadata": {
        "colab": {
          "base_uri": "https://localhost:8080/"
        },
        "id": "MvdADs2v-U7l",
        "outputId": "0d33a090-dce7-401e-f078-1e69eb36e7c6"
      },
      "id": "MvdADs2v-U7l",
      "execution_count": 9,
      "outputs": [
        {
          "output_type": "stream",
          "name": "stdout",
          "text": [
            "---- Lists ----\n",
            "The list l1:[1, 2, 3, 4] with id: 140245690461872\n",
            "When repeating l1: l1 *= 3 -> 140245690461872\n",
            "---- Tuples ----\n",
            "The tuple t1:(7, 8) with id: 140245690953968\n",
            "When repeating the two: t1 *= t2 -> 140245778010416\n"
          ]
        }
      ]
    },
    {
      "cell_type": "markdown",
      "id": "0550cc2a-507e-4ab5-a3cf-a2461fd6fb75",
      "metadata": {
        "id": "0550cc2a-507e-4ab5-a3cf-a2461fd6fb75"
      },
      "source": [
        "- The `in` and `not in` Operator"
      ]
    },
    {
      "cell_type": "code",
      "execution_count": null,
      "id": "67ed69c5-51bf-4674-965f-2bbc9b3dd590",
      "metadata": {
        "id": "67ed69c5-51bf-4674-965f-2bbc9b3dd590",
        "outputId": "10e57044-0b12-4b35-98c6-a59d9f5f75fd"
      },
      "outputs": [
        {
          "name": "stdout",
          "output_type": "stream",
          "text": [
            "10 in range(10): False\n",
            "10 not in range(10): True\n"
          ]
        }
      ],
      "source": [
        "r = range(10)\n",
        "print(f\"10 in range(10): {10 in r}\")\n",
        "print(f\"10 not in range(10): {10 not in r}\")"
      ]
    },
    {
      "cell_type": "markdown",
      "id": "af440fb9-5aca-4e03-93e9-2598d6f74cfa",
      "metadata": {
        "id": "af440fb9-5aca-4e03-93e9-2598d6f74cfa"
      },
      "source": [
        "- The `len` operator, Returns the length of the finite Sequence (there could be infinite)."
      ]
    },
    {
      "cell_type": "code",
      "execution_count": null,
      "id": "9ee7d7e7-115d-4820-8b23-511d397bda7a",
      "metadata": {
        "id": "9ee7d7e7-115d-4820-8b23-511d397bda7a",
        "outputId": "bb60cbb5-e430-49ec-b327-45984e1a044c"
      },
      "outputs": [
        {
          "name": "stdout",
          "output_type": "stream",
          "text": [
            "The len of string Python is 6\n",
            "The len of range(0, 10) is 10\n"
          ]
        }
      ],
      "source": [
        "s = 'Python'\n",
        "r = range(10)\n",
        "print(f\"The len of string {s} is {len(s)}\")\n",
        "print(f\"The len of {r} is {len(r)}\")\n",
        "\n",
        "# REMEMBER, dicts and sets also have this operator. it is not limited to sequences."
      ]
    },
    {
      "cell_type": "markdown",
      "id": "0932e2fd-a2a8-41cc-9ec7-be36bbaaf4fa",
      "metadata": {
        "id": "0932e2fd-a2a8-41cc-9ec7-be36bbaaf4fa"
      },
      "source": [
        "- The `min` and `max` Operator, however, we need to consider if the elements in the sequence can be compared.\n",
        "(complex numbers is an example, or heterogeneous lists that are not pairwise comparable)"
      ]
    },
    {
      "cell_type": "code",
      "execution_count": null,
      "id": "3c17ef39-0a79-4d41-a37a-f165ad9327a0",
      "metadata": {
        "id": "3c17ef39-0a79-4d41-a37a-f165ad9327a0",
        "outputId": "47d2725d-445f-4986-b38e-810967336956"
      },
      "outputs": [
        {
          "name": "stdout",
          "output_type": "stream",
          "text": [
            "The min element of ['a', 'b', 'c'] is a\n",
            "The max element of range(0, 10) is 9\n"
          ]
        }
      ],
      "source": [
        "l = ['a', 'b', 'c']\n",
        "r = range(10)\n",
        "print(f\"The min element of {l} is {min(l)}\")\n",
        "print(f\"The max element of {r} is {max(r)}\")"
      ]
    },
    {
      "cell_type": "code",
      "execution_count": null,
      "id": "224cc6c0-cf53-46ff-86a3-a77341539c8e",
      "metadata": {
        "id": "224cc6c0-cf53-46ff-86a3-a77341539c8e",
        "outputId": "99f82319-1e0e-4b7c-d5b1-14277ed6a615"
      },
      "outputs": [
        {
          "name": "stdout",
          "output_type": "stream",
          "text": [
            "The min element of [10, 10.5, Decimal('20.4')] is 10\n",
            "The max element of [10, 10.5, Decimal('20.4')] is 20.4\n"
          ]
        }
      ],
      "source": [
        "from decimal import Decimal\n",
        "\n",
        "l = [10, 10.5, Decimal(\"20.4\")]\n",
        "print(f\"The min element of {l} is {min(l)}\")\n",
        "print(f\"The max element of {l} is {max(l)}\")\n",
        "\n",
        "# This is because they are pairwise comparable, so this heterogeneous list works."
      ]
    },
    {
      "cell_type": "markdown",
      "id": "fdbd35b2-a21b-4bcb-a7b6-a68a2588f067",
      "metadata": {
        "id": "fdbd35b2-a21b-4bcb-a7b6-a68a2588f067"
      },
      "source": [
        "- The `enumerate` function, which gives a tuple of the index and each of the elements, (it returns a generator object)"
      ]
    },
    {
      "cell_type": "code",
      "execution_count": null,
      "id": "857ef41e-bb24-4858-aa1e-ea9d6e3c0b07",
      "metadata": {
        "id": "857ef41e-bb24-4858-aa1e-ea9d6e3c0b07",
        "outputId": "ce99bc5c-1f15-4e98-96f8-5f516ecda664"
      },
      "outputs": [
        {
          "name": "stdout",
          "output_type": "stream",
          "text": [
            "The list [1, 3, 5] can be enumerated as [(0, 1), (1, 3), (2, 5)]\n",
            "The range range(0, 5) can be enumerated as [(0, 0), (1, 1), (2, 2), (3, 3), (4, 4)]\n"
          ]
        }
      ],
      "source": [
        "l1 = [1, 3, 5]\n",
        "r1 = range(5)\n",
        "print(f\"The list {l1} can be enumerated as {list(enumerate(l1))}\")\n",
        "print(f\"The range {r1} can be enumerated as {list(enumerate(r1))}\")"
      ]
    },
    {
      "cell_type": "markdown",
      "id": "7eea6a86-cf23-4352-98bd-030a3e3664f4",
      "metadata": {
        "id": "7eea6a86-cf23-4352-98bd-030a3e3664f4"
      },
      "source": [
        "- `index` can also be used to find the index of an element.\n",
        "    - It returns the first occurence\n",
        "    - we can specify `index(e, i, j)` to start looking in `i` up to `j`\n",
        "    - If not found the index raises an exception."
      ]
    },
    {
      "cell_type": "code",
      "execution_count": null,
      "id": "6a42aa95-c89c-4ddd-819c-7c3287fd9dc0",
      "metadata": {
        "id": "6a42aa95-c89c-4ddd-819c-7c3287fd9dc0",
        "outputId": "6914b328-cd6a-4522-acec-9a9c0198e664"
      },
      "outputs": [
        {
          "name": "stdout",
          "output_type": "stream",
          "text": [
            "The element 5 in list [1, 3, 5] is at index 2\n",
            "The element 2 in range(0, 5) is at index 2\n"
          ]
        }
      ],
      "source": [
        "l1 = [1, 3, 5]\n",
        "r1 = range(5)\n",
        "print(f\"The element 5 in list {l1} is at index {l1.index(5)}\")\n",
        "print(f\"The element 2 in {r1} is at index {r1.index(2)}\")"
      ]
    },
    {
      "cell_type": "markdown",
      "id": "e0e6e6cc-6a5d-488e-b038-36a28d3af0cb",
      "metadata": {
        "id": "e0e6e6cc-6a5d-488e-b038-36a28d3af0cb"
      },
      "source": [
        "## Copies"
      ]
    },
    {
      "cell_type": "markdown",
      "id": "4fa17f12-0c2f-4a8f-ba00-b4dfcc75aa5a",
      "metadata": {
        "jp-MarkdownHeadingCollapsed": true,
        "tags": [],
        "id": "4fa17f12-0c2f-4a8f-ba00-b4dfcc75aa5a"
      },
      "source": [
        "### Shallow"
      ]
    },
    {
      "cell_type": "markdown",
      "id": "7cc31d39-c55e-4f8e-b3f2-891a5cb57668",
      "metadata": {
        "id": "7cc31d39-c55e-4f8e-b3f2-891a5cb57668"
      },
      "source": [
        "- Loop/Comprehension"
      ]
    },
    {
      "cell_type": "code",
      "execution_count": null,
      "id": "d74fe3af-2890-4257-8b3c-44fe9d5266a5",
      "metadata": {
        "id": "d74fe3af-2890-4257-8b3c-44fe9d5266a5",
        "outputId": "5eafef9e-eb5e-4e54-f4d3-d9bb8ca54ce6"
      },
      "outputs": [
        {
          "name": "stdout",
          "output_type": "stream",
          "text": [
            "l1: [1, 2, 3] has id: 140541671256384\n",
            "---- Loop ----\n",
            "l1_copy: [1, 2, 3] has id: 140541671466944\n",
            "---- Comprehension ----\n",
            "l1_copy_c: [1, 2, 3] has id: 140541671464832\n"
          ]
        }
      ],
      "source": [
        "l1 = [1, 2, 3]\n",
        "print(f\"l1: {l1} has id: {id(l1)}\")\n",
        "\n",
        "print(\"---- Loop ----\")\n",
        "l1_copy = []\n",
        "for item in l1:\n",
        "    l1_copy.append(item)\n",
        "print(f\"l1_copy: {l1_copy} has id: {id(l1_copy)}\")\n",
        "\n",
        "print(\"---- Comprehension ----\")\n",
        "l1_copy_c = [item for item in l1]\n",
        "print(f\"l1_copy_c: {l1_copy_c} has id: {id(l1_copy_c)}\")"
      ]
    },
    {
      "cell_type": "markdown",
      "id": "ff17bfde-ff44-4f49-8f58-61e31400cb84",
      "metadata": {
        "id": "ff17bfde-ff44-4f49-8f58-61e31400cb84"
      },
      "source": [
        "- Copy method/library"
      ]
    },
    {
      "cell_type": "code",
      "execution_count": null,
      "id": "e279b3a3-b631-4b13-8c09-e97a047086e3",
      "metadata": {
        "id": "e279b3a3-b631-4b13-8c09-e97a047086e3",
        "outputId": "a9fd4edd-afdb-40e5-db2a-31edd52b38e2"
      },
      "outputs": [
        {
          "name": "stdout",
          "output_type": "stream",
          "text": [
            "****** METHOD ******\n",
            "l1: [1, 2, 3] has id: 140541656200704\n",
            "---- .Copy ----\n",
            "l1_copy: [1, 2, 3] has id: 140541671376896\n",
            "****** MODULE ******\n",
            "l1: [1, 2, 3] has id: 140541656200704\n",
            "---- Copy ----\n",
            "l1_copy: [1, 2, 3] has id: 140541671465600\n"
          ]
        }
      ],
      "source": [
        "print(\"****** METHOD ******\")\n",
        "\n",
        "l1 = [1, 2, 3]\n",
        "print(f\"l1: {l1} has id: {id(l1)}\")\n",
        "\n",
        "print(\"---- .Copy ----\")\n",
        "l1_copy = l1.copy()\n",
        "\n",
        "print(f\"l1_copy: {l1_copy} has id: {id(l1_copy)}\")\n",
        "\n",
        "print(\"****** MODULE ******\")\n",
        "from copy import copy\n",
        "print(f\"l1: {l1} has id: {id(l1)}\")\n",
        "\n",
        "print(\"---- Copy ----\")\n",
        "l1_copy = copy(l1)\n",
        "\n",
        "print(f\"l1_copy: {l1_copy} has id: {id(l1_copy)}\")"
      ]
    },
    {
      "cell_type": "markdown",
      "id": "e2ba75dc-1544-4e4f-825b-87bacfd93b7f",
      "metadata": {
        "id": "e2ba75dc-1544-4e4f-825b-87bacfd93b7f"
      },
      "source": [
        "- Slicing, (Tuples and Strings just returns the same object, since it does not make sense to create a new object of an immutable type)"
      ]
    },
    {
      "cell_type": "code",
      "execution_count": null,
      "id": "100820c1-fa84-45e2-adbc-06b1e72e082d",
      "metadata": {
        "id": "100820c1-fa84-45e2-adbc-06b1e72e082d",
        "outputId": "13447f9b-05ad-412e-8080-8fa8a3ad7b96"
      },
      "outputs": [
        {
          "name": "stdout",
          "output_type": "stream",
          "text": [
            "****** LIST ******\n",
            "l1: [1, 2, 3] has id: 140541671465536\n",
            "---- Slicing ----\n",
            "l1_copy: [1, 2, 3] has id: 140541671440000\n",
            "****** TUPLE ******\n",
            "t1: (1, 2, 3) has id: 140541671405248\n",
            "---- Slicing ----\n",
            "t1_copy: (1, 2, 3) has id: 140541671405248\n"
          ]
        }
      ],
      "source": [
        "print(\"****** LIST ******\")\n",
        "l1 = [1, 2, 3]\n",
        "print(f\"l1: {l1} has id: {id(l1)}\")\n",
        "\n",
        "print(\"---- Slicing ----\")\n",
        "l1_copy = l1[:]\n",
        "\n",
        "print(f\"l1_copy: {l1_copy} has id: {id(l1_copy)}\")\n",
        "\n",
        "print(\"****** TUPLE ******\")\n",
        "t1 = (1, 2, 3)\n",
        "print(f\"t1: {t1} has id: {id(t1)}\")\n",
        "\n",
        "print(\"---- Slicing ----\")\n",
        "t1_copy = t1[:]\n",
        "\n",
        "print(f\"t1_copy: {t1_copy} has id: {id(t1_copy)}\")"
      ]
    },
    {
      "cell_type": "markdown",
      "id": "22de3837-a77f-4f48-9489-edf1a7d61b3f",
      "metadata": {
        "id": "22de3837-a77f-4f48-9489-edf1a7d61b3f"
      },
      "source": [
        "- constructor, `list()`, (`tuple()`, `str()` just returns the same object, since it does not make sense to create a new object of an immutable type)"
      ]
    },
    {
      "cell_type": "code",
      "execution_count": null,
      "id": "46fb0801-ba23-4ee5-93df-ed34d8a9477f",
      "metadata": {
        "id": "46fb0801-ba23-4ee5-93df-ed34d8a9477f",
        "outputId": "549c342c-d869-43a8-efe0-dc18e6cdec38"
      },
      "outputs": [
        {
          "name": "stdout",
          "output_type": "stream",
          "text": [
            "****** LIST ******\n",
            "l1: [1, 2, 3] has id: 140541671459904\n",
            "---- Constructor ----\n",
            "l1_copy: [1, 2, 3] has id: 140541671379904\n",
            "****** TUPLE ******\n",
            "t1: (1, 2, 3) has id: 140541671467264\n",
            "---- Constructor ----\n",
            "t1_copy: (1, 2, 3) has id: 140541671467264\n"
          ]
        }
      ],
      "source": [
        "print(\"****** LIST ******\")\n",
        "l1 = [1, 2, 3]\n",
        "print(f\"l1: {l1} has id: {id(l1)}\")\n",
        "\n",
        "print(\"---- Constructor ----\")\n",
        "l1_copy = list(l1)\n",
        "\n",
        "print(f\"l1_copy: {l1_copy} has id: {id(l1_copy)}\")\n",
        "\n",
        "print(\"****** TUPLE ******\")\n",
        "t1 = (1, 2, 3)\n",
        "print(f\"t1: {t1} has id: {id(t1)}\")\n",
        "\n",
        "print(\"---- Constructor ----\")\n",
        "t1_copy = tuple(t1)\n",
        "\n",
        "print(f\"t1_copy: {t1_copy} has id: {id(t1_copy)}\")"
      ]
    },
    {
      "cell_type": "markdown",
      "id": "7ec48a2f-0c5f-40dc-81ac-2a1c400aeb4a",
      "metadata": {
        "id": "7ec48a2f-0c5f-40dc-81ac-2a1c400aeb4a"
      },
      "source": [
        "### Deep"
      ]
    },
    {
      "cell_type": "markdown",
      "id": "c386ba86-1014-4057-85ff-9dba210c76ee",
      "metadata": {
        "id": "c386ba86-1014-4057-85ff-9dba210c76ee"
      },
      "source": [
        "In order to make a deep copy, we need to make sure every element inside the object is correctly copied.   \n",
        "Shallow copies just make a copy of the container but not the elements so any mutables will be modified as a side effect."
      ]
    },
    {
      "cell_type": "code",
      "execution_count": null,
      "id": "e55da71d-d029-4822-b354-112af947d7b5",
      "metadata": {
        "id": "e55da71d-d029-4822-b354-112af947d7b5",
        "outputId": "b5acf88f-a19b-4129-e97a-1a4924640088"
      },
      "outputs": [
        {
          "name": "stdout",
          "output_type": "stream",
          "text": [
            "elements e1: [0, 0] and [0, 0] are part of l1: [[0, 0], [0, 0]]\n",
            "---- Shallow copy ----\n",
            "l1: [[0, 0], [0, 0]] has id 140541656348288, l2: [[0, 0], [0, 0]] has id 140541671241856\n",
            "e1: [0, 0] in l1 has id 140541671251776, l2: [0, 0] has id 140541671251776\n",
            "e1: [0, 0] in l1 has id 140541671464640, l2: [0, 0] has id 140541671464640\n",
            "---- modify e1 ---\n",
            "elements e1: [0, 0, 100], l1: [[0, 0, 100], [0, 0]] and l2: [[0, 0, 100], [0, 0]]\n"
          ]
        }
      ],
      "source": [
        "e1 = [0, 0]\n",
        "e2 = [0, 0]\n",
        "l1 = [e1, e2]\n",
        "print(f\"elements e1: {e1} and {e2} are part of l1: {l1}\")\n",
        "\n",
        "print(\"---- Shallow copy ----\")\n",
        "l2 = l1[:]\n",
        "\n",
        "print(f\"l1: {l1} has id {id(l1)}, l2: {l2} has id {id(l2)}\")\n",
        "print(f\"e1: {l1[0]} in l1 has id {id(l1[0])}, l2: {l2[0]} has id {id(l2[0])}\")\n",
        "print(f\"e1: {l1[1]} in l1 has id {id(l1[1])}, l2: {l2[1]} has id {id(l2[1])}\")\n",
        "\n",
        "# The elements are the same!\n",
        "print(\"---- modify e1 ---\")\n",
        "e1.append(100)\n",
        "print(f\"elements e1: {e1}, l1: {l1} and l2: {l2}\")"
      ]
    },
    {
      "cell_type": "code",
      "execution_count": null,
      "id": "60d322f3-ab63-4507-9074-9a395c2ca083",
      "metadata": {
        "id": "60d322f3-ab63-4507-9074-9a395c2ca083",
        "outputId": "2c4d8445-01bd-426f-9340-6400ad8f3a93"
      },
      "outputs": [
        {
          "name": "stdout",
          "output_type": "stream",
          "text": [
            "elements e1: [0, 0] and [0, 0] are part of l1: [[0, 0], [0, 0]]\n",
            "---- Partial copy ----\n",
            "l1: [[0, 0], [0, 0]] has id 140541671466432, l2: [[0, 0], [0, 0]] has id 140541670551168\n",
            "e1: [0, 0] in l1 has id 140541671468864, l2: [0, 0] has id 140541671466688\n",
            "e1: [0, 0] in l1 has id 140541658414016, l2: [0, 0] has id 140541671469120\n",
            "---- modify e1 ---\n",
            "elements e1: [0, 0, 100], l1: [[0, 0, 100], [0, 0]] and l2: [[0, 0], [0, 0]]\n"
          ]
        }
      ],
      "source": [
        "# to fix this we could make a partial deep copy\n",
        "e1 = [0, 0]\n",
        "e2 = [0, 0]\n",
        "l1 = [e1, e2]\n",
        "print(f\"elements e1: {e1} and {e2} are part of l1: {l1}\")\n",
        "\n",
        "print(\"---- Partial copy ----\")\n",
        "\n",
        "l2 = [e.copy() for e in l1]\n",
        "\n",
        "print(f\"l1: {l1} has id {id(l1)}, l2: {l2} has id {id(l2)}\")\n",
        "print(f\"e1: {l1[0]} in l1 has id {id(l1[0])}, l2: {l2[0]} has id {id(l2[0])}\")\n",
        "print(f\"e1: {l1[1]} in l1 has id {id(l1[1])}, l2: {l2[1]} has id {id(l2[1])}\")\n",
        "\n",
        "# The problem is that this becomes a recursive problem, since if we have nested elements\n",
        "# in e1 or e2 those would be equals.\n",
        "# The elements are the same!\n",
        "print(\"---- modify e1 ---\")\n",
        "e1.append(100)\n",
        "print(f\"elements e1: {e1}, l1: {l1} and l2: {l2}\")"
      ]
    },
    {
      "cell_type": "markdown",
      "id": "3d264a57-ae9f-4381-9885-ee98ba8e89fd",
      "metadata": {
        "id": "3d264a57-ae9f-4381-9885-ee98ba8e89fd"
      },
      "source": [
        "To create a Deepcopy without worrying about all recursion and circular references that may exist in those objects references we can use.\n",
        "- module copy.deepcopy"
      ]
    },
    {
      "cell_type": "code",
      "execution_count": null,
      "id": "4582a15c-ebe4-4585-8c79-0ff74680e144",
      "metadata": {
        "id": "4582a15c-ebe4-4585-8c79-0ff74680e144",
        "outputId": "92dbf7d1-cb3d-4625-d52a-cd925ea9e65c"
      },
      "outputs": [
        {
          "name": "stdout",
          "output_type": "stream",
          "text": [
            "elements [[1, 1], [2, 2]] and [[3, 3], [4, 4]] are part of plane1: [[[1, 1], [2, 2]], [[3, 3], [4, 4]]]\n",
            "---- Deep copy ----\n",
            "Id of plane1: 140541671468096, Id of plane2: 140541671360128\n",
            "Id of first element of plane1: 140541671465024, Id of first element of plane2: 140541671360640\n",
            "Id of first element of p1/line1: 140541671465536, Id of first element of p2/line1: 140541670932096\n"
          ]
        }
      ],
      "source": [
        "v1 = [1, 1]\n",
        "v2 = [2, 2]\n",
        "v3 = [3, 3]\n",
        "v4 = [4, 4]\n",
        "line1 = [v1, v2]\n",
        "line2 = [v3, v4]\n",
        "plane1 = [line1, line2]\n",
        "\n",
        "print(f\"elements {line1} and {line2} are part of plane1: {plane1}\")\n",
        "from copy import deepcopy\n",
        "\n",
        "print(\"---- Deep copy ----\")\n",
        "plane2 = deepcopy(plane1)\n",
        "print(f\"Id of plane1: {id(plane1)}, Id of plane2: {id(plane2)}\")\n",
        "print(f\"Id of first element of plane1: {id(plane1[0])}, Id of first element of plane2: {id(plane2[0])}\")\n",
        "print(f\"Id of first element of p1/line1: {id(plane1[0][0])}, Id of first element of p2/line1: {id(plane2[0][0])}\")\n",
        "\n",
        "# We have truly two different copies to the last element!!"
      ]
    },
    {
      "cell_type": "code",
      "execution_count": null,
      "id": "1d7e909a-9c5e-4012-b3fd-8c461b197177",
      "metadata": {
        "id": "1d7e909a-9c5e-4012-b3fd-8c461b197177",
        "outputId": "5cd61f8c-a6b2-47d3-bb5f-5e12e7eec6fa"
      },
      "outputs": [
        {
          "name": "stdout",
          "output_type": "stream",
          "text": [
            "---- Deepcopy with classes -----\n",
            "class line1 attr p1: Point(0, 0), has id: 140541660994800\n",
            "class line2 attr p1: Point(0, 0), has id: 140541659260688\n"
          ]
        }
      ],
      "source": [
        "class Point:\n",
        "    def __init__(self, x, y):\n",
        "        self.x = x\n",
        "        self.y = y\n",
        "    \n",
        "    def __repr__(self):\n",
        "        return f'Point({self.x}, {self.y})'\n",
        "    \n",
        "class Line:\n",
        "    def __init__(self, p1, p2):\n",
        "        self.p1 = p1\n",
        "        self.p2 = p2\n",
        "        \n",
        "    def __repr__(self):\n",
        "        return f'Line({self.p1.__repr__()}, {self.p2.__repr__()})'\n",
        "    \n",
        "print(\"---- Deepcopy with classes -----\")\n",
        "    \n",
        "p1 = Point(0, 0)\n",
        "p2 = Point(10, 10)\n",
        "line1 = Line(p1, p2)\n",
        "line2 = deepcopy(line1)\n",
        "\n",
        "print(f\"class line1 attr p1: {line1.p1}, has id: {id(line1.p1)}\")\n",
        "print(f\"class line2 attr p1: {line2.p1}, has id: {id(line2.p1)}\")"
      ]
    },
    {
      "cell_type": "markdown",
      "id": "4ca622a2",
      "metadata": {
        "id": "4ca622a2"
      },
      "source": [
        "## Slicing"
      ]
    },
    {
      "cell_type": "markdown",
      "id": "d999e4cd-96a9-4496-affd-f8822ca64d54",
      "metadata": {
        "id": "d999e4cd-96a9-4496-affd-f8822ca64d54"
      },
      "source": [
        "Slices are actually objects of type `slice`"
      ]
    },
    {
      "cell_type": "code",
      "execution_count": null,
      "id": "0c92da61-9079-4d57-b599-0477a1bab3ef",
      "metadata": {
        "id": "0c92da61-9079-4d57-b599-0477a1bab3ef",
        "outputId": "9ce5578b-44d9-42e2-bf07-756e4c71e3f7"
      },
      "outputs": [
        {
          "name": "stdout",
          "output_type": "stream",
          "text": [
            "The slice: slice(0, 2, None) has a start attr: 0 and stop attr: 2\n",
            "---- Store Slices in Vars ----\n",
            "We could use slice: slice(0, 2, None) and use it on list[1, 2, 3, 4]: [1, 2]\n"
          ]
        }
      ],
      "source": [
        "# create a new object\n",
        "s = slice(0, 2)\n",
        "l1 = [1, 2, 3, 4]\n",
        "\n",
        "print(f\"The slice: {s} has a start attr: {s.start} and stop attr: {s.stop}\")\n",
        "\n",
        "print(\"---- Store Slices in Vars ----\")\n",
        "print(f\"We could use slice: {s} and use it on list{l1}: {l1[s]}\")"
      ]
    },
    {
      "cell_type": "markdown",
      "id": "fcf8b7bf",
      "metadata": {
        "id": "fcf8b7bf"
      },
      "source": [
        "Slices get converted to a `range` equivalent in Python."
      ]
    },
    {
      "cell_type": "code",
      "execution_count": null,
      "id": "932705d1-2d62-4304-95af-60e5954f754d",
      "metadata": {
        "id": "932705d1-2d62-4304-95af-60e5954f754d",
        "outputId": "42351fa7-34b7-4f1d-dcc9-fe52c1c6d0b1"
      },
      "outputs": [
        {
          "name": "stdout",
          "output_type": "stream",
          "text": [
            "for slice: slice(1, 5, None) the equivalent range on a sequence of 10 is: (1, 5, 1)\n",
            "Equivalent Range for slice slice(1, 5, None) is [1, 2, 3, 4]\n"
          ]
        }
      ],
      "source": [
        "s = slice(1, 5)\n",
        "\n",
        "print(f\"for slice: {s} the equivalent range on a sequence of 10 is: {s.indices(10)}\")\n",
        "print(f\"Equivalent Range for slice {s} is {list(range(*s.indices(10)))}\")"
      ]
    },
    {
      "cell_type": "markdown",
      "id": "30d48bd6",
      "metadata": {
        "id": "30d48bd6"
      },
      "source": [
        "In this case we must be careful not to set a slice with negative numbers that does not return a valid Range."
      ]
    },
    {
      "cell_type": "code",
      "execution_count": null,
      "id": "621e2c9b-106c-4879-af09-db544f7e3ecb",
      "metadata": {
        "id": "621e2c9b-106c-4879-af09-db544f7e3ecb",
        "outputId": "0949be12-4368-4000-ee16-c6f9cc117982"
      },
      "outputs": [
        {
          "name": "stdout",
          "output_type": "stream",
          "text": [
            "Slice [-3:-1:-1] Returns an empty object for string Python: \n",
            "Slice equivalent Range: (3, 5, -1)\n",
            "[]\n"
          ]
        }
      ],
      "source": [
        "s = 'Python'\n",
        "print(f'Slice [-3:-1:-1] Returns an empty object for string {s}: {s[-3:-1:-1]}')\n",
        "\n",
        "start = 3\n",
        "stop = -1\n",
        "step = -1\n",
        "length = 6\n",
        "print(f'Slice equivalent Range: {slice(start, stop, step).indices(length)}')\n",
        "print(list(range(*slice(start, stop, step).indices(length))))"
      ]
    },
    {
      "cell_type": "markdown",
      "source": [
        "### Assignments\n"
      ],
      "metadata": {
        "id": "C9zpSkGuKrK5"
      },
      "id": "C9zpSkGuKrK5"
    },
    {
      "cell_type": "markdown",
      "source": [
        "- We can use Slicing to make assignments in mutable sequences."
      ],
      "metadata": {
        "id": "6Yy3yAjNKx1r"
      },
      "id": "6Yy3yAjNKx1r"
    },
    {
      "cell_type": "code",
      "source": [
        "l = [1, 2, 3, 4, 5]\n",
        "\n",
        "print(f\"The id of list l is: {id(l)}, and its contents are: {l}\")\n",
        "\n",
        "l[0:3] = 'python' # it receives any iterable.\n",
        "\n",
        "print(f\"The id of list l after replacement is: {id(l)}, and its contents are: {l}\")\n",
        "\n",
        "l[0:6] = [] # any empty iterable.\n",
        "\n",
        "print(f\"The id of list l after deletion is: {id(l)}, and its contents are: {l}\")\n",
        "\n",
        "l[0:0] = (1,2,3)\n",
        "\n",
        "print(f\"The id of list l after insertion is: {id(l)}, and its contents are: {l}\")"
      ],
      "metadata": {
        "colab": {
          "base_uri": "https://localhost:8080/"
        },
        "id": "nVBWdRPeK6lO",
        "outputId": "c3347cee-232a-4b7d-86fd-33c44b1d0704"
      },
      "id": "nVBWdRPeK6lO",
      "execution_count": 5,
      "outputs": [
        {
          "output_type": "stream",
          "name": "stdout",
          "text": [
            "The id of list l is: 139924251633936, and its contents are: [1, 2, 3, 4, 5]\n",
            "The id of list l after replacement is: 139924251633936, and its contents are: ['p', 'y', 't', 'h', 'o', 'n', 4, 5]\n",
            "The id of list l after deletion is: 139924251633936, and its contents are: [4, 5]\n",
            "The id of list l after insertion is: 139924251633936, and its contents are: [1, 2, 3, 4, 5]\n"
          ]
        }
      ]
    },
    {
      "cell_type": "code",
      "source": [
        "# We may also use extended slices, however the length of the slice must be equal to \n",
        "# the iterable.\n",
        "\n",
        "l = [1, 2, 3, 4, 5]\n",
        "\n",
        "print(f\"The id of list l is: {id(l)}, and its contents are: {l}\")\n",
        "\n",
        "l[0:5:2] = 'abc' # each side must be of the same length\n",
        "\n",
        "print(f\"The id of list l after replacement is: {id(l)}, and its contents are: {l}\")\n",
        "\n",
        "try:\n",
        "  l[0:5:2] = [1,2,3,4]\n",
        "except Exception as err:\n",
        "  print(\"If we have different length we get this error:\")\n",
        "  print(f\"\\t - {err}\")"
      ],
      "metadata": {
        "colab": {
          "base_uri": "https://localhost:8080/"
        },
        "id": "FL9AQK-nNBZ_",
        "outputId": "63cc9cee-7a05-4176-e701-d5e9fa60ee57"
      },
      "id": "FL9AQK-nNBZ_",
      "execution_count": 16,
      "outputs": [
        {
          "output_type": "stream",
          "name": "stdout",
          "text": [
            "The id of list l is: 139924251853920, and its contents are: [1, 2, 3, 4, 5]\n",
            "The id of list l after replacement is: 139924251853920, and its contents are: ['a', 2, 'b', 4, 'c']\n",
            "If we have different length we get this error:\n",
            "\t - attempt to assign sequence of size 4 to extended slice of size 3\n"
          ]
        }
      ]
    },
    {
      "cell_type": "markdown",
      "id": "d2a40763",
      "metadata": {
        "id": "d2a40763"
      },
      "source": [
        "## Custom Sequences"
      ]
    },
    {
      "cell_type": "markdown",
      "source": [
        "In order to implement our own sequences we need to provide functionality to:\n",
        "- get an object given an index.\n",
        "- start indexing at 0.\n",
        "- get a `IndexError` when index is out of bounds.\n",
        "- If we want we could implement a method to get the length"
      ],
      "metadata": {
        "id": "bRAEogrdVugR"
      },
      "id": "bRAEogrdVugR"
    },
    {
      "cell_type": "code",
      "execution_count": 5,
      "id": "aac7bb2b-47b7-4de9-a9e3-be61079412fb",
      "metadata": {
        "colab": {
          "base_uri": "https://localhost:8080/"
        },
        "id": "aac7bb2b-47b7-4de9-a9e3-be61079412fb",
        "outputId": "afdf47bc-4e2e-4907-f70b-60355cde4bcd"
      },
      "outputs": [
        {
          "output_type": "stream",
          "name": "stdout",
          "text": [
            "--\u0010-- Length ----\n",
            "for list: [1, 2, 3, 4, 5], we could use the len method: 5\n",
            "for list: [1, 2, 3, 4, 5], we could use the __len__ method: 5\n",
            "--\u0010-- Indexing ----\n",
            "for list: [1, 2, 3, 4, 5], we could use the [] notation: 1\n",
            "for list: [1, 2, 3, 4, 5], we could use the __getitem__ method: 1\n",
            "--\u0010-- Indexing with Slice ----\n",
            "for list: [1, 2, 3, 4, 5], we could use the [] notation: [1, 2, 3, 4, 5]\n",
            "for list: [1, 2, 3, 4, 5], we could use the __getitem__ method: [1, 2, 3, 4, 5]\n"
          ]
        }
      ],
      "source": [
        "my_list = [1, 2, 3, 4, 5]\n",
        "\n",
        "print(\"--\u0010-- Length ----\")\n",
        "# we can start off by verifying the dunder methods\n",
        "print(f\"for list: {my_list}, we could use the len method: {len(my_list)}\")\n",
        "print(f\"for list: {my_list}, we could use the __len__ method: {my_list.__len__()}\")\n",
        "\n",
        "print(\"--\u0010-- Indexing ----\")\n",
        "print(f\"for list: {my_list}, we could use the [] notation: {my_list[0]}\")\n",
        "print(f\"for list: {my_list}, we could use the __getitem__ method: {my_list.__getitem__(0)}\")\n",
        "\n",
        "print(\"---- Indexing with Slice ----\")\n",
        "print(f\"for list: {my_list}, we could use the [] notation: {my_list[:]}\")\n",
        "print(f\"for list: {my_list}, we could use the __getitem__ method: {my_list.__getitem__(slice(10))}\")"
      ]
    },
    {
      "cell_type": "code",
      "execution_count": 7,
      "id": "db09398e-796e-4ea6-9752-55505f74eda0",
      "metadata": {
        "colab": {
          "base_uri": "https://localhost:8080/"
        },
        "id": "db09398e-796e-4ea6-9752-55505f74eda0",
        "outputId": "4bf37ad5-268f-4b5e-d6c4-2905ffe4783e"
      },
      "outputs": [
        {
          "output_type": "stream",
          "name": "stdout",
          "text": [
            "index position: 0 has object: 1\n",
            "index position: 1 has object: 2\n",
            "index position: 2 has object: 3\n",
            "index position: 3 has object: 4\n",
            "index position: 4 has object: 5\n"
          ]
        }
      ],
      "source": [
        "# to iterate and implement our solution we could\n",
        "my_list = [1,2,3,4,5]\n",
        "index = 0\n",
        "\n",
        "while True:\n",
        "  try:\n",
        "    item = my_list.__getitem__(index)\n",
        "    print(f\"index position: {index} has object: {item}\")\n",
        "    index += 1\n",
        "  except IndexError:\n",
        "    break"
      ]
    },
    {
      "cell_type": "code",
      "source": [
        "# our first custom sequence\n",
        "class SillySequence:\n",
        "  def __init__(self, n):\n",
        "    self.n = n\n",
        "\n",
        "  def __len__(self):\n",
        "    return self.n\n",
        "\n",
        "  def __getitem__(self, n):\n",
        "    if n < 0 or n >= self.n:\n",
        "      raise IndexError\n",
        "    else:\n",
        "      return 'My own get item method man!'\n",
        "\n",
        "my_class = SillySequence(5)\n",
        "\n",
        "print(\"---- Custom Sequence Len ----\")\n",
        "print(f\"This is my_class custom len method {len(my_class)}\")\n",
        "\n",
        "print(\"---- Custom Sequence Indexing ----\")\n",
        "print(f\"This is my_class custom __getitem__ method {my_class.__getitem__(3)}\")\n",
        "\n",
        "for element in my_class:\n",
        "  print(element)"
      ],
      "metadata": {
        "colab": {
          "base_uri": "https://localhost:8080/"
        },
        "id": "WdJ0JS_1Z5GF",
        "outputId": "3cf0b555-e290-4156-9df1-d359f9b6b7fd"
      },
      "id": "WdJ0JS_1Z5GF",
      "execution_count": 14,
      "outputs": [
        {
          "output_type": "stream",
          "name": "stdout",
          "text": [
            "---- Custom Sequence Len ----\n",
            "This is my_class custom len method 5\n",
            "---- Custom Sequence Indexing ----\n",
            "This is my_class custom __getitem__ method My own get item method man!\n",
            "My own get item method man!\n",
            "My own get item method man!\n",
            "My own get item method man!\n",
            "My own get item method man!\n",
            "My own get item method man!\n"
          ]
        }
      ]
    },
    {
      "cell_type": "code",
      "source": [
        "# a more useful class (sequence)\n",
        "from functools import lru_cache\n",
        "class Fib:\n",
        "  def __init__(self, n):\n",
        "    self.n = n\n",
        "\n",
        "  def __len__(self):\n",
        "    return self.n # len of the fib sequence\n",
        "\n",
        "  def __getitem__(self, s):\n",
        "    if isinstance(s, int):\n",
        "      if s < 0:\n",
        "        s = self.n + s # for negative turn it positive, and work with out of bounds\n",
        "      if s < 0 or s >= self.n:\n",
        "        raise IndexError\n",
        "      else:\n",
        "        return self.fib(s)\n",
        "    else:\n",
        "      start, stop, step = s.indices(self.n)\n",
        "      rng = range(start, stop, step)\n",
        "      return [self.fib(i) for i in rng]\n",
        "      \n",
        "\n",
        "  @lru_cache(2*10)\n",
        "  def fib(self,n):\n",
        "    if n < 2:\n",
        "      return 1\n",
        "    else:\n",
        "      return self.fib(n-1) + self.fib(n-2)\n",
        "\n",
        "\n",
        "f = Fib(10)\n",
        "print(f\"the Fib class on position 9: {f[9]}\")\n",
        "print(f\"the Fib class on position -9: {f[-9]}\")\n",
        "print(f\"the Fib class on slice [:6]: {f[0:6]}\")\n",
        "print(f\"the Fib class to a list: {list(f)}\")\n",
        "\n",
        "f_com = [item for item in f]\n",
        "print(f\"list created by a comprenhension {f_com}\")"
      ],
      "metadata": {
        "colab": {
          "base_uri": "https://localhost:8080/"
        },
        "id": "x1CskMBiu1d3",
        "outputId": "4738deac-50dc-4141-cb39-e8ddb78e7bca"
      },
      "id": "x1CskMBiu1d3",
      "execution_count": 23,
      "outputs": [
        {
          "output_type": "stream",
          "name": "stdout",
          "text": [
            "the Fib class on position 9: 55\n",
            "the Fib class on position -9: 1\n",
            "the Fib class on slice [:6]: [1, 1, 2, 3, 5, 8]\n",
            "the Fib class to a list: [1, 1, 2, 3, 5, 8, 13, 21, 34, 55]\n",
            "list created by a comprenhension [1, 1, 2, 3, 5, 8, 13, 21, 34, 55]\n"
          ]
        }
      ]
    },
    {
      "cell_type": "markdown",
      "source": [
        "We can overload some special methods to make our custom sequence bahave like a built in."
      ],
      "metadata": {
        "id": "JsOAmSa-vuN9"
      },
      "id": "JsOAmSa-vuN9"
    },
    {
      "cell_type": "code",
      "source": [
        "# Rough sketch to see which methods are required.\n",
        "\n",
        "class MyClass:\n",
        "  def __init__(self, name):\n",
        "    self.name = name\n",
        "\n",
        "  def __repr__(self):\n",
        "    return f'MyClass(name={self.name})'\n",
        "\n",
        "  def __add__(self, other):\n",
        "    print(f'You called + on {self} and {other}')\n",
        "    return 'hello from __add__'\n",
        "\n",
        "  def __iadd__(self, other):\n",
        "    print(f'You called += on {self} and {other}')\n",
        "    return 'Hello from __iadd__'\n",
        "\n",
        "c1 = MyClass('instance 1')\n",
        "c2 = MyClass('instance 2')\n",
        "\n",
        "result = c1 + c2\n",
        "print(result)\n",
        "\n",
        "c1 += c2\n",
        "print(c1) # c1 is no longer the same object and it should return the \n",
        "# Same one\n",
        "\n",
        "# We have overload the __add__ and __iadd__ special methods."
      ],
      "metadata": {
        "colab": {
          "base_uri": "https://localhost:8080/"
        },
        "id": "0bQo3LOnv1Dl",
        "outputId": "9a6c0e37-811f-4532-896b-feb9d7b015cc"
      },
      "id": "0bQo3LOnv1Dl",
      "execution_count": 7,
      "outputs": [
        {
          "output_type": "stream",
          "name": "stdout",
          "text": [
            "You called + on MyClass(name=instance 1) and MyClass(name=instance 2)\n",
            "hello from __add__\n",
            "You called += on MyClass(name=instance 1) and MyClass(name=instance 2)\n",
            "Hello from __iadd__\n"
          ]
        }
      ]
    },
    {
      "cell_type": "code",
      "source": [
        "# v.2.0, with functionality expected from a sequence.\n",
        "\n",
        "class MyClass:\n",
        "  def __init__(self, name):\n",
        "    self.name = name\n",
        "\n",
        "  def __repr__(self):\n",
        "    return f'MyClass(name={self.name})'\n",
        "\n",
        "  def __add__(self, other):\n",
        "    return MyClass(self.name + ', ' + other.name)\n",
        "\n",
        "  def __iadd__(self, other):\n",
        "    if isinstance(other, MyClass):\n",
        "      self.name += other.name\n",
        "    else:\n",
        "      self.name += other\n",
        "    return self\n",
        "\n",
        "  def __mul__(self, n):\n",
        "    return MyClass(self.name * n)\n",
        "\n",
        "  def __rmul__(self, n):\n",
        "    return self.__mul__(n)\n",
        "\n",
        "  def __imul__(self, n):\n",
        "    self.name *= n\n",
        "    return self\n",
        "\n",
        "  def __contains__(self, value):\n",
        "    return value in self.name\n",
        "\n",
        "\n",
        "\n",
        "c1 = MyClass('instance 1')\n",
        "c2 = MyClass('instance 2')\n",
        "\n",
        "print(\"---- CONCATENATION ---\")\n",
        "result = c1 + c2\n",
        "print(f\"id of the custom class c1 before concatenation {id(c1)}\")\n",
        "print(result)\n",
        "print(f\"id of the custom class c1 after concatenation {id(result)}\")\n",
        "\n",
        "print(\"---- INPLACE CONCATENATION ---\")\n",
        "print(f\"id of the custom class c1 before inplace concatenation {id(c1)}\")\n",
        "c1 += c2\n",
        "print(c1)\n",
        "print(f\"id of the custom class c1 after inplace concatenation {id(c1)}\")\n",
        "\n",
        "print(\"---- REPETITION ---\")\n",
        "print(f\"id of the custom class c1 before repetition {id(c1)}\")\n",
        "result = c1 * 2\n",
        "print(result)\n",
        "print(f\"id of the custom class c1 after repetition {id(result)}\")\n",
        "print(\"---- REPETITION RIGHT ---\")\n",
        "print(f\"id of the custom class c1 before repetition {id(c1)}\")\n",
        "result = 2 * c1\n",
        "print(result)\n",
        "print(f\"id of the custom class c1 after repetition {id(result)}\")\n",
        "print(\"---- INPLACE REPETITION ---\")\n",
        "print(f\"id of the custom class c1 before inplace repetition {id(c1)}\")\n",
        "c1 *= 2\n",
        "print(c1)\n",
        "print(f\"id of the custom class c1 after inplace repetition {id(c1)}\")\n",
        "print(\"---- IN OPERATOR ---\")\n",
        "print(f\"is 'instance 1' in my custom class: {'instance 1' in c1}\")"
      ],
      "metadata": {
        "colab": {
          "base_uri": "https://localhost:8080/"
        },
        "id": "FFsDdBmMxkuI",
        "outputId": "fad83211-e3a5-4664-f11d-2bf8599841c2"
      },
      "id": "FFsDdBmMxkuI",
      "execution_count": 20,
      "outputs": [
        {
          "output_type": "stream",
          "name": "stdout",
          "text": [
            "---- CONCATENATION ---\n",
            "id of the custom class c1 before concatenation 140553428852368\n",
            "MyClass(name=instance 1, instance 2)\n",
            "id of the custom class c1 after concatenation 140553428850064\n",
            "---- INPLACE CONCATENATION ---\n",
            "id of the custom class c1 before inplace concatenation 140553428852368\n",
            "MyClass(name=instance 1instance 2)\n",
            "id of the custom class c1 after inplace concatenation 140553428852368\n",
            "---- REPETITION ---\n",
            "id of the custom class c1 before repetition 140553428852368\n",
            "MyClass(name=instance 1instance 2instance 1instance 2)\n",
            "id of the custom class c1 after repetition 140553510936272\n",
            "---- REPETITION RIGHT ---\n",
            "id of the custom class c1 before repetition 140553428852368\n",
            "MyClass(name=instance 1instance 2instance 1instance 2)\n",
            "id of the custom class c1 after repetition 140553428293648\n",
            "---- INPLACE REPETITION ---\n",
            "id of the custom class c1 before inplace repetition 140553428852368\n",
            "MyClass(name=instance 1instance 2instance 1instance 2)\n",
            "id of the custom class c1 after inplace repetition 140553428852368\n",
            "---- IN OPERATOR ---\n",
            "is 'instance 1' in my custom class: True\n"
          ]
        }
      ]
    },
    {
      "cell_type": "code",
      "source": [
        "## Cool Example\n",
        "import numbers\n",
        "\n",
        "class Point:\n",
        "  def __init__(self, x, y):\n",
        "    if isinstance(x, numbers.Real) and isinstance(y , numbers.Real):\n",
        "      self._pt = (x, y)\n",
        "    else:\n",
        "      raise TypeError('Point co-ordinates must be real numbers.')\n",
        "\n",
        "  def __repr__(self):\n",
        "    return f\"Point(x={self._pt[0]}, y={self._pt[1]})\"\n",
        "\n",
        "  def __len__(self):\n",
        "    return len(self._pt)\n",
        "\n",
        "  def __getitem__(self, s):\n",
        "    return self._pt[s] # delegate the slice to the tuple we use to store.\n",
        "\n",
        "\n",
        "\n",
        "class Polygon:\n",
        "  def __init__(self, *pts):\n",
        "    if pts:\n",
        "      self._pts = [Point(*pt) for pt in pts]\n",
        "    else:\n",
        "      self._pts = []\n",
        "\n",
        "  def __repr__(self):\n",
        "    pts_str = ', '.join([str(pt) for pt in self._pts])\n",
        "    return f'Polygon({pts_str})'\n",
        "\n",
        "  def __len__(self):\n",
        "    return len(self._pts)\n",
        "\n",
        "  def __getitem__(self, s):\n",
        "    return self._pts[s]\n",
        "\n",
        "  def __setitem__(self, s, other):\n",
        "    try:\n",
        "      rhs = [Point(*pt) for pt in other]\n",
        "      is_single = False\n",
        "    except TypeError:\n",
        "      try:\n",
        "        rhs = Point(*other)\n",
        "        is_single = True\n",
        "      except TypeError:\n",
        "        raise TypeError('Invalid Point or iterable of points.')\n",
        "\n",
        "    if (isinstance(s, int) and is_single) or (isinstance(s, slice) and not is_single):\n",
        "      self._pts[s] = rhs\n",
        "    else:\n",
        "      raise TypeError('can only concatenate with another Polygon')\n",
        "    \n",
        "\n",
        "  def __add__(self, other):\n",
        "    if isinstance(other, Polygon):\n",
        "      new_pts = self._pts + other._pts\n",
        "      return Polygon(*new_pts)\n",
        "    else:\n",
        "      raise TypeError('Can only concatenate with another Polygon')\n",
        "\n",
        "  def __delitem__(self, s):\n",
        "    del self._pts[s]\n",
        "\n",
        "  def pop(self, s=-1):\n",
        "    return self._pts.pop(s)\n",
        "\n",
        "  def append(self, pt):\n",
        "    self._pts.append(Point(*pt))\n",
        "\n",
        "  def insert(self, i, pt):\n",
        "    self._pts.insert(i, Point(*pt))\n",
        "\n",
        "  def extend(self, pts):\n",
        "    if isinstance(pts, Polygon):\n",
        "      self._pts += pts._pts\n",
        "    else:\n",
        "      points = [Point(*pt) for pt in pts]\n",
        "      self._pts += points\n",
        "\n",
        "  def __iadd__(self, other):\n",
        "    self.extend(other)\n",
        "    return self\n",
        "\n",
        "  def clear(self):\n",
        "    self._pts.clear()\n",
        "  \n",
        "\n",
        "p = Polygon((0, 0), Point(1, 1))\n",
        "print(p)"
      ],
      "metadata": {
        "colab": {
          "base_uri": "https://localhost:8080/"
        },
        "id": "-yTSiDaf1Ytm",
        "outputId": "15e53d24-266d-4d91-dd1b-06727dd6645c"
      },
      "id": "-yTSiDaf1Ytm",
      "execution_count": 39,
      "outputs": [
        {
          "output_type": "stream",
          "name": "stdout",
          "text": [
            "Polygon(Point(x=0, y=0), Point(x=1, y=1))\n"
          ]
        }
      ]
    },
    {
      "cell_type": "code",
      "source": [
        "p1 = Polygon((0, 0), (1, 1))\n",
        "p2 = Polygon((2, 2), (3, 3))\n",
        "print(id(p1), id(p2))\n",
        "\n",
        "result = p1 + p2\n",
        "print(id(result), result)\n",
        "\n",
        "p1 += [(0, 0), (100, 100)]\n",
        "print(id(p1), p1)\n",
        "\n",
        "p1[0] = (10, 10)\n",
        "print(id(p1), p1)\n",
        "\n",
        "p1[0:1] = [(100, 10), (1,-11)]\n",
        "print(id(p1), p1)\n",
        "\n",
        "del p1[0]\n",
        "print(id(p1), p1)\n",
        "\n",
        "p1.pop()\n",
        "print(id(p1), p1)\n",
        "\n",
        "p1.clear()\n",
        "print(id(p1), p1)"
      ],
      "metadata": {
        "colab": {
          "base_uri": "https://localhost:8080/"
        },
        "id": "VeKYAzuHgjXk",
        "outputId": "0f69d4e9-e4c2-4254-ba90-1e40fa1b0e21"
      },
      "id": "VeKYAzuHgjXk",
      "execution_count": 41,
      "outputs": [
        {
          "output_type": "stream",
          "name": "stdout",
          "text": [
            "139995705259792 139995705261136\n",
            "139995705258384 Polygon(Point(x=0, y=0), Point(x=1, y=1), Point(x=2, y=2), Point(x=3, y=3))\n",
            "139995705259792 Polygon(Point(x=0, y=0), Point(x=1, y=1), Point(x=0, y=0), Point(x=100, y=100))\n",
            "139995705259792 Polygon(Point(x=10, y=10), Point(x=1, y=1), Point(x=0, y=0), Point(x=100, y=100))\n",
            "139995705259792 Polygon(Point(x=100, y=10), Point(x=1, y=-11), Point(x=1, y=1), Point(x=0, y=0), Point(x=100, y=100))\n",
            "139995705259792 Polygon(Point(x=1, y=-11), Point(x=1, y=1), Point(x=0, y=0), Point(x=100, y=100))\n",
            "139995705259792 Polygon(Point(x=1, y=-11), Point(x=1, y=1), Point(x=0, y=0))\n",
            "139995705259792 Polygon()\n"
          ]
        }
      ]
    },
    {
      "cell_type": "markdown",
      "source": [
        "## Sorting"
      ],
      "metadata": {
        "id": "1eNfmnYaBe_T"
      },
      "id": "1eNfmnYaBe_T"
    },
    {
      "cell_type": "markdown",
      "source": [
        "Python will sort by the natural order of the sequence we are trying to sort.\n",
        "\n",
        "- we use the `sorted()` function, it always returns a list\n",
        "- We can specify the key to order, we pass that as a parameter (`key`) to the `sorted` function and it must be a funcion.\n",
        "- when ordering and finding same items, the original order in which they were is maintained. (stable sort)\n",
        "- We also have a `reverse` parameter which we can use to return the sorted list in reverse.\n",
        "- Some objects may have `.sort` which sorts in place so no object is returned."
      ],
      "metadata": {
        "id": "thCXktBRE0ND"
      },
      "id": "thCXktBRE0ND"
    },
    {
      "cell_type": "code",
      "source": [
        "print(\"---- DICTIONARY ----\")\n",
        "d1 = {'a': 200, 'b': 100, 'c': 300}\n",
        "print(f\"The sorted keys for dict: {d1} based on keys are: {sorted(d1)}\")\n",
        "print(f\"The sorted keys for dict: {d1} based on values are: {sorted(d1, key=lambda k: d1[k])}\")\n",
        "\n",
        "print(\"---- TUPLE ----\")\n",
        "t1 = 'hello', 'from', 'the', 'other', 'side'\n",
        "print(f\"The tuple: {t1}, sorted by length of values: {sorted(t1, key=lambda v: len(v))}\")\n",
        "print(f\"The tuple: {t1}, sorted by length of values in reverse: {sorted(t1, key=lambda v: len(v), reverse=True)}\")"
      ],
      "metadata": {
        "colab": {
          "base_uri": "https://localhost:8080/"
        },
        "id": "gfBsc5AOgk0N",
        "outputId": "449f77c3-a81a-4da2-e1f8-fcdeb99131d7"
      },
      "id": "gfBsc5AOgk0N",
      "execution_count": 9,
      "outputs": [
        {
          "output_type": "stream",
          "name": "stdout",
          "text": [
            "---- DICTIONARY ----\n",
            "The sorted keys for dict: {'a': 200, 'b': 100, 'c': 300} based on keys are: ['a', 'b', 'c']\n",
            "The sorted keys for dict: {'a': 200, 'b': 100, 'c': 300} based on values are: ['b', 'a', 'c']\n",
            "---- TUPLE ----\n",
            "The tuple: ('hello', 'from', 'the', 'other', 'side'), sorted by length of values: ['the', 'from', 'side', 'hello', 'other']\n",
            "The tuple: ('hello', 'from', 'the', 'other', 'side'), sorted by length of values in reverse: ['hello', 'other', 'from', 'side', 'the']\n"
          ]
        }
      ]
    },
    {
      "cell_type": "code",
      "source": [
        "# We can also do this for a class\n",
        "class MyClass:\n",
        "  def __init__(self, name, val):\n",
        "    self.name = name\n",
        "    self.val = val\n",
        "\n",
        "  def __repr__(self):\n",
        "    return f\"MyClass({self.name}, {self.val})\"\n",
        "\n",
        "  def __lt__(self, other): # could be __gt__, since python looks for either.\n",
        "    return self.val < other.val\n",
        "\n",
        "c1 = MyClass('class1', 200)\n",
        "c2 = MyClass('class2', 100)\n",
        "\n",
        "cl = [c1, c2]\n",
        "\n",
        "print(f\"my list of custom classes: {cl}, sorted: {sorted(cl)}\")\n",
        "print(f\"my list of custom classes: {cl}, sorted by name: {sorted(cl, key=lambda c: c.name)}\")\n"
      ],
      "metadata": {
        "colab": {
          "base_uri": "https://localhost:8080/"
        },
        "id": "ETKlCArjgjwH",
        "outputId": "fa5fdeeb-88a4-407d-b1e2-3847e76a68e5"
      },
      "id": "ETKlCArjgjwH",
      "execution_count": 12,
      "outputs": [
        {
          "output_type": "stream",
          "name": "stdout",
          "text": [
            "my list of custom classes: [MyClass(class1, 200), MyClass(class2, 100)], sorted: [MyClass(class2, 100), MyClass(class1, 200)]\n",
            "my list of custom classes: [MyClass(class1, 200), MyClass(class2, 100)], sorted by name: [MyClass(class1, 200), MyClass(class2, 100)]\n"
          ]
        }
      ]
    },
    {
      "cell_type": "markdown",
      "source": [
        "## List Comprehensions"
      ],
      "metadata": {
        "id": "6B5X9NkDLIaJ"
      },
      "id": "6B5X9NkDLIaJ"
    },
    {
      "cell_type": "markdown",
      "source": [
        "- Comprehensions have their own local scope - just like a function.\n",
        "- We can think of the list as being wrapped in a function that is created by python that returns the new list when executed.\n",
        "  - When python compiles the comprehension it creates a temporary function used to evaluate the comprehension.\n",
        "  - When the line is executed the temp function is ran.\n",
        "\n",
        "- Comprehensions can be nested within each other."
      ],
      "metadata": {
        "id": "ZPODLlKSLK53"
      },
      "id": "ZPODLlKSLK53"
    },
    {
      "cell_type": "code",
      "source": [
        "import dis\n",
        "\n",
        "compiled_code = compile('[i**2 for i in (1, 2, 3)]', filename='string', mode='eval')\n",
        "print(\"---- DISSECT COMPILED CODE ----\")\n",
        "# We can verify in step 4 taht a function gets created\n",
        "print(dis.dis(compiled_code))"
      ],
      "metadata": {
        "id": "-QRXikYNgkQK"
      },
      "id": "-QRXikYNgkQK",
      "execution_count": null,
      "outputs": []
    },
    {
      "cell_type": "markdown",
      "source": [
        "```\n",
        "---- DISSECT COMPILED CODE ----\n",
        "  1           0 LOAD_CONST               0 (<code object <listcomp> at 0x7f1a3bbafae0, file \"string\", line 1>)\n",
        "              2 LOAD_CONST               1 ('<listcomp>')\n",
        "              4 MAKE_FUNCTION            0\n",
        "              6 LOAD_CONST               2 ((1, 2, 3))\n",
        "              8 GET_ITER\n",
        "             10 CALL_FUNCTION            1\n",
        "             12 RETURN_VALUE\n",
        "```"
      ],
      "metadata": {
        "id": "KcIl-agHS5ix"
      },
      "id": "KcIl-agHS5ix"
    },
    {
      "cell_type": "code",
      "source": [
        "# Nested loops comprehensions\n",
        "l1 = ['a', 'b', 'c']\n",
        "l2 = ['x', 'y', 'z']\n",
        "\n",
        "c1 = [i+j for i in l1 for j in l2]\n",
        "print(c1)\n",
        "\n",
        "# filtering values\n",
        "l1 = ['a', 'b', 'c']\n",
        "l2 = ['b', 'c', 'd']\n",
        "\n",
        "c1 = [i+j for i in l1 for j in l2 if i != j]\n",
        "print(c1)\n",
        "\n",
        "# We can mimic the functionality of the zip funtion\n",
        "l1 = [1,2,3,4,5,6,7,8,9]\n",
        "l2 = ['a', 'b', 'c', 'd']\n",
        "\n",
        "print(f\"with the zip function: {list(zip(l1, l2))}\")\n",
        "\n",
        "c1 = [(l1[i], val) for i, val in enumerate(l2)]\n",
        "c2 = [(val1, val2) for i, val1 in enumerate(l1) for j, val2 in enumerate(l2) if i == j]\n",
        "print(f\"with the comprehension c1: {c1}\")\n",
        "print(f\"with the comprehension c2: {c2}\")"
      ],
      "metadata": {
        "colab": {
          "base_uri": "https://localhost:8080/"
        },
        "id": "6UDKmaRqSbu4",
        "outputId": "8e2bde41-bd8d-47c1-d0ff-b5d044475f51"
      },
      "id": "6UDKmaRqSbu4",
      "execution_count": 36,
      "outputs": [
        {
          "output_type": "stream",
          "name": "stdout",
          "text": [
            "['ax', 'ay', 'az', 'bx', 'by', 'bz', 'cx', 'cy', 'cz']\n",
            "['ab', 'ac', 'ad', 'bc', 'bd', 'cb', 'cd']\n",
            "with the zip function: [(1, 'a'), (2, 'b'), (3, 'c'), (4, 'd')]\n",
            "with the comprehension c1: [(1, 'a'), (2, 'b'), (3, 'c'), (4, 'd')]\n",
            "with the comprehension c2: [(1, 'a'), (2, 'b'), (3, 'c'), (4, 'd')]\n"
          ]
        }
      ]
    },
    {
      "cell_type": "code",
      "source": [
        "# Dot product of two vectors\n",
        "# v1 = (c1, c2, c3, ..., cn)\n",
        "# v2 = (d1, d2, d3, ..., dn)\n",
        "# v1 . v2 = c1*d1 + c2*d2 + ... + cn*dn\n",
        "v1 = [1, 2, 3, 4, 5, 6]\n",
        "v2 = [10, 20, 30, 40, 50, 60]\n",
        "\n",
        "c1 = sum([i*j for i, j in zip(v1, v2)])\n",
        "print(f\"dot product for v1, v2: {c1}\")"
      ],
      "metadata": {
        "colab": {
          "base_uri": "https://localhost:8080/"
        },
        "id": "RO8xK_iaT3-B",
        "outputId": "77ca3667-2bed-4df0-88fc-eac42a4fbcae"
      },
      "id": "RO8xK_iaT3-B",
      "execution_count": 39,
      "outputs": [
        {
          "output_type": "stream",
          "name": "stdout",
          "text": [
            "dot product for v1, v2: 910\n"
          ]
        }
      ]
    },
    {
      "cell_type": "code",
      "source": [
        " # we can have nested comprehensions\n",
        "c1 = [\n",
        "    [i * j for j in range(1, 11)] # this is a function. so i is a free variable\n",
        "    for i in range(1, 11)\n",
        "]\n",
        "print(c1)\n",
        "\n",
        "# Let's use this to make some combination\n",
        "# 1\n",
        "# 1 1\n",
        "# 1 2 1\n",
        "# 1 3 3 1\n",
        "# 1 4 6 4 1\n",
        "# Pascal Triangle\n",
        "# C(n, k) = n! / (k! (n - k)!)\n",
        "from math import factorial\n",
        "\n",
        "def combo(n, k):\n",
        "  return factorial(n) // (factorial(k) * factorial(n-k))\n",
        "\n",
        "size = 10\n",
        "\n",
        "c2 = [\n",
        "    [combo(n, k) for k in range(n+1)]\n",
        "    for n in range(size+1)\n",
        "]\n",
        "for row in c2:\n",
        "  print(row)"
      ],
      "metadata": {
        "colab": {
          "base_uri": "https://localhost:8080/"
        },
        "id": "kEsya7b8NjLn",
        "outputId": "f33e257b-f9be-4e5a-a54c-c0af98f09442"
      },
      "id": "kEsya7b8NjLn",
      "execution_count": 24,
      "outputs": [
        {
          "output_type": "stream",
          "name": "stdout",
          "text": [
            "[[1, 2, 3, 4, 5, 6, 7, 8, 9, 10], [2, 4, 6, 8, 10, 12, 14, 16, 18, 20], [3, 6, 9, 12, 15, 18, 21, 24, 27, 30], [4, 8, 12, 16, 20, 24, 28, 32, 36, 40], [5, 10, 15, 20, 25, 30, 35, 40, 45, 50], [6, 12, 18, 24, 30, 36, 42, 48, 54, 60], [7, 14, 21, 28, 35, 42, 49, 56, 63, 70], [8, 16, 24, 32, 40, 48, 56, 64, 72, 80], [9, 18, 27, 36, 45, 54, 63, 72, 81, 90], [10, 20, 30, 40, 50, 60, 70, 80, 90, 100]]\n",
            "[1]\n",
            "[1, 1]\n",
            "[1, 2, 1]\n",
            "[1, 3, 3, 1]\n",
            "[1, 4, 6, 4, 1]\n",
            "[1, 5, 10, 10, 5, 1]\n",
            "[1, 6, 15, 20, 15, 6, 1]\n",
            "[1, 7, 21, 35, 35, 21, 7, 1]\n",
            "[1, 8, 28, 56, 70, 56, 28, 8, 1]\n",
            "[1, 9, 36, 84, 126, 126, 84, 36, 9, 1]\n",
            "[1, 10, 45, 120, 210, 252, 210, 120, 45, 10, 1]\n"
          ]
        }
      ]
    },
    {
      "cell_type": "code",
      "source": [
        "funcs = []\n",
        "for i in range(6):\n",
        "  funcs.append(lambda x: x**i) # i is a global variable\n",
        "\n",
        "# we get the same i for every one since the reference is to the global variable.\n",
        "print(funcs[0](10))\n",
        "print(funcs[3](10))\n",
        "i = 10 # they are bound to this global\n",
        "print(funcs[0](10))\n",
        "print(funcs[3](10))"
      ],
      "metadata": {
        "colab": {
          "base_uri": "https://localhost:8080/"
        },
        "id": "DmwKLP5KNi_D",
        "outputId": "c9f65f30-f0e4-44bb-a30d-66a5c67fd149"
      },
      "id": "DmwKLP5KNi_D",
      "execution_count": 54,
      "outputs": [
        {
          "output_type": "stream",
          "name": "stdout",
          "text": [
            "100000\n",
            "100000\n",
            "10000000000\n",
            "10000000000\n"
          ]
        }
      ]
    },
    {
      "cell_type": "code",
      "source": [
        "funcs = [lambda x: x**i for i in range(5)] # i is local to the comprehension temp function\n",
        "\n",
        "# we get the same i for every one since the reference is to the local free variable in the closure.\n",
        "print(funcs[0](10))\n",
        "print(funcs[3](10))\n",
        "funcs = [lambda x, temp=i: x**temp for i in range(5)]\n",
        "# when compiling the defaults get evaluated, so it now sets the i ok.\n",
        "print(funcs[0](10))\n",
        "print(funcs[3](10))"
      ],
      "metadata": {
        "colab": {
          "base_uri": "https://localhost:8080/"
        },
        "id": "zZRq4rzDNiwy",
        "outputId": "1f845fed-d348-4450-b967-6e1953506196"
      },
      "id": "zZRq4rzDNiwy",
      "execution_count": 56,
      "outputs": [
        {
          "output_type": "stream",
          "name": "stdout",
          "text": [
            "10000\n",
            "10000\n",
            "1\n",
            "1000\n"
          ]
        }
      ]
    },
    {
      "cell_type": "markdown",
      "source": [
        "## Exercise"
      ],
      "metadata": {
        "id": "DdHoNM3cSKxx"
      },
      "id": "DdHoNM3cSKxx"
    },
    {
      "cell_type": "markdown",
      "source": [
        "Goal 1: Create a Polygon class\n",
        "- Initializer: \n",
        "  - number of edges/vertices\n",
        "  - circumradius\n",
        "- Properties\n",
        "  - Num Edges\n",
        "  - Num Vertices\n",
        "  - interior angle\n",
        "  - edge length\n",
        "  - apothem\n",
        "  - area\n",
        "  - perimeter\n",
        "- Functionality:\n",
        "  - representation (`__repr__`)\n",
        "  - vertices and circumradius(`__eq__`)\n",
        "  - numbers of vertices (`__gt__`)"
      ],
      "metadata": {
        "id": "_-rv8gwsSNug"
      },
      "id": "_-rv8gwsSNug"
    },
    {
      "cell_type": "code",
      "source": [
        "from math import sin, cos, pi\n",
        "\n",
        "class Polygon:\n",
        "  def __init__(self, n, cr):\n",
        "    if n < 3:\n",
        "      raise ValueError('No polygon exists with two vertices')\n",
        "    self._n = n\n",
        "    self._cr = cr\n",
        "\n",
        "  @property\n",
        "  def edges(self):\n",
        "    return self._n\n",
        "\n",
        "  @property\n",
        "  def vertices(self):\n",
        "    return self._n\n",
        "\n",
        "  @property\n",
        "  def circumradius(self):\n",
        "    return self._cr\n",
        "\n",
        "  @property\n",
        "  def interior_angle(self):\n",
        "    return (self._n - 2) * (180 / self._n)\n",
        "\n",
        "  @property\n",
        "  def edge_length(self):\n",
        "    return 2 * self._cr * sin(pi / self._n)\n",
        "\n",
        "  @property\n",
        "  def apothem(self):\n",
        "    return self._cr * cos(pi / self._n)\n",
        "\n",
        "  @property\n",
        "  def area(self):\n",
        "    return self._n / 2 * self.edge_length * self.apothem\n",
        "\n",
        "  @property\n",
        "  def perimeter(self):\n",
        "    return self._n * self.edge_length\n",
        "\n",
        "  def __eq__(self, other):\n",
        "    if isinstance(other, self.__class__):\n",
        "      return (self.vertices == other.vertices) and (self._cr == other._cr)\n",
        "    else:\n",
        "      return NotImplemented\n",
        "       \n",
        "  def __gt__(self, other):\n",
        "    if isinstance(other, self.__class__):\n",
        "      return (self.vertices > other.vertices)\n",
        "    else:\n",
        "      return NotImplemented\n",
        "\n",
        "  def __repr__(self):\n",
        "    return f\"Polygon(n={self._n}, cr={self._cr})\""
      ],
      "metadata": {
        "id": "PStM88XzSKZf"
      },
      "id": "PStM88XzSKZf",
      "execution_count": 44,
      "outputs": []
    },
    {
      "cell_type": "code",
      "source": [
        "import math\n",
        "\n",
        "def test_polygon():\n",
        "    abs_tol = 0.001\n",
        "    rel_tol = 0.001\n",
        "    \n",
        "    try:\n",
        "        p = Polygon(2, 10)\n",
        "        assert False, ('Creating a Polygon with 2 sides: '\n",
        "                       ' Exception expected, not received')\n",
        "    except ValueError:\n",
        "        pass\n",
        "                       \n",
        "    n = 3\n",
        "    R = 1\n",
        "    p = Polygon(n, R)\n",
        "    assert str(p) == 'Polygon(n=3, cr=1)', f'actual: {str(p)}'\n",
        "    assert p.vertices == n, (f'actual: {p.vertices},'\n",
        "                                   f' expected: {n}')\n",
        "    assert p.edges == n, f'actual: {p.edges}, expected: {n}'\n",
        "    assert p.circumradius == R, f'actual: {p.circumradius}, expected: {n}'\n",
        "    assert p.interior_angle == 60, (f'actual: {p.interior_angle},'\n",
        "                                    ' expected: 60')\n",
        "    n = 4\n",
        "    R = 1\n",
        "    p = Polygon(n, R)\n",
        "    assert p.interior_angle == 90, (f'actual: {p.interior_angle}, '\n",
        "                                    ' expected: 90')\n",
        "    assert math.isclose(p.area, 2, \n",
        "                        rel_tol=abs_tol, \n",
        "                        abs_tol=abs_tol), (f'actual: {p.area},'\n",
        "                                           ' expected: 2.0')\n",
        "    \n",
        "    assert math.isclose(p.edge_length, math.sqrt(2),\n",
        "                       rel_tol=rel_tol,\n",
        "                       abs_tol=abs_tol), (f'actual: {p.edge_length},'\n",
        "                                          f' expected: {math.sqrt(2)}')\n",
        "    \n",
        "    assert math.isclose(p.perimeter, 4 * math.sqrt(2),\n",
        "                       rel_tol=rel_tol,\n",
        "                       abs_tol=abs_tol), (f'actual: {p.perimeter},'\n",
        "                                          f' expected: {4 * math.sqrt(2)}')\n",
        "    \n",
        "    assert math.isclose(p.apothem, 0.707,\n",
        "                       rel_tol=rel_tol,\n",
        "                       abs_tol=abs_tol), (f'actual: {p.perimeter},'\n",
        "                                          ' expected: 0.707')\n",
        "    p = Polygon(6, 2)\n",
        "    assert math.isclose(p.edge_length, 2,\n",
        "                        rel_tol=rel_tol, abs_tol=abs_tol)\n",
        "    assert math.isclose(p.apothem, 1.73205,\n",
        "                        rel_tol=rel_tol, abs_tol=abs_tol)\n",
        "    assert math.isclose(p.area, 10.3923,\n",
        "                        rel_tol=rel_tol, abs_tol=abs_tol)\n",
        "    assert math.isclose(p.perimeter, 12,\n",
        "                        rel_tol=rel_tol, abs_tol=abs_tol)\n",
        "    assert math.isclose(p.interior_angle, 120,\n",
        "                        rel_tol=rel_tol, abs_tol=abs_tol)\n",
        "    \n",
        "    p = Polygon(12, 3)\n",
        "    assert math.isclose(p.edge_length, 1.55291,\n",
        "                        rel_tol=rel_tol, abs_tol=abs_tol)\n",
        "    assert math.isclose(p.apothem, 2.89778,\n",
        "                        rel_tol=rel_tol, abs_tol=abs_tol)\n",
        "    assert math.isclose(p.area, 27,\n",
        "                        rel_tol=rel_tol, abs_tol=abs_tol)\n",
        "    assert math.isclose(p.perimeter, 18.635,\n",
        "                        rel_tol=rel_tol, abs_tol=abs_tol)\n",
        "    assert math.isclose(p.interior_angle, 150,\n",
        "                        rel_tol=rel_tol, abs_tol=abs_tol)\n",
        "    \n",
        "    p1 = Polygon(3, 10)\n",
        "    p2 = Polygon(10, 10)\n",
        "    p3 = Polygon(15, 10)\n",
        "    p4 = Polygon(15, 100)\n",
        "    p5 = Polygon(15, 100)\n",
        "    \n",
        "    assert p2 > p1\n",
        "    assert p2 < p3\n",
        "    assert p3 != p4\n",
        "    assert p1 != p4\n",
        "    assert p4 == p5"
      ],
      "metadata": {
        "id": "Dw1Q6J9UGEcO"
      },
      "id": "Dw1Q6J9UGEcO",
      "execution_count": 45,
      "outputs": []
    },
    {
      "cell_type": "code",
      "source": [
        "test_polygon()"
      ],
      "metadata": {
        "id": "sZE4CfDeHhdy"
      },
      "id": "sZE4CfDeHhdy",
      "execution_count": 46,
      "outputs": []
    },
    {
      "cell_type": "markdown",
      "source": [
        "Goal 2: Create a Polygons sequence class\n",
        "- Initializer: \n",
        "  - Number of vertices for largest polygon in the sequence\n",
        "  - Common circumradius for all polygons\n",
        "- Properties\n",
        "  - Max efficiency polygon, returns the polygon with the highest area:perimeter ratio\n",
        "- Functionality:\n",
        "  - Sequence type (`__getitem__`)\n",
        "  - Length support (`__len__`)"
      ],
      "metadata": {
        "id": "wONROQP8TkgP"
      },
      "id": "wONROQP8TkgP"
    },
    {
      "cell_type": "code",
      "source": [
        "class Polygons:\n",
        "  def __init__(self, n, cr):\n",
        "    if n < 3:\n",
        "      raise ValueError(\"n must be greater than 3\")\n",
        "    self._n = n\n",
        "    self._cr = cr\n",
        "    self._pols = [Polygon(i, cr) for i in range(3, n+1)]\n",
        "\n",
        "  @property\n",
        "  def max_efficiency_1(self):\n",
        "    l1 = [p.area/p.perimeter for p in self._pols]\n",
        "    return self._pols[l1.index(max(l1))]\n",
        "\n",
        "  @property\n",
        "  def max_efficiency_2(self):\n",
        "    sorted_pols = sorted(self._pols, key=lambda p: p.area/p.perimeter, reverse=True)\n",
        "    return sorted_pols[0]\n",
        "\n",
        "  def __getitem__(self, i):\n",
        "    return self._pols[i]\n",
        "\n",
        "  def __len__(self):\n",
        "    return self._n - 2\n",
        "\n",
        "  def __repr__(self):\n",
        "    pts_str = ', '.join([str(pt) for pt in self._pols])\n",
        "    return f'Polygons({pts_str})'\n",
        "\n",
        "lp1 = Polygons(5, 20)\n",
        "print(f\"Polygons sequence: {lp1} has len: {len(lp1)}\")\n",
        "print(f\"the max_efficient 1 polygon is: {lp1.max_efficiency_1}\")\n",
        "print(f\"the max_efficient 2 polygon is: {lp1.max_efficiency_2}\")\n",
        "for p in lp1:\n",
        "  print(p)"
      ],
      "metadata": {
        "id": "ggzoXpMdqMu_",
        "outputId": "c6511bd5-b71a-4213-c9e4-07809387d660",
        "colab": {
          "base_uri": "https://localhost:8080/"
        }
      },
      "id": "ggzoXpMdqMu_",
      "execution_count": 53,
      "outputs": [
        {
          "output_type": "stream",
          "name": "stdout",
          "text": [
            "Polygons sequence: Polygons(Polygon(n=3, cr=20), Polygon(n=4, cr=20), Polygon(n=5, cr=20)) has len: 3\n",
            "the max_efficient 1 polygon is: Polygon(n=5, cr=20)\n",
            "the max_efficient 2 polygon is: Polygon(n=5, cr=20)\n",
            "Polygon(n=3, cr=20)\n",
            "Polygon(n=4, cr=20)\n",
            "Polygon(n=5, cr=20)\n"
          ]
        }
      ]
    }
  ],
  "metadata": {
    "kernelspec": {
      "display_name": "Python 3.10.4 64-bit ('3.10.4')",
      "language": "python",
      "name": "python3"
    },
    "language_info": {
      "codemirror_mode": {
        "name": "ipython",
        "version": 3
      },
      "file_extension": ".py",
      "mimetype": "text/x-python",
      "name": "python",
      "nbconvert_exporter": "python",
      "pygments_lexer": "ipython3",
      "version": "3.10.4"
    },
    "vscode": {
      "interpreter": {
        "hash": "e74f6ee90e3f251e14675517a5ccb88a8babea268ba3595659223e38e73b8586"
      }
    },
    "colab": {
      "provenance": []
    }
  },
  "nbformat": 4,
  "nbformat_minor": 5
}