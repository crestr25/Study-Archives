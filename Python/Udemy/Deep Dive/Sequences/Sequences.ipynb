{
 "cells": [
  {
   "cell_type": "markdown",
   "id": "744c611e-35e9-40f9-ba3d-81c7ad59d413",
   "metadata": {
    "tags": []
   },
   "source": [
    "# Sequence Types"
   ]
  },
  {
   "cell_type": "code",
   "execution_count": 12,
   "id": "f82bf0be-b5bd-4f12-bb7f-47cec0a46c3f",
   "metadata": {},
   "outputs": [
    {
     "name": "stdout",
     "output_type": "stream",
     "text": [
      "l is a <class 'list'> and the first element is 1\n",
      "l is a <class 'tuple'> and the first element is 1\n",
      "l is a <class 'str'> and the first element is P\n"
     ]
    }
   ],
   "source": [
    "# lists\n",
    "l = [1, 2, 3]\n",
    "# Tuples\n",
    "t = (1, 2, 3)\n",
    "# Strings\n",
    "s = 'Python'\n",
    "\n",
    "# All of the above are Sequence types since they can be indexed. (0 based indexing)\n",
    "print(f\"l is a {type(l)} and the first element is {l[0]}\")\n",
    "print(f\"l is a {type(t)} and the first element is {t[0]}\")\n",
    "print(f\"l is a {type(s)} and the first element is {s[0]}\")"
   ]
  },
  {
   "cell_type": "code",
   "execution_count": 14,
   "id": "94087b90-76ae-4071-a04b-305cac0796cf",
   "metadata": {},
   "outputs": [
    {
     "name": "stdout",
     "output_type": "stream",
     "text": [
      "------ List ------\n",
      "value in index 0 is 1\n",
      "value in index 1 is 2\n",
      "value in index 2 is 3\n",
      "------ Tuple ------\n",
      "value in index 0 is 1\n",
      "value in index 1 is 2\n",
      "value in index 2 is 3\n",
      "------ Str ------\n",
      "value in index 0 is P\n",
      "value in index 1 is y\n",
      "value in index 2 is t\n",
      "value in index 3 is h\n",
      "value in index 4 is o\n",
      "value in index 5 is n\n"
     ]
    }
   ],
   "source": [
    "# All of the above are also ITERABLES, which means we can iterate over them\n",
    "print(\"------ List ------\")\n",
    "for i, value in enumerate(l):\n",
    "    print(f\"value in index {i} is {value}\")\n",
    "    \n",
    "print(\"------ Tuple ------\")\n",
    "for i, value in enumerate(t):\n",
    "    print(f\"value in index {i} is {value}\")\n",
    "\n",
    "print(\"------ Str ------\")\n",
    "for i, value in enumerate(s):\n",
    "    print(f\"value in index {i} is {value}\")"
   ]
  },
  {
   "cell_type": "markdown",
   "id": "52a4b367-e53b-4fd0-8a88-210e3223f9bf",
   "metadata": {},
   "source": [
    "This means that Sequences are Iterables since we can loop through all objects inside,\n",
    "however, not all Iterables are Sequences, since for example `sets` are not Sequences."
   ]
  },
  {
   "cell_type": "code",
   "execution_count": 24,
   "id": "79fe9c07-4b54-4c89-84d6-92f95bab2cd1",
   "metadata": {},
   "outputs": [
    {
     "name": "stdout",
     "output_type": "stream",
     "text": [
      "------ Set ------\n",
      "value in index 0 is 1\n",
      "value in index 1 is 3\n",
      "value in index 2 is a\n",
      "value in index 3 is p\n"
     ]
    }
   ],
   "source": [
    "# Sets are not expected to return the elements in a particular order\n",
    "set_ = {1, 3, 'a', 'p'}\n",
    "\n",
    "# print(set_[0]) # Set object is not subscriptable\n",
    "\n",
    "print(\"------ Set ------\")\n",
    "for i, value in enumerate(set_):\n",
    "    print(f\"value in index {i} is {value}\")"
   ]
  },
  {
   "cell_type": "markdown",
   "id": "01c9bc49-3991-4d82-91bb-2c710a28b005",
   "metadata": {
    "tags": []
   },
   "source": [
    "## Mutability"
   ]
  },
  {
   "cell_type": "markdown",
   "id": "b71a8719-e798-439a-845d-49ce0586c504",
   "metadata": {},
   "source": [
    "Generally in programming, Mutability refers to the state of an object and how it can be changed, meaning, how variables can be assigned and changed."
   ]
  },
  {
   "cell_type": "markdown",
   "id": "ad7eb221-8a09-43cf-bae9-be7989f887e5",
   "metadata": {
    "jp-MarkdownHeadingCollapsed": true,
    "tags": []
   },
   "source": [
    "### Mutable Sequences"
   ]
  },
  {
   "cell_type": "markdown",
   "id": "6758a670-18f6-4d8c-b28f-ddaf210b70fb",
   "metadata": {},
   "source": [
    "Mutable Sequences can be modified, it's internal state changed, meaning the address in memory is the same as before (thus, Mutable).   \n",
    "When working with Mutable Sequences we must be careful since it's state can be modified and that may cause an unwanted side effect\n",
    "- Lists"
   ]
  },
  {
   "cell_type": "code",
   "execution_count": 21,
   "id": "1d8d7f04-1149-494b-89b9-b719d7e142f9",
   "metadata": {},
   "outputs": [
    {
     "name": "stdout",
     "output_type": "stream",
     "text": [
      "List before mutating: [1, 3, 6], id: 140541670539520\n",
      "List after mutating: [100, 3, 6], id: 140541670539520\n",
      "List after mutating: [], id: 140541670539520\n"
     ]
    }
   ],
   "source": [
    "l = [1, 3, 6]\n",
    "print(f\"List before mutating: {l}, id: {id(l)}\")\n",
    "l[0] = 100\n",
    "print(f\"List after mutating: {l}, id: {id(l)}\")\n",
    "l.clear()\n",
    "print(f\"List after mutating: {l}, id: {id(l)}\")"
   ]
  },
  {
   "cell_type": "code",
   "execution_count": 24,
   "id": "87bc2d7c-3e0d-4b10-9a22-e625e92a2374",
   "metadata": {},
   "outputs": [
    {
     "name": "stdout",
     "output_type": "stream",
     "text": [
      "List l1: [1, 2, 3], id: 140541655651392\n",
      "List lcopy: [1, 2, 3], id: 140541655651392\n",
      "--- we clear lcopy ---\n",
      "List l1: [], id: 140541655651392\n",
      "List lcopy: [], id: 140541655651392\n"
     ]
    }
   ],
   "source": [
    "# We may have problems if we are not careful\n",
    "l1 = [1, 2, 3]\n",
    "lcopy = l1\n",
    "\n",
    "print(f\"List l1: {l1}, id: {id(l1)}\")\n",
    "print(f\"List lcopy: {lcopy}, id: {id(lcopy)}\")\n",
    "\n",
    "print(\"--- we clear lcopy ---\")\n",
    "lcopy.clear()\n",
    "print(f\"List l1: {l1}, id: {id(l1)}\")\n",
    "print(f\"List lcopy: {lcopy}, id: {id(lcopy)}\")\n",
    "\n",
    "# As we can see both lcopy and l1 got modified"
   ]
  },
  {
   "cell_type": "code",
   "execution_count": 27,
   "id": "e5577ede-5d4f-467e-96e5-dd7927123f4e",
   "metadata": {},
   "outputs": [
    {
     "name": "stdout",
     "output_type": "stream",
     "text": [
      "List l1: [1, 2, 3], id: 140541671029888\n",
      "--- we run the something func with l1 ---\n",
      "List l1: [], id: 140541671029888\n",
      "List l2: None, id: 4514661728\n"
     ]
    }
   ],
   "source": [
    "# We may have problems if we are not careful\n",
    "l1 = [1, 2, 3]\n",
    "\n",
    "def something(l):\n",
    "    return l.clear() # Returns None, no object created just mutated\n",
    "\n",
    "print(f\"List l1: {l1}, id: {id(l1)}\")\n",
    "\n",
    "print(\"--- we run the something func with l1 ---\")\n",
    "\n",
    "l2 = something(l1)\n",
    "\n",
    "print(f\"List l1: {l1}, id: {id(l1)}\")\n",
    "print(f\"List l2: {l2}, id: {id(l2)}\")\n",
    "\n",
    "# As we can see l1 got cleared and no new object got created."
   ]
  },
  {
   "cell_type": "code",
   "execution_count": 17,
   "id": "61c8ba6e-c93f-4f23-9e97-2b84cef188f3",
   "metadata": {},
   "outputs": [
    {
     "name": "stdout",
     "output_type": "stream",
     "text": [
      "list [[1, 2, 3]] has element with id 140541658411392\n",
      "list [[1, 2, 3]] multiplied by 2 is [[1, 2, 3], [1, 2, 3]]\n",
      "id for first element of new list 140541658411392\n",
      "id for second element of new list 140541658411392\n"
     ]
    }
   ],
   "source": [
    "# We may have some caveats with mutable objects and repetition\n",
    "l1 = [[1, 2, 3]]\n",
    "print(f\"list {l1} has element with id {id(l1[0])}\")\n",
    "l2 = l1 * 2\n",
    "print(f\"list {l1} multiplied by 2 is {l2}\")\n",
    "\n",
    "print(f\"id for first element of new list {id(l2[0])}\")\n",
    "print(f\"id for second element of new list {id(l2[1])}\")"
   ]
  },
  {
   "cell_type": "markdown",
   "id": "49f88010-b19c-49f7-baf5-cf59f5d5a0fe",
   "metadata": {},
   "source": [
    "See how above repetition just copies the object but since lists are mutable any change to any of those will be reflected to all."
   ]
  },
  {
   "cell_type": "code",
   "execution_count": 19,
   "id": "14b89b23-c5e2-409e-a77a-2b67e704a4f9",
   "metadata": {},
   "outputs": [
    {
     "name": "stdout",
     "output_type": "stream",
     "text": [
      "append 100 to element in list [[1, 2, 3]]\n",
      "list l1 is now [[1, 2, 3, 100]]\n",
      "list l2 is now [[1, 2, 3, 100], [1, 2, 3, 100]]\n"
     ]
    }
   ],
   "source": [
    "# Let's verify\n",
    "l1 = [[1, 2, 3]]\n",
    "l2 = l1 * 2\n",
    "print(f\"append 100 to element in list {l1}\")\n",
    "l1[0].append(100)\n",
    "print(f\"list l1 is now {l1}\")\n",
    "print(f\"list l2 is now {l2}\")"
   ]
  },
  {
   "cell_type": "markdown",
   "id": "f5fc8912-5b33-4d84-8724-4b74dc92baae",
   "metadata": {
    "tags": []
   },
   "source": [
    "#### Mutable methods"
   ]
  },
  {
   "cell_type": "markdown",
   "id": "a52ff02b-3c13-4146-97fd-2b7284a1e8e3",
   "metadata": {},
   "source": [
    "This methods will not return an object since they mutate the object."
   ]
  },
  {
   "cell_type": "markdown",
   "id": "35683fc7-1af5-44d5-a10c-84c63b912a83",
   "metadata": {},
   "source": [
    "- clear (cleans the sequence)"
   ]
  },
  {
   "cell_type": "code",
   "execution_count": 28,
   "id": "f925f77e-0e35-4d0f-8d22-9136c0edc54f",
   "metadata": {},
   "outputs": [
    {
     "name": "stdout",
     "output_type": "stream",
     "text": [
      "List l1: [1, 2, 3], id: 140541671153344\n",
      "List l1 after clear: [], id: 140541671153344\n"
     ]
    }
   ],
   "source": [
    "l1 = [1, 2, 3]\n",
    "print(f\"List l1: {l1}, id: {id(l1)}\")\n",
    "l1.clear()\n",
    "print(f\"List l1 after clear: {l1}, id: {id(l1)}\")"
   ]
  },
  {
   "cell_type": "markdown",
   "id": "e34d1c08-31c7-4eae-9ee1-ad8f098bd9f9",
   "metadata": {},
   "source": [
    "- append (adds element to the end)"
   ]
  },
  {
   "cell_type": "code",
   "execution_count": 35,
   "id": "71cd3d48-3ed1-4f89-8e2d-b638fbd4e78f",
   "metadata": {},
   "outputs": [
    {
     "name": "stdout",
     "output_type": "stream",
     "text": [
      "List l1: [1, 2, 3], id: 140541671370176\n",
      "List l1 after append: [1, 2, 3, 1], id: 140541671370176\n"
     ]
    }
   ],
   "source": [
    "l1 = [1, 2, 3]\n",
    "print(f\"List l1: {l1}, id: {id(l1)}\")\n",
    "l1.append(1)\n",
    "print(f\"List l1 after append: {l1}, id: {id(l1)}\")"
   ]
  },
  {
   "cell_type": "markdown",
   "id": "d08a1194-7b24-47b0-ad93-f7344b5301d8",
   "metadata": {},
   "source": [
    "- extend (extends the sequence with an iterable, when using an iterable that is not a sequence the order in which they get appended changes)"
   ]
  },
  {
   "cell_type": "code",
   "execution_count": 36,
   "id": "cb83c2e2-0ece-404e-a18e-0067abc23e1b",
   "metadata": {},
   "outputs": [
    {
     "name": "stdout",
     "output_type": "stream",
     "text": [
      "List l1: [1, 2, 3], id: 140541670959424\n",
      "List l1 after extend: [1, 2, 3, 0, 1, 2], id: 140541670959424\n"
     ]
    }
   ],
   "source": [
    "l1 = [1, 2, 3]\n",
    "print(f\"List l1: {l1}, id: {id(l1)}\")\n",
    "l1.extend(range(3))\n",
    "print(f\"List l1 after extend: {l1}, id: {id(l1)}\")"
   ]
  },
  {
   "cell_type": "markdown",
   "id": "9fdfb3d6-9ac0-4442-82db-fcfabcea7592",
   "metadata": {},
   "source": [
    "- pop (removes element, this does however return the element that got poped)\n",
    "    - pop also receives the index to pop as a parameter"
   ]
  },
  {
   "cell_type": "code",
   "execution_count": 37,
   "id": "2ac43220-05c2-4c44-9a8c-543e79074a28",
   "metadata": {},
   "outputs": [
    {
     "name": "stdout",
     "output_type": "stream",
     "text": [
      "List l1: [1, 2, 3], id: 140541671360640\n",
      "List l1 after pop: [1, 2], id: 140541671360640\n",
      "value poped from the list l1: 3\n",
      "------ Pop with parameter -------\n",
      "List l1 after pop: [2], id: 140541671360640\n",
      "value poped from the list l1 in position 0: 1\n"
     ]
    }
   ],
   "source": [
    "l1 = [1, 2, 3]\n",
    "print(f\"List l1: {l1}, id: {id(l1)}\")\n",
    "v = l1.pop()\n",
    "print(f\"List l1 after pop: {l1}, id: {id(l1)}\")\n",
    "print(f\"value poped from the list l1: {v}\")\n",
    "print(\"------ Pop with parameter -------\")\n",
    "v0 = l1.pop(0)\n",
    "print(f\"List l1 after pop: {l1}, id: {id(l1)}\")\n",
    "print(f\"value poped from the list l1 in position 0: {v0}\")"
   ]
  },
  {
   "cell_type": "markdown",
   "id": "6b7d2ae3-3f4c-4912-8c77-5bec1939fab3",
   "metadata": {},
   "source": [
    "- delete (deletes element)"
   ]
  },
  {
   "cell_type": "code",
   "execution_count": 38,
   "id": "0529651d-4464-4412-98c5-bcfc7fb7252d",
   "metadata": {},
   "outputs": [
    {
     "name": "stdout",
     "output_type": "stream",
     "text": [
      "List l1: [1, 2, 3], id: 140541671374272\n",
      "List l1 after delete: [1, 2], id: 140541671374272\n"
     ]
    }
   ],
   "source": [
    "l1 = [1, 2, 3]\n",
    "print(f\"List l1: {l1}, id: {id(l1)}\")\n",
    "del l1[2]\n",
    "print(f\"List l1 after delete: {l1}, id: {id(l1)}\")"
   ]
  },
  {
   "cell_type": "markdown",
   "id": "ba3a2411-e41e-48dc-89d8-5dbe97253aa2",
   "metadata": {},
   "source": [
    "- insert (inserts element at desired index)"
   ]
  },
  {
   "cell_type": "code",
   "execution_count": 39,
   "id": "46b5bb08-b571-4128-a581-1612b09dfe55",
   "metadata": {},
   "outputs": [
    {
     "name": "stdout",
     "output_type": "stream",
     "text": [
      "List l1: [1, 2, 3], id: 140541658414656\n",
      "List l1 after insert at position 1: [1, 'holi', 2, 3], id: 140541658414656\n"
     ]
    }
   ],
   "source": [
    "l1 = [1, 2, 3]\n",
    "print(f\"List l1: {l1}, id: {id(l1)}\")\n",
    "l1.insert(1, 'holi')\n",
    "print(f\"List l1 after insert at position 1: {l1}, id: {id(l1)}\")"
   ]
  },
  {
   "cell_type": "markdown",
   "id": "8bb1a94f-0848-4c59-9399-a5979e308be7",
   "metadata": {},
   "source": [
    "- reverse (in place reversal)"
   ]
  },
  {
   "cell_type": "code",
   "execution_count": 40,
   "id": "5d3bf054-4fb2-4c8d-b073-e48496476c07",
   "metadata": {},
   "outputs": [
    {
     "name": "stdout",
     "output_type": "stream",
     "text": [
      "List l1: [1, 2, 3], id: 140541671370304\n",
      "List l1 after reverse: [3, 2, 1], id: 140541671370304\n"
     ]
    }
   ],
   "source": [
    "l1 = [1, 2, 3]\n",
    "print(f\"List l1: {l1}, id: {id(l1)}\")\n",
    "l1.reverse()\n",
    "print(f\"List l1 after reverse: {l1}, id: {id(l1)}\")"
   ]
  },
  {
   "cell_type": "markdown",
   "id": "da562c3b-139e-4b92-8291-84f500c32e72",
   "metadata": {},
   "source": [
    "To copy a mutable sequence we could.\n",
    "- Slice to get an object back\n",
    "- copy method. (shallow copy, the objects inside are the same as the ones before)"
   ]
  },
  {
   "cell_type": "code",
   "execution_count": 44,
   "id": "d9ee3cc9-dfec-4a43-965c-4d25f34afee0",
   "metadata": {},
   "outputs": [
    {
     "name": "stdout",
     "output_type": "stream",
     "text": [
      "----- Slice -----\n",
      "List l1: [1, 2, 3], id: 140541671236352\n",
      "List l2 after slice copy: [1, 2, 3], id: 140541671015872\n",
      "----- Copy -----\n",
      "List l1: [1, 2, 3], id: 140541671236352\n",
      "List l2 after method copy: [1, 2, 3], id: 140541671020288\n"
     ]
    }
   ],
   "source": [
    "l1 = [1, 2, 3]\n",
    "print(\"----- Slice -----\")\n",
    "print(f\"List l1: {l1}, id: {id(l1)}\")\n",
    "l2 = l1[:]\n",
    "print(f\"List l2 after slice copy: {l2}, id: {id(l2)}\")\n",
    "print(\"----- Copy -----\")\n",
    "print(f\"List l1: {l1}, id: {id(l1)}\")\n",
    "l2 = l1.copy()\n",
    "print(f\"List l2 after method copy: {l2}, id: {id(l2)}\")"
   ]
  },
  {
   "cell_type": "markdown",
   "id": "ab84d989-4627-428d-9e2e-f3e4c4007de4",
   "metadata": {
    "tags": []
   },
   "source": [
    "### Immutable Sequences"
   ]
  },
  {
   "cell_type": "markdown",
   "id": "d5fed26c-da85-4417-b3f3-446a22393781",
   "metadata": {},
   "source": [
    "- Tuples (As a container it is immutable, but the elements could be mutable).\n",
    "    - they are optimized and are recommended to use over list when mutability is not needed.\n",
    "    - They implement constant folding, which is the process of recognizing and evaluating constant expressions at compile time rather than computing them at runtime.\n",
    "    - For optimization Python does not make copies of immutable objects so a copy of a tuple returns the same tuple.\n",
    "    - Tuples are slightly faster to acces elements since in cpython they have access to the pointers directly while lists have to go through an indirect method."
   ]
  },
  {
   "cell_type": "code",
   "execution_count": 51,
   "id": "832f6cd3-8269-44f0-922d-c299d1fa6198",
   "metadata": {},
   "outputs": [
    {
     "name": "stdout",
     "output_type": "stream",
     "text": [
      "--------- Tuple --------\n",
      "  1           0 LOAD_CONST               0 ((1, 2, 3, 'a'))\n",
      "              2 RETURN_VALUE\n",
      "None\n",
      "tuple needs 0.10751744300068822 to run\n",
      "--------- List --------\n",
      "  1           0 BUILD_LIST               0\n",
      "              2 LOAD_CONST               0 ((1, 2, 3, 'a'))\n",
      "              4 LIST_EXTEND              1\n",
      "              6 RETURN_VALUE\n",
      "None\n",
      "list needs 0.5490713659964968 to run\n"
     ]
    }
   ],
   "source": [
    "# List vs Tuples\n",
    "from dis import dis\n",
    "from timeit import timeit\n",
    "\n",
    "print(\"--------- Tuple --------\")\n",
    "# What happens when we disassemble the compilation of a tuple\n",
    "print(dis(compile(\"(1, 2, 3, 'a')\", \"string\", \"eval\")))\n",
    "print(f\"tuple needs {timeit('(1,2,3,4,5,6,7,8,9)', number=10_000_000)} to run\")\n",
    "# it took just one step, LOAD_CONST.\n",
    "\n",
    "print(\"--------- List --------\")\n",
    "print(dis(compile(\"[1, 2, 3, 'a']\", \"string\", \"eval\")))\n",
    "print(f\"list needs {timeit('[1,2,3,4,5,6,7,8,9]', number=10_000_000)} to run\")\n",
    "# So a tuple that has only constants gets loaded faster and more efectively."
   ]
  },
  {
   "cell_type": "code",
   "execution_count": 56,
   "id": "7e11014d-ef91-4b53-a629-650ffe738081",
   "metadata": {},
   "outputs": [
    {
     "name": "stdout",
     "output_type": "stream",
     "text": [
      "tuple t1 (1, 2, 3, 4, 5) has id: 140541671440848\n",
      "tuple t2 (1, 2, 3, 4, 5) has id: 140541671440848\n",
      "list l1 [1, 2, 3, 4, 5] has id: 140541670916992\n",
      "list l2 [1, 2, 3, 4, 5] has id: 140541671256960\n"
     ]
    }
   ],
   "source": [
    "# Tuple copy return the same object(same id), so the tuple's copy is faster\n",
    "# since it does not need to create a new one like a list does.\n",
    "t1 = (1,2,3,4,5)\n",
    "t2 = tuple(t1)\n",
    "\n",
    "l1 = [1,2,3,4,5]\n",
    "l2 = list(l1)\n",
    "\n",
    "print(f\"tuple t1 {t1} has id: {id(t1)}\")\n",
    "print(f\"tuple t2 {t2} has id: {id(t2)}\")\n",
    "print(f\"list l1 {l1} has id: {id(l1)}\")\n",
    "print(f\"list l2 {l2} has id: {id(l2)}\")"
   ]
  },
  {
   "cell_type": "code",
   "execution_count": 67,
   "id": "07fe685c-fefe-4be9-88df-9ba670037f9a",
   "metadata": {},
   "outputs": [
    {
     "name": "stdout",
     "output_type": "stream",
     "text": [
      "---- Tuple efficiency ----\n",
      "1 items: 48, delta=8\n",
      "2 items: 56, delta=8\n",
      "3 items: 64, delta=8\n",
      "4 items: 72, delta=8\n",
      "5 items: 80, delta=8\n",
      "6 items: 88, delta=8\n",
      "7 items: 96, delta=8\n",
      "8 items: 104, delta=8\n",
      "9 items: 112, delta=8\n",
      "10 items: 120, delta=8\n",
      "---- List efficiency ----\n",
      "0 items: 56\n",
      "1 items: 88, delta=32\n",
      "2 items: 88, delta=0\n",
      "3 items: 88, delta=0\n",
      "4 items: 88, delta=0\n",
      "5 items: 120, delta=32\n",
      "6 items: 120, delta=0\n",
      "7 items: 120, delta=0\n",
      "8 items: 120, delta=0\n",
      "9 items: 184, delta=64\n",
      "10 items: 184, delta=0\n"
     ]
    }
   ],
   "source": [
    "# Storage Efficiency\n",
    "import sys\n",
    "\n",
    "print('---- Tuple efficiency ----')\n",
    "t = tuple()\n",
    "prev = sys.getsizeof(t)\n",
    "for i in range(10):\n",
    "    c = tuple(range(i + 1))\n",
    "    size_c = sys.getsizeof(c)\n",
    "    delta, prev = size_c - prev, size_c\n",
    "    print(f\"{i+1} items: {size_c}, delta={delta}\")\n",
    "    \n",
    "print('---- List efficiency ----')\n",
    "l = list()\n",
    "prev = sys.getsizeof(l)\n",
    "print(f\"0 items: {prev}\")\n",
    "for i in range(10):\n",
    "    l.append(i)\n",
    "    size_c = sys.getsizeof(l)\n",
    "    delta, prev = size_c - prev, size_c\n",
    "    print(f\"{i+1} items: {size_c}, delta={delta}\")\n",
    "    \n",
    "# The list gets an overhead (preallocates) and expands by 32, then 64 ..."
   ]
  },
  {
   "cell_type": "code",
   "execution_count": null,
   "id": "90a025de-851b-4eae-9782-2c2350afab18",
   "metadata": {},
   "outputs": [],
   "source": []
  },
  {
   "cell_type": "markdown",
   "id": "882f9b89-0bba-441d-b2ca-1c078d92ddc7",
   "metadata": {},
   "source": [
    "- Strings\n",
    "- Range"
   ]
  },
  {
   "cell_type": "code",
   "execution_count": null,
   "id": "0d3a9793-5087-4a01-805b-ea66ae5a87ec",
   "metadata": {},
   "outputs": [],
   "source": []
  },
  {
   "cell_type": "code",
   "execution_count": 30,
   "id": "88ded1cb-d354-4d54-8e88-d8a3999bd778",
   "metadata": {},
   "outputs": [
    {
     "name": "stdout",
     "output_type": "stream",
     "text": [
      "Tuple first element before mutating: ([1, 3], 6)\n",
      "Tuple first element after mutating: ([100, 3], 6)\n"
     ]
    }
   ],
   "source": [
    "t = ([1, 3] , 6)\n",
    "print(f\"Tuple first element before mutating: {t}\")\n",
    "t[0][0] = 100\n",
    "print(f\"Tuple first element after mutating: {t}\")"
   ]
  },
  {
   "cell_type": "code",
   "execution_count": null,
   "id": "a5dffe71-64f5-47a0-82c4-5cbd04a17ddd",
   "metadata": {},
   "outputs": [],
   "source": []
  },
  {
   "cell_type": "markdown",
   "id": "3e6dfc34-c346-42e5-980c-d78e77ab3036",
   "metadata": {
    "tags": []
   },
   "source": [
    "## Operators"
   ]
  },
  {
   "cell_type": "markdown",
   "id": "5938fc9d-72a4-4f23-abd3-136742b95ab7",
   "metadata": {},
   "source": [
    "- Concatenation `+` of Sequences, however, They need to be of the same type, (i.e Tuple + List -> Error, Tuple + Tuple -> Ok)"
   ]
  },
  {
   "cell_type": "code",
   "execution_count": 38,
   "id": "7988c86b-c4eb-4ea9-b495-c16defafad68",
   "metadata": {},
   "outputs": [
    {
     "name": "stdout",
     "output_type": "stream",
     "text": [
      "The lists [1, 3, 5] and [2, 4, 6] concatenated are [1, 3, 5, 2, 4, 6]\n",
      "The tuples (1, 3, 5) and (2, 4, 6) concatenated are (1, 3, 5, 2, 4, 6)\n"
     ]
    }
   ],
   "source": [
    "l1 = [1, 3, 5]\n",
    "l2 = [2, 4, 6]\n",
    "t1 = (1, 3, 5)\n",
    "t2 = (2, 4, 6)\n",
    "print(f\"The lists {l1} and {l2} concatenated are {l1 + l2}\")\n",
    "print(f\"The tuples {t1} and {t2} concatenated are {t1 + t2}\")"
   ]
  },
  {
   "cell_type": "markdown",
   "id": "c0339b22-0041-4836-afbf-2272280a4bac",
   "metadata": {},
   "source": [
    "- Repetition `*` of sequences."
   ]
  },
  {
   "cell_type": "code",
   "execution_count": 5,
   "id": "4bbeee5e-9d98-46ce-882f-424723df14f2",
   "metadata": {},
   "outputs": [
    {
     "name": "stdout",
     "output_type": "stream",
     "text": [
      "The list [1, 3, 5] repeated 5 times is [1, 3, 5, 1, 3, 5, 1, 3, 5, 1, 3, 5, 1, 3, 5]\n",
      "The tuple (1, 3, 5) repeated 4 times (1, 3, 5, 1, 3, 5, 1, 3, 5, 1, 3, 5)\n",
      "The String Python repeated 3 times PythonPythonPython\n"
     ]
    }
   ],
   "source": [
    "l1 = [1, 3, 5]\n",
    "t1 = (1, 3, 5)\n",
    "s1 = 'Python'\n",
    "print(f\"The list {l1} repeated 5 times is {l1 * 5}\")\n",
    "print(f\"The tuple {t1} repeated 4 times {t1 * 4}\")\n",
    "print(f\"The String {s1} repeated 3 times {s1 * 3}\")"
   ]
  },
  {
   "cell_type": "markdown",
   "id": "0550cc2a-507e-4ab5-a3cf-a2461fd6fb75",
   "metadata": {},
   "source": [
    "- The `in` and `not in` Operator"
   ]
  },
  {
   "cell_type": "code",
   "execution_count": 31,
   "id": "67ed69c5-51bf-4674-965f-2bbc9b3dd590",
   "metadata": {},
   "outputs": [
    {
     "name": "stdout",
     "output_type": "stream",
     "text": [
      "10 in range(10): False\n",
      "10 not in range(10): True\n"
     ]
    }
   ],
   "source": [
    "r = range(10)\n",
    "print(f\"10 in range(10): {10 in r}\")\n",
    "print(f\"10 not in range(10): {10 not in r}\")"
   ]
  },
  {
   "cell_type": "markdown",
   "id": "af440fb9-5aca-4e03-93e9-2598d6f74cfa",
   "metadata": {},
   "source": [
    "- The `len` operator, Returns the length of the finite Sequence (there could be infinite)."
   ]
  },
  {
   "cell_type": "code",
   "execution_count": 34,
   "id": "9ee7d7e7-115d-4820-8b23-511d397bda7a",
   "metadata": {},
   "outputs": [
    {
     "name": "stdout",
     "output_type": "stream",
     "text": [
      "The len of string Python is 6\n",
      "The len of range(0, 10) is 10\n"
     ]
    }
   ],
   "source": [
    "s = 'Python'\n",
    "r = range(10)\n",
    "print(f\"The len of string {s} is {len(s)}\")\n",
    "print(f\"The len of {r} is {len(r)}\")\n",
    "\n",
    "# REMEMBER, dicts and sets also have this operator. it is not limited to sequences."
   ]
  },
  {
   "cell_type": "markdown",
   "id": "0932e2fd-a2a8-41cc-9ec7-be36bbaaf4fa",
   "metadata": {},
   "source": [
    "- The `min` and `max` Operator, however, we need to consider if the elements in the sequence can be compared.\n",
    "(complex numbers is an example, or heterogeneous lists that are not pairwise comparable)"
   ]
  },
  {
   "cell_type": "code",
   "execution_count": 35,
   "id": "3c17ef39-0a79-4d41-a37a-f165ad9327a0",
   "metadata": {},
   "outputs": [
    {
     "name": "stdout",
     "output_type": "stream",
     "text": [
      "The min element of ['a', 'b', 'c'] is a\n",
      "The max element of range(0, 10) is 9\n"
     ]
    }
   ],
   "source": [
    "l = ['a', 'b', 'c']\n",
    "r = range(10)\n",
    "print(f\"The min element of {l} is {min(l)}\")\n",
    "print(f\"The max element of {r} is {max(r)}\")"
   ]
  },
  {
   "cell_type": "code",
   "execution_count": 36,
   "id": "224cc6c0-cf53-46ff-86a3-a77341539c8e",
   "metadata": {},
   "outputs": [
    {
     "name": "stdout",
     "output_type": "stream",
     "text": [
      "The min element of [10, 10.5, Decimal('20.4')] is 10\n",
      "The max element of [10, 10.5, Decimal('20.4')] is 20.4\n"
     ]
    }
   ],
   "source": [
    "from decimal import Decimal\n",
    "\n",
    "l = [10, 10.5, Decimal(\"20.4\")]\n",
    "print(f\"The min element of {l} is {min(l)}\")\n",
    "print(f\"The max element of {l} is {max(l)}\")\n",
    "\n",
    "# This is because they are pairwise comparable, so this heterogeneous list works."
   ]
  },
  {
   "cell_type": "markdown",
   "id": "fdbd35b2-a21b-4bcb-a7b6-a68a2588f067",
   "metadata": {},
   "source": [
    "- The `enumerate` function, which gives a tuple of the index and each of the elements, (it returns a generator object)"
   ]
  },
  {
   "cell_type": "code",
   "execution_count": 8,
   "id": "857ef41e-bb24-4858-aa1e-ea9d6e3c0b07",
   "metadata": {},
   "outputs": [
    {
     "name": "stdout",
     "output_type": "stream",
     "text": [
      "The list [1, 3, 5] can be enumerated as [(0, 1), (1, 3), (2, 5)]\n",
      "The range range(0, 5) can be enumerated as [(0, 0), (1, 1), (2, 2), (3, 3), (4, 4)]\n"
     ]
    }
   ],
   "source": [
    "l1 = [1, 3, 5]\n",
    "r1 = range(5)\n",
    "print(f\"The list {l1} can be enumerated as {list(enumerate(l1))}\")\n",
    "print(f\"The range {r1} can be enumerated as {list(enumerate(r1))}\")"
   ]
  },
  {
   "cell_type": "markdown",
   "id": "7eea6a86-cf23-4352-98bd-030a3e3664f4",
   "metadata": {},
   "source": [
    "- `index` can also be used to find the index of an element.\n",
    "    - It returns the first occurence\n",
    "    - we can specify `index(e, i, j)` to start looking in `i` up to `j`\n",
    "    - If not found the index raises an exception."
   ]
  },
  {
   "cell_type": "code",
   "execution_count": 13,
   "id": "6a42aa95-c89c-4ddd-819c-7c3287fd9dc0",
   "metadata": {},
   "outputs": [
    {
     "name": "stdout",
     "output_type": "stream",
     "text": [
      "The element 5 in list [1, 3, 5] is at index 2\n",
      "The element 2 in range(0, 5) is at index 2\n"
     ]
    }
   ],
   "source": [
    "l1 = [1, 3, 5]\n",
    "r1 = range(5)\n",
    "print(f\"The element 5 in list {l1} is at index {l1.index(5)}\")\n",
    "print(f\"The element 2 in {r1} is at index {r1.index(2)}\")"
   ]
  },
  {
   "cell_type": "markdown",
   "id": "e0e6e6cc-6a5d-488e-b038-36a28d3af0cb",
   "metadata": {},
   "source": [
    "## Copies"
   ]
  },
  {
   "cell_type": "markdown",
   "id": "4fa17f12-0c2f-4a8f-ba00-b4dfcc75aa5a",
   "metadata": {
    "jp-MarkdownHeadingCollapsed": true,
    "tags": []
   },
   "source": [
    "### Shallow"
   ]
  },
  {
   "cell_type": "markdown",
   "id": "7cc31d39-c55e-4f8e-b3f2-891a5cb57668",
   "metadata": {},
   "source": [
    "- Loop/Comprehension"
   ]
  },
  {
   "cell_type": "code",
   "execution_count": 74,
   "id": "d74fe3af-2890-4257-8b3c-44fe9d5266a5",
   "metadata": {},
   "outputs": [
    {
     "name": "stdout",
     "output_type": "stream",
     "text": [
      "l1: [1, 2, 3] has id: 140541671256384\n",
      "---- Loop ----\n",
      "l1_copy: [1, 2, 3] has id: 140541671466944\n",
      "---- Comprehension ----\n",
      "l1_copy_c: [1, 2, 3] has id: 140541671464832\n"
     ]
    }
   ],
   "source": [
    "l1 = [1, 2, 3]\n",
    "print(f\"l1: {l1} has id: {id(l1)}\")\n",
    "\n",
    "print(\"---- Loop ----\")\n",
    "l1_copy = []\n",
    "for item in l1:\n",
    "    l1_copy.append(item)\n",
    "print(f\"l1_copy: {l1_copy} has id: {id(l1_copy)}\")\n",
    "\n",
    "print(\"---- Comprehension ----\")\n",
    "l1_copy_c = [item for item in l1]\n",
    "print(f\"l1_copy_c: {l1_copy_c} has id: {id(l1_copy_c)}\")"
   ]
  },
  {
   "cell_type": "markdown",
   "id": "ff17bfde-ff44-4f49-8f58-61e31400cb84",
   "metadata": {},
   "source": [
    "- Copy method/library"
   ]
  },
  {
   "cell_type": "code",
   "execution_count": 82,
   "id": "e279b3a3-b631-4b13-8c09-e97a047086e3",
   "metadata": {},
   "outputs": [
    {
     "name": "stdout",
     "output_type": "stream",
     "text": [
      "****** METHOD ******\n",
      "l1: [1, 2, 3] has id: 140541656200704\n",
      "---- .Copy ----\n",
      "l1_copy: [1, 2, 3] has id: 140541671376896\n",
      "****** MODULE ******\n",
      "l1: [1, 2, 3] has id: 140541656200704\n",
      "---- Copy ----\n",
      "l1_copy: [1, 2, 3] has id: 140541671465600\n"
     ]
    }
   ],
   "source": [
    "print(\"****** METHOD ******\")\n",
    "\n",
    "l1 = [1, 2, 3]\n",
    "print(f\"l1: {l1} has id: {id(l1)}\")\n",
    "\n",
    "print(\"---- .Copy ----\")\n",
    "l1_copy = l1.copy()\n",
    "\n",
    "print(f\"l1_copy: {l1_copy} has id: {id(l1_copy)}\")\n",
    "\n",
    "print(\"****** MODULE ******\")\n",
    "from copy import copy\n",
    "print(f\"l1: {l1} has id: {id(l1)}\")\n",
    "\n",
    "print(\"---- Copy ----\")\n",
    "l1_copy = copy(l1)\n",
    "\n",
    "print(f\"l1_copy: {l1_copy} has id: {id(l1_copy)}\")"
   ]
  },
  {
   "cell_type": "markdown",
   "id": "e2ba75dc-1544-4e4f-825b-87bacfd93b7f",
   "metadata": {},
   "source": [
    "- Slicing, (Tuples and Strings just returns the same object, since it does not make sense to create a new object of an immutable type)"
   ]
  },
  {
   "cell_type": "code",
   "execution_count": 80,
   "id": "100820c1-fa84-45e2-adbc-06b1e72e082d",
   "metadata": {},
   "outputs": [
    {
     "name": "stdout",
     "output_type": "stream",
     "text": [
      "****** LIST ******\n",
      "l1: [1, 2, 3] has id: 140541671465536\n",
      "---- Slicing ----\n",
      "l1_copy: [1, 2, 3] has id: 140541671440000\n",
      "****** TUPLE ******\n",
      "t1: (1, 2, 3) has id: 140541671405248\n",
      "---- Slicing ----\n",
      "t1_copy: (1, 2, 3) has id: 140541671405248\n"
     ]
    }
   ],
   "source": [
    "print(\"****** LIST ******\")\n",
    "l1 = [1, 2, 3]\n",
    "print(f\"l1: {l1} has id: {id(l1)}\")\n",
    "\n",
    "print(\"---- Slicing ----\")\n",
    "l1_copy = l1[:]\n",
    "\n",
    "print(f\"l1_copy: {l1_copy} has id: {id(l1_copy)}\")\n",
    "\n",
    "print(\"****** TUPLE ******\")\n",
    "t1 = (1, 2, 3)\n",
    "print(f\"t1: {t1} has id: {id(t1)}\")\n",
    "\n",
    "print(\"---- Slicing ----\")\n",
    "t1_copy = t1[:]\n",
    "\n",
    "print(f\"t1_copy: {t1_copy} has id: {id(t1_copy)}\")"
   ]
  },
  {
   "cell_type": "markdown",
   "id": "22de3837-a77f-4f48-9489-edf1a7d61b3f",
   "metadata": {},
   "source": [
    "- constructor, `list()`, (`tuple()`, `str()` just returns the same object, since it does not make sense to create a new object of an immutable type)"
   ]
  },
  {
   "cell_type": "code",
   "execution_count": 81,
   "id": "46fb0801-ba23-4ee5-93df-ed34d8a9477f",
   "metadata": {},
   "outputs": [
    {
     "name": "stdout",
     "output_type": "stream",
     "text": [
      "****** LIST ******\n",
      "l1: [1, 2, 3] has id: 140541671459904\n",
      "---- Constructor ----\n",
      "l1_copy: [1, 2, 3] has id: 140541671379904\n",
      "****** TUPLE ******\n",
      "t1: (1, 2, 3) has id: 140541671467264\n",
      "---- Constructor ----\n",
      "t1_copy: (1, 2, 3) has id: 140541671467264\n"
     ]
    }
   ],
   "source": [
    "print(\"****** LIST ******\")\n",
    "l1 = [1, 2, 3]\n",
    "print(f\"l1: {l1} has id: {id(l1)}\")\n",
    "\n",
    "print(\"---- Constructor ----\")\n",
    "l1_copy = list(l1)\n",
    "\n",
    "print(f\"l1_copy: {l1_copy} has id: {id(l1_copy)}\")\n",
    "\n",
    "print(\"****** TUPLE ******\")\n",
    "t1 = (1, 2, 3)\n",
    "print(f\"t1: {t1} has id: {id(t1)}\")\n",
    "\n",
    "print(\"---- Constructor ----\")\n",
    "t1_copy = tuple(t1)\n",
    "\n",
    "print(f\"t1_copy: {t1_copy} has id: {id(t1_copy)}\")"
   ]
  },
  {
   "cell_type": "markdown",
   "id": "7ec48a2f-0c5f-40dc-81ac-2a1c400aeb4a",
   "metadata": {},
   "source": [
    "### Deep"
   ]
  },
  {
   "cell_type": "markdown",
   "id": "c386ba86-1014-4057-85ff-9dba210c76ee",
   "metadata": {},
   "source": [
    "In order to make a deep copy, we need to make sure every element inside the object is correctly copied.   \n",
    "Shallow copies just make a copy of the container but not the elements so any mutables will be modified as a side effect."
   ]
  },
  {
   "cell_type": "code",
   "execution_count": 87,
   "id": "e55da71d-d029-4822-b354-112af947d7b5",
   "metadata": {},
   "outputs": [
    {
     "name": "stdout",
     "output_type": "stream",
     "text": [
      "elements e1: [0, 0] and [0, 0] are part of l1: [[0, 0], [0, 0]]\n",
      "---- Shallow copy ----\n",
      "l1: [[0, 0], [0, 0]] has id 140541656348288, l2: [[0, 0], [0, 0]] has id 140541671241856\n",
      "e1: [0, 0] in l1 has id 140541671251776, l2: [0, 0] has id 140541671251776\n",
      "e1: [0, 0] in l1 has id 140541671464640, l2: [0, 0] has id 140541671464640\n",
      "---- modify e1 ---\n",
      "elements e1: [0, 0, 100], l1: [[0, 0, 100], [0, 0]] and l2: [[0, 0, 100], [0, 0]]\n"
     ]
    }
   ],
   "source": [
    "e1 = [0, 0]\n",
    "e2 = [0, 0]\n",
    "l1 = [e1, e2]\n",
    "print(f\"elements e1: {e1} and {e2} are part of l1: {l1}\")\n",
    "\n",
    "print(\"---- Shallow copy ----\")\n",
    "l2 = l1[:]\n",
    "\n",
    "print(f\"l1: {l1} has id {id(l1)}, l2: {l2} has id {id(l2)}\")\n",
    "print(f\"e1: {l1[0]} in l1 has id {id(l1[0])}, l2: {l2[0]} has id {id(l2[0])}\")\n",
    "print(f\"e1: {l1[1]} in l1 has id {id(l1[1])}, l2: {l2[1]} has id {id(l2[1])}\")\n",
    "\n",
    "# The elements are the same!\n",
    "print(\"---- modify e1 ---\")\n",
    "e1.append(100)\n",
    "print(f\"elements e1: {e1}, l1: {l1} and l2: {l2}\")"
   ]
  },
  {
   "cell_type": "code",
   "execution_count": 91,
   "id": "60d322f3-ab63-4507-9074-9a395c2ca083",
   "metadata": {},
   "outputs": [
    {
     "name": "stdout",
     "output_type": "stream",
     "text": [
      "elements e1: [0, 0] and [0, 0] are part of l1: [[0, 0], [0, 0]]\n",
      "---- Partial copy ----\n",
      "l1: [[0, 0], [0, 0]] has id 140541671466432, l2: [[0, 0], [0, 0]] has id 140541670551168\n",
      "e1: [0, 0] in l1 has id 140541671468864, l2: [0, 0] has id 140541671466688\n",
      "e1: [0, 0] in l1 has id 140541658414016, l2: [0, 0] has id 140541671469120\n",
      "---- modify e1 ---\n",
      "elements e1: [0, 0, 100], l1: [[0, 0, 100], [0, 0]] and l2: [[0, 0], [0, 0]]\n"
     ]
    }
   ],
   "source": [
    "# to fix this we could make a partial deep copy\n",
    "e1 = [0, 0]\n",
    "e2 = [0, 0]\n",
    "l1 = [e1, e2]\n",
    "print(f\"elements e1: {e1} and {e2} are part of l1: {l1}\")\n",
    "\n",
    "print(\"---- Partial copy ----\")\n",
    "\n",
    "l2 = [e.copy() for e in l1]\n",
    "\n",
    "print(f\"l1: {l1} has id {id(l1)}, l2: {l2} has id {id(l2)}\")\n",
    "print(f\"e1: {l1[0]} in l1 has id {id(l1[0])}, l2: {l2[0]} has id {id(l2[0])}\")\n",
    "print(f\"e1: {l1[1]} in l1 has id {id(l1[1])}, l2: {l2[1]} has id {id(l2[1])}\")\n",
    "\n",
    "# The problem is that this becomes a recursive problem, since if we have nested elements\n",
    "# in e1 or e2 those would be equals.\n",
    "# The elements are the same!\n",
    "print(\"---- modify e1 ---\")\n",
    "e1.append(100)\n",
    "print(f\"elements e1: {e1}, l1: {l1} and l2: {l2}\")"
   ]
  },
  {
   "cell_type": "markdown",
   "id": "3d264a57-ae9f-4381-9885-ee98ba8e89fd",
   "metadata": {},
   "source": [
    "To create a Deepcopy without worrying about all recursion and circular references that may exist in those objects references we can use.\n",
    "- module copy.deepcopy"
   ]
  },
  {
   "cell_type": "code",
   "execution_count": 98,
   "id": "4582a15c-ebe4-4585-8c79-0ff74680e144",
   "metadata": {},
   "outputs": [
    {
     "name": "stdout",
     "output_type": "stream",
     "text": [
      "elements [[1, 1], [2, 2]] and [[3, 3], [4, 4]] are part of plane1: [[[1, 1], [2, 2]], [[3, 3], [4, 4]]]\n",
      "---- Deep copy ----\n",
      "Id of plane1: 140541671468096, Id of plane2: 140541671360128\n",
      "Id of first element of plane1: 140541671465024, Id of first element of plane2: 140541671360640\n",
      "Id of first element of p1/line1: 140541671465536, Id of first element of p2/line1: 140541670932096\n"
     ]
    }
   ],
   "source": [
    "v1 = [1, 1]\n",
    "v2 = [2, 2]\n",
    "v3 = [3, 3]\n",
    "v4 = [4, 4]\n",
    "line1 = [v1, v2]\n",
    "line2 = [v3, v4]\n",
    "plane1 = [line1, line2]\n",
    "\n",
    "print(f\"elements {line1} and {line2} are part of plane1: {plane1}\")\n",
    "from copy import deepcopy\n",
    "\n",
    "print(\"---- Deep copy ----\")\n",
    "plane2 = deepcopy(plane1)\n",
    "print(f\"Id of plane1: {id(plane1)}, Id of plane2: {id(plane2)}\")\n",
    "print(f\"Id of first element of plane1: {id(plane1[0])}, Id of first element of plane2: {id(plane2[0])}\")\n",
    "print(f\"Id of first element of p1/line1: {id(plane1[0][0])}, Id of first element of p2/line1: {id(plane2[0][0])}\")\n",
    "\n",
    "# We have truly two different copies to the last element!!"
   ]
  },
  {
   "cell_type": "code",
   "execution_count": 102,
   "id": "1d7e909a-9c5e-4012-b3fd-8c461b197177",
   "metadata": {},
   "outputs": [
    {
     "name": "stdout",
     "output_type": "stream",
     "text": [
      "---- Deepcopy with classes -----\n",
      "class line1 attr p1: Point(0, 0), has id: 140541660994800\n",
      "class line2 attr p1: Point(0, 0), has id: 140541659260688\n"
     ]
    }
   ],
   "source": [
    "class Point:\n",
    "    def __init__(self, x, y):\n",
    "        self.x = x\n",
    "        self.y = y\n",
    "    \n",
    "    def __repr__(self):\n",
    "        return f'Point({self.x}, {self.y})'\n",
    "    \n",
    "class Line:\n",
    "    def __init__(self, p1, p2):\n",
    "        self.p1 = p1\n",
    "        self.p2 = p2\n",
    "        \n",
    "    def __repr__(self):\n",
    "        return f'Line({self.p1.__repr__()}, {self.p2.__repr__()})'\n",
    "    \n",
    "print(\"---- Deepcopy with classes -----\")\n",
    "    \n",
    "p1 = Point(0, 0)\n",
    "p2 = Point(10, 10)\n",
    "line1 = Line(p1, p2)\n",
    "line2 = deepcopy(line1)\n",
    "\n",
    "print(f\"class line1 attr p1: {line1.p1}, has id: {id(line1.p1)}\")\n",
    "print(f\"class line2 attr p1: {line2.p1}, has id: {id(line2.p1)}\")"
   ]
  },
  {
   "cell_type": "markdown",
   "id": "4ca622a2",
   "metadata": {},
   "source": [
    "## Slicing"
   ]
  },
  {
   "cell_type": "markdown",
   "id": "d999e4cd-96a9-4496-affd-f8822ca64d54",
   "metadata": {},
   "source": [
    "Slices are actually objects of type `slice`"
   ]
  },
  {
   "cell_type": "code",
   "execution_count": 4,
   "id": "0c92da61-9079-4d57-b599-0477a1bab3ef",
   "metadata": {},
   "outputs": [
    {
     "name": "stdout",
     "output_type": "stream",
     "text": [
      "The slice: slice(0, 2, None) has a start attr: 0 and stop attr: 2\n",
      "---- Store Slices in Vars ----\n",
      "We could use slice: slice(0, 2, None) and use it on list[1, 2, 3, 4]: [1, 2]\n"
     ]
    }
   ],
   "source": [
    "# create a new object\n",
    "s = slice(0, 2)\n",
    "l1 = [1, 2, 3, 4]\n",
    "\n",
    "print(f\"The slice: {s} has a start attr: {s.start} and stop attr: {s.stop}\")\n",
    "\n",
    "print(\"---- Store Slices in Vars ----\")\n",
    "print(f\"We could use slice: {s} and use it on list{l1}: {l1[s]}\")"
   ]
  },
  {
   "cell_type": "markdown",
   "id": "fcf8b7bf",
   "metadata": {},
   "source": [
    "Slices get converted to a `range` equivalent in Python."
   ]
  },
  {
   "cell_type": "code",
   "execution_count": 6,
   "id": "932705d1-2d62-4304-95af-60e5954f754d",
   "metadata": {},
   "outputs": [
    {
     "name": "stdout",
     "output_type": "stream",
     "text": [
      "for slice: slice(1, 5, None) the equivalent range on a sequence of 10 is: (1, 5, 1)\n",
      "Equivalent Range for slice slice(1, 5, None) is [1, 2, 3, 4]\n"
     ]
    }
   ],
   "source": [
    "s = slice(1, 5)\n",
    "\n",
    "print(f\"for slice: {s} the equivalent range on a sequence of 10 is: {s.indices(10)}\")\n",
    "print(f\"Equivalent Range for slice {s} is {list(range(*s.indices(10)))}\")"
   ]
  },
  {
   "cell_type": "markdown",
   "id": "30d48bd6",
   "metadata": {},
   "source": [
    "In this case we must be careful not to set a slice with negative numbers that does not return a valid Range."
   ]
  },
  {
   "cell_type": "code",
   "execution_count": 12,
   "id": "621e2c9b-106c-4879-af09-db544f7e3ecb",
   "metadata": {},
   "outputs": [
    {
     "name": "stdout",
     "output_type": "stream",
     "text": [
      "Slice [-3:-1:-1] Returns an empty object for string Python: \n",
      "Slice equivalent Range: (3, 5, -1)\n",
      "[]\n"
     ]
    }
   ],
   "source": [
    "s = 'Python'\n",
    "print(f'Slice [-3:-1:-1] Returns an empty object for string {s}: {s[-3:-1:-1]}')\n",
    "\n",
    "start = 3\n",
    "stop = -1\n",
    "step = -1\n",
    "length = 6\n",
    "print(f'Slice equivalent Range: {slice(start, stop, step).indices(length)}')\n",
    "print(list(range(*slice(start, stop, step).indices(length))))"
   ]
  },
  {
   "cell_type": "markdown",
   "id": "d2a40763",
   "metadata": {},
   "source": [
    "## Custom Sequences"
   ]
  },
  {
   "cell_type": "code",
   "execution_count": null,
   "id": "aac7bb2b-47b7-4de9-a9e3-be61079412fb",
   "metadata": {},
   "outputs": [],
   "source": []
  },
  {
   "cell_type": "code",
   "execution_count": null,
   "id": "db09398e-796e-4ea6-9752-55505f74eda0",
   "metadata": {},
   "outputs": [],
   "source": []
  }
 ],
 "metadata": {
  "kernelspec": {
   "display_name": "Python 3.10.4 64-bit ('3.10.4')",
   "language": "python",
   "name": "python3"
  },
  "language_info": {
   "codemirror_mode": {
    "name": "ipython",
    "version": 3
   },
   "file_extension": ".py",
   "mimetype": "text/x-python",
   "name": "python",
   "nbconvert_exporter": "python",
   "pygments_lexer": "ipython3",
   "version": "3.10.4"
  },
  "vscode": {
   "interpreter": {
    "hash": "e74f6ee90e3f251e14675517a5ccb88a8babea268ba3595659223e38e73b8586"
   }
  }
 },
 "nbformat": 4,
 "nbformat_minor": 5
}
