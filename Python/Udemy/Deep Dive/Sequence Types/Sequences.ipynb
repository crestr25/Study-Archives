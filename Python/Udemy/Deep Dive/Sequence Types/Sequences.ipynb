{
 "cells": [
  {
   "cell_type": "markdown",
   "id": "744c611e-35e9-40f9-ba3d-81c7ad59d413",
   "metadata": {
    "tags": []
   },
   "source": [
    "# Sequence Types"
   ]
  },
  {
   "cell_type": "code",
   "execution_count": 12,
   "id": "f82bf0be-b5bd-4f12-bb7f-47cec0a46c3f",
   "metadata": {},
   "outputs": [
    {
     "name": "stdout",
     "output_type": "stream",
     "text": [
      "l is a <class 'list'> and the first element is 1\n",
      "l is a <class 'tuple'> and the first element is 1\n",
      "l is a <class 'str'> and the first element is P\n"
     ]
    }
   ],
   "source": [
    "# lists\n",
    "l = [1, 2, 3]\n",
    "# Tuples\n",
    "t = (1, 2, 3)\n",
    "# Strings\n",
    "s = 'Python'\n",
    "\n",
    "# All of the above are Sequence types since they can be indexed. (0 based indexing)\n",
    "print(f\"l is a {type(l)} and the first element is {l[0]}\")\n",
    "print(f\"l is a {type(t)} and the first element is {t[0]}\")\n",
    "print(f\"l is a {type(s)} and the first element is {s[0]}\")"
   ]
  },
  {
   "cell_type": "code",
   "execution_count": 14,
   "id": "94087b90-76ae-4071-a04b-305cac0796cf",
   "metadata": {},
   "outputs": [
    {
     "name": "stdout",
     "output_type": "stream",
     "text": [
      "------ List ------\n",
      "value in index 0 is 1\n",
      "value in index 1 is 2\n",
      "value in index 2 is 3\n",
      "------ Tuple ------\n",
      "value in index 0 is 1\n",
      "value in index 1 is 2\n",
      "value in index 2 is 3\n",
      "------ Str ------\n",
      "value in index 0 is P\n",
      "value in index 1 is y\n",
      "value in index 2 is t\n",
      "value in index 3 is h\n",
      "value in index 4 is o\n",
      "value in index 5 is n\n"
     ]
    }
   ],
   "source": [
    "# All of the above are also ITERABLES, which means we can iterate over them\n",
    "print(\"------ List ------\")\n",
    "for i, value in enumerate(l):\n",
    "    print(f\"value in index {i} is {value}\")\n",
    "    \n",
    "print(\"------ Tuple ------\")\n",
    "for i, value in enumerate(t):\n",
    "    print(f\"value in index {i} is {value}\")\n",
    "\n",
    "print(\"------ Str ------\")\n",
    "for i, value in enumerate(s):\n",
    "    print(f\"value in index {i} is {value}\")"
   ]
  },
  {
   "cell_type": "markdown",
   "id": "52a4b367-e53b-4fd0-8a88-210e3223f9bf",
   "metadata": {},
   "source": [
    "This means that Sequences are Iterables since we can loop through all objects inside,\n",
    "however, not all Iterables are Sequences, since for example `sets` are not Sequences."
   ]
  },
  {
   "cell_type": "code",
   "execution_count": 24,
   "id": "79fe9c07-4b54-4c89-84d6-92f95bab2cd1",
   "metadata": {},
   "outputs": [
    {
     "name": "stdout",
     "output_type": "stream",
     "text": [
      "------ Set ------\n",
      "value in index 0 is 1\n",
      "value in index 1 is 3\n",
      "value in index 2 is a\n",
      "value in index 3 is p\n"
     ]
    }
   ],
   "source": [
    "# Sets are not expected to return the elements in a particular order\n",
    "set_ = {1, 3, 'a', 'p'}\n",
    "\n",
    "# print(set_[0]) # Set object is not subscriptable\n",
    "\n",
    "print(\"------ Set ------\")\n",
    "for i, value in enumerate(set_):\n",
    "    print(f\"value in index {i} is {value}\")"
   ]
  },
  {
   "cell_type": "markdown",
   "id": "01c9bc49-3991-4d82-91bb-2c710a28b005",
   "metadata": {
    "tags": []
   },
   "source": [
    "## Mutability"
   ]
  },
  {
   "cell_type": "markdown",
   "id": "ad7eb221-8a09-43cf-bae9-be7989f887e5",
   "metadata": {
    "tags": []
   },
   "source": [
    "### Mutable Sequences"
   ]
  },
  {
   "cell_type": "markdown",
   "id": "6758a670-18f6-4d8c-b28f-ddaf210b70fb",
   "metadata": {},
   "source": [
    "- Lists"
   ]
  },
  {
   "cell_type": "code",
   "execution_count": 25,
   "id": "1d8d7f04-1149-494b-89b9-b719d7e142f9",
   "metadata": {},
   "outputs": [
    {
     "name": "stdout",
     "output_type": "stream",
     "text": [
      "List before mutating: [1, 3, 6]\n",
      "List after mutating: [100, 3, 6]\n"
     ]
    }
   ],
   "source": [
    "l = [1, 3, 6]\n",
    "print(f\"List before mutating: {l}\")\n",
    "l[0] = 100\n",
    "print(f\"List after mutating: {l}\")"
   ]
  },
  {
   "cell_type": "markdown",
   "id": "ab84d989-4627-428d-9e2e-f3e4c4007de4",
   "metadata": {},
   "source": [
    "### Immutable Sequences"
   ]
  },
  {
   "cell_type": "markdown",
   "id": "882f9b89-0bba-441d-b2ca-1c078d92ddc7",
   "metadata": {},
   "source": [
    "- Tuples (As a container it is immutable, but the elements could be mutable).\n",
    "- Strings\n",
    "- Range"
   ]
  },
  {
   "cell_type": "code",
   "execution_count": 30,
   "id": "88ded1cb-d354-4d54-8e88-d8a3999bd778",
   "metadata": {},
   "outputs": [
    {
     "name": "stdout",
     "output_type": "stream",
     "text": [
      "Tuple first element before mutating: ([1, 3], 6)\n",
      "Tuple first element after mutating: ([100, 3], 6)\n"
     ]
    }
   ],
   "source": [
    "t = ([1, 3] , 6)\n",
    "print(f\"Tuple first element before mutating: {t}\")\n",
    "t[0][0] = 100\n",
    "print(f\"Tuple first element after mutating: {t}\")"
   ]
  },
  {
   "cell_type": "code",
   "execution_count": null,
   "id": "a5dffe71-64f5-47a0-82c4-5cbd04a17ddd",
   "metadata": {},
   "outputs": [],
   "source": []
  },
  {
   "cell_type": "markdown",
   "id": "3e6dfc34-c346-42e5-980c-d78e77ab3036",
   "metadata": {},
   "source": [
    "## Operators"
   ]
  },
  {
   "cell_type": "markdown",
   "id": "5938fc9d-72a4-4f23-abd3-136742b95ab7",
   "metadata": {},
   "source": [
    "- Concatenation `+` of Sequences, however, They need to be of the same type, (i.e Tuple + List -> Error, Tuple + Tuple -> Ok)"
   ]
  },
  {
   "cell_type": "code",
   "execution_count": 38,
   "id": "7988c86b-c4eb-4ea9-b495-c16defafad68",
   "metadata": {},
   "outputs": [
    {
     "name": "stdout",
     "output_type": "stream",
     "text": [
      "The lists [1, 3, 5] and [2, 4, 6] concatenated are [1, 3, 5, 2, 4, 6]\n",
      "The tuples (1, 3, 5) and (2, 4, 6) concatenated are (1, 3, 5, 2, 4, 6)\n"
     ]
    }
   ],
   "source": [
    "l1 = [1, 3, 5]\n",
    "l2 = [2, 4, 6]\n",
    "t1 = (1, 3, 5)\n",
    "t2 = (2, 4, 6)\n",
    "print(f\"The lists {l1} and {l2} concatenated are {l1 + l2}\")\n",
    "print(f\"The tuples {t1} and {t2} concatenated are {t1 + t2}\")"
   ]
  },
  {
   "cell_type": "markdown",
   "id": "0550cc2a-507e-4ab5-a3cf-a2461fd6fb75",
   "metadata": {},
   "source": [
    "- The `in` and `not in` Operator"
   ]
  },
  {
   "cell_type": "code",
   "execution_count": 31,
   "id": "67ed69c5-51bf-4674-965f-2bbc9b3dd590",
   "metadata": {},
   "outputs": [
    {
     "name": "stdout",
     "output_type": "stream",
     "text": [
      "10 in range(10): False\n",
      "10 not in range(10): True\n"
     ]
    }
   ],
   "source": [
    "r = range(10)\n",
    "print(f\"10 in range(10): {10 in r}\")\n",
    "print(f\"10 not in range(10): {10 not in r}\")"
   ]
  },
  {
   "cell_type": "markdown",
   "id": "af440fb9-5aca-4e03-93e9-2598d6f74cfa",
   "metadata": {},
   "source": [
    "- The `len` operator, Returns the length of the finite Sequence (there could be infinite)."
   ]
  },
  {
   "cell_type": "code",
   "execution_count": 34,
   "id": "9ee7d7e7-115d-4820-8b23-511d397bda7a",
   "metadata": {},
   "outputs": [
    {
     "name": "stdout",
     "output_type": "stream",
     "text": [
      "The len of string Python is 6\n",
      "The len of range(0, 10) is 10\n"
     ]
    }
   ],
   "source": [
    "s = 'Python'\n",
    "r = range(10)\n",
    "print(f\"The len of string {s} is {len(s)}\")\n",
    "print(f\"The len of {r} is {len(r)}\")\n",
    "\n",
    "# REMEMBER, dicts and sets also have this operator. it is not limited to sequences."
   ]
  },
  {
   "cell_type": "markdown",
   "id": "0932e2fd-a2a8-41cc-9ec7-be36bbaaf4fa",
   "metadata": {},
   "source": [
    "- The `min` and `max` Operator, however, we need to consider if the elements in the sequence can be compared.\n",
    "(complex numbers is an example, or heterogeneous lists that are not pairwise comparable)"
   ]
  },
  {
   "cell_type": "code",
   "execution_count": 35,
   "id": "3c17ef39-0a79-4d41-a37a-f165ad9327a0",
   "metadata": {},
   "outputs": [
    {
     "name": "stdout",
     "output_type": "stream",
     "text": [
      "The min element of ['a', 'b', 'c'] is a\n",
      "The max element of range(0, 10) is 9\n"
     ]
    }
   ],
   "source": [
    "l = ['a', 'b', 'c']\n",
    "r = range(10)\n",
    "print(f\"The min element of {l} is {min(l)}\")\n",
    "print(f\"The max element of {r} is {max(r)}\")"
   ]
  },
  {
   "cell_type": "code",
   "execution_count": 36,
   "id": "224cc6c0-cf53-46ff-86a3-a77341539c8e",
   "metadata": {},
   "outputs": [
    {
     "name": "stdout",
     "output_type": "stream",
     "text": [
      "The min element of [10, 10.5, Decimal('20.4')] is 10\n",
      "The max element of [10, 10.5, Decimal('20.4')] is 20.4\n"
     ]
    }
   ],
   "source": [
    "from decimal import Decimal\n",
    "\n",
    "l = [10, 10.5, Decimal(\"20.4\")]\n",
    "print(f\"The min element of {l} is {min(l)}\")\n",
    "print(f\"The max element of {l} is {max(l)}\")\n",
    "\n",
    "# This is because they are pairwise comparable, so this heterogeneous list works."
   ]
  }
 ],
 "metadata": {
  "kernelspec": {
   "display_name": "Python 3 (ipykernel)",
   "language": "python",
   "name": "python3"
  },
  "language_info": {
   "codemirror_mode": {
    "name": "ipython",
    "version": 3
   },
   "file_extension": ".py",
   "mimetype": "text/x-python",
   "name": "python",
   "nbconvert_exporter": "python",
   "pygments_lexer": "ipython3",
   "version": "3.10.4"
  }
 },
 "nbformat": 4,
 "nbformat_minor": 5
}
