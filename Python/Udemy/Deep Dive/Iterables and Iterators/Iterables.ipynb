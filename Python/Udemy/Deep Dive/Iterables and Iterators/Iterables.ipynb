{
  "cells": [
    {
      "cell_type": "markdown",
      "source": [
        "# Iterables and Iterators\n"
      ],
      "metadata": {
        "id": "GXXDQ0IsNmGn"
      }
    },
    {
      "cell_type": "markdown",
      "source": [
        "- Iterable, refers to an object that can be iterated.\n",
        "- Iterator, refers to an object that implements python `Iterator Protocol`."
      ],
      "metadata": {
        "id": "ECqMKulcOIyU"
      }
    },
    {
      "cell_type": "markdown",
      "source": [
        "## Iterables Definition"
      ],
      "metadata": {
        "id": "hHhc7a4wNqi8"
      }
    },
    {
      "cell_type": "markdown",
      "source": [
        "In the most basic form, they are something that can be iterated over, however, this does not mean that it has to be based on indexing.\n",
        "- Sequences are iterables, but so are other objects that are not sequences.\n",
        "- As long as we have a way of getting a next element out of the container of objects we can call it iterable."
      ],
      "metadata": {
        "id": "aZZ1cel7NwAQ"
      }
    },
    {
      "cell_type": "code",
      "execution_count": null,
      "metadata": {
        "id": "LIzoWIxesB6a",
        "outputId": "d8d321ca-50c8-4d36-a809-623908205c0b",
        "colab": {
          "base_uri": "https://localhost:8080/"
        }
      },
      "outputs": [
        {
          "output_type": "stream",
          "name": "stdout",
          "text": [
            "---- INFINITE ITERABLE ----\n",
            "Square returns 0 on iteration: 0\n",
            "Square returns 1 on iteration: 1\n",
            "Square returns 4 on iteration: 2\n",
            "Square returns 9 on iteration: 3\n",
            "Square returns 16 on iteration: 4\n"
          ]
        }
      ],
      "source": [
        "print(\"---- INFINITE ITERABLE ----\")\n",
        "class Squares:\n",
        "  def __init__(self):\n",
        "    self.i = 0\n",
        "\n",
        "  def next_(self):\n",
        "    result = self.i ** 2\n",
        "    self.i += 1\n",
        "    return result\n",
        "\n",
        "# In this basic form we have a Squares object that can return us the next\n",
        "# square in its index each time we call the method.\n",
        "sq1 = Squares()\n",
        "for i in range(5):\n",
        "  print(f\"Square returns {sq1.next_()} on iteration: {i}\")"
      ]
    },
    {
      "cell_type": "markdown",
      "source": [
        "In the aproach above the object will continue to iterate and the only way to restart it is to instantiate a new one.\n",
        "\n",
        "A way in which we could handle this is to give a length property to our iterable and raise a `StopIteration` exception.\n",
        "\n",
        "- We will then use now the `__next__` method python uses to map to `next()`.\n",
        "- We will have an `StopIteration` exception once we iterate over all elements."
      ],
      "metadata": {
        "id": "cnY-0_LyP--3"
      }
    },
    {
      "cell_type": "code",
      "source": [
        "print(\"---- FINITE ITERABLE ----\")\n",
        "class Squares:\n",
        "  def __init__(self, length):\n",
        "    self.length = length\n",
        "    self.i = 0\n",
        "    \n",
        "  def __len__(self):\n",
        "    return self.length\n",
        "\n",
        "  def __next__(self):\n",
        "    if self.i >= self.length:\n",
        "      raise StopIteration\n",
        "    else:\n",
        "      result = self.i ** 2\n",
        "      self.i += 1\n",
        "      return result\n",
        "\n",
        "sq1 = Squares(length=5)\n",
        "i = 0\n",
        "while True:\n",
        "  try:\n",
        "    print(f\"Square returns {next(sq1)} on iteration: {i}\")\n",
        "    i += 1\n",
        "  except StopIteration:\n",
        "    break"
      ],
      "metadata": {
        "id": "FfZHHl-oPlfp",
        "outputId": "752c1f7f-fe3e-45f4-83f6-70a5d5901f3b",
        "colab": {
          "base_uri": "https://localhost:8080/"
        }
      },
      "execution_count": null,
      "outputs": [
        {
          "output_type": "stream",
          "name": "stdout",
          "text": [
            "---- FINITE ITERABLE ----\n",
            "Square returns 0 on iteration: 0\n",
            "Square returns 1 on iteration: 1\n",
            "Square returns 4 on iteration: 2\n",
            "Square returns 9 on iteration: 3\n",
            "Square returns 16 on iteration: 4\n"
          ]
        }
      ]
    },
    {
      "cell_type": "code",
      "source": [
        "print(\"---- RANDOM ITERABLE ----\")\n",
        "# to make it not an index based iterable (sequence) let's use random\n",
        "\n",
        "import random\n",
        "\n",
        "class RandomNumbers:\n",
        "  def __init__(self, length, *, range_min=0, range_max=10):\n",
        "    self.length = length\n",
        "    self.range_min = range_min\n",
        "    self.range_max = range_max\n",
        "    self.num_requested = 0\n",
        "\n",
        "  def __len__(self):\n",
        "    return self.length\n",
        "\n",
        "  def __next__(self):\n",
        "    if self.num_requested >= self.length:\n",
        "      raise StopIteration\n",
        "    else:\n",
        "      self.num_requested += 1\n",
        "      number = random.randint(self.range_min, self.range_max)\n",
        "      return number\n",
        "\n",
        "rn1 = RandomNumbers(length=5)\n",
        "i = 0\n",
        "while True:\n",
        "  try:\n",
        "    print(f\"RandomNumbers returns {next(rn1)} on iteration: {i}\")\n",
        "    i += 1\n",
        "  except StopIteration:\n",
        "    break"
      ],
      "metadata": {
        "id": "do24UOuMXTlX",
        "outputId": "3c1b0b11-844c-4855-8ec6-ef3a415bfa1d",
        "colab": {
          "base_uri": "https://localhost:8080/"
        }
      },
      "execution_count": null,
      "outputs": [
        {
          "output_type": "stream",
          "name": "stdout",
          "text": [
            "---- RANDOM ITERABLE ----\n",
            "RandomNumbers returns 3 on iteration: 0\n",
            "RandomNumbers returns 4 on iteration: 1\n",
            "RandomNumbers returns 2 on iteration: 2\n",
            "RandomNumbers returns 7 on iteration: 3\n",
            "RandomNumbers returns 5 on iteration: 4\n"
          ]
        }
      ]
    },
    {
      "cell_type": "markdown",
      "source": [
        "## Iterator Definition"
      ],
      "metadata": {
        "id": "7jsCR0OHNUfo"
      }
    },
    {
      "cell_type": "markdown",
      "source": [
        "While an iterable is an object that can be iterated, for us to use the built-in python functions to iterate an object mus implement the **ITERATOR PROTOCOL**.\n",
        "- the `__next__` method should be created to handle the next element and raise the `StopIteration` exception.\n",
        "- the `__iter__` method should be created to return the class instance (`self`) // it looks for an iterator so if returns self then self is the iterator."
      ],
      "metadata": {
        "id": "Ag24PZgVNXXW"
      }
    },
    {
      "cell_type": "code",
      "source": [
        "print(\"---- ITERATOR ----\")\n",
        "class Squares:\n",
        "  def __init__(self, length):\n",
        "    self.length = length\n",
        "    self.i = 0\n",
        "    \n",
        "  def __len__(self):\n",
        "    return self.length\n",
        "\n",
        "  def __next__(self):\n",
        "    print(\"__next__ called\")\n",
        "    if self.i >= self.length:\n",
        "      raise StopIteration\n",
        "    else:\n",
        "      result = self.i ** 2\n",
        "      self.i += 1\n",
        "      return result\n",
        "\n",
        "  def __iter__(self):\n",
        "    print(\"__iter__ called\")\n",
        "    return self\n",
        "\n",
        "sq1 = Squares(length=5)\n",
        "print('Now we can loop through our iterator with python built ins')\n",
        "\n",
        "for i, sq in enumerate(sq1):\n",
        "  print(f\"iteration: {i} returns value: {sq}\")\n",
        "\n",
        "# however, the problem is that our iterator is still consumed once it is ran.\n",
        "# we would have to instantiate again our class to run it again.\n",
        "\n",
        "print(\"we could also use the sorted function\")\n",
        "sq1 = Squares(length=5)\n",
        "print(f\"Squares sorted in reverse is: {sorted(sq1, reverse=True)}\")"
      ],
      "metadata": {
        "id": "UFU-UdxZOBGd",
        "outputId": "e82933e3-be47-4870-f987-0cb205e10f5f",
        "colab": {
          "base_uri": "https://localhost:8080/"
        }
      },
      "execution_count": 5,
      "outputs": [
        {
          "output_type": "stream",
          "name": "stdout",
          "text": [
            "---- ITERATOR ----\n",
            "Now we can loop through our iterator with python built ins\n",
            "__iter__ called\n",
            "__next__ called\n",
            "iteration: 0 returns value: 0\n",
            "__next__ called\n",
            "iteration: 1 returns value: 1\n",
            "__next__ called\n",
            "iteration: 2 returns value: 4\n",
            "__next__ called\n",
            "iteration: 3 returns value: 9\n",
            "__next__ called\n",
            "iteration: 4 returns value: 16\n",
            "__next__ called\n",
            "we could also use the sorted function\n",
            "__iter__ called\n",
            "__next__ called\n",
            "__next__ called\n",
            "__next__ called\n",
            "__next__ called\n",
            "__next__ called\n",
            "__next__ called\n",
            "Squares sorted in reverse is: [16, 9, 4, 1, 0]\n"
          ]
        }
      ]
    },
    {
      "cell_type": "code",
      "source": [
        "# what python actualy does is to call first function iter()\n",
        "sq = Squares(5)\n",
        "sq_iterator = iter(sq) # it gets the iterator\n",
        "print(id(sq), id(sq_iterator))\n",
        "\n",
        "while True:\n",
        "  try:\n",
        "    item = next(sq)\n",
        "    print(f\"Value: {item}\")\n",
        "  except StopIteration:\n",
        "    break\n",
        "\n",
        "# We see that the prints are the same as when python runs it through a loop."
      ],
      "metadata": {
        "id": "vTIjClGpQrK_",
        "outputId": "f6895b77-e984-4ab5-bb6a-d861c8cd92e8",
        "colab": {
          "base_uri": "https://localhost:8080/"
        }
      },
      "execution_count": 7,
      "outputs": [
        {
          "output_type": "stream",
          "name": "stdout",
          "text": [
            "__iter__ called\n",
            "140335742015312 140335742015312\n",
            "__next__ called\n",
            "Value: 0\n",
            "__next__ called\n",
            "Value: 1\n",
            "__next__ called\n",
            "Value: 4\n",
            "__next__ called\n",
            "Value: 9\n",
            "__next__ called\n",
            "Value: 16\n",
            "__next__ called\n"
          ]
        }
      ]
    },
    {
      "cell_type": "markdown",
      "source": [
        "We still need to instantiate again the iterator to loop again, this however is not useful since we create a whole new object with the same data just to iterate over it.\n",
        "\n",
        "We can approach the problem by splitting the collection (iterable) and the iterator.\n",
        "this means that:\n",
        "- The collection is **Iterable**.\n",
        "  - Gets created once.\n",
        "- The iteror is created every time we need to start a fresh iteration.\n",
        "\n",
        "to accomplish this we will have:\n",
        "- The iterable\n",
        "  - Object that implements the `__iter__` and returns an iterator (in general, a new instance of the class)\n",
        "- The iterator\n",
        "  - `__iter__`, returns itself, not a new instance\n",
        "  - `__next__`, returns the next element\n",
        "\n",
        "So iterators are themselves iterables but they become exhausted when they are iterated over."
      ],
      "metadata": {
        "id": "M9XDJkkFbfgJ"
      }
    },
    {
      "cell_type": "code",
      "source": [
        "# First the collection\n",
        "class Cities:\n",
        "  def __init__(self):\n",
        "    self._cities = ['Medellin', 'Cordoba', 'Cali', 'London', 'Montreal']\n",
        "    self._index = 0\n",
        "\n",
        "  def __len__(self):\n",
        "    return len(self._cities)\n",
        "\n",
        "  def __iter__(self):\n",
        "    \"\"\"\n",
        "    this iter looks for an iterator, and finds one by instantiating a iterator\n",
        "    with our object(self)\n",
        "    \"\"\"\n",
        "    print('Cities __iter__ called')\n",
        "    return CitiesIterator(self)\n",
        "\n",
        "class CitiesIterator:\n",
        "  def __init__(self, cities_obj):\n",
        "    self._cities_obj = cities_obj\n",
        "    self._index = 0\n",
        "\n",
        "  def __iter__(self):\n",
        "    \"\"\"\n",
        "    This iter looks for an iterator and finds one in self, meaning it is an\n",
        "    iterator.\n",
        "    \"\"\"\n",
        "    print(\" CitiesIterator __iter__ called\")\n",
        "    return self\n",
        "\n",
        "  def __next__(self):\n",
        "    print(\"  CitiesIterator __next__ called\")\n",
        "    if self._index >= len(self._cities_obj):\n",
        "      raise StopIteration\n",
        "    else:\n",
        "      item = self._cities_obj._cities[self._index]\n",
        "      self._index += 1\n",
        "      return item\n",
        "\n",
        "# Now we can have a Cities class that loops by instantiating a CitiesIterator.\n",
        "c1 = Cities()\n",
        "for i in range(3):\n",
        "  print(f\"Loop {i} for the same class: {type(c1).__name__}\")\n",
        "  for j, city in enumerate(c1):\n",
        "    print(f\"\\tcity:{city} in iteration: {j}\")"
      ],
      "metadata": {
        "id": "scFWeB0rzuKd",
        "outputId": "e1e339bb-e54a-4f24-8daf-efc3fe876337",
        "colab": {
          "base_uri": "https://localhost:8080/"
        }
      },
      "execution_count": 12,
      "outputs": [
        {
          "output_type": "stream",
          "name": "stdout",
          "text": [
            "Loop 0 for the same class: Cities\n",
            "Cities __iter__ called\n",
            "  CitiesIterator __next__ called\n",
            "\tcity:Medellin in iteration: 0\n",
            "  CitiesIterator __next__ called\n",
            "\tcity:Cordoba in iteration: 1\n",
            "  CitiesIterator __next__ called\n",
            "\tcity:Cali in iteration: 2\n",
            "  CitiesIterator __next__ called\n",
            "\tcity:London in iteration: 3\n",
            "  CitiesIterator __next__ called\n",
            "\tcity:Montreal in iteration: 4\n",
            "  CitiesIterator __next__ called\n",
            "Loop 1 for the same class: Cities\n",
            "Cities __iter__ called\n",
            "  CitiesIterator __next__ called\n",
            "\tcity:Medellin in iteration: 0\n",
            "  CitiesIterator __next__ called\n",
            "\tcity:Cordoba in iteration: 1\n",
            "  CitiesIterator __next__ called\n",
            "\tcity:Cali in iteration: 2\n",
            "  CitiesIterator __next__ called\n",
            "\tcity:London in iteration: 3\n",
            "  CitiesIterator __next__ called\n",
            "\tcity:Montreal in iteration: 4\n",
            "  CitiesIterator __next__ called\n",
            "Loop 2 for the same class: Cities\n",
            "Cities __iter__ called\n",
            "  CitiesIterator __next__ called\n",
            "\tcity:Medellin in iteration: 0\n",
            "  CitiesIterator __next__ called\n",
            "\tcity:Cordoba in iteration: 1\n",
            "  CitiesIterator __next__ called\n",
            "\tcity:Cali in iteration: 2\n",
            "  CitiesIterator __next__ called\n",
            "\tcity:London in iteration: 3\n",
            "  CitiesIterator __next__ called\n",
            "\tcity:Montreal in iteration: 4\n",
            "  CitiesIterator __next__ called\n"
          ]
        }
      ]
    },
    {
      "cell_type": "code",
      "source": [
        "# Nest our CitiesIterator inside our main Cities class\n",
        "class Cities:\n",
        "  def __init__(self):\n",
        "    self._cities = ['Medellin', 'Cordoba', 'Cali', 'London', 'Montreal']\n",
        "    self._index = 0\n",
        "\n",
        "  def __len__(self):\n",
        "    return len(self._cities)\n",
        "\n",
        "  def __iter__(self):\n",
        "    \"\"\"\n",
        "    this iter looks for an iterator, and finds one by instantiating a iterator\n",
        "    with our object(self)\n",
        "    \"\"\"\n",
        "    print('Cities __iter__ called')\n",
        "    return self.CitiesIterator(self)\n",
        "\n",
        "  class CitiesIterator:\n",
        "    def __init__(self, cities_obj):\n",
        "      self._cities_obj = cities_obj\n",
        "      self._index = 0\n",
        "\n",
        "    def __iter__(self):\n",
        "      \"\"\"\n",
        "      This iter looks for an iterator and finds one in self, meaning it is an\n",
        "      iterator.\n",
        "      \"\"\"\n",
        "      print(\" CitiesIterator __iter__ called\")\n",
        "      return self\n",
        "\n",
        "    def __next__(self):\n",
        "      print(\"  CitiesIterator __next__ called\")\n",
        "      if self._index >= len(self._cities_obj):\n",
        "        raise StopIteration\n",
        "      else:\n",
        "        item = self._cities_obj._cities[self._index]\n",
        "        self._index += 1\n",
        "        return item\n",
        "\n",
        "# Now we can have a Cities class that loops by instantiating a CitiesIterator.\n",
        "c1 = Cities()\n",
        "for i in range(3):\n",
        "  print(f\"Loop {i} for the same class: {type(c1).__name__}\")\n",
        "  for j, city in enumerate(c1):\n",
        "    print(f\"\\tcity:{city} in iteration: {j}\")"
      ],
      "metadata": {
        "id": "MPo04Sig4fua"
      },
      "execution_count": null,
      "outputs": []
    },
    {
      "cell_type": "markdown",
      "source": [
        "We can now implement a sequence and an iterator, however, once a iteration is started the `__iter__` and `__next__` methods are prefered.\n",
        "\n",
        "Python will:\n",
        "- look for the `__iter__`, if not\n",
        "- look for the `__getitem__`"
      ],
      "metadata": {
        "id": "cedin1RgbvEJ"
      }
    },
    {
      "cell_type": "code",
      "source": [
        "# Sequence + Iterator protocols implemented\n",
        "\n",
        "print(\"---- SEQUENCE ----\")\n",
        "\n",
        "class Cities:\n",
        "  def __init__(self):\n",
        "    self._cities = ['Medellin', 'Cordoba', 'Cali', 'London', 'Montreal']\n",
        "    self._index = 0\n",
        "\n",
        "  def __len__(self):\n",
        "    return len(self._cities)\n",
        "\n",
        "  def __iter__(self):\n",
        "    \"\"\"\n",
        "    this iter looks for an iterator, and finds one by instantiating a iterator\n",
        "    with our object(self)\n",
        "    \"\"\"\n",
        "    print('Cities __iter__ called')\n",
        "    return self.CitiesIterator(self)\n",
        "\n",
        "  def __getitem__(self, i):\n",
        "    return self._cities[i]\n",
        "\n",
        "  class CitiesIterator:\n",
        "    def __init__(self, cities_obj):\n",
        "      self._cities_obj = cities_obj\n",
        "      self._index = 0\n",
        "\n",
        "    def __iter__(self):\n",
        "      \"\"\"\n",
        "      This iter looks for an iterator and finds one in self, meaning it is an\n",
        "      iterator.\n",
        "      \"\"\"\n",
        "      print(\" CitiesIterator __iter__ called\")\n",
        "      return self\n",
        "\n",
        "    def __next__(self):\n",
        "      print(\"  CitiesIterator __next__ called\")\n",
        "      if self._index >= len(self._cities_obj):\n",
        "        raise StopIteration\n",
        "      else:\n",
        "        item = self._cities_obj._cities[self._index]\n",
        "        self._index += 1\n",
        "        return item\n",
        "\n",
        "# Now we can have a Cities class that loops by instantiating a CitiesIterator.\n",
        "c1 = Cities()\n",
        "print(f\"we also have now a cities sequence c1[0] -> {c1[0]}\")\n",
        "for i in range(3):\n",
        "  print(f\"Loop {i} for the same class: {type(c1).__name__}\")\n",
        "  for j, city in enumerate(c1):\n",
        "    print(f\"\\tcity:{city} in iteration: {j}\")"
      ],
      "metadata": {
        "id": "v_lO9E9BbDlk",
        "outputId": "99eaa4eb-556b-4321-adcf-3922680f5dc8",
        "colab": {
          "base_uri": "https://localhost:8080/"
        }
      },
      "execution_count": 16,
      "outputs": [
        {
          "output_type": "stream",
          "name": "stdout",
          "text": [
            "---- SEQUENCE ----\n",
            "we also have now a cities sequence c1[0] -> Medellin\n",
            "Loop 0 for the same class: Cities\n",
            "Cities __iter__ called\n",
            "  CitiesIterator __next__ called\n",
            "\tcity:Medellin in iteration: 0\n",
            "  CitiesIterator __next__ called\n",
            "\tcity:Cordoba in iteration: 1\n",
            "  CitiesIterator __next__ called\n",
            "\tcity:Cali in iteration: 2\n",
            "  CitiesIterator __next__ called\n",
            "\tcity:London in iteration: 3\n",
            "  CitiesIterator __next__ called\n",
            "\tcity:Montreal in iteration: 4\n",
            "  CitiesIterator __next__ called\n",
            "Loop 1 for the same class: Cities\n",
            "Cities __iter__ called\n",
            "  CitiesIterator __next__ called\n",
            "\tcity:Medellin in iteration: 0\n",
            "  CitiesIterator __next__ called\n",
            "\tcity:Cordoba in iteration: 1\n",
            "  CitiesIterator __next__ called\n",
            "\tcity:Cali in iteration: 2\n",
            "  CitiesIterator __next__ called\n",
            "\tcity:London in iteration: 3\n",
            "  CitiesIterator __next__ called\n",
            "\tcity:Montreal in iteration: 4\n",
            "  CitiesIterator __next__ called\n",
            "Loop 2 for the same class: Cities\n",
            "Cities __iter__ called\n",
            "  CitiesIterator __next__ called\n",
            "\tcity:Medellin in iteration: 0\n",
            "  CitiesIterator __next__ called\n",
            "\tcity:Cordoba in iteration: 1\n",
            "  CitiesIterator __next__ called\n",
            "\tcity:Cali in iteration: 2\n",
            "  CitiesIterator __next__ called\n",
            "\tcity:London in iteration: 3\n",
            "  CitiesIterator __next__ called\n",
            "\tcity:Montreal in iteration: 4\n",
            "  CitiesIterator __next__ called\n"
          ]
        }
      ]
    },
    {
      "cell_type": "code",
      "source": [
        "# We can verify that this is how builtins are implemented\n",
        "l1 = [1,2,3,4,5]\n",
        "il1 = iter(l1)\n",
        "print(f\"we can get the iterable for l1 -> {il1}\")\n",
        "\n",
        "for i, item in enumerate(il1):\n",
        "  print(f\"item: {item} at position {i} in list.\")\n",
        "# the iterator now gets exhausted.\n",
        "try:\n",
        "  next(il1)\n",
        "except StopIteration:\n",
        "  print(\"l1 iterator il1 is exhausted\")"
      ],
      "metadata": {
        "id": "B3oIZDAXcYUD",
        "outputId": "d22b0fee-0862-4e2f-8bbe-997e8a2b06be",
        "colab": {
          "base_uri": "https://localhost:8080/"
        }
      },
      "execution_count": 17,
      "outputs": [
        {
          "output_type": "stream",
          "name": "stdout",
          "text": [
            "we can get the iterable for l1 -> <list_iterator object at 0x7fa27602a350>\n",
            "item: 1 at position 0 in list.\n",
            "item: 2 at position 1 in list.\n",
            "item: 3 at position 2 in list.\n",
            "item: 4 at position 3 in list.\n",
            "item: 5 at position 4 in list.\n",
            "l1 iterator il1 is exhausted\n"
          ]
        }
      ]
    }
  ],
  "metadata": {
    "kernelspec": {
      "display_name": "Python 3.10.4 64-bit ('3.10.4')",
      "language": "python",
      "name": "python3"
    },
    "language_info": {
      "codemirror_mode": {
        "name": "ipython",
        "version": 3
      },
      "file_extension": ".py",
      "mimetype": "text/x-python",
      "name": "python",
      "nbconvert_exporter": "python",
      "pygments_lexer": "ipython3",
      "version": "3.10.4"
    },
    "orig_nbformat": 4,
    "vscode": {
      "interpreter": {
        "hash": "e74f6ee90e3f251e14675517a5ccb88a8babea268ba3595659223e38e73b8586"
      }
    },
    "colab": {
      "provenance": []
    }
  },
  "nbformat": 4,
  "nbformat_minor": 0
}