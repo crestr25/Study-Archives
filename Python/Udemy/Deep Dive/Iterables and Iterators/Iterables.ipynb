{
  "cells": [
    {
      "cell_type": "markdown",
      "source": [
        "# Iterables"
      ],
      "metadata": {
        "id": "GXXDQ0IsNmGn"
      }
    },
    {
      "cell_type": "markdown",
      "source": [
        "## Definition"
      ],
      "metadata": {
        "id": "hHhc7a4wNqi8"
      }
    },
    {
      "cell_type": "markdown",
      "source": [
        "In the most basic form, they are something that can be iterated over, however, this does not mean that it has to be based on indexing.\n",
        "- Sequences are iterables, but so are other objects that are not sequences.\n",
        "- As long as we have a way of getting a next element out of the container of objects we can call it iterable."
      ],
      "metadata": {
        "id": "aZZ1cel7NwAQ"
      }
    },
    {
      "cell_type": "code",
      "execution_count": 3,
      "metadata": {
        "id": "LIzoWIxesB6a",
        "outputId": "d8d321ca-50c8-4d36-a809-623908205c0b",
        "colab": {
          "base_uri": "https://localhost:8080/"
        }
      },
      "outputs": [
        {
          "output_type": "stream",
          "name": "stdout",
          "text": [
            "---- INFINITE ITERABLE ----\n",
            "Square returns 0 on iteration: 0\n",
            "Square returns 1 on iteration: 1\n",
            "Square returns 4 on iteration: 2\n",
            "Square returns 9 on iteration: 3\n",
            "Square returns 16 on iteration: 4\n"
          ]
        }
      ],
      "source": [
        "print(\"---- INFINITE ITERABLE ----\")\n",
        "class Squares:\n",
        "  def __init__(self):\n",
        "    self.i = 0\n",
        "\n",
        "  def next_(self):\n",
        "    result = self.i ** 2\n",
        "    self.i += 1\n",
        "    return result\n",
        "\n",
        "# In this basic form we have a Squares object that can return us the next\n",
        "# square in its index each time we call the method.\n",
        "sq1 = Squares()\n",
        "for i in range(5):\n",
        "  print(f\"Square returns {sq1.next_()} on iteration: {i}\")"
      ]
    },
    {
      "cell_type": "markdown",
      "source": [
        "In the aproach above the object will continue to iterate and the only way to restart it is to instantiate a new one.\n",
        "\n",
        "A way in which we could handle this is to give a length property to our iterable and raise a `StopIteration` exception.\n",
        "\n",
        "- We will then use now the `__next__` method python uses to map to `next()`.\n",
        "- We will have an `StopIteration` exception once we iterate over all elements."
      ],
      "metadata": {
        "id": "cnY-0_LyP--3"
      }
    },
    {
      "cell_type": "code",
      "source": [
        "print(\"---- FINITE ITERABLE ----\")\n",
        "class Squares:\n",
        "  def __init__(self, length):\n",
        "    self.length = length\n",
        "    self.i = 0\n",
        "    \n",
        "  def __len__(self):\n",
        "    return self.length\n",
        "\n",
        "  def __next__(self):\n",
        "    if self.i >= self.length:\n",
        "      raise StopIteration\n",
        "    else:\n",
        "      result = self.i ** 2\n",
        "      self.i += 1\n",
        "      return result\n",
        "\n",
        "sq1 = Squares(length=5)\n",
        "i = 0\n",
        "while True:\n",
        "  try:\n",
        "    print(f\"Square returns {next(sq1)} on iteration: {i}\")\n",
        "    i += 1\n",
        "  except StopIteration:\n",
        "    break"
      ],
      "metadata": {
        "id": "FfZHHl-oPlfp",
        "outputId": "752c1f7f-fe3e-45f4-83f6-70a5d5901f3b",
        "colab": {
          "base_uri": "https://localhost:8080/"
        }
      },
      "execution_count": 10,
      "outputs": [
        {
          "output_type": "stream",
          "name": "stdout",
          "text": [
            "---- FINITE ITERABLE ----\n",
            "Square returns 0 on iteration: 0\n",
            "Square returns 1 on iteration: 1\n",
            "Square returns 4 on iteration: 2\n",
            "Square returns 9 on iteration: 3\n",
            "Square returns 16 on iteration: 4\n"
          ]
        }
      ]
    },
    {
      "cell_type": "code",
      "source": [
        "print(\"---- RANDOM ITERABLE ----\")\n",
        "# to make it not an index based iterable (sequence) let's use random\n",
        "\n",
        "import random\n",
        "\n",
        "class RandomNumbers:\n",
        "  def __init__(self, length, *, range_min=0, range_max=10):\n",
        "    self.length = length\n",
        "    self.range_min = range_min\n",
        "    self.range_max = range_max\n",
        "    self.num_requested = 0\n",
        "\n",
        "  def __len__(self):\n",
        "    return self.length\n",
        "\n",
        "  def __next__(self):\n",
        "    if self.num_requested >= self.length:\n",
        "      raise StopIteration\n",
        "    else:\n",
        "      self.num_requested += 1\n",
        "      number = random.randint(self.range_min, self.range_max)\n",
        "      return number\n",
        "\n",
        "rn1 = RandomNumbers(length=5)\n",
        "i = 0\n",
        "while True:\n",
        "  try:\n",
        "    print(f\"RandomNumbers returns {next(rn1)} on iteration: {i}\")\n",
        "    i += 1\n",
        "  except StopIteration:\n",
        "    break"
      ],
      "metadata": {
        "id": "do24UOuMXTlX",
        "outputId": "3c1b0b11-844c-4855-8ec6-ef3a415bfa1d",
        "colab": {
          "base_uri": "https://localhost:8080/"
        }
      },
      "execution_count": 11,
      "outputs": [
        {
          "output_type": "stream",
          "name": "stdout",
          "text": [
            "---- RANDOM ITERABLE ----\n",
            "RandomNumbers returns 3 on iteration: 0\n",
            "RandomNumbers returns 4 on iteration: 1\n",
            "RandomNumbers returns 2 on iteration: 2\n",
            "RandomNumbers returns 7 on iteration: 3\n",
            "RandomNumbers returns 5 on iteration: 4\n"
          ]
        }
      ]
    }
  ],
  "metadata": {
    "kernelspec": {
      "display_name": "Python 3.10.4 64-bit ('3.10.4')",
      "language": "python",
      "name": "python3"
    },
    "language_info": {
      "codemirror_mode": {
        "name": "ipython",
        "version": 3
      },
      "file_extension": ".py",
      "mimetype": "text/x-python",
      "name": "python",
      "nbconvert_exporter": "python",
      "pygments_lexer": "ipython3",
      "version": "3.10.4"
    },
    "orig_nbformat": 4,
    "vscode": {
      "interpreter": {
        "hash": "e74f6ee90e3f251e14675517a5ccb88a8babea268ba3595659223e38e73b8586"
      }
    },
    "colab": {
      "provenance": []
    }
  },
  "nbformat": 4,
  "nbformat_minor": 0
}