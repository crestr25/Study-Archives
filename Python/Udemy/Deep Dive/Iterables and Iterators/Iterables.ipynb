{
  "cells": [
    {
      "cell_type": "markdown",
      "source": [
        "# Iterables and Iterators\n"
      ],
      "metadata": {
        "id": "GXXDQ0IsNmGn"
      }
    },
    {
      "cell_type": "markdown",
      "source": [
        "- Iterable, refers to an object that can be iterated.\n",
        "- Iterator, refers to an object that implements python `Iterator Protocol`."
      ],
      "metadata": {
        "id": "ECqMKulcOIyU"
      }
    },
    {
      "cell_type": "markdown",
      "source": [
        "## Iterables Definition"
      ],
      "metadata": {
        "id": "hHhc7a4wNqi8"
      }
    },
    {
      "cell_type": "markdown",
      "source": [
        "In the most basic form, they are something that can be iterated over, however, this does not mean that it has to be based on indexing.\n",
        "- Sequences are iterables, but so are other objects that are not sequences.\n",
        "- As long as we have a way of getting a next element out of the container of objects we can call it iterable."
      ],
      "metadata": {
        "id": "aZZ1cel7NwAQ"
      }
    },
    {
      "cell_type": "code",
      "execution_count": null,
      "metadata": {
        "id": "LIzoWIxesB6a",
        "outputId": "d8d321ca-50c8-4d36-a809-623908205c0b",
        "colab": {
          "base_uri": "https://localhost:8080/"
        }
      },
      "outputs": [
        {
          "output_type": "stream",
          "name": "stdout",
          "text": [
            "---- INFINITE ITERABLE ----\n",
            "Square returns 0 on iteration: 0\n",
            "Square returns 1 on iteration: 1\n",
            "Square returns 4 on iteration: 2\n",
            "Square returns 9 on iteration: 3\n",
            "Square returns 16 on iteration: 4\n"
          ]
        }
      ],
      "source": [
        "print(\"---- INFINITE ITERABLE ----\")\n",
        "class Squares:\n",
        "  def __init__(self):\n",
        "    self.i = 0\n",
        "\n",
        "  def next_(self):\n",
        "    result = self.i ** 2\n",
        "    self.i += 1\n",
        "    return result\n",
        "\n",
        "# In this basic form we have a Squares object that can return us the next\n",
        "# square in its index each time we call the method.\n",
        "sq1 = Squares()\n",
        "for i in range(5):\n",
        "  print(f\"Square returns {sq1.next_()} on iteration: {i}\")"
      ]
    },
    {
      "cell_type": "markdown",
      "source": [
        "In the aproach above the object will continue to iterate and the only way to restart it is to instantiate a new one.\n",
        "\n",
        "A way in which we could handle this is to give a length property to our iterable and raise a `StopIteration` exception.\n",
        "\n",
        "- We will then use now the `__next__` method python uses to map to `next()`.\n",
        "- We will have an `StopIteration` exception once we iterate over all elements."
      ],
      "metadata": {
        "id": "cnY-0_LyP--3"
      }
    },
    {
      "cell_type": "code",
      "source": [
        "print(\"---- FINITE ITERABLE ----\")\n",
        "class Squares:\n",
        "  def __init__(self, length):\n",
        "    self.length = length\n",
        "    self.i = 0\n",
        "    \n",
        "  def __len__(self):\n",
        "    return self.length\n",
        "\n",
        "  def __next__(self):\n",
        "    if self.i >= self.length:\n",
        "      raise StopIteration\n",
        "    else:\n",
        "      result = self.i ** 2\n",
        "      self.i += 1\n",
        "      return result\n",
        "\n",
        "sq1 = Squares(length=5)\n",
        "i = 0\n",
        "while True:\n",
        "  try:\n",
        "    print(f\"Square returns {next(sq1)} on iteration: {i}\")\n",
        "    i += 1\n",
        "  except StopIteration:\n",
        "    break"
      ],
      "metadata": {
        "id": "FfZHHl-oPlfp",
        "outputId": "752c1f7f-fe3e-45f4-83f6-70a5d5901f3b",
        "colab": {
          "base_uri": "https://localhost:8080/"
        }
      },
      "execution_count": null,
      "outputs": [
        {
          "output_type": "stream",
          "name": "stdout",
          "text": [
            "---- FINITE ITERABLE ----\n",
            "Square returns 0 on iteration: 0\n",
            "Square returns 1 on iteration: 1\n",
            "Square returns 4 on iteration: 2\n",
            "Square returns 9 on iteration: 3\n",
            "Square returns 16 on iteration: 4\n"
          ]
        }
      ]
    },
    {
      "cell_type": "code",
      "source": [
        "print(\"---- RANDOM ITERABLE ----\")\n",
        "# to make it not an index based iterable (sequence) let's use random\n",
        "\n",
        "import random\n",
        "\n",
        "class RandomNumbers:\n",
        "  def __init__(self, length, *, range_min=0, range_max=10):\n",
        "    self.length = length\n",
        "    self.range_min = range_min\n",
        "    self.range_max = range_max\n",
        "    self.num_requested = 0\n",
        "\n",
        "  def __len__(self):\n",
        "    return self.length\n",
        "\n",
        "  def __next__(self):\n",
        "    if self.num_requested >= self.length:\n",
        "      raise StopIteration\n",
        "    else:\n",
        "      self.num_requested += 1\n",
        "      number = random.randint(self.range_min, self.range_max)\n",
        "      return number\n",
        "\n",
        "rn1 = RandomNumbers(length=5)\n",
        "i = 0\n",
        "while True:\n",
        "  try:\n",
        "    print(f\"RandomNumbers returns {next(rn1)} on iteration: {i}\")\n",
        "    i += 1\n",
        "  except StopIteration:\n",
        "    break"
      ],
      "metadata": {
        "id": "do24UOuMXTlX",
        "outputId": "3c1b0b11-844c-4855-8ec6-ef3a415bfa1d",
        "colab": {
          "base_uri": "https://localhost:8080/"
        }
      },
      "execution_count": null,
      "outputs": [
        {
          "output_type": "stream",
          "name": "stdout",
          "text": [
            "---- RANDOM ITERABLE ----\n",
            "RandomNumbers returns 3 on iteration: 0\n",
            "RandomNumbers returns 4 on iteration: 1\n",
            "RandomNumbers returns 2 on iteration: 2\n",
            "RandomNumbers returns 7 on iteration: 3\n",
            "RandomNumbers returns 5 on iteration: 4\n"
          ]
        }
      ]
    },
    {
      "cell_type": "markdown",
      "source": [
        "## Iterator Definition"
      ],
      "metadata": {
        "id": "7jsCR0OHNUfo"
      }
    },
    {
      "cell_type": "markdown",
      "source": [
        "While an iterable is an object that can be iterated, for us to use the built-in python functions to iterate an object mus implement the **ITERATOR PROTOCOL**.\n",
        "- the `__next__` method should be created to handle the next element and raise the `StopIteration` exception.\n",
        "- the `__iter__` method should be created to return the class instance (`self`) // it looks for an iterator so if returns self then self is the iterator."
      ],
      "metadata": {
        "id": "Ag24PZgVNXXW"
      }
    },
    {
      "cell_type": "code",
      "source": [
        "print(\"---- ITERATOR ----\")\n",
        "class Squares:\n",
        "  def __init__(self, length):\n",
        "    self.length = length\n",
        "    self.i = 0\n",
        "    \n",
        "  def __len__(self):\n",
        "    return self.length\n",
        "\n",
        "  def __next__(self):\n",
        "    print(\"__next__ called\")\n",
        "    if self.i >= self.length:\n",
        "      raise StopIteration\n",
        "    else:\n",
        "      result = self.i ** 2\n",
        "      self.i += 1\n",
        "      return result\n",
        "\n",
        "  def __iter__(self):\n",
        "    print(\"__iter__ called\")\n",
        "    return self\n",
        "\n",
        "sq1 = Squares(length=5)\n",
        "print('Now we can loop through our iterator with python built ins')\n",
        "\n",
        "for i, sq in enumerate(sq1):\n",
        "  print(f\"iteration: {i} returns value: {sq}\")\n",
        "\n",
        "# however, the problem is that our iterator is still consumed once it is ran.\n",
        "# we would have to instantiate again our class to run it again.\n",
        "\n",
        "print(\"we could also use the sorted function\")\n",
        "sq1 = Squares(length=5)\n",
        "print(f\"Squares sorted in reverse is: {sorted(sq1, reverse=True)}\")"
      ],
      "metadata": {
        "colab": {
          "base_uri": "https://localhost:8080/"
        },
        "id": "UFU-UdxZOBGd",
        "outputId": "e82933e3-be47-4870-f987-0cb205e10f5f"
      },
      "execution_count": 5,
      "outputs": [
        {
          "output_type": "stream",
          "name": "stdout",
          "text": [
            "---- ITERATOR ----\n",
            "Now we can loop through our iterator with python built ins\n",
            "__iter__ called\n",
            "__next__ called\n",
            "iteration: 0 returns value: 0\n",
            "__next__ called\n",
            "iteration: 1 returns value: 1\n",
            "__next__ called\n",
            "iteration: 2 returns value: 4\n",
            "__next__ called\n",
            "iteration: 3 returns value: 9\n",
            "__next__ called\n",
            "iteration: 4 returns value: 16\n",
            "__next__ called\n",
            "we could also use the sorted function\n",
            "__iter__ called\n",
            "__next__ called\n",
            "__next__ called\n",
            "__next__ called\n",
            "__next__ called\n",
            "__next__ called\n",
            "__next__ called\n",
            "Squares sorted in reverse is: [16, 9, 4, 1, 0]\n"
          ]
        }
      ]
    },
    {
      "cell_type": "code",
      "source": [
        "# what python actualy does is to call first function iter()\n",
        "sq = Squares(5)\n",
        "sq_iterator = iter(sq) # it gets the iterator\n",
        "print(id(sq), id(sq_iterator))\n",
        "\n",
        "while True:\n",
        "  try:\n",
        "    item = next(sq)\n",
        "    print(f\"Value: {item}\")\n",
        "  except StopIteration:\n",
        "    break\n",
        "\n",
        "# We see that the prints are the same as when python runs it through a loop."
      ],
      "metadata": {
        "colab": {
          "base_uri": "https://localhost:8080/"
        },
        "id": "vTIjClGpQrK_",
        "outputId": "f6895b77-e984-4ab5-bb6a-d861c8cd92e8"
      },
      "execution_count": 7,
      "outputs": [
        {
          "output_type": "stream",
          "name": "stdout",
          "text": [
            "__iter__ called\n",
            "140335742015312 140335742015312\n",
            "__next__ called\n",
            "Value: 0\n",
            "__next__ called\n",
            "Value: 1\n",
            "__next__ called\n",
            "Value: 4\n",
            "__next__ called\n",
            "Value: 9\n",
            "__next__ called\n",
            "Value: 16\n",
            "__next__ called\n"
          ]
        }
      ]
    },
    {
      "cell_type": "markdown",
      "source": [
        "We still need to instantiate again the iterator to loop again, this however is not useful since we create a whole new object with the same data just to iterate over it.\n",
        "\n",
        "We can approach the problem by splitting the collection (iterable) and the iterator.\n",
        "this means that:\n",
        "- The collection is **Iterable**.\n",
        "  - Gets created once.\n",
        "- The iteror is created every time we need to start a fresh iteration.\n",
        "\n",
        "to accomplish this we will have:\n",
        "- The iterable\n",
        "  - Object that implements the `__iter__` and returns an iterator (in general, a new instance of the class)\n",
        "- The iterator\n",
        "  - `__iter__`, returns itself, not a new instance\n",
        "  - `__next__`, returns the next element\n",
        "\n",
        "So iterators are themselves iterables but they become exhausted when they are iterated over."
      ],
      "metadata": {
        "id": "M9XDJkkFbfgJ"
      }
    },
    {
      "cell_type": "code",
      "source": [
        "# First the collection\n",
        "class Cities:\n",
        "  def __init__(self):\n",
        "    self._cities = ['Medellin', 'Cordoba', 'Cali', 'London', 'Montreal']\n",
        "    self._index = 0\n",
        "\n",
        "  def __len__(self):\n",
        "    return len(self._cities)\n",
        "\n",
        "  def __iter__(self):\n",
        "    \"\"\"\n",
        "    this iter looks for an iterator, and finds one by instantiating a iterator\n",
        "    with our object(self)\n",
        "    \"\"\"\n",
        "    print('Cities __iter__ called')\n",
        "    return CitiesIterator(self)\n",
        "\n",
        "class CitiesIterator:\n",
        "  def __init__(self, cities_obj):\n",
        "    self._cities_obj = cities_obj\n",
        "    self._index = 0\n",
        "\n",
        "  def __iter__(self):\n",
        "    \"\"\"\n",
        "    This iter looks for an iterator and finds one in self, meaning it is an\n",
        "    iterator.\n",
        "    \"\"\"\n",
        "    print(\" CitiesIterator __iter__ called\")\n",
        "    return self\n",
        "\n",
        "  def __next__(self):\n",
        "    print(\"  CitiesIterator __next__ called\")\n",
        "    if self._index >= len(self._cities_obj):\n",
        "      raise StopIteration\n",
        "    else:\n",
        "      item = self._cities_obj._cities[self._index]\n",
        "      self._index += 1\n",
        "      return item\n",
        "\n",
        "# Now we can have a Cities class that loops by instantiating a CitiesIterator.\n",
        "c1 = Cities()\n",
        "for i in range(3):\n",
        "  print(f\"Loop {i} for the same class: {type(c1).__name__}\")\n",
        "  for j, city in enumerate(c1):\n",
        "    print(f\"\\tcity:{city} in iteration: {j}\")"
      ],
      "metadata": {
        "colab": {
          "base_uri": "https://localhost:8080/"
        },
        "id": "scFWeB0rzuKd",
        "outputId": "e1e339bb-e54a-4f24-8daf-efc3fe876337"
      },
      "execution_count": 12,
      "outputs": [
        {
          "output_type": "stream",
          "name": "stdout",
          "text": [
            "Loop 0 for the same class: Cities\n",
            "Cities __iter__ called\n",
            "  CitiesIterator __next__ called\n",
            "\tcity:Medellin in iteration: 0\n",
            "  CitiesIterator __next__ called\n",
            "\tcity:Cordoba in iteration: 1\n",
            "  CitiesIterator __next__ called\n",
            "\tcity:Cali in iteration: 2\n",
            "  CitiesIterator __next__ called\n",
            "\tcity:London in iteration: 3\n",
            "  CitiesIterator __next__ called\n",
            "\tcity:Montreal in iteration: 4\n",
            "  CitiesIterator __next__ called\n",
            "Loop 1 for the same class: Cities\n",
            "Cities __iter__ called\n",
            "  CitiesIterator __next__ called\n",
            "\tcity:Medellin in iteration: 0\n",
            "  CitiesIterator __next__ called\n",
            "\tcity:Cordoba in iteration: 1\n",
            "  CitiesIterator __next__ called\n",
            "\tcity:Cali in iteration: 2\n",
            "  CitiesIterator __next__ called\n",
            "\tcity:London in iteration: 3\n",
            "  CitiesIterator __next__ called\n",
            "\tcity:Montreal in iteration: 4\n",
            "  CitiesIterator __next__ called\n",
            "Loop 2 for the same class: Cities\n",
            "Cities __iter__ called\n",
            "  CitiesIterator __next__ called\n",
            "\tcity:Medellin in iteration: 0\n",
            "  CitiesIterator __next__ called\n",
            "\tcity:Cordoba in iteration: 1\n",
            "  CitiesIterator __next__ called\n",
            "\tcity:Cali in iteration: 2\n",
            "  CitiesIterator __next__ called\n",
            "\tcity:London in iteration: 3\n",
            "  CitiesIterator __next__ called\n",
            "\tcity:Montreal in iteration: 4\n",
            "  CitiesIterator __next__ called\n"
          ]
        }
      ]
    },
    {
      "cell_type": "code",
      "source": [
        "# Nest our CitiesIterator inside our main Cities class\n",
        "class Cities:\n",
        "  def __init__(self):\n",
        "    self._cities = ['Medellin', 'Cordoba', 'Cali', 'London', 'Montreal']\n",
        "    self._index = 0\n",
        "\n",
        "  def __len__(self):\n",
        "    return len(self._cities)\n",
        "\n",
        "  def __iter__(self):\n",
        "    \"\"\"\n",
        "    this iter looks for an iterator, and finds one by instantiating a iterator\n",
        "    with our object(self)\n",
        "    \"\"\"\n",
        "    print('Cities __iter__ called')\n",
        "    return self.CitiesIterator(self)\n",
        "\n",
        "  class CitiesIterator:\n",
        "    def __init__(self, cities_obj):\n",
        "      self._cities_obj = cities_obj\n",
        "      self._index = 0\n",
        "\n",
        "    def __iter__(self):\n",
        "      \"\"\"\n",
        "      This iter looks for an iterator and finds one in self, meaning it is an\n",
        "      iterator.\n",
        "      \"\"\"\n",
        "      print(\" CitiesIterator __iter__ called\")\n",
        "      return self\n",
        "\n",
        "    def __next__(self):\n",
        "      print(\"  CitiesIterator __next__ called\")\n",
        "      if self._index >= len(self._cities_obj):\n",
        "        raise StopIteration\n",
        "      else:\n",
        "        item = self._cities_obj._cities[self._index]\n",
        "        self._index += 1\n",
        "        return item\n",
        "\n",
        "# Now we can have a Cities class that loops by instantiating a CitiesIterator.\n",
        "c1 = Cities()\n",
        "for i in range(3):\n",
        "  print(f\"Loop {i} for the same class: {type(c1).__name__}\")\n",
        "  for j, city in enumerate(c1):\n",
        "    print(f\"\\tcity:{city} in iteration: {j}\")"
      ],
      "metadata": {
        "id": "MPo04Sig4fua"
      },
      "execution_count": null,
      "outputs": []
    },
    {
      "cell_type": "markdown",
      "source": [
        "We can now implement a sequence and an iterator, however, once a iteration is started the `__iter__` and `__next__` methods are prefered.\n",
        "\n",
        "Python will:\n",
        "- look for the `__iter__`, if not\n",
        "- look for the `__getitem__`"
      ],
      "metadata": {
        "id": "cedin1RgbvEJ"
      }
    },
    {
      "cell_type": "code",
      "source": [
        "# Sequence + Iterator protocols implemented\n",
        "\n",
        "print(\"---- SEQUENCE ----\")\n",
        "\n",
        "class Cities:\n",
        "  def __init__(self):\n",
        "    self._cities = ['Medellin', 'Cordoba', 'Cali', 'London', 'Montreal']\n",
        "    self._index = 0\n",
        "\n",
        "  def __len__(self):\n",
        "    return len(self._cities)\n",
        "\n",
        "  def __iter__(self):\n",
        "    \"\"\"\n",
        "    this iter looks for an iterator, and finds one by instantiating a iterator\n",
        "    with our object(self)\n",
        "    \"\"\"\n",
        "    print('Cities __iter__ called')\n",
        "    return self.CitiesIterator(self)\n",
        "\n",
        "  def __getitem__(self, i):\n",
        "    return self._cities[i]\n",
        "\n",
        "  class CitiesIterator:\n",
        "    def __init__(self, cities_obj):\n",
        "      self._cities_obj = cities_obj\n",
        "      self._index = 0\n",
        "\n",
        "    def __iter__(self):\n",
        "      \"\"\"\n",
        "      This iter looks for an iterator and finds one in self, meaning it is an\n",
        "      iterator.\n",
        "      \"\"\"\n",
        "      print(\" CitiesIterator __iter__ called\")\n",
        "      return self\n",
        "\n",
        "    def __next__(self):\n",
        "      print(\"  CitiesIterator __next__ called\")\n",
        "      if self._index >= len(self._cities_obj):\n",
        "        raise StopIteration\n",
        "      else:\n",
        "        item = self._cities_obj._cities[self._index]\n",
        "        self._index += 1\n",
        "        return item\n",
        "\n",
        "# Now we can have a Cities class that loops by instantiating a CitiesIterator.\n",
        "c1 = Cities()\n",
        "print(f\"we also have now a cities sequence c1[0] -> {c1[0]}\")\n",
        "for i in range(3):\n",
        "  print(f\"Loop {i} for the same class: {type(c1).__name__}\")\n",
        "  for j, city in enumerate(c1):\n",
        "    print(f\"\\tcity:{city} in iteration: {j}\")"
      ],
      "metadata": {
        "colab": {
          "base_uri": "https://localhost:8080/"
        },
        "id": "v_lO9E9BbDlk",
        "outputId": "99eaa4eb-556b-4321-adcf-3922680f5dc8"
      },
      "execution_count": 16,
      "outputs": [
        {
          "output_type": "stream",
          "name": "stdout",
          "text": [
            "---- SEQUENCE ----\n",
            "we also have now a cities sequence c1[0] -> Medellin\n",
            "Loop 0 for the same class: Cities\n",
            "Cities __iter__ called\n",
            "  CitiesIterator __next__ called\n",
            "\tcity:Medellin in iteration: 0\n",
            "  CitiesIterator __next__ called\n",
            "\tcity:Cordoba in iteration: 1\n",
            "  CitiesIterator __next__ called\n",
            "\tcity:Cali in iteration: 2\n",
            "  CitiesIterator __next__ called\n",
            "\tcity:London in iteration: 3\n",
            "  CitiesIterator __next__ called\n",
            "\tcity:Montreal in iteration: 4\n",
            "  CitiesIterator __next__ called\n",
            "Loop 1 for the same class: Cities\n",
            "Cities __iter__ called\n",
            "  CitiesIterator __next__ called\n",
            "\tcity:Medellin in iteration: 0\n",
            "  CitiesIterator __next__ called\n",
            "\tcity:Cordoba in iteration: 1\n",
            "  CitiesIterator __next__ called\n",
            "\tcity:Cali in iteration: 2\n",
            "  CitiesIterator __next__ called\n",
            "\tcity:London in iteration: 3\n",
            "  CitiesIterator __next__ called\n",
            "\tcity:Montreal in iteration: 4\n",
            "  CitiesIterator __next__ called\n",
            "Loop 2 for the same class: Cities\n",
            "Cities __iter__ called\n",
            "  CitiesIterator __next__ called\n",
            "\tcity:Medellin in iteration: 0\n",
            "  CitiesIterator __next__ called\n",
            "\tcity:Cordoba in iteration: 1\n",
            "  CitiesIterator __next__ called\n",
            "\tcity:Cali in iteration: 2\n",
            "  CitiesIterator __next__ called\n",
            "\tcity:London in iteration: 3\n",
            "  CitiesIterator __next__ called\n",
            "\tcity:Montreal in iteration: 4\n",
            "  CitiesIterator __next__ called\n"
          ]
        }
      ]
    },
    {
      "cell_type": "code",
      "source": [
        "# We can verify that this is how builtins are implemented\n",
        "l1 = [1,2,3,4,5]\n",
        "il1 = iter(l1)\n",
        "print(f\"we can get the iterable for l1 -> {il1}\")\n",
        "\n",
        "for i, item in enumerate(il1):\n",
        "  print(f\"item: {item} at position {i} in list.\")\n",
        "# the iterator now gets exhausted.\n",
        "try:\n",
        "  next(il1)\n",
        "except StopIteration:\n",
        "  print(\"l1 iterator il1 is exhausted\")"
      ],
      "metadata": {
        "colab": {
          "base_uri": "https://localhost:8080/"
        },
        "id": "B3oIZDAXcYUD",
        "outputId": "d22b0fee-0862-4e2f-8bbe-997e8a2b06be"
      },
      "execution_count": 17,
      "outputs": [
        {
          "output_type": "stream",
          "name": "stdout",
          "text": [
            "we can get the iterable for l1 -> <list_iterator object at 0x7fa27602a350>\n",
            "item: 1 at position 0 in list.\n",
            "item: 2 at position 1 in list.\n",
            "item: 3 at position 2 in list.\n",
            "item: 4 at position 3 in list.\n",
            "item: 5 at position 4 in list.\n",
            "l1 iterator il1 is exhausted\n"
          ]
        }
      ]
    },
    {
      "cell_type": "markdown",
      "source": [
        "## Consuming Iterators Manually"
      ],
      "metadata": {
        "id": "unOCmzDYPutZ"
      }
    },
    {
      "cell_type": "code",
      "source": [
        "from collections import namedtuple\n",
        "\n",
        "cars = []\n",
        "\n",
        "# One good way to use them is to read from a csv file\n",
        "def cast(data_type, value):\n",
        "  if data_type == 'DOUBLE':\n",
        "    return float(value)\n",
        "  elif data_type == 'INT':\n",
        "    return int(value)\n",
        "  else:\n",
        "    return str(value)\n",
        "\n",
        "def cast_row(data_types, data_row):\n",
        "  return [cast(data_type, value) for data_type, value in zip(data_types, data_row)]\n",
        "\n",
        "print(\"---- CLASSIC WAY ----\")\n",
        "with open('cars.csv') as file:\n",
        "  row_index = 0\n",
        "  for line in file:\n",
        "    if row_index == 0:\n",
        "      headers = line.strip('\\n').split(';')\n",
        "      Car = namedtuple('Car', headers)\n",
        "    elif row_index == 1:\n",
        "      data_types = line.strip('\\n').split(';')\n",
        "    else:\n",
        "      data = line.strip('\\n').split(';')\n",
        "      data = cast_row(data_types, data)\n",
        "      car = Car(*data)\n",
        "      cars.append(car)\n",
        "    row_index += 1\n",
        "\n",
        "print(f\"finished reading file with record count: {len(cars)}\")\n",
        "\n",
        "print(\"---- ITERATOR WAY ----\")\n",
        "cars = []\n",
        "with open('cars.csv') as file:\n",
        "  file_iter = iter(file)\n",
        "  headers = next(file_iter).strip('\\n').split(';')\n",
        "  Car = namedtuple('Car', headers)\n",
        "  data_types = next(file_iter).strip('\\n').split(';')\n",
        "\n",
        "  for line in file_iter:\n",
        "    data = line.strip('\\n').split(';')\n",
        "    data = cast_row(data_types, data)\n",
        "    car = Car(*data)\n",
        "    cars.append(car)\n",
        "\n",
        "print(f\"finished reading file with record count: {len(cars)}\")\n",
        "\n",
        "print(\"---- COMPREHENSION ----\")\n",
        "with open('cars.csv') as file:\n",
        "  file_iter = iter(file)\n",
        "  headers = next(file_iter).strip('\\n').split(';')\n",
        "  Car = namedtuple('Car', headers)\n",
        "  data_types = next(file_iter).strip('\\n').split(';')\n",
        "\n",
        "  cars_data = [cast_row(data_types, line.strip('\\n').split(';')) for line in file_iter]\n",
        "  car = [Car(*car) for car in cars_data]\n",
        "\n",
        "print(f\"finished reading file with record count: {len(car)}\")"
      ],
      "metadata": {
        "colab": {
          "base_uri": "https://localhost:8080/"
        },
        "id": "2Z1OrEwNPuBe",
        "outputId": "81887a86-a283-4b6a-9770-a0bf50b1ea80"
      },
      "execution_count": 12,
      "outputs": [
        {
          "output_type": "stream",
          "name": "stdout",
          "text": [
            "---- CLASSIC WAY ----\n",
            "finished reading file with record count: 406\n",
            "---- ITERATOR WAY ----\n",
            "finished reading file with record count: 406\n",
            "---- COMPREHENSION ----\n",
            "finished reading file with record count: 406\n"
          ]
        }
      ]
    },
    {
      "cell_type": "markdown",
      "source": [
        "## Cyclic iterators"
      ],
      "metadata": {
        "id": "nuncNpksvncE"
      }
    },
    {
      "cell_type": "markdown",
      "source": [
        "```\n",
        "1 2 3 4 5 6 7 8 ...\n",
        "N S W E\n",
        "```\n",
        "```\n",
        "1N 2S 3W 4E 5N 6S 7W 8E ...\n",
        "```"
      ],
      "metadata": {
        "id": "wW5XWuWdv0be"
      }
    },
    {
      "cell_type": "code",
      "source": [
        "class CyclicIterator:\n",
        "  def __init__(self, lst):\n",
        "    self.lst = lst\n",
        "    self.i = 0\n",
        "\n",
        "  def __iter__(self):\n",
        "    return self\n",
        "\n",
        "  def __next__(self):\n",
        "    result = self.lst[self.i % len(self.lst)] # Just for sequences.\n",
        "    self.i += 1\n",
        "    return result\n",
        "\n",
        "# We can use this infinite iterator in a finite way\n",
        "iter_cycl = CyclicIterator(\"NSWE\")\n",
        "for _ in range(10):\n",
        "  print(next(iter_cycl))"
      ],
      "metadata": {
        "id": "NZsEoZ0yvmvx"
      },
      "execution_count": null,
      "outputs": []
    },
    {
      "cell_type": "code",
      "source": [
        "# as expected Python has a cyclic iterator built in\n",
        "import itertools\n",
        "\n",
        "print(\"---- OUR CLASS ----\")\n",
        "iter_cycl = CyclicIterator('NSWE')\n",
        "print([str(item_1) + item_2 for item_1, item_2 in zip(range(1, 11), iter_cycl)])\n",
        "\n",
        "print(\"---- BUILT IN ----\")\n",
        "iter_cycl = itertools.cycle('NSWE')\n",
        "print([f\"{i}{next(iter_cycl)}\" for i in range(1, 11)])"
      ],
      "metadata": {
        "colab": {
          "base_uri": "https://localhost:8080/"
        },
        "id": "lzG5o-BzLOFT",
        "outputId": "a28192c3-3d80-4bc6-c771-30b12b78fa6c"
      },
      "execution_count": 23,
      "outputs": [
        {
          "output_type": "stream",
          "name": "stdout",
          "text": [
            "---- OUR CLASS ----\n",
            "['1N', '2S', '3W', '4E', '5N', '6S', '7W', '8E', '9N', '10S']\n",
            "---- BUILT IN ----\n",
            "['1N', '2S', '3W', '4E', '5N', '6S', '7W', '8E', '9N', '10S']\n"
          ]
        }
      ]
    },
    {
      "cell_type": "code",
      "source": [
        "# this one receives any iterable not just sequences\n",
        "class CyclicIterator2:\n",
        "  def __init__(self, lst):\n",
        "    self.lst = lst\n",
        "    self.iterator = iter(self.lst)\n",
        "\n",
        "  def __iter__(self):\n",
        "    return self\n",
        "\n",
        "  def __next__(self):\n",
        "    try:\n",
        "      result = next(self.iterator)\n",
        "    except StopIteration:\n",
        "      self.iterator = iter(self.lst)\n",
        "      result = next(self.iterator)\n",
        "    return result\n",
        "\n",
        "# We can use this infinite iterator in a finite way\n",
        "iter_cycl = CyclicIterator2(\"NSWE\")\n",
        "for _ in range(10):\n",
        "  print(next(iter_cycl))"
      ],
      "metadata": {
        "colab": {
          "base_uri": "https://localhost:8080/"
        },
        "id": "pa6e0vcAyIVS",
        "outputId": "66a4130e-a04b-44c9-9e5f-66759c749a8f"
      },
      "execution_count": 25,
      "outputs": [
        {
          "output_type": "stream",
          "name": "stdout",
          "text": [
            "N\n",
            "S\n",
            "W\n",
            "E\n",
            "N\n",
            "S\n",
            "W\n",
            "E\n",
            "N\n",
            "S\n"
          ]
        }
      ]
    },
    {
      "cell_type": "markdown",
      "source": [
        "## Lazy Iterables"
      ],
      "metadata": {
        "id": "dfyN1AfHQLFb"
      }
    },
    {
      "cell_type": "code",
      "source": [
        "import math\n",
        "\n",
        "class Circle:\n",
        "  def __init__(self, r):\n",
        "    self.radius = r\n",
        "\n",
        "  def __repr__(self):\n",
        "    return f\"Circle(r={self.radius})\"\n",
        "\n",
        "  @property\n",
        "  def radius(self):\n",
        "    return self._radius\n",
        "\n",
        "  @radius.setter\n",
        "  def radius(self, r):\n",
        "    self._radius = r\n",
        "    self.area = math.pi * (r ** 2)\n",
        "\n",
        "c1 = Circle(5)\n",
        "print(f\"Circle: {c1} with area: {c1.area}\")\n",
        "\n",
        "# Here we have to calculate the area each time we set a new radius, let's fix that"
      ],
      "metadata": {
        "colab": {
          "base_uri": "https://localhost:8080/"
        },
        "id": "oVyISud9QOKB",
        "outputId": "1189938b-8eea-417a-9106-2f85b898a174"
      },
      "execution_count": 27,
      "outputs": [
        {
          "output_type": "stream",
          "name": "stdout",
          "text": [
            "Circle: Circle(r=5) with area: 78.53981633974483\n"
          ]
        }
      ]
    },
    {
      "cell_type": "code",
      "source": [
        "class Circle:\n",
        "  def __init__(self, r):\n",
        "    self.radius = r\n",
        "    self._area = None\n",
        "\n",
        "  def __repr__(self):\n",
        "    return f\"Circle(r={self.radius})\"\n",
        "\n",
        "  @property\n",
        "  def radius(self):\n",
        "    return self._radius\n",
        "\n",
        "  @radius.setter\n",
        "  def radius(self, r):\n",
        "    self._radius = r\n",
        "    self._area = None\n",
        "\n",
        "  @property\n",
        "  def area(self):\n",
        "    if self._area is None:\n",
        "      print('Calculating Area')\n",
        "      self._area = math.pi * (self._radius ** 2)\n",
        "    return self._area\n",
        "\n",
        "c1 = Circle(5)\n",
        "print(f\"Circle: {c1} with area: {c1.area}\")\n",
        "# No calculation of area again (no print statement)\n",
        "print(f\"Circle: {c1} with area: {c1.area}\")\n",
        "c1.radius = 3\n",
        "print(f\"Circle: {c1} with area: {c1.area}\")\n",
        "\n",
        "# this is the lazy evaluation for a property!!"
      ],
      "metadata": {
        "colab": {
          "base_uri": "https://localhost:8080/"
        },
        "id": "NnE3kqsiQOAN",
        "outputId": "82856424-7b10-4cf9-a385-0b350d65a402"
      },
      "execution_count": 30,
      "outputs": [
        {
          "output_type": "stream",
          "name": "stdout",
          "text": [
            "Calculating Area\n",
            "Circle: Circle(r=5) with area: 78.53981633974483\n",
            "Circle: Circle(r=5) with area: 78.53981633974483\n",
            "Calculating Area\n",
            "Circle: Circle(r=3) with area: 28.274333882308138\n"
          ]
        }
      ]
    },
    {
      "cell_type": "code",
      "source": [
        "# Example 2\n",
        "class Factorials:\n",
        "\n",
        "  def __iter__(self):\n",
        "    return self.FactIter()\n",
        "\n",
        "  class FactIter:\n",
        "    def __init__(self):\n",
        "      self.i = 0\n",
        "\n",
        "    def __iter__(self):\n",
        "      return self\n",
        "\n",
        "    def __next__(self):\n",
        "      result = math.factorial(self.i)\n",
        "      self.i += 1\n",
        "      return result\n",
        "\n",
        "f1 = Factorials()\n",
        "for fact in range(20):\n",
        "  print(fact)"
      ],
      "metadata": {
        "id": "GGyMZ6itQN2i"
      },
      "execution_count": null,
      "outputs": []
    },
    {
      "cell_type": "markdown",
      "source": [
        "## Built-in iterables and iterators"
      ],
      "metadata": {
        "id": "CYrZol7QckEs"
      }
    },
    {
      "cell_type": "markdown",
      "source": [
        "Some of the python Built-ins return either an Iterator or an Iterable.\n",
        "- Iterable, if the `__iter__` returns an iterator\n",
        "- Iterator if the `__iter__` returns self."
      ],
      "metadata": {
        "id": "zFjOhK_YcoSC"
      }
    },
    {
      "cell_type": "code",
      "source": [
        "print(\"---- RANGE/ITERABLE ----\")\n",
        "r = range(10)\n",
        "print(f\"range: {r} of type: {type(r)} has __iter__ method: {'__iter__' in dir(r)}\")\n",
        "print(f\"range: {r} of type: {type(r)} has __next__ method: {'__next__' in dir(r)}\")\n",
        "print(f\"range: {r} of type: {type(r)} has __iter__ mehtod return self: {iter(r) is r}\") \n",
        "r_iterator = iter(r)\n",
        "print(f\"we can create an iterator: {r_iterator} from range: {r}\")\n",
        "\n",
        "print(\"---- ZIP/ITERATOR ----\")\n",
        "# zip uses lazy evaluation, the only way to get the items is by exhausting the \n",
        "# iterator.\n",
        "z = zip([1,2,3], 'abc')\n",
        "print(f\"zip: {z} of type: {type(z)} has __iter__ method: {'__iter__' in dir(z)}\")\n",
        "print(f\"zip: {z} of type: {type(z)} has __next__ method: {'__next__' in dir(z)}\")\n",
        "print(f\"zip: {z} of type: {type(z)} has __iter__ mehtod return self: {iter(z) is z}\")  \n",
        "\n",
        "\n",
        "print(\"---- OPEN/ITERATOR ----\")\n",
        "# open returns an iterator on an open file, and it uses lazy evaluation to return\n",
        "# the contents of the file as they are needed.\n",
        "with open(\"cars.csv\") as file:\n",
        "  print(f\"open file: {file} of type: {type(file)} has __iter__ method: {'__iter__' in dir(file)}\")\n",
        "  print(f\"open file: {file} of type: {type(file)} has __next__ method: {'__next__' in dir(file)}\")\n",
        "  print(f\"open file: {file} of type: {type(file)} has __iter__ mehtod return self: {iter(file) is file}\")  \n",
        "\n",
        "print(\"---- ENUMERATE/ITERATOR ----\")\n",
        "e = enumerate('Python Rocks!!')\n",
        "print(f\"enumerate: {e} of type: {type(e)} has __iter__ mehtod: {'__iter__' in dir(e)}\")\n",
        "print(f\"enumerate: {e} of type: {type(e)} has __next__ mehtod: {'__next__' in dir(e)}\")\n",
        "print(f\"enumerate: {e} of type: {type(e)} has __iter__ mehtod return self: {iter(e) is e}\")"
      ],
      "metadata": {
        "colab": {
          "base_uri": "https://localhost:8080/"
        },
        "id": "HHc86Du3c3KN",
        "outputId": "810db21f-3730-467b-c308-62a6fb5ed32a"
      },
      "execution_count": 50,
      "outputs": [
        {
          "output_type": "stream",
          "name": "stdout",
          "text": [
            "---- RANGE/ITERABLE ----\n",
            "range: range(0, 10) of type: <class 'range'> has __iter__ method: True\n",
            "range: range(0, 10) of type: <class 'range'> has __next__ method: False\n",
            "range: range(0, 10) of type: <class 'range'> has __iter__ mehtod return self: False\n",
            "we can create an iterator: <range_iterator object at 0x7f5cc270c150> from range: range(0, 10)\n",
            "---- ZIP/ITERATOR ----\n",
            "zip: <zip object at 0x7f5cc290eb90> of type: <class 'zip'> has __iter__ method: True\n",
            "zip: <zip object at 0x7f5cc290eb90> of type: <class 'zip'> has __next__ method: True\n",
            "zip: <zip object at 0x7f5cc290eb90> of type: <class 'zip'> has __iter__ mehtod return self: True\n",
            "---- OPEN/ITERATOR ----\n",
            "open file: <_io.TextIOWrapper name='cars.csv' mode='r' encoding='UTF-8'> of type: <class '_io.TextIOWrapper'> has __iter__ method: True\n",
            "open file: <_io.TextIOWrapper name='cars.csv' mode='r' encoding='UTF-8'> of type: <class '_io.TextIOWrapper'> has __next__ method: True\n",
            "open file: <_io.TextIOWrapper name='cars.csv' mode='r' encoding='UTF-8'> of type: <class '_io.TextIOWrapper'> has __iter__ mehtod return self: True\n",
            "---- ENUMERATE/ITERATOR ----\n",
            "enumerate: <enumerate object at 0x7f5cc291e780> of type: <class 'enumerate'> has __iter__ mehtod: True\n",
            "enumerate: <enumerate object at 0x7f5cc291e780> of type: <class 'enumerate'> has __next__ mehtod: True\n",
            "enumerate: <enumerate object at 0x7f5cc291e780> of type: <class 'enumerate'> has __iter__ mehtod return self: True\n"
          ]
        }
      ]
    },
    {
      "cell_type": "markdown",
      "source": [
        "## Sorting Iterables"
      ],
      "metadata": {
        "id": "ePmxFgmfhQx5"
      }
    },
    {
      "cell_type": "code",
      "source": [
        "import random\n",
        "\n",
        "class RandomInts:\n",
        "  def __init__(self, length, *, seed=0, lower=0, upper=10):\n",
        "    self.length = length\n",
        "    self.seed = seed\n",
        "    self.lower = lower\n",
        "    self.upper = upper\n",
        "\n",
        "  def __len__(self):\n",
        "    return self.length\n",
        "\n",
        "  def __iter__(self):\n",
        "    return self.RandomIterator(self.length, seed=self.seed, lower=self.lower, upper=self.upper)\n",
        "\n",
        "  class RandomIterator:\n",
        "    def __init__(self, length, *, seed, lower, upper):\n",
        "      self.length = length\n",
        "      self.lower = lower\n",
        "      self.upper = upper\n",
        "      self.num_requests = 0\n",
        "      random.seed(seed)\n",
        "\n",
        "    def __iter__(self):\n",
        "      return self\n",
        "\n",
        "    def __next__(self):\n",
        "      if self.num_requests >= self.length:\n",
        "        raise StopIteration\n",
        "      else:\n",
        "        result = random.randint(self.lower, self.upper)\n",
        "        self.num_requests += 1\n",
        "        return result\n",
        "\n",
        "ri = RandomInts(10)\n",
        "print(f\"the sorted items for RandomInts(10): {ri} are: {sorted(ri)}\")"
      ],
      "metadata": {
        "colab": {
          "base_uri": "https://localhost:8080/"
        },
        "id": "2nqehjbWhNyP",
        "outputId": "1a17240b-99a4-4174-bbb9-8828486c1bed"
      },
      "execution_count": 52,
      "outputs": [
        {
          "output_type": "stream",
          "name": "stdout",
          "text": [
            "the sorted items for RandomInts(10): <__main__.RandomInts object at 0x7f5cc27e0dd0> are: [0, 4, 4, 5, 6, 6, 6, 7, 7, 8]\n"
          ]
        }
      ]
    },
    {
      "cell_type": "markdown",
      "source": [
        "## The Iter Function"
      ],
      "metadata": {
        "id": "5cN6g99U0RG-"
      }
    },
    {
      "cell_type": "markdown",
      "source": [
        "when we call the `iter()` python looks for in order:\n",
        "- `__iter__` method, if found it calls it.\n",
        "- `__getitem__` method, if found it implements an iterator based on it and returns it.\n",
        "\n",
        "if None of those are found an `TypeError` is raised."
      ],
      "metadata": {
        "id": "HolSeJbm0T-s"
      }
    },
    {
      "cell_type": "code",
      "source": [
        "# if python does not find the __iter__ method it can actually implement\n",
        "# the following iterator if the object is a sequence (implements __getitem__)\n",
        "class SequenceIterator:\n",
        "  def __init__(self, seq):\n",
        "    self._sequence = seq\n",
        "    self.i = 0\n",
        "\n",
        "  def __iter__(self):\n",
        "    return self\n",
        "\n",
        "  def __next__(self):\n",
        "    if self.i >= len(self._sequence):\n",
        "      raise StopIteration\n",
        "    else:\n",
        "      result = self._sequence[i]\n",
        "      self.i += 1\n",
        "      return result\n",
        "      \n",
        "class SimpleIter:\n",
        "  def __iter__(self):\n",
        "    return 'Nope' # Implements the iter, but it is not an iterator\n",
        "\n",
        "def is_iterable(obj):\n",
        "  try:\n",
        "    iter(obj)\n",
        "    return True\n",
        "  except TypeError:\n",
        "    return False\n",
        "\n",
        "print(f\"the SimpleIter class has the __iter__ so is it an iterator: {is_iterable(SimpleIter())}\")"
      ],
      "metadata": {
        "colab": {
          "base_uri": "https://localhost:8080/"
        },
        "id": "_hFrnmiD0Qbt",
        "outputId": "6e25facc-52f3-4779-ffed-cfc41989ec17"
      },
      "execution_count": 55,
      "outputs": [
        {
          "output_type": "stream",
          "name": "stdout",
          "text": [
            "the SimpleIter class has the __iter__ so is it an iterator: False\n"
          ]
        }
      ]
    },
    {
      "cell_type": "markdown",
      "source": [
        "There is also a second form to a call to `iter` and that is: `iter(callable, sentinel)`.\n",
        "- A Callable object that returns the value.\n",
        "- A sentinel value expected to raise a `StopIteration` if returned by the callable. (if never returned then we basically have an infinite iterator)."
      ],
      "metadata": {
        "id": "G-yGRMZL57wR"
      }
    },
    {
      "cell_type": "code",
      "source": [
        "# let's create a callable iterator that takes a callable object and a \n",
        "# sentinel value.\n",
        "print(\"---- CALLABLE ITERATOR CLASS ----\")\n",
        "# callable counter\n",
        "def counter():\n",
        "  i = 0\n",
        "\n",
        "  def inc():\n",
        "    nonlocal i\n",
        "    i += 1\n",
        "    return i\n",
        "  return inc\n",
        "\n",
        "# Generic callable iterator\n",
        "class CallableIterator:\n",
        "  def __init__(self, callable_, sentinel):\n",
        "    self.callable = callable_\n",
        "    self.sentinel = sentinel\n",
        "    self.is_consumed = False\n",
        "\n",
        "  def __iter__(self):\n",
        "    return self\n",
        "\n",
        "  def __next__(self):\n",
        "    if self.is_consumed:\n",
        "      raise StopIteration\n",
        "    else:\n",
        "      result = self.callable()\n",
        "      if result == self.sentinel:\n",
        "        self.is_consumed = True\n",
        "        raise StopIteration\n",
        "      else:\n",
        "        return result\n",
        "\n",
        "cnt = counter()\n",
        "cnt_iterator = CallableIterator(cnt, 10)\n",
        "\n",
        "for i in cnt_iterator:\n",
        "  print(i)"
      ],
      "metadata": {
        "id": "Yxc1lVH857LM",
        "outputId": "ffd79ed0-9892-484e-9262-24cf51d44adf",
        "colab": {
          "base_uri": "https://localhost:8080/"
        }
      },
      "execution_count": 23,
      "outputs": [
        {
          "output_type": "stream",
          "name": "stdout",
          "text": [
            "---- CALLABLE ITERATOR CLASS ----\n",
            "1\n",
            "2\n",
            "3\n",
            "4\n",
            "5\n",
            "6\n",
            "7\n",
            "8\n",
            "9\n"
          ]
        }
      ]
    },
    {
      "cell_type": "code",
      "source": [
        "# Now we can use the iter() function to do what we did above\n",
        "print(\"---- ITER FUNCTION ----\")\n",
        "cnt = counter()\n",
        "cnt_iterator = iter(cnt, 10)\n",
        "\n",
        "for i in cnt_iterator:\n",
        "  print(i)\n",
        "\n",
        "print(\"---- RANDOM NUMS ----\")\n",
        "import random\n",
        "random.seed(0)\n",
        "random_iter = iter(lambda : random.randint(0, 10), 8)\n",
        "\n",
        "for num in random_iter:\n",
        "  print(num)"
      ],
      "metadata": {
        "id": "hbbt0xhc8lFq",
        "outputId": "6c644684-50a8-4784-d98b-4190b09837cc",
        "colab": {
          "base_uri": "https://localhost:8080/"
        }
      },
      "execution_count": 24,
      "outputs": [
        {
          "output_type": "stream",
          "name": "stdout",
          "text": [
            "---- ITER FUNCTION ----\n",
            "1\n",
            "2\n",
            "3\n",
            "4\n",
            "5\n",
            "6\n",
            "7\n",
            "8\n",
            "9\n",
            "---- RANDOM NUMS ----\n",
            "6\n",
            "6\n",
            "0\n",
            "4\n"
          ]
        }
      ]
    },
    {
      "cell_type": "markdown",
      "source": [
        "## Delegating Iterators"
      ],
      "metadata": {
        "id": "_Y0o2BtZAiJJ"
      }
    },
    {
      "cell_type": "markdown",
      "source": [
        "If we are creating classes and the attribute or object which we would like to iterate over is already iterable we can delegate it to the class."
      ],
      "metadata": {
        "id": "BngZNdT4AmX-"
      }
    },
    {
      "cell_type": "code",
      "source": [
        "from collections import namedtuple\n",
        "\n",
        "Person = namedtuple('Person', 'first last')\n",
        "\n",
        "class PersonNames:\n",
        "  def __init__(self, persons):\n",
        "    try:\n",
        "      self._persons = [person.first.capitalize() + \" \" + person.last.capitalize()\n",
        "                      for person in persons]\n",
        "    except (TypeError, AttributeError):\n",
        "      self._persons = []\n",
        "\n",
        "  def __iter__(self):\n",
        "    return iter(self._persons) # delegate iter to list\n",
        "\n",
        "persons = [Person('JAMES', 'hetfield'), Person('goku', 'kakarot'), Person('John', 'doe')]\n",
        "person_names = PersonNames(persons)\n",
        "\n",
        "for person in person_names:\n",
        "  print(person)"
      ],
      "metadata": {
        "id": "apcMbq2S_LK4",
        "outputId": "c50ad52a-5c70-4be9-e9ef-212f1ff9cb44",
        "colab": {
          "base_uri": "https://localhost:8080/"
        }
      },
      "execution_count": 28,
      "outputs": [
        {
          "output_type": "stream",
          "name": "stdout",
          "text": [
            "James Hetfield\n",
            "Goku Kakarot\n",
            "John Doe\n"
          ]
        }
      ]
    },
    {
      "cell_type": "markdown",
      "source": [
        "## Reversed"
      ],
      "metadata": {
        "id": "iSa8ktPvDLom"
      }
    },
    {
      "cell_type": "markdown",
      "source": [
        "`reversed` returns an iterator which can be used to iterate in reverse order, This does not create a copy of the object.\n",
        "\n",
        "It works in a similar fashion to the `iter` function, it will first look for.\n",
        "- `__reversed__` method, it should return the iterator object. if not found it will then continue.\n",
        "- `__getitem__` and `__len__` to create an iterator (sequence) in reverse order."
      ],
      "metadata": {
        "id": "Hk5D09XxDNjO"
      }
    },
    {
      "cell_type": "code",
      "source": [
        "from collections import namedtuple\n",
        "\n",
        "_SUITS = ('Spades', 'Hearts', 'Diamonds', 'Clubs')\n",
        "_RANKS = tuple(range(2, 11)) + tuple('JQKA')\n",
        "\n",
        "Card = namedtuple('Card', 'rank suit')\n",
        "\n",
        "class CardDeck:\n",
        "  def __init__(self):\n",
        "    self.length = len(_SUITS) * len(_RANKS)\n",
        "\n",
        "  def __len__(self):\n",
        "    return self.length\n",
        "\n",
        "  def __iter__(self):\n",
        "    return self.CardDeckIterator(self.length)\n",
        "\n",
        "  def __reversed__(self):\n",
        "    return self.CardDeckIterator(self.length, reverse=True) \n",
        "  \n",
        "  class CardDeckIterator:\n",
        "    def __init__(self, length, reverse=False):\n",
        "      self.length = length\n",
        "      self.reverse = reverse\n",
        "      self.i = 0\n",
        "\n",
        "    def __iter__(self):\n",
        "      return self\n",
        "    \n",
        "    def __next__(self):\n",
        "      if self.i >= self.length:\n",
        "        raise StopIteration\n",
        "      else:\n",
        "        if self.reverse:\n",
        "          index = self.length - 1 - self.i\n",
        "        else:\n",
        "          index = self.i\n",
        "        suit = _SUITS[index // len(_RANKS)]\n",
        "        rank = _RANKS[index % len(_RANKS)]\n",
        "        self.i += 1\n",
        "        return Card(rank, suit)\n",
        "\n",
        "\n",
        "card_deck = CardDeck()\n",
        "print(type(reversed(card_deck)))\n",
        "for card in reversed(card_deck):\n",
        "  print(card)"
      ],
      "metadata": {
        "id": "VJyOYxxODy_s",
        "outputId": "010e7897-aa95-4f26-d872-1fc65cfe9d0b",
        "colab": {
          "base_uri": "https://localhost:8080/"
        }
      },
      "execution_count": 42,
      "outputs": [
        {
          "output_type": "stream",
          "name": "stdout",
          "text": [
            "<class 'str'>\n",
            "h\n",
            "o\n",
            "l\n",
            "i\n"
          ]
        }
      ]
    },
    {
      "cell_type": "code",
      "source": [
        "# Reversed in sequences\n",
        "\n",
        "print(\"---- WITHOUT REVERSED ----\")\n",
        "\n",
        "class Squares:\n",
        "  def __init__(self, length):\n",
        "    self.squares = [i ** 2 for i in range(length)]\n",
        "\n",
        "  def __len__(self):\n",
        "    return len(self.squares)\n",
        "\n",
        "  def __getitem__(self, s):\n",
        "    return self.squares[s]\n",
        "\n",
        "squares = Squares(10)\n",
        "\n",
        "for num in reversed(squares):\n",
        "  print(num)\n",
        "\n",
        "# As we can see reversed found __getitem__ and __len__ instead of\n",
        "# the __reversed__ function and it used it to create the reversed iterator\n",
        "\n",
        "print(\"---- WITH REVERSED ----\")\n",
        "\n",
        "class Squares:\n",
        "  def __init__(self, length):\n",
        "    self.squares = [i ** 2 for i in range(length)]\n",
        "\n",
        "  def __len__(self):\n",
        "    return len(self.squares)\n",
        "\n",
        "  def __getitem__(self, s):\n",
        "    return self.squares[s]\n",
        "  \n",
        "  def __reversed__(self):\n",
        "    return 'Oh no'\n",
        "  \n",
        "squares = Squares(10)\n",
        "\n",
        "for num in reversed(squares):\n",
        "  print(num)"
      ],
      "metadata": {
        "id": "0cOqRz8CL8Qj",
        "outputId": "619cdedf-68be-4e9b-bc4e-91222f74a4e8",
        "colab": {
          "base_uri": "https://localhost:8080/"
        }
      },
      "execution_count": 39,
      "outputs": [
        {
          "output_type": "stream",
          "name": "stdout",
          "text": [
            "---- WITHOUT REVERSED ----\n",
            "81\n",
            "64\n",
            "49\n",
            "36\n",
            "25\n",
            "16\n",
            "9\n",
            "4\n",
            "1\n",
            "0\n",
            "---- WITH REVERSED ----\n",
            "O\n",
            "h\n",
            " \n",
            "n\n",
            "o\n"
          ]
        }
      ]
    },
    {
      "cell_type": "markdown",
      "source": [
        "## Caveats"
      ],
      "metadata": {
        "id": "-xG8LleQO9Y7"
      }
    },
    {
      "cell_type": "markdown",
      "source": [
        "- Using Iterators as Function Arguments.\n",
        "  - Remember that iterators get consumed so if we chain functions which arguments are iterator they will only work on the first pass or the first place the iterator is called."
      ],
      "metadata": {
        "id": "kv_CSvvZO_Uy"
      }
    },
    {
      "cell_type": "code",
      "source": [
        "# To avoid this we can check if the input is an iterator and\n",
        "# raise an exception.\n",
        "\n",
        "l1 = iter([1, 2, 3, 4])\n",
        "\n",
        "print(f\"l1 is an iterator {l1}\")\n",
        "print(f\"iter(l1) is l1 -> {iter(l1) is l1}\")\n",
        "\n",
        "# by checking if iter returns self we can verify an object is an iterator."
      ],
      "metadata": {
        "id": "u_B-ZDX7O9CF",
        "outputId": "890822d7-ee78-4811-9177-cb836d09eab9",
        "colab": {
          "base_uri": "https://localhost:8080/"
        }
      },
      "execution_count": 44,
      "outputs": [
        {
          "output_type": "stream",
          "name": "stdout",
          "text": [
            "l1 is an iterator <list_iterator object at 0x7f65c6f7fe50>\n",
            "iter(l1) is l1 -> True\n"
          ]
        }
      ]
    },
    {
      "cell_type": "code",
      "source": [
        "\n"
      ],
      "metadata": {
        "id": "eHJlwyRlO-v0"
      },
      "execution_count": null,
      "outputs": []
    }
  ],
  "metadata": {
    "kernelspec": {
      "display_name": "Python 3.10.4 64-bit ('3.10.4')",
      "language": "python",
      "name": "python3"
    },
    "language_info": {
      "codemirror_mode": {
        "name": "ipython",
        "version": 3
      },
      "file_extension": ".py",
      "mimetype": "text/x-python",
      "name": "python",
      "nbconvert_exporter": "python",
      "pygments_lexer": "ipython3",
      "version": "3.10.4"
    },
    "orig_nbformat": 4,
    "vscode": {
      "interpreter": {
        "hash": "e74f6ee90e3f251e14675517a5ccb88a8babea268ba3595659223e38e73b8586"
      }
    },
    "colab": {
      "provenance": []
    }
  },
  "nbformat": 4,
  "nbformat_minor": 0
}