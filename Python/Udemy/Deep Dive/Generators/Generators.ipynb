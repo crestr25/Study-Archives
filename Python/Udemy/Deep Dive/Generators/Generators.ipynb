{
  "cells": [
    {
      "cell_type": "markdown",
      "metadata": {
        "id": "ojokC_BcsiyR"
      },
      "source": [
        "# Generators"
      ]
    },
    {
      "cell_type": "markdown",
      "source": [
        "## Yielding"
      ],
      "metadata": {
        "id": "y_x2VJeW1AGm"
      }
    },
    {
      "cell_type": "markdown",
      "source": [
        "When Python calls a function and finds the `yield` statement, it treats the function now as a generator function.\n",
        "- It runs until the yield statement is encountered. No output given.\n",
        "- When calling `next()` on the function all output is printed and whatever is in the yield statement gets returned.\n",
        "- The function stops until `next()` gets called again on it.\n",
        "- it all stops when either a `return` is encountered or the execution finishes (a `StopIteration` exception gets raised with the value of the return).\n",
        "\n",
        "It is important to note that Python now considers the function with the `yield` statement as a generator factory, as calling the function returns a generator object.    \n",
        "\n",
        "Also, generators are actually iterators, and they implement the iterator protocol. (`__iter__` and `__next__` are implemented)."
      ],
      "metadata": {
        "id": "0AUVYZAV2tzo"
      }
    },
    {
      "cell_type": "code",
      "execution_count": 11,
      "metadata": {
        "id": "3flML5VCsiyS",
        "outputId": "ed5145fb-ccb9-44ce-bb7e-e952b70bdff8",
        "colab": {
          "base_uri": "https://localhost:8080/"
        }
      },
      "outputs": [
        {
          "output_type": "stream",
          "name": "stdout",
          "text": [
            "---- ITERATOR PROTOCOL ----\n",
            "the iterator fact_iter: <__main__.FactIter object at 0x7f2e8961ac10>\n",
            "1\n",
            "1\n",
            "2\n",
            "6\n",
            "24\n",
            "---- ITER SECOND FORM\n",
            "the iterator fact_iter_2: <callable_iterator object at 0x7f2e896bea90>\n",
            "1\n",
            "1\n",
            "2\n",
            "6\n",
            "24\n",
            "---- GENERATOR FUNCTION ----\n",
            "f_gen is now a generator function: <generator object fact at 0x7f2e89657750>\n",
            "f_gen has the __iter__ method: True\n",
            "f_gen has the __next__ method: True\n",
            "iter(f_gen) returns f_gen: True\n",
            "1\n",
            "1\n",
            "2\n",
            "6\n",
            "24\n"
          ]
        }
      ],
      "source": [
        "# this is an iterator (implements the iterator protocol)\n",
        "import math \n",
        "\n",
        "print(\"---- ITERATOR PROTOCOL ----\")\n",
        "\n",
        "class FactIter:\n",
        "  def __init__(self, n):\n",
        "    self.n = n\n",
        "    self.i = 0\n",
        "\n",
        "  def __iter__(self):\n",
        "    return self\n",
        "\n",
        "  def __next__(self):\n",
        "    if self.i >= self.n:\n",
        "      raise StopIteration\n",
        "    else:\n",
        "      result = math.factorial(self.i)\n",
        "      self.i += 1\n",
        "      return result\n",
        "\n",
        "fact_iter = FactIter(5)\n",
        "print(f\"the iterator fact_iter: {fact_iter}\")\n",
        "for item in fact_iter:\n",
        "  print(item)\n",
        "\n",
        "print(\"---- ITER SECOND FORM\")\n",
        "\n",
        "def fact():\n",
        "  i = 0\n",
        "  def _fact():\n",
        "    nonlocal i\n",
        "    result = math.factorial(i)\n",
        "    i += 1\n",
        "    return result\n",
        "  return _fact\n",
        "\n",
        "f = fact()\n",
        "fact_iter_2 = iter(f, math.factorial(5))\n",
        "\n",
        "print(f\"the iterator fact_iter_2: {fact_iter_2}\")\n",
        "for item in fact_iter_2:\n",
        "  print(item)\n",
        "\n",
        "# These two are ways of creating iterables though by using a lot of code.\n",
        "print(\"---- GENERATOR FUNCTION ----\")\n",
        "\n",
        "def fact(n):\n",
        "  for i in range(n):\n",
        "    yield math.factorial(i)\n",
        "  return 'Done!'\n",
        "\n",
        "f_gen = fact(5)\n",
        "print(f\"f_gen is now a generator function: {f_gen}\")\n",
        "print(f\"f_gen has the __iter__ method: {'__iter__' in dir(f_gen)}\")\n",
        "print(f\"f_gen has the __next__ method: {'__next__' in dir(f_gen)}\")\n",
        "print(f\"iter(f_gen) returns f_gen: {iter(f_gen) == f_gen}\")\n",
        "\n",
        "for i in f_gen:\n",
        "  print(i)"
      ]
    },
    {
      "cell_type": "code",
      "source": [
        "from timeit import timeit\n",
        "from functools import lru_cache\n",
        "# Fibonacci sequence example.\n",
        "print(\"---- RECURSIVE CAVEATS ----\")\n",
        "def fib_recursive(n):\n",
        "  if n <= 1:\n",
        "    return 1\n",
        "  else:\n",
        "    return fib_recursive(n-1) + fib_recursive(n-2)\n",
        "\n",
        "print(f\"fib_recursive(28) {fib_recursive(28)} takes: {timeit('fib_recursive(28)', globals=globals(), number=10)}s\")\n",
        "print(f\"fib_recursive(29) {fib_recursive(29)} takes: {timeit('fib_recursive(29)', globals=globals(), number=10)}s\")\n",
        "print(f\"fib_recursive(30) {fib_recursive(30)} takes: {timeit('fib_recursive(30)', globals=globals(), number=10)}s\")\n",
        "\n",
        "print(\"---- LRU CACHE FIX ----\")\n",
        "\n",
        "@lru_cache()\n",
        "def fib_recursive(n):\n",
        "  if n <= 1:\n",
        "    return 1\n",
        "  else:\n",
        "    return fib_recursive(n-1) + fib_recursive(n-2)\n",
        "\n",
        "print(f\"fib_recursive(28) {fib_recursive(28)} takes: {timeit('fib_recursive(28)', globals=globals(), number=10)}s\")\n",
        "print(f\"fib_recursive(29) {fib_recursive(29)} takes: {timeit('fib_recursive(29)', globals=globals(), number=10)}s\")\n",
        "print(f\"fib_recursive(30) {fib_recursive(30)} takes: {timeit('fib_recursive(30)', globals=globals(), number=10)}s\")\n",
        "\n",
        "# However for this approach we will eventually hit the recursion max depth,\n",
        "# we could modify it but it is not a good practice.\n",
        "try:\n",
        "  fib_recursive(2000)\n",
        "except RecursionError:\n",
        "  print(\"No more recursion Please!!\")\n",
        "\n",
        "print(\"---- NON RECURSIVE ----\")\n",
        "def fib(n):\n",
        "  fib_0 = 1\n",
        "  fib_1 = 1\n",
        "  for i in range(n - 1):\n",
        "    fib_0, fib_1 = fib_1, fib_0 + fib_1\n",
        "  return fib_1\n",
        "\n",
        "print(f\"fib(2800) takes: {timeit('fib(2800)', globals=globals(), number=10)}s\")\n",
        "print(f\"fib(2900) takes: {timeit('fib(2900)', globals=globals(), number=10)}s\")\n",
        "print(f\"fib(3000) takes: {timeit('fib(3000)', globals=globals(), number=10)}s\")"
      ],
      "metadata": {
        "id": "N8saKJQT2_p5",
        "outputId": "73c3c3f0-7904-4b0d-a80e-615c337d6ec2",
        "colab": {
          "base_uri": "https://localhost:8080/"
        }
      },
      "execution_count": 24,
      "outputs": [
        {
          "output_type": "stream",
          "name": "stdout",
          "text": [
            "---- RECURSIVE CAVEATS ----\n",
            "fib_recursive(28) 514229 takes: 1.1370543579996593s\n",
            "fib_recursive(29) 832040 takes: 1.7931512650002333s\n",
            "fib_recursive(30) 1346269 takes: 2.9065953859999354s\n",
            "---- LRU CACHE FIX ----\n",
            "fib_recursive(28) 514229 takes: 1.6399999367422424e-06s\n",
            "fib_recursive(29) 832040 takes: 1.7000002117129043e-06s\n",
            "fib_recursive(30) 1346269 takes: 1.5400000847876072e-06s\n",
            "No more recursion Please!!\n",
            "---- NON RECURSIVE ----\n",
            "fib(2800) takes: 0.003225140000722604s\n",
            "fib(2900) takes: 0.004588750000038999s\n",
            "fib(3000) takes: 0.003469000000222877s\n",
            "---- ITERATOR ----\n",
            "fib_iter: <__main__.FibIter object at 0x7f2e896eb950> iterator\n"
          ]
        }
      ]
    },
    {
      "cell_type": "code",
      "source": [
        "print(\"---- ITERATOR ----\")\n",
        "\n",
        "def fib(n):\n",
        "  fib_0 = 1\n",
        "  fib_1 = 1\n",
        "  for i in range(n - 1):\n",
        "    fib_0, fib_1 = fib_1, fib_0 + fib_1\n",
        "  return fib_1\n",
        "\n",
        "class FibIter:\n",
        "  def __init__(self, n):\n",
        "    self.n = n\n",
        "    self.i = 0\n",
        "\n",
        "  def __iter__(self):\n",
        "    return self\n",
        "\n",
        "  def __next__(self):\n",
        "    if self.i >= self.n:\n",
        "      raise StopIteration\n",
        "    else:\n",
        "      result = fib(self.i) # this is not good since we are calculating all fib\n",
        "                          # Every time we pass through this fib.\n",
        "      self.i += 1\n",
        "      return result\n",
        "\n",
        "fib_iter = FibIter(15)\n",
        "print(f\"fib_iter: {fib_iter} iterator\")\n",
        "\n",
        "for i, fib_num in enumerate(fib_iter):\n",
        "  print(f\"fib number {i} is {fib_num}\")\n",
        "\n",
        "print(f\"takes fib_iter: {timeit('list(FibIter(5000))', globals=globals(), number=1)}'s to finish\")\n",
        "\n",
        "print(\"---- GENERATOR ----\")\n",
        "\n",
        "def fib(n):\n",
        "  fib_0 = 1\n",
        "  yield fib_0\n",
        "  fib_1 = 1\n",
        "  yield fib_1\n",
        "  for i in range(n - 2):\n",
        "    fib_0, fib_1 = fib_1, fib_0 + fib_1\n",
        "    yield fib_1\n",
        "\n",
        "fib_gen = fib(20)\n",
        "print(f\"fib_gen: {fib_gen} generator\")\n",
        "\n",
        "for i, fib_num in enumerate(fib_gen):\n",
        "  print(f\"fib number {i} is {fib_num}\")\n",
        "\n",
        "print(f\"takes fib_gen: {timeit('list(fib(5000))', globals=globals(), number=1)}'s to finish\")"
      ],
      "metadata": {
        "id": "TlyPJxgjMZAt",
        "outputId": "df7114ae-3a9a-4257-b5b7-22d00ad5759f",
        "colab": {
          "base_uri": "https://localhost:8080/"
        }
      },
      "execution_count": 37,
      "outputs": [
        {
          "output_type": "stream",
          "name": "stdout",
          "text": [
            "---- ITERATOR ----\n",
            "fib_iter: <__main__.FibIter object at 0x7f2e896be950> iterator\n",
            "fib number 0 is 1\n",
            "fib number 1 is 1\n",
            "fib number 2 is 2\n",
            "fib number 3 is 3\n",
            "fib number 4 is 5\n",
            "fib number 5 is 8\n",
            "fib number 6 is 13\n",
            "fib number 7 is 21\n",
            "fib number 8 is 34\n",
            "fib number 9 is 55\n",
            "fib number 10 is 89\n",
            "fib number 11 is 144\n",
            "fib number 12 is 233\n",
            "fib number 13 is 377\n",
            "fib number 14 is 610\n",
            "takes fib_iter: 1.5531883300000118's to finish\n",
            "---- GENERATOR ----\n",
            "fib_gen: <generator object fib at 0x7f2e894f3a50> generator\n",
            "fib number 0 is 1\n",
            "fib number 1 is 1\n",
            "fib number 2 is 2\n",
            "fib number 3 is 3\n",
            "fib number 4 is 5\n",
            "fib number 5 is 8\n",
            "fib number 6 is 13\n",
            "fib number 7 is 21\n",
            "fib number 8 is 34\n",
            "fib number 9 is 55\n",
            "fib number 10 is 89\n",
            "fib number 11 is 144\n",
            "fib number 12 is 233\n",
            "fib number 13 is 377\n",
            "fib number 14 is 610\n",
            "fib number 15 is 987\n",
            "fib number 16 is 1597\n",
            "fib number 17 is 2584\n",
            "fib number 18 is 4181\n",
            "fib number 19 is 6765\n",
            "takes fib_gen: 0.0010065699998449418's to finish\n"
          ]
        }
      ]
    },
    {
      "cell_type": "markdown",
      "source": [
        "## Iterable from Generator"
      ],
      "metadata": {
        "id": "8l10Esaw3Xx1"
      }
    },
    {
      "cell_type": "markdown",
      "source": [
        "We can use a Generator (which is in itself a lazy iterator) to create a iterable.\n",
        "- By returning the generator function in the `__iter__` method for the Iterable."
      ],
      "metadata": {
        "id": "MzlcfApI3ayY"
      }
    },
    {
      "cell_type": "code",
      "source": [
        "class Squares:\n",
        "  def __init__(self, n):\n",
        "    self.n = n\n",
        "\n",
        "  def __iter__(self):\n",
        "    return Squares.square_gen(self.n)\n",
        "\n",
        "  @staticmethod\n",
        "  def square_gen(n):\n",
        "    for i in range(n):\n",
        "      yield i ** 2\n",
        "\n",
        "# we can now have an iterable squares.\n",
        "sq = Squares(5)\n",
        "print(f\"Squares: {sq} is an iterable\")\n",
        "\n",
        "for i, val in enumerate(sq):\n",
        "  print(f\"position: {i} has value: {val}\")"
      ],
      "metadata": {
        "id": "XhyvbT093svE",
        "outputId": "60e31cd9-2771-4110-b41d-f6dff5e5990c",
        "colab": {
          "base_uri": "https://localhost:8080/"
        }
      },
      "execution_count": 5,
      "outputs": [
        {
          "output_type": "stream",
          "name": "stdout",
          "text": [
            "Squares: <__main__.Squares object at 0x7f3f0f2ebc50> is an iterable\n",
            "position: 0 has value: 0\n",
            "position: 1 has value: 1\n",
            "position: 2 has value: 4\n",
            "position: 3 has value: 9\n",
            "position: 4 has value: 16\n"
          ]
        }
      ]
    },
    {
      "cell_type": "code",
      "source": [
        "# Example Card Deck\n",
        "from collections import namedtuple\n",
        "\n",
        "Card = namedtuple(\"Card\", \"rank suit\")\n",
        "class CardDeck:\n",
        "\n",
        "  SUITS = ('Spades', 'Hearts', 'Diamonds', 'Clubs')\n",
        "  RANKS = tuple(range(2, 11)) + tuple('JQKA') \n",
        "\n",
        "  def __iter__(self):\n",
        "    return CardDeck.card_gen()\n",
        "\n",
        "  def __reversed__(self):\n",
        "    return CardDeck.reversed_card_gen()\n",
        "\n",
        "  @staticmethod\n",
        "  def reversed_card_gen():\n",
        "    for suit in reversed(CardDeck.SUITS):\n",
        "      for rank in reversed(CardDeck.RANKS):\n",
        "        yield Card(rank, suit)\n",
        "\n",
        "  @staticmethod\n",
        "  def card_gen():\n",
        "    for suit in CardDeck.SUITS:\n",
        "      for rank in CardDeck.RANKS:\n",
        "        yield Card(rank, suit)\n",
        "\n",
        "c1 = CardDeck()\n",
        "\n",
        "print(\"---- FORWARD ----\")\n",
        "for i in c1:\n",
        "  print(i)\n",
        "\n",
        "print(\"---- BACKWARD ----\")\n",
        "for i in reversed(c1):\n",
        "  print(i)"
      ],
      "metadata": {
        "id": "PpHUoD535QGG",
        "outputId": "232ad6e4-af07-43ef-c49e-d262e112dc82",
        "colab": {
          "base_uri": "https://localhost:8080/"
        }
      },
      "execution_count": 12,
      "outputs": [
        {
          "output_type": "stream",
          "name": "stdout",
          "text": [
            "---- FORWARD ----\n",
            "Card(rank=2, suit='Spades')\n",
            "Card(rank=3, suit='Spades')\n",
            "Card(rank=4, suit='Spades')\n",
            "Card(rank=5, suit='Spades')\n",
            "Card(rank=6, suit='Spades')\n",
            "Card(rank=7, suit='Spades')\n",
            "Card(rank=8, suit='Spades')\n",
            "Card(rank=9, suit='Spades')\n",
            "Card(rank=10, suit='Spades')\n",
            "Card(rank='J', suit='Spades')\n",
            "Card(rank='Q', suit='Spades')\n",
            "Card(rank='K', suit='Spades')\n",
            "Card(rank='A', suit='Spades')\n",
            "Card(rank=2, suit='Hearts')\n",
            "Card(rank=3, suit='Hearts')\n",
            "Card(rank=4, suit='Hearts')\n",
            "Card(rank=5, suit='Hearts')\n",
            "Card(rank=6, suit='Hearts')\n",
            "Card(rank=7, suit='Hearts')\n",
            "Card(rank=8, suit='Hearts')\n",
            "Card(rank=9, suit='Hearts')\n",
            "Card(rank=10, suit='Hearts')\n",
            "Card(rank='J', suit='Hearts')\n",
            "Card(rank='Q', suit='Hearts')\n",
            "Card(rank='K', suit='Hearts')\n",
            "Card(rank='A', suit='Hearts')\n",
            "Card(rank=2, suit='Diamonds')\n",
            "Card(rank=3, suit='Diamonds')\n",
            "Card(rank=4, suit='Diamonds')\n",
            "Card(rank=5, suit='Diamonds')\n",
            "Card(rank=6, suit='Diamonds')\n",
            "Card(rank=7, suit='Diamonds')\n",
            "Card(rank=8, suit='Diamonds')\n",
            "Card(rank=9, suit='Diamonds')\n",
            "Card(rank=10, suit='Diamonds')\n",
            "Card(rank='J', suit='Diamonds')\n",
            "Card(rank='Q', suit='Diamonds')\n",
            "Card(rank='K', suit='Diamonds')\n",
            "Card(rank='A', suit='Diamonds')\n",
            "Card(rank=2, suit='Clubs')\n",
            "Card(rank=3, suit='Clubs')\n",
            "Card(rank=4, suit='Clubs')\n",
            "Card(rank=5, suit='Clubs')\n",
            "Card(rank=6, suit='Clubs')\n",
            "Card(rank=7, suit='Clubs')\n",
            "Card(rank=8, suit='Clubs')\n",
            "Card(rank=9, suit='Clubs')\n",
            "Card(rank=10, suit='Clubs')\n",
            "Card(rank='J', suit='Clubs')\n",
            "Card(rank='Q', suit='Clubs')\n",
            "Card(rank='K', suit='Clubs')\n",
            "Card(rank='A', suit='Clubs')\n",
            "---- BACKWARD ----\n",
            "Card(rank='A', suit='Clubs')\n",
            "Card(rank='K', suit='Clubs')\n",
            "Card(rank='Q', suit='Clubs')\n",
            "Card(rank='J', suit='Clubs')\n",
            "Card(rank=10, suit='Clubs')\n",
            "Card(rank=9, suit='Clubs')\n",
            "Card(rank=8, suit='Clubs')\n",
            "Card(rank=7, suit='Clubs')\n",
            "Card(rank=6, suit='Clubs')\n",
            "Card(rank=5, suit='Clubs')\n",
            "Card(rank=4, suit='Clubs')\n",
            "Card(rank=3, suit='Clubs')\n",
            "Card(rank=2, suit='Clubs')\n",
            "Card(rank='A', suit='Diamonds')\n",
            "Card(rank='K', suit='Diamonds')\n",
            "Card(rank='Q', suit='Diamonds')\n",
            "Card(rank='J', suit='Diamonds')\n",
            "Card(rank=10, suit='Diamonds')\n",
            "Card(rank=9, suit='Diamonds')\n",
            "Card(rank=8, suit='Diamonds')\n",
            "Card(rank=7, suit='Diamonds')\n",
            "Card(rank=6, suit='Diamonds')\n",
            "Card(rank=5, suit='Diamonds')\n",
            "Card(rank=4, suit='Diamonds')\n",
            "Card(rank=3, suit='Diamonds')\n",
            "Card(rank=2, suit='Diamonds')\n",
            "Card(rank='A', suit='Hearts')\n",
            "Card(rank='K', suit='Hearts')\n",
            "Card(rank='Q', suit='Hearts')\n",
            "Card(rank='J', suit='Hearts')\n",
            "Card(rank=10, suit='Hearts')\n",
            "Card(rank=9, suit='Hearts')\n",
            "Card(rank=8, suit='Hearts')\n",
            "Card(rank=7, suit='Hearts')\n",
            "Card(rank=6, suit='Hearts')\n",
            "Card(rank=5, suit='Hearts')\n",
            "Card(rank=4, suit='Hearts')\n",
            "Card(rank=3, suit='Hearts')\n",
            "Card(rank=2, suit='Hearts')\n",
            "Card(rank='A', suit='Spades')\n",
            "Card(rank='K', suit='Spades')\n",
            "Card(rank='Q', suit='Spades')\n",
            "Card(rank='J', suit='Spades')\n",
            "Card(rank=10, suit='Spades')\n",
            "Card(rank=9, suit='Spades')\n",
            "Card(rank=8, suit='Spades')\n",
            "Card(rank=7, suit='Spades')\n",
            "Card(rank=6, suit='Spades')\n",
            "Card(rank=5, suit='Spades')\n",
            "Card(rank=4, suit='Spades')\n",
            "Card(rank=3, suit='Spades')\n",
            "Card(rank=2, suit='Spades')\n"
          ]
        }
      ]
    },
    {
      "cell_type": "markdown",
      "source": [
        "## Generator Expressions"
      ],
      "metadata": {
        "id": "66YTaRlaSbrE"
      }
    },
    {
      "cell_type": "markdown",
      "source": [
        "We can have a generator returned by creating a generator expression.\n",
        "- It is created by using `()`.\n",
        "- It returns a Generator Object (iterator).\n",
        "- It implements Lazy evaluation, the value is calculated when needed and tossed after it is finished.\n",
        "- It can access nonlocal and global scope(it is a function)."
      ],
      "metadata": {
        "id": "CXdcsdcPSmbr"
      }
    },
    {
      "cell_type": "code",
      "source": [
        "# Let's decompose a list comprehension\n",
        "import dis\n",
        "\n",
        "exp = compile(\"[i**2 for i in range(5)]\", filename='string', mode='eval')\n",
        "\n",
        "dis.dis(exp)\n",
        "\n",
        "# We see how it creates a function."
      ],
      "metadata": {
        "id": "yUOvi1GNSbOz"
      },
      "execution_count": null,
      "outputs": []
    },
    {
      "cell_type": "markdown",
      "source": [
        "```\n",
        "  1           0 LOAD_CONST               0 (<code object <listcomp> at 0x7f3f0f292270, file \"string\", line 1>)\n",
        "              2 LOAD_CONST               1 ('<listcomp>')\n",
        "              4 MAKE_FUNCTION            0\n",
        "              6 LOAD_NAME                0 (range)\n",
        "              8 LOAD_CONST               2 (5)\n",
        "             10 CALL_FUNCTION            1\n",
        "             12 GET_ITER\n",
        "             14 CALL_FUNCTION            1\n",
        "             16 RETURN_VALUE\n",
        "```"
      ],
      "metadata": {
        "id": "xkn89rP_TsO4"
      }
    },
    {
      "cell_type": "code",
      "source": [
        "# Let's decompose a generator expression\n",
        "import dis\n",
        "\n",
        "exp = compile(\"(i**2 for i in range(5))\", filename='string', mode='eval')\n",
        "\n",
        "dis.dis(exp)\n",
        "\n",
        "# We see how it creates a function. and that it is almost identical to a\n",
        "# list comprehension"
      ],
      "metadata": {
        "id": "GaBbelHITreY"
      },
      "execution_count": null,
      "outputs": []
    },
    {
      "cell_type": "markdown",
      "source": [
        "```\n",
        "  1           0 LOAD_CONST               0 (<code object <genexpr> at 0x7f3f0f289930, file \"string\", line 1>)\n",
        "              2 LOAD_CONST               1 ('<genexpr>')\n",
        "              4 MAKE_FUNCTION            0\n",
        "              6 LOAD_NAME                0 (range)\n",
        "              8 LOAD_CONST               2 (5)\n",
        "             10 CALL_FUNCTION            1\n",
        "             12 GET_ITER\n",
        "             14 CALL_FUNCTION            1\n",
        "             16 RETURN_VALUE\n",
        "```"
      ],
      "metadata": {
        "id": "QYn_BJPZUmcY"
      }
    },
    {
      "cell_type": "markdown",
      "source": [
        "Just like list comprehensions we can nest generator expressions.\n",
        "- we get a generator of generators, so it might not be as straight forward.\n",
        "- once we loop through it we need to recreate the generator expression again since it is exhausted."
      ],
      "metadata": {
        "id": "kZs6YuDUVJEW"
      }
    },
    {
      "cell_type": "code",
      "source": [
        "start = 1\n",
        "stop = 10\n",
        "\n",
        "print(\"---- GENERATOR OF GENERATORS ----\")\n",
        "mult_gen = ((i*j for j in range(start, stop+1)) for i in range(start, stop+1))\n",
        "print(f'mult_gen is a generator object: {mult_gen}')\n",
        "\n",
        "[list(row) for row in mult_gen]\n",
        "\n",
        "print(\"---- GENERATOR OF COMPREHENSIONS ----\")\n",
        "mult_gen = ([i*j for j in range(start, stop+1)] for i in range(start, stop+1))\n",
        "print(f'mult_gen is a generator object: {mult_gen}')\n",
        "\n",
        "[row for row in mult_gen]\n",
        "# it does not calculate all comprehension until they are needed in the loop."
      ],
      "metadata": {
        "id": "ufS41jyG5WZA",
        "outputId": "8530286b-668e-4b40-eba9-df83bb4bd09a",
        "colab": {
          "base_uri": "https://localhost:8080/"
        }
      },
      "execution_count": 1,
      "outputs": [
        {
          "output_type": "stream",
          "name": "stdout",
          "text": [
            "---- GENERATOR OF GENERATORS ----\n",
            "mult_gen is a generator object: <generator object <genexpr> at 0x7f1bf2ba9450>\n",
            "---- GENERATOR OF COMPREHENSIONS ----\n",
            "mult_gen is a generator object: <generator object <genexpr> at 0x7f1bf2ba9e50>\n"
          ]
        },
        {
          "output_type": "execute_result",
          "data": {
            "text/plain": [
              "[[1, 2, 3, 4, 5, 6, 7, 8, 9, 10],\n",
              " [2, 4, 6, 8, 10, 12, 14, 16, 18, 20],\n",
              " [3, 6, 9, 12, 15, 18, 21, 24, 27, 30],\n",
              " [4, 8, 12, 16, 20, 24, 28, 32, 36, 40],\n",
              " [5, 10, 15, 20, 25, 30, 35, 40, 45, 50],\n",
              " [6, 12, 18, 24, 30, 36, 42, 48, 54, 60],\n",
              " [7, 14, 21, 28, 35, 42, 49, 56, 63, 70],\n",
              " [8, 16, 24, 32, 40, 48, 56, 64, 72, 80],\n",
              " [9, 18, 27, 36, 45, 54, 63, 72, 81, 90],\n",
              " [10, 20, 30, 40, 50, 60, 70, 80, 90, 100]]"
            ]
          },
          "metadata": {},
          "execution_count": 1
        }
      ]
    },
    {
      "cell_type": "markdown",
      "source": [
        "Pascal Triangle Example"
      ],
      "metadata": {
        "id": "yMgloxJBPJzV"
      }
    },
    {
      "cell_type": "markdown",
      "source": [
        "```\n",
        "1\n",
        "1 1\n",
        "1 2 1\n",
        "1 3 3 1\n",
        "1 4 6 4 1\n",
        "```\n",
        "\n",
        "we just need to know how to calculate combinations:\n",
        "```\n",
        "C(n, k) = n! / (k! (n-k)!)\n",
        "```\n",
        "\n",
        "* row 0, column 0: n=0, k=0: c(0, 0) = 0! / 0! 0! = 1/1 = 1\n",
        "* row 4, column 2: n=4, k=2: c(4, 2) = 4! / 2! 2! = 4x3x2 / 2x2 = 6\n",
        "\n",
        "In other words, we need to calculate the following list of lists:\n",
        "```\n",
        "c(0,0)\n",
        "c(1,0) c(1,1)\n",
        "c(2,0) c(2,1) c(2,2)\n",
        "c(3,0) c(3,1) c(3,2) c(3,3)\n",
        "...\n",
        "```"
      ],
      "metadata": {
        "id": "m02bglPuPGtC"
      }
    },
    {
      "cell_type": "code",
      "source": [
        "from math import factorial\n",
        "\n",
        "def combo(n, k):\n",
        "  return factorial(n) // (factorial(k) * factorial(n-k))\n",
        "\n",
        "size = 600\n",
        "\n",
        "# Let's check timings on the different approaches.\n",
        "from timeit import timeit\n",
        "\n",
        "print(\"---- LIST COMPREHENSION / LIST COMPREHENSION ----\")\n",
        "t = timeit(\"[[combo(n, k) for k in range(n+1)] for n in range(size+1)]\", globals=globals(), number=1)\n",
        "print(f\"List comprehension of list comprehension takes: {t} sec\")\n",
        "\n",
        "# Calculated everything onto memory\n",
        "\n",
        "print(\"---- GENERATOR EXPRESSION / GENERATOR EXPRESSION ----\")\n",
        "t = timeit(\"((combo(n, k) for k in range(n+1)) for n in range(size+1))\", globals=globals(), number=1)\n",
        "print(f\"generator expression of generator expression takes: {t} sec\")\n",
        "\n",
        "# This one did not calculate all combo calls.\n",
        "\n",
        "print(\"---- GENERATOR EXPRESSION / LIST COMPREHENSION ----\")\n",
        "t = timeit(\"((combo(n, k) for k in range(n+1)) for n in range(size+1))\", globals=globals(), number=1)\n",
        "print(f\"generator expression of list comprehensions takes: {t} sec\")\n",
        "\n",
        "# This one did not calculate all combo calls. the inner comprehension has not\n",
        "# been evaluated.\n",
        "\n",
        "# Let's now evaluate the timing by actualy evaluating the inside\n",
        "# expression/comprehension.\n",
        "\n",
        "import tracemalloc\n",
        "\n",
        "def pascal_list(size):\n",
        "  l = [[combo(n, k) for k in range(n+1)] for n in range(size+1)]\n",
        "  for row in l:\n",
        "    for item in row:\n",
        "      pass\n",
        "  # we do this inside the function so memory does not get released.\n",
        "  stats = tracemalloc.take_snapshot().statistics('lineno')\n",
        "  print(stats[0].size, 'bytes')\n",
        "\n",
        "def pascal_gen(size):\n",
        "  l = ((combo(n, k) for k in range(n+1)) for n in range(size+1))\n",
        "  for row in l:\n",
        "    for item in row:\n",
        "      pass\n",
        "  # we do this inside the function so memory does not get released.\n",
        "  stats = tracemalloc.take_snapshot().statistics('lineno')\n",
        "  print(stats[0].size, 'bytes')\n",
        "\n",
        "tracemalloc.stop()\n",
        "tracemalloc.clear_traces()\n",
        "tracemalloc.start()\n",
        "\n",
        "\n",
        "print(\"---- PASCAL LIST ----\")\n",
        "t = timeit(\"pascal_list(size)\", globals=globals(), number=1)\n",
        "print(f\"pascal_list takes: {t} sec\")\n",
        "\n",
        "print(\"---- PASCAL COMPREHENSION ----\")\n",
        "t = timeit(\"pascal_gen(size)\", globals=globals(), number=1)\n",
        "print(f\"pascal_gen takes: {t} sec\")\n",
        "\n",
        "# when iterating over all elements there is NOT an actual difference between\n",
        "# the two, however the memory usage is a lot more efficient since it instantiate\n",
        "# the element and tosses it when it finishes."
      ],
      "metadata": {
        "id": "UsLjn5dvPIMB",
        "outputId": "08cfcd38-0bd9-4210-bad1-b534f9a0b087",
        "colab": {
          "base_uri": "https://localhost:8080/"
        }
      },
      "execution_count": 16,
      "outputs": [
        {
          "output_type": "stream",
          "name": "stdout",
          "text": [
            "---- LIST COMPREHENSION / LIST COMPREHENSION ----\n",
            "List comprehension of list comprehension takes: 2.2828103340000325 sec\n",
            "---- GENERATOR EXPRESSION / GENERATOR EXPRESSION ----\n",
            "generator expression of generator expression takes: 3.420999973968719e-06 sec\n",
            "---- GENERATOR EXPRESSION / LIST COMPREHENSION ----\n",
            "generator expression of list comprehensions takes: 3.3090000215452164e-06 sec\n",
            "---- PASCAL LIST ----\n",
            "11499756 bytes\n",
            "pascal_list takes: 6.111028124999848 sec\n",
            "---- PASCAL COMPREHENSION ----\n",
            "9248 bytes\n",
            "pascal_gen takes: 5.824173759999894 sec\n"
          ]
        }
      ]
    },
    {
      "cell_type": "markdown",
      "source": [
        "## Yield From"
      ],
      "metadata": {
        "id": "oTXro_ZxUUdn"
      }
    },
    {
      "cell_type": "markdown",
      "source": [
        "We can delegate the yielding to another iterator, meaning that basically if we are iterating an iterable we delegate the yielding to it."
      ],
      "metadata": {
        "id": "oIMZKGDfUW16"
      }
    },
    {
      "cell_type": "code",
      "source": [
        "def matrix(n):\n",
        "  gen = ((i*j for j in range(n+1))\n",
        "          for i in range(1, n+1))\n",
        "  return gen\n",
        "\n",
        "# remember how this returns a generator of generators.\n",
        "def matrix_iter(n):\n",
        "  for row in matrix(n):\n",
        "    yield from row\n",
        "\n",
        "for i in matrix_iter(3):\n",
        "  print(i)\n",
        "\n",
        "\n",
        "# we could use this for different files that we need to iterate \n",
        "def gen_clean_data(file):\n",
        "  with open(file) as f:\n",
        "    for row in f:\n",
        "      yield row.strip('\\n')\n",
        "\n",
        "def files_iter(*files):\n",
        "  for f_name in files:\n",
        "    yield from gen_clean_data(f_name)"
      ],
      "metadata": {
        "id": "b0vRfSkUUWMT",
        "outputId": "32ef2dfa-1566-48c9-ee6e-58e0662e212e",
        "colab": {
          "base_uri": "https://localhost:8080/"
        }
      },
      "execution_count": 21,
      "outputs": [
        {
          "output_type": "stream",
          "name": "stdout",
          "text": [
            "0\n",
            "1\n",
            "2\n",
            "3\n",
            "0\n",
            "2\n",
            "4\n",
            "6\n",
            "0\n",
            "3\n",
            "6\n",
            "9\n"
          ]
        }
      ]
    },
    {
      "cell_type": "code",
      "source": [],
      "metadata": {
        "id": "BCeb92ZsQOEb"
      },
      "execution_count": null,
      "outputs": []
    }
  ],
  "metadata": {
    "language_info": {
      "name": "python"
    },
    "orig_nbformat": 4,
    "colab": {
      "provenance": []
    },
    "kernelspec": {
      "name": "python3",
      "display_name": "Python 3"
    }
  },
  "nbformat": 4,
  "nbformat_minor": 0
}